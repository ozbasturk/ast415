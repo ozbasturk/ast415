{
 "cells": [
  {
   "cell_type": "markdown",
   "metadata": {},
   "source": [
    "# AST415 Astronomide Sayısal Çözümleme - I #\n",
    "## Ders - 07 Dosya Yönetimi, Metin (String) ve Sözlük Nesneleri ##"
   ]
  },
  {
   "cell_type": "markdown",
   "metadata": {},
   "source": [
    "Doç. Dr. Özgür Baştürk <br>\n",
    "Ankara Üniversitesi, Astronomi ve Uzay Bilimleri Bölümü <br>\n",
    "obasturk at ankara.edu.tr <br>\n",
    "http://ozgur.astrotux.org"
   ]
  },
  {
   "cell_type": "markdown",
   "metadata": {},
   "source": [
    "# Bu derste neler öğreneceksiniz?#\n",
    "## Dosyalar, Metinler ve Sözlükler  ##\n",
    "\n",
    "* [Dosyalarla İşlemlere Giriş](#Dosyalarla-İşlemlere-Giriş)\n",
    "    * [Veri Dosyalarını Açmak](#Veri-Dosyalarını-Açmak)\n",
    "    * [Veri Dosyalarının İçeriğini Listelere Almak](#Veri-Dosyalarının-İçeriğini-Listelere-Almak)\n",
    "    * [Veri Dosyalarının İçeriğini Satır Satır Okumak](#Veri-Dosyalarının-İçeriğini-Satır-Satır-Okumak)\n",
    "    * [Metin ve Sayıların Birlikte Bulunduğu Dosyaları Okumak](#Metin-ve-Sayıların-Birlikte-Bulunduğu-Dosyaları-Okumak)\n",
    "* [Sözlük Nesnesi: Dictionaries](#Sözlük-Nesnesi:-Dictionaries)\n",
    "    * [Sözlük Nedir?](#Sözlük-Nedir?)\n",
    "    * [Örnek 1: Tam Sayı Anahtarlar ve Polinomlar](#Örnek-1:-Tam-Sayı-Anahtarlar-ve-Polinomlar)\n",
    "    * [Örnek 2: Sözlük ve Dosya Verisi](#Örnek-2:-Sözlük-ve-Dosya-Verisi)\n",
    "    * [Örnek 3: İçiçe Sözlükler ve Dosya Verisi](#Örnek-3:-İçiçe-Sözlükler-ve-Dosya-Verisi)\n",
    "* [Metin Nesnesi: Strings](#Metin-Nesnesi:-Strings)\n",
    "    * [Metin Nedir?](#Metin-Nedir?)\n",
    "    * [Örnek 1: Dosyadan Koordinat Okumak](#Örnek-1:-Dosyadan-Koordinat-Okumak)\n",
    "    * [Örnek 2: Dosyalara Metin Yazmak](#Örnek-2:-Dosyalara-Metin-Yazmak)\n",
    "* [Örnek: WASP Gezegenleri](#Örnek:-WASP-gezegenleri)\n",
    "* [Alıştırmalar](#Alıştırmalar)"
   ]
  },
  {
   "cell_type": "markdown",
   "metadata": {},
   "source": [
    "# Dosyalarla İşlemlere Giriş #\n",
    "\n",
    "Bu derse ilişkin tüm veri dosyalarını bu [linkten](http://ozgur.astrotux.org/ast415/Ders_07/veri_dosyalari.tar.gz) indirebilirsiniz. Dosyaları kodunuz ile aynı yerden çalıştırmaya, ya da dosyalarınızı başka bir klasörden çalıştırmak istiyorsanız $open$ ifadelerine dosyanın diskte bulunduğu yeri parantez içerisinde tam olarak ($path$) veriniz.\n",
    "\n",
    "## Veri Dosyalarını Açmak ##\n",
    "\n",
    "İlk olarak var olan basit bir veri dosyasındaki (data1.txt) verileri okuyup, ortalamasını alan bir program yazmaya çalışalım. Ancak öncelikle veri dosyamızın içeriğine bakalım. Bunu bir salt metin editörü (notepad, vi, nano, pico, emacs …) ile de yapabilirsiniz.\n",
    "\n",
    "12.3 <br>\n",
    "19.4 <br>\n",
    "21 <br>\n",
    "36 <br>\n",
    "13 <br>\n",
    "15.6 <br>\n",
    "\n",
    "Amacımız bu dosyada bir sütunda verilen sayıları teker teker okumak, her bir sayıyı $sayi$ isimli bir değişkene almak, başlangıçta değerini $0$ olarak belirleyeceğimiz bir $toplam$ degiskenine $sayi$ değişkeninin değerini ekleyerek ilerlemek ve en sonda $toplam$ değişkeninin değerini okuduğumuz satır sayısına bölerek ortalama almak olsun."
   ]
  },
  {
   "cell_type": "code",
   "execution_count": null,
   "metadata": {},
   "outputs": [],
   "source": [
    "dosya = open('data1.txt', 'r')\n",
    "toplam = 0\n",
    "satir_sayisi = 0\n",
    "for satir in dosya:\n",
    "    sayi = float(satir) # okunan deger tam sayi dahi olsa bir metin olarak alinir\n",
    "    toplam += sayi\n",
    "    satir_sayisi += 1\n",
    "ortalama = toplam / satir_sayisi\n",
    "print('{:d} satirdaki verilerin ortalamasi {:.2f} tir'.format(satir_sayisi,ortalama))\n",
    "# Dosya kapatma\n",
    "dosya.close()"
   ]
  },
  {
   "cell_type": "markdown",
   "metadata": {},
   "source": [
    "Gördüğünüz gibi dosyayı okumak için $open$ fonksiyonu ile oluşturduğumuz dosya ($file$) nesnesine adını ($dosya$) verdikten sonra (eğer okuyacağınız dosya bu kodun bulunduğu klasörün altında değilse buraya tam yerini ($path$) vermelisiniz), \"r\" parametresiyle dosyayı sadece okuyacağımız ($read$) belirttik. Daha sonra $data1.txt$ dosyasını satır satır okumak için $for$ $satir$ $in$ $dosya$ döngüsünü çalıştırdık. Döngünün içerisinde dosyadan okuduğumuz her şey bir metindir ($string$). Bu nedenle matematiksel bir işlem yapmak istiyorsak aldığımız her sayıyı reel sayıya (float) dönüştürmeliyiz. Reel sayıya $float$ fonksiyonu ile kayan noktalı sayıya dönüştürdüğümüz her satırdaki değeri $sayi$ değişkenine aldıktan sonra, $toplam$ değişkenine bu değeri ekledik ve okuduğumuz satır sayısını tutan $satir\\_sayisi$ değişkeninin değerini de $1$ arttırdık. Döngü tamamlandıktan sonra da $toplam$ değişkeninde tuttuğumuz sayıların toplam değerini, satır (yani okuduğumuz sayı) sayısına böldük ve bu sayıların ortalamasını bularak $ortalama$ değişkenine aldık ve bu değişkenin değerini de ekrana formatlı olarak yazdırdık.\n",
    "\n",
    "[Başa Dön](#Dosyalar,-Metinler-ve-Sözlükler )"
   ]
  },
  {
   "cell_type": "markdown",
   "metadata": {},
   "source": [
    "## Veri Dosyalarının İçeriğini Listelere Almak ##\n",
    "\n",
    "Her bir satırı tek tek okumak yerine tüm satırları tek bir kerede okuyup, bir listeye de alabiliriz. Bunun için $readlines()$ fonksiyonu kullanılır."
   ]
  },
  {
   "cell_type": "code",
   "execution_count": null,
   "metadata": {},
   "outputs": [],
   "source": [
    "dosya = open('data1.txt', 'r')\n",
    "satirlar = dosya.readlines()\n",
    "print(satirlar)\n",
    "print(satirlar[-1])"
   ]
  },
  {
   "cell_type": "markdown",
   "metadata": {},
   "source": [
    "Bu yazımla, baştan bir liste oluşturup, dosyayı satır satır okurken her bir satırı bu listeye eklemek arasında bir fark yoktur. Bunun bir başka alternatifi de daha önce öğrendiğiniz hızlı liste özelliklerini (list comprehensions) kullanmaktır. (sayilar = \\[float(satir) for satir in dosya\\])"
   ]
  },
  {
   "cell_type": "code",
   "execution_count": null,
   "metadata": {},
   "outputs": [],
   "source": [
    "dosya = open('data1.txt', 'r')\n",
    "satirlar = []\n",
    "for satir in dosya:\n",
    "    satirlar.append(satir)\n",
    "print(satirlar)\n",
    "# Toplama isi beklendigi gibi sayilari toplamaaz\n",
    "# cunku dosya nesnesinin elemanlari birer metindir!\n",
    "print(satirlar[0] + satirlar[1])\n",
    "dosya.close()"
   ]
  },
  {
   "cell_type": "markdown",
   "metadata": {},
   "source": [
    "Ancak bu yazımlarda gördüğünüz gibi her bir liste elemanı sonunda satır sonu karakter dizisi ($\\\\n$) bulunan bir metin nesnesidir. Dolayısı ile bu nesnelerle matematiksel işlemler yapmak için mutlaka reel (ya da duruma göre tam) sayıya dönüşüme ihtiyaç duyulur."
   ]
  },
  {
   "cell_type": "code",
   "execution_count": null,
   "metadata": {},
   "outputs": [],
   "source": [
    "dosya = open('data1.txt', 'r')\n",
    "sayilar = [float(satir) for satir in dosya.readlines()]\n",
    "# artik dosyayla isimiz bittigine gore kapatabiliriz.\n",
    "dosya.close() \n",
    "# ortalama almak icin kolay bir yontem!\n",
    "ortalama = sum(sayilar) / len(sayilar)   \n",
    "print('{:d} satirdaki verilerin ortalamasi {:.2f} tir'.format(satir_sayisi,ortalama))"
   ]
  },
  {
   "cell_type": "markdown",
   "metadata": {},
   "source": [
    "[Başa Dön](#Dosyalar,-Metinler-ve-Sözlükler)"
   ]
  },
  {
   "cell_type": "markdown",
   "metadata": {},
   "source": [
    "## Veri Dosyalarının İçeriğini Satır Satır Okumak ##\n",
    "\n",
    "Her bir satırı tek tek okumanın bir başka yolu $readline()$ fonksiyonunu kullanmaktır. Bu fonksiyon dosyada bulunulan satırı okur ve içeriğini bir metin değişkenine aktarır. Aynı fonksiyon, satır atlamak istendiğinde de sonucu hiçbir değişkene almayarak kullanılabilir.\n",
    "\n",
    "Ortalama bu şekilde bütün dosya okunana kadar $while$ döngüsünün içinde de hesaplanabilir. Ancak bu kez dosya bittiği vakit döngüden çıkılması gerekir."
   ]
  },
  {
   "cell_type": "code",
   "execution_count": null,
   "metadata": {},
   "outputs": [],
   "source": [
    "dosya = open('data1.txt', 'r')\n",
    "ortalama = 0\n",
    "n = 0\n",
    "while True:\n",
    "    satir = dosya.readline()\n",
    "    if not satir:\n",
    "        break # satir olmadigi zaman dongu sonlandiriliyor\n",
    "    ortalama += float(satir)\n",
    "    n += 1\n",
    "ortalama /= n\n",
    "print(\"Dosya icindeki {:d} sayinin ortalamasi {:.2f} tir\".format(n,ortalama))"
   ]
  },
  {
   "cell_type": "markdown",
   "metadata": {},
   "source": [
    "Bu kodda $satir$ değişkeni değerini dosyanın ilk satırında alacağı için $while$ döngüsünün bir koşulu olmadan her durumda çalıştığına ($True$), ancak $satir$ değişkeni, dosyanin sonuna geldiğinde boş bir metin değeri (\"\") alacağı için $not$ $satir$ ifadesi $True$ değeri alacak ve $break$ komutu da bu koşul sağlandığı için döngüden çıkılmasını sağlayacaktır. Böylece dosya sonuna kadar okunmuş olur.\n",
    "\n",
    "[Başa Dön](#Dosyalar,-Metinler-ve-Sözlükler)"
   ]
  },
  {
   "cell_type": "markdown",
   "metadata": {},
   "source": [
    "## Metin ve Sayıların Birlikte Bulunduğu Dosyaları Okumak ##\n",
    "\n",
    "Şu ana kadarki örneklerde kullandığınız $data1.txt$ dosyası sadece sayı içerdiği için basit bir yapıya sahipti. Ancak çoğu kez dosyalar metin ve sayıları birlikte içerir. 1970 ile 1982 arasındaki yıllar için Ankara'ya düşen ortalama yağış miktarının $mm$ cinsinden aylara göre verildiği $yagisortalamsi.dat$ böyle bir dosyadir.\n",
    "\n",
    "Ankara icin 1970 ve 1982 yillari arasindaki ortalama yagis miktari (mm) <br>\n",
    "Oca  81.2 <br>\n",
    "Sub  63.2 <br>\n",
    "Mar  70.3 <br>\n",
    "Nis  55.7 <br>\n",
    "May  53.0 <br>\n",
    "Haz  36.4 <br>\n",
    "Tem  17.5 <br>\n",
    "Agu  27.5 <br>\n",
    "Eyl  60.9 <br>\n",
    "Eki  117.7 <br>\n",
    "Kas  111.0 <br>\n",
    "Ara  97.9 <br>\n",
    "Yil 792.9 <br>\n",
    "\n",
    "Böyle bir dosyayı okumak ve aya göre ortalamaları grafik etmek için akla gelen ilk yol dosyayı satır satır okumak her bir satırdaki kelimeleri $split()$ fonksiyonunu kullanarak ayırmak, ikinci \"kelimeyi\" alıp $float()$ ile reel sayıya donüştürmek ve bir listede toplayıp, bu listedeki sayıları ay numarasına (Oca: 1, Şub: 2 …) göre çizdirmektir."
   ]
  },
  {
   "cell_type": "code",
   "execution_count": null,
   "metadata": {},
   "outputs": [],
   "source": [
    "from matplotlib import pyplot as plt\n",
    "%matplotlib inline\n",
    "def verioku(dosyaadi):\n",
    "    dosya = open(dosyaadi, \"r\")\n",
    "    dosya.readline() # ilk satiri oku ve atla\n",
    "    sayilar = []\n",
    "    for satir in dosya:\n",
    "        kelimeler = satir.split()\n",
    "        sayi = float(kelimeler[1])\n",
    "        sayilar.append(sayi)\n",
    "    dosya.close()\n",
    "    return sayilar\n",
    "\n",
    "degerler = verioku(\"veri_dosyalari/yagisortalamasi.dat\")\n",
    "ay_numaralari = range(1, 13)\n",
    "plt.plot(ay_numaralari, degerler[:-1], \"ro\") # yillik yagisi cizdirmiyoruz\n",
    "plt.xlabel(\"Aylar\")\n",
    "plt.ylabel(\"Yagis Ortalamalari (mm)\")\n",
    "plt.show()"
   ]
  },
  {
   "cell_type": "markdown",
   "metadata": {},
   "source": [
    "Dikkat edecek olursaniz $dosya.readline()$ ifadesiyle bizi ilgilendirmeyen ilk yorum satırını (dosyanın içeriğinin tanıtıldığı satır) atlıyoruz. Ayrıca dosyanın son satırında yıllık ortalama yağış olduğu ve onu çizdirmek istemediğimiz için de $plt.plot$ ifadesinde ortalama yağış miktarlarını içeren $degerler$ listesindeki yıllık ortalama yağış miktarına gelen son değeri almıyoruz ($degerler[:-1]$). Son olarak $for$ döngüsünü hızlı liste özelliklerini kullanarak biraz daha kompakt hale getirebleceğimizi de söylemeliyiz."
   ]
  },
  {
   "cell_type": "code",
   "execution_count": null,
   "metadata": {},
   "outputs": [],
   "source": [
    "def verioku(dosyaadi):\n",
    "    dosya = open(dosyaadi, \"r\")\n",
    "    dosya.readline() # ilk satiri oku ve atla\n",
    "    sayilar = [float(satir.split()[1]) for satir in dosya]\n",
    "    dosya.close()\n",
    "    return sayilar"
   ]
  },
  {
   "cell_type": "markdown",
   "metadata": {},
   "source": [
    "[Başa Dön](#Dosyalar,-Metinler-ve-Sözlükler)"
   ]
  },
  {
   "cell_type": "markdown",
   "metadata": {},
   "source": [
    "# Sözlük Nesnesi: Dictionaries #\n",
    "## Sözlük Nedir? ##\n",
    "\n",
    "Listeler oldukça esnek ve kullanışlı bir veri türü olmasına karşın bir dezavantajları elemanlarına ulaşmak için tam sayı indeksleri kullanmak zorunluluğudur. Bunun yerine indeksin de bir metin nesnesi (ya da başka bir nesne türü) olabildiği bir veri türü kullanmak oldukça kullanışlı olabilir düşüncesiyle <b><i>sözlük</i></b> ($dictionary$) veri türü yaratılmıştır.  \n",
    "\n",
    "Diyelim ki Stockholm, Manchester ve Berlin için sıcaklık değerlerini içeren bir listemiz olsun ($sicaklik = [13, 15.4, 17.5]$). Örneğin Manchester'ın sıcaklık değerine ulaşmak istiyorsak onun liste içindeki yerini bilmeliyiz ($sicaklik[1]$). Bunun yerine indekslerin şehirlerin isimleri olduğu bir sözlük türü değişken kullanmak daha akılcı olacaktır."
   ]
  },
  {
   "cell_type": "code",
   "execution_count": null,
   "metadata": {},
   "outputs": [],
   "source": [
    "sicaklik = {'Stockholm': 11.5, 'Manchester': 13.8, 'Berlin': 12.1}\n",
    "sicaklik = dict(Stockholm=11.5, Manchester=13.8, Berlin=12.1) # alternatif yol"
   ]
  },
  {
   "cell_type": "code",
   "execution_count": null,
   "metadata": {},
   "outputs": [],
   "source": [
    "sicaklik['Berlin']"
   ]
  },
  {
   "cell_type": "markdown",
   "metadata": {},
   "source": [
    "Bir sözlük değişkenine sonradan veri eklemek oldukça kolaydır. Örneğin Marsilya şehri için sıcaklığı ekleyelim."
   ]
  },
  {
   "cell_type": "code",
   "execution_count": null,
   "metadata": {},
   "outputs": [],
   "source": [
    "sicaklik['Marsilya'] = 23.1"
   ]
  },
  {
   "cell_type": "markdown",
   "metadata": {},
   "source": [
    "Sözlük değişkenin metin indekslerine <i>anahtar</i> ($key$) adı verilir. Değişkenin her bir anahtara karşılık bir de <i>değeri</i> ($value$) vardır.  Bir $for$ döngüsü içinde bir sözlüğün değerlerine ulaşmanın yolu $for$ $key$ $in$ $sozluk$ yapısını kullanmaktır."
   ]
  },
  {
   "cell_type": "code",
   "execution_count": null,
   "metadata": {},
   "outputs": [],
   "source": [
    "for sehir in sicaklik:\n",
    "    print('{:s} sehrindeki ortalama sicaklik {:g} santigrad derecedir.'.format(sehir,sicaklik[sehir]))"
   ]
  },
  {
   "cell_type": "markdown",
   "metadata": {},
   "source": [
    "Bir sözlük değişkeninde bir anahtarın bulunup bulunmadığını sorgulamak için $if$ $key$ $in$ $sozluk$ ifadesi kullanılır."
   ]
  },
  {
   "cell_type": "code",
   "execution_count": null,
   "metadata": {},
   "outputs": [],
   "source": [
    "'Paris' in sicaklik"
   ]
  },
  {
   "cell_type": "code",
   "execution_count": null,
   "metadata": {},
   "outputs": [],
   "source": [
    "if 'Paris' in sicaklik:\n",
    "    print('{:s} sehrinde sicaklik {:g} derecedir'.format('Paris',sicaklik['Paris']))\n",
    "else:\n",
    "    print('Paris icin sicaklik verisi yoktur!')"
   ]
  },
  {
   "cell_type": "markdown",
   "metadata": {},
   "source": [
    "Bir sözlük değişkenin anahtar ve değerleri ayrı ayrı listelerde toplanabilir."
   ]
  },
  {
   "cell_type": "code",
   "execution_count": null,
   "metadata": {},
   "outputs": [],
   "source": [
    "print(sicaklik.keys())\n",
    "print(sicaklik.values())"
   ]
  },
  {
   "cell_type": "markdown",
   "metadata": {},
   "source": [
    "Bir sözlük değişkenin anahtar sıralaması kolay tahmin edilemeyebilir (her seferinde farklı bir sırlamayla karşı karşıya kalabilirsiniz!). Bunu aşmanın yolu anahtara göre sözlüğü sıralamaktır ($sorted$). "
   ]
  },
  {
   "cell_type": "code",
   "execution_count": null,
   "metadata": {},
   "outputs": [],
   "source": [
    "for sehir in sorted(sicaklik):\n",
    "    print(sehir)"
   ]
  },
  {
   "cell_type": "markdown",
   "metadata": {},
   "source": [
    "Bir sözlük değişkeninden eleman silmek (del) için anahtarını kullanmak gerekir."
   ]
  },
  {
   "cell_type": "code",
   "execution_count": null,
   "metadata": {},
   "outputs": [],
   "source": [
    "del sicaklik['Stockholm']"
   ]
  },
  {
   "cell_type": "code",
   "execution_count": null,
   "metadata": {},
   "outputs": [],
   "source": [
    "print(sicaklik)"
   ]
  },
  {
   "cell_type": "markdown",
   "metadata": {},
   "source": [
    "Nümerik dizilerde olduğu gibi sözlüklerin de kopyası oluşturulmadan yapılacak bir değişiklik aynı sözlüğe atıfta bulunan diğer sözlüğün de değişmesine neden olur. Bunu aşmanın yolu yine $copy$ metodunu kullanmaktır."
   ]
  },
  {
   "cell_type": "code",
   "execution_count": null,
   "metadata": {},
   "outputs": [],
   "source": [
    "sicaklik_kopya = sicaklik\n",
    "print(\"Degisiklik oncesi sicaklik sozlugu: \", sicaklik)\n",
    "print(\"Degisiklik oncesi sicaklik_kopya sozlugu: \", sicaklik_kopya)\n",
    "del sicaklik['Marsilya']\n",
    "print(\"sicaklik sozlugunden eleman silme sonrasi sicaklik sozlugu (kopyalamadan): \", sicaklik)\n",
    "print(\"sicaklik sozlugunden eleman silme sonrasi sicaklik_kopya sozlugu (kopyalamadan): \", sicaklik_kopya)\n",
    "sicaklik_kopya = sicaklik.copy()\n",
    "sicaklik['Ankara'] = 18.3\n",
    "print(\"sicaklik sozlugune eleman ekleme sonrasi sicaklik sozlugu: \", sicaklik)\n",
    "print(\"sicaklik sozlugune eleman ekleme sonrasi sicaklik_kopya sozlugu : \", sicaklik_kopya)"
   ]
  },
  {
   "cell_type": "markdown",
   "metadata": {},
   "source": [
    "[Başa Dön](#Dosyalar,-Metinler-ve-Sözlükler)"
   ]
  },
  {
   "cell_type": "markdown",
   "metadata": {},
   "source": [
    "## Örnek 1: Tam Sayı Anahtarlar ve Polinomlar ##\n",
    "\n",
    "Sözlük anahtarları sadece metin ($string$) olmak zorunda değildir. Listeler ve sözlüklerin kendisi içeriği değiştirilebilir (<i>mutable</i>) nesneler olduğu için anathar olamazlar, ancak onun dışındaki tüm değişken türleri ($int$, $float$, $complex$, $str$, $tuple$) içerikleri değiştirilemediği (<i>immutable</i> oldukları) için anahtar olarak kullanılabilirler. \n",
    "    \n",
    "Güzel bir örnek olarak $p(x) =  -1 + x^2 - 3x^7$ polinomunu düşünelim. Bu polinoma ilişkin veri kuvvet-katsayı ikilileri olarak düşünülebilir. Anahtarı kuvvetler, değerleri katsayılar olan bir sözlük değişken bir polinomu saklamak için iyi bir yoldur. Bunu bir listeyle (ya da diziyle) de yapabilirsiniz ancak bu durumda katsayısı 0 olan tüm kuvvetler için 0 katsayısını listenize (ya da dizinize) koymak zorunda kalırsınız. Ayrıca sözlük kullanarak negatif kuvvetler için de katsayı saklayabilirsiniz."
   ]
  },
  {
   "cell_type": "code",
   "execution_count": null,
   "metadata": {},
   "outputs": [],
   "source": [
    "p = {0:-1, 2:1, 7:-3}"
   ]
  },
  {
   "cell_type": "markdown",
   "metadata": {},
   "source": [
    "Herhangi bir $x$ değeri için polinomun alacağı değeri hesaplayan bir fonksiyon aşağıdaki şekilde yazılabilir."
   ]
  },
  {
   "cell_type": "code",
   "execution_count": null,
   "metadata": {},
   "outputs": [],
   "source": [
    "def polinom(pol,x):\n",
    "    toplam = 0.0\n",
    "    for kuvvet in pol:\n",
    "        toplam += pol[kuvvet]*x**kuvvet\n",
    "    return toplam"
   ]
  },
  {
   "cell_type": "code",
   "execution_count": null,
   "metadata": {},
   "outputs": [],
   "source": [
    "print(polinom(p,2.0))"
   ]
  },
  {
   "cell_type": "markdown",
   "metadata": {},
   "source": [
    "Daha kompakt bir yazım için liste yöntemlerini ve toplam ($sum$) fonksiyonunu kullanabilirsiniz."
   ]
  },
  {
   "cell_type": "code",
   "execution_count": null,
   "metadata": {},
   "outputs": [],
   "source": [
    "def polinom(pol,x):\n",
    "    return sum([pol[kuvvet]*x**kuvvet for kuvvet in pol])"
   ]
  },
  {
   "cell_type": "markdown",
   "metadata": {},
   "source": [
    "$$ p_2 = 3x^2 + 2x^3 - x^5 + 7x^6 $$ polinomunun değerini\n",
    "$$ x = 3 $$ için hesaplayalım."
   ]
  },
  {
   "cell_type": "code",
   "execution_count": null,
   "metadata": {},
   "outputs": [],
   "source": [
    "p2 = {2:3, 3:2, 5:-1, 6:7}\n",
    "print(polinom(p2, x=3))"
   ]
  },
  {
   "cell_type": "markdown",
   "metadata": {},
   "source": [
    "[Başa Dön](#Dosyalar,-Metinler-ve-Sözlükler)"
   ]
  },
  {
   "cell_type": "markdown",
   "metadata": {},
   "source": [
    "## Örnek 2: Sözlük ve Dosya Verisi ##"
   ]
  },
  {
   "cell_type": "markdown",
   "metadata": {},
   "source": [
    "Aşağıda bazı maddeler için yoğunluk değerlerinin yer aldığı $yogunluk.dat$ dosyasının içeriği verilmiştir. Bu dosyanın içeriğini okurken madde isimlerini anahtar ($key$), yoğunluk değerlerini ise değer ($value$) olarak kabul eden bir sözlük kullanmak iyi bir fikirdir.\n",
    "\n",
    "hava\t\t\t0.0012 <br>\n",
    "gaz\t\t\t\t0.67 <br>\n",
    "buz\t\t\t\t0.9 <br>\n",
    "saf su  \t\t1.0 <br>\n",
    "deniz suyu\t\t1.025 <br>\n",
    "insan vucudu\t1.03 <br>\n",
    "kirec tasi  \t2.6 <br>\n",
    "granit     \t\t2.7 <br>\n",
    "demir       \t7.8 <br>\n",
    "gumus      \t\t10.5 <br>\n",
    "civa     \t\t13.6 <br>\n",
    "altin        \t18.9 <br>\n",
    "platin   \t\t21.4 <br>\n",
    "dunya_ort  \t\t5.52 <br>\n",
    "dunya_cekirdek\t13 <br>\n",
    "ay        \t\t3.3 <br>\n",
    "gunes_ort    \t1.4 <br>\n",
    "gunes_cekirdek\t160 <br>\n",
    "proton      \t2.8E+14 <br>\n",
    "\n",
    "Böyle bir dosyayı düzgün ve efektif bir şekilde okuyabilmek için aşağıdaki gibi bir Python kodu kullanabilirsiniz. Madde isimlerinde kelimelerin arasındaki boşluklar özel olarak bırakılmıştır. Bu dersin ilerleyen slaytlarında bu tür yapıların nasıl yönetileceği de anlatılacaktır."
   ]
  },
  {
   "cell_type": "code",
   "execution_count": null,
   "metadata": {},
   "outputs": [],
   "source": [
    "def yogunluk_oku(dosyaadi):\n",
    "    dosya = open(dosyaadi, 'r')\n",
    "    yogunluklar = {}\n",
    "    for satir in dosya:\n",
    "        kelimeler = satir.split()\n",
    "        # yogunluk tum satirlarin en sonundadir\n",
    "        yogunluk = float(kelimeler[-1])\n",
    "        # eger yogunluga kadar birden fazla kelime varsa\n",
    "        # bunlar birlestirilerek madde adini olusturmalidir\n",
    "        if len(kelimeler[:-1]) == 2:\n",
    "            madde = kelimeler[0] + ' ' + kelimeler[1]\n",
    "        else:\n",
    "            madde = kelimeler[0]\n",
    "        # simdi sozlugu dolduralim\n",
    "        yogunluklar[madde] = yogunluk\n",
    "    dosya.close()\n",
    "    return yogunluklar\n",
    "\n",
    "yogunluklar = yogunluk_oku('veri_dosyalari/yogunluk.dat')\n",
    "print(yogunluklar)"
   ]
  },
  {
   "cell_type": "code",
   "execution_count": null,
   "metadata": {},
   "outputs": [],
   "source": [
    "for madde in sorted(yogunluklar):\n",
    "    print(madde, yogunluklar[madde])"
   ]
  },
  {
   "cell_type": "markdown",
   "metadata": {},
   "source": [
    "[Başa Dön](#Dosyalar,-Metinler-ve-Sözlükler)"
   ]
  },
  {
   "cell_type": "markdown",
   "metadata": {},
   "source": [
    "## Örnek 3: İçiçe Sözlükler ve Dosya Verisi ##\n",
    "\n",
    "Aşağıda son yıllarda geçiş yöntemiyle keşfedilen bazı gezegenlerin gün cinsinden yörünge dönemi (P), ölçülebilidiyse geçiş sırasındaki ışık değişiminin genliği ($dm$), hesaplanabilidiyse $R_{jüp}$ cinsinden yarıçapı (R), geçişin dakika cinsinden toplam süresi ($dt$) bir tablo şeklinde yer almaktadır ($tablo.dat$). Bazı parametreler için ölçüm ya da hesap yapılamadığını dikkat alarak, ortalama değerlerini hesaplayıp $veri[parametre]['ortalama']$ şeklinde saklamak istiyor olalaım.\n",
    "\n",
    "&nbsp;&nbsp;&nbsp;&nbsp;&nbsp;&nbsp;&nbsp; P &nbsp;&nbsp;&nbsp;&nbsp;&nbsp;&nbsp; dm &nbsp;&nbsp;&nbsp;&nbsp;&nbsp;&nbsp; R &nbsp;&nbsp;&nbsp;&nbsp;&nbsp;&nbsp; dt <br>\n",
    "1 &nbsp;&nbsp;&nbsp; 11.7 &nbsp;&nbsp;&nbsp; 0.035 &nbsp;&nbsp;&nbsp; 2.8 &nbsp;&nbsp;&nbsp; 99.1 <br>\n",
    "2 &nbsp;&nbsp;&nbsp; 9.2 &nbsp;&nbsp;&nbsp;\t0.037 &nbsp;&nbsp;&nbsp; 3.2 &nbsp;&nbsp;&nbsp;\t101.2 <br>\n",
    "3 &nbsp;&nbsp;&nbsp; 12.2 &nbsp;&nbsp;&nbsp; nan &nbsp;&nbsp;&nbsp; nan &nbsp;&nbsp;&nbsp; 105.2 <br>\n",
    "4 &nbsp;&nbsp;&nbsp; 10.1 &nbsp;&nbsp;&nbsp; 0.031 &nbsp;&nbsp;&nbsp; nan &nbsp;&nbsp;&nbsp;\t102.1 <br>\n",
    "5 &nbsp;&nbsp;&nbsp; 9.1 &nbsp;&nbsp;&nbsp; 0.033 &nbsp;&nbsp;&nbsp; 2.6 &nbsp;&nbsp;&nbsp;\t103.3 <br>\n",
    "6 &nbsp;&nbsp;&nbsp; 8.7 &nbsp;&nbsp;&nbsp;\t0.036 &nbsp;&nbsp;&nbsp; 3.1 &nbsp;&nbsp;&nbsp; 101.9\n",
    "\n",
    "Bu yapıda bir dosyayı okuyabilmek için içiçe sözlüklerden yararlanmak iyi bir fikir olacaktır. Bu tür sözlüklerde değerler de birer sözlük olabilmektedir."
   ]
  },
  {
   "cell_type": "code",
   "execution_count": null,
   "metadata": {},
   "outputs": [],
   "source": [
    "dosya = open('veri_dosyalari/tablo.dat', 'r')\n",
    "satirlar = dosya.readlines()\n",
    "dosya.close()\n",
    "veri = {}   #  veri[parametre][gezegen_no] = parametre_degeri\n",
    "ilk_satir = satirlar[0]\n",
    "parametreler = ilk_satir.split()\n",
    "for parametre in parametreler:\n",
    "    veri[parametre] = {}\n",
    "print(veri)\n",
    "for satir in satirlar[1:]:\n",
    "    kelimeler = satir.split()\n",
    "    i = int(kelimeler[0])       # gezegen no'su\n",
    "    degerler = kelimeler[1:]      # parametrelerin degerleri\n",
    "    for p, d in zip(parametreler,degerler):\n",
    "        if d != 'nan':\n",
    "            veri[p][i] = float(d)\n",
    "print(\"------------------------------\")\n",
    "print(veri)\n",
    "# Ortalama hesabi\n",
    "for parametre in veri:\n",
    "    degerler = veri[parametre].values()\n",
    "    veri[parametre]['ortalama'] = sum(degerler)/len(degerler)\n",
    "print(\"------------------------------\")\n",
    "print(veri)"
   ]
  },
  {
   "cell_type": "markdown",
   "metadata": {},
   "source": [
    "[Başa Dön](#Dosyalar,-Metinler-ve-Sözlükler)"
   ]
  },
  {
   "cell_type": "markdown",
   "metadata": {},
   "source": [
    "# Metin Nesnesi: Strings #\n",
    "## Metin Nedir? ##\n",
    "\n",
    "Şu ana kadar metin değişkenleri sayılara (tam ya da reel) dönüştürüp, üzerlerinde işlem yapmayı öğrendik ancak metin değişkenlerin üzerinde işlem yapmayı öğrenmedik. Bu tür değişkenleri kullanmak programcılığın önemli bir parçasıdır ve özellikle dosya işlemlerinde vazgeçilmezdir.\n",
    "\n",
    "Metin değişkenlerde indeksleme ve metin değişkenin bir bölümünü kullanma tıpkı listeler, demetler ve dizilerde tanımlandığı gibidir."
   ]
  },
  {
   "cell_type": "code",
   "execution_count": null,
   "metadata": {},
   "outputs": [],
   "source": [
    "s = \"Rasathanede saat 10:00'daki sicaklik -4 derecedir\"\n",
    "print(\"s[12:] -->\", s[12:])\n",
    "print(\"s[12:-10] -->\", s[12:-10])"
   ]
  },
  {
   "cell_type": "markdown",
   "metadata": {},
   "source": [
    "Bir metnin içerisinde diğer bir metni aramak için $find$ metodu kullanılır. Fonksiyon söz konusu metni bulursa bu metnin ilk karakterinin bulunduğu endeksi, bulamazsa $-1$ döndürür. Ayrıca $startswith$ ve $endswith$ fonksiyonları da bir metin verilen bir başka metinle sırasıyla başlıyor ya da bitiyor ise $True$ döndürür, aksi halde $False$ döndürür."
   ]
  },
  {
   "cell_type": "code",
   "execution_count": null,
   "metadata": {},
   "outputs": [],
   "source": [
    "s = \"Rasathanede saat 10:00'daki sicaklik -4 derecedir\"\n",
    "print(\"s metni:\", s)\n",
    "print(\"'Rasathane' metni s icinde {:d}. indeksten baslamaktadir.\".format(s.find('Rasathane')))\n",
    "print(\"'derece metni s icinde {:d}. indeksten baslamaktadir.\".format(s.find('derece')))\n",
    "print(\"'Derece metni ise s icinde bulunmadigindan {:d} dondurur\".format(s.find('Derece')))\n",
    "print(\"'Rasathane' metni s icinde var midir?\")\n",
    "print('Rasathane' in s)\n",
    "print(\"'Derece' metni s icinde var midir?\")\n",
    "print('Derece' in s)\n",
    "print(\"s metni 'Rasathane' metni ile baslamaktadir?\")\n",
    "print(s.startswith('Rasathane'))\n",
    "print(\"s metni 'Derecedir' metni ile bitmektedir?\")\n",
    "print(s.endswith('Derecedir'))\n",
    "son_kelime = s.split()[-1]\n",
    "print(\"{:s} metni {:s} ile bitmektedir.\".format(s,son_kelime))"
   ]
  },
  {
   "cell_type": "markdown",
   "metadata": {},
   "source": [
    "$s.replace(s1,s2)$ ifadesi $s$ metin değişkeni içerisinde $s1$'in bulunduğu bütün yerleri $s2$ ile değiştirir."
   ]
  },
  {
   "cell_type": "code",
   "execution_count": null,
   "metadata": {},
   "outputs": [],
   "source": [
    "print(s.replace(' ', '_'))\n",
    "print(s)\n",
    "t = s.replace(' ', '_')\n",
    "print(t)"
   ]
  },
  {
   "cell_type": "markdown",
   "metadata": {},
   "source": [
    "Bir metni bileşenlerine (kelimelerine) ayırma işlemi $split$ metodu ile yapılır. Metodun çıktısı bir listedir. Not: Dikkat ederseniz son uyguladığımız $replace$ fonksiyonu s'nin içeriğini değiştirmedi. Zira metinler de içeriği değiştirilemez (<i>immutable</i>) değişkenlerdir. Bu işlem ancak bu ifadeyi bir başka metin değişkene (aynı isimle de olabilir!) atarsak geerçekleşir."
   ]
  },
  {
   "cell_type": "code",
   "execution_count": null,
   "metadata": {},
   "outputs": [],
   "source": [
    "print(s.split())\n",
    "# split'in varsayilan ayraci bosluktur ama isterseniz degistirebilirsiniz\n",
    "print(s.split(':'))\n",
    "t = '1.satir\\n2.satir\\n3.satir'\n",
    "print(t)\n",
    "print(t.splitlines())"
   ]
  },
  {
   "cell_type": "markdown",
   "metadata": {},
   "source": [
    "Tüm karakterleri büyük ($upper$ metodu) ya da küçük ($lower$ metodu) harflerle yazdırmak da mümkündür."
   ]
  },
  {
   "cell_type": "code",
   "execution_count": null,
   "metadata": {},
   "outputs": [],
   "source": [
    "print(s.lower())\n",
    "print(s.upper())"
   ]
  },
  {
   "cell_type": "markdown",
   "metadata": {},
   "source": [
    "Metin içeriğinin değiştirilemez (<i>immutable</i>) olduğunu bir örnekle görelim."
   ]
  },
  {
   "cell_type": "code",
   "execution_count": null,
   "metadata": {},
   "outputs": [],
   "source": [
    "s[18] = '1'"
   ]
  },
  {
   "cell_type": "markdown",
   "metadata": {},
   "source": [
    "$isdigit$ metodu bir metin değişkenin sadece sayılardan oluşup oluşmadığını denetler."
   ]
  },
  {
   "cell_type": "code",
   "execution_count": null,
   "metadata": {},
   "outputs": [],
   "source": [
    "print(\"214\".isdigit())\n",
    "print(\" 214 \".isdigit())\n",
    "print(\"2.14\".isdigit())"
   ]
  },
  {
   "cell_type": "markdown",
   "metadata": {},
   "source": [
    "$isspace$ metodu bir metin değişkenin boşluk içerip içermediğini denetler."
   ]
  },
  {
   "cell_type": "code",
   "execution_count": null,
   "metadata": {},
   "outputs": [],
   "source": [
    "print(\" \".isspace()) # sadece bosluktan olusan bir metin\n",
    "print(\" \\n\".isspace()) # bir bosluk ve yeni satir karakterinden olusan bir metin\n",
    "print(\" \\t \".isspace()) # bir bosluk ve TAB karakterinden olsuan bir metin\n",
    "print(\"\".isspace()) # bos metin (bosluk icermez!)"
   ]
  },
  {
   "cell_type": "markdown",
   "metadata": {},
   "source": [
    "$strip$ metodu bir metin değişkenin başı ve sonundaki boşlukları atmak için kullanılır. Not: Yeni satır karakterinin (\\n) dikkate alınmadığına dikkat ediniz!"
   ]
  },
  {
   "cell_type": "code",
   "execution_count": null,
   "metadata": {},
   "outputs": [],
   "source": [
    "s = ' basi / sonu bosluk iceren metin \\n'\n",
    "print(s.strip())\n",
    "# bastaki (soldaki) bosluklari atar\n",
    "print(s.lstrip())\n",
    "# sondaki (sagdaki) bosluklari atar\n",
    "print(s.rstrip())"
   ]
  },
  {
   "cell_type": "markdown",
   "metadata": {},
   "source": [
    "$join$ metodu birden fazla metin değişkeni istediğiniz bir karakteri kullanarak bilreştirebilirsiniz."
   ]
  },
  {
   "cell_type": "code",
   "execution_count": null,
   "metadata": {},
   "outputs": [],
   "source": [
    "yildizlar = [\"Vega\", \"Deneb\", \"Altair\"]\n",
    "yaz_ucgeni = \",\".join(yildizlar)\n",
    "print(yaz_ucgeni)"
   ]
  },
  {
   "cell_type": "markdown",
   "metadata": {},
   "source": [
    "[Başa Dön](#Dosyalar,-Metinler-ve-Sözlükler)"
   ]
  },
  {
   "cell_type": "markdown",
   "metadata": {},
   "source": [
    "## Örnek 1: Dosyadan Koordinat Okumak ##\n",
    "\n",
    "Aşağıda $x$,$y$ düzlemi üzerinde bazı noktaların koordinatları verilmiştir ($koordinatlar.dat$). Bu koordinatları okuyan ve bir liste içerisine demet değişken üçlüleri şeklinde ($koor[i] = (x,y,z)$) yerleştiren bir program yazmaya çalışıyor olalım. Bazı sayılar için “=” işaretinden sonra boşluk olduğuna, bazılarında olmadığına dikkat ediniz. Bu durumda boşluktan ayırma ($split()$ metodu) bizim için iyi bir seçenek değil.\n",
    "\n",
    "&nbsp;&nbsp; x=-1.345 &nbsp;&nbsp;&nbsp;&nbsp; y= 0.1112 &nbsp;&nbsp;&nbsp;&nbsp; z= 9.1928 <br>\n",
    "&nbsp;&nbsp; x=-1.231 &nbsp;&nbsp;&nbsp;&nbsp; y=-0.1251 &nbsp;&nbsp;&nbsp;&nbsp; z= 1001.2 <br>\n",
    "&nbsp;&nbsp; x= 0.100 &nbsp;&nbsp;&nbsp;&nbsp; y= 1.4344E+6 &nbsp;&nbsp;&nbsp;&nbsp;  z=-1.0100 <br>\n",
    "&nbsp;&nbsp; x= 0.200 &nbsp;&nbsp;&nbsp;&nbsp; y= 0.0012 &nbsp;&nbsp;&nbsp;&nbsp; z=-1.3423E+4 <br>\n",
    "&nbsp;&nbsp; x= 1.5E+5 &nbsp;&nbsp;&nbsp;&nbsp; y=-0.7666 &nbsp;&nbsp;&nbsp;&nbsp; z= 1027\n",
    "\n",
    "<u>Çözüm 1.</u> Dosyaya dikkatli bakınca “x= “ ifadesinin her satırın 2., “y= “ ifadesinin 16., “z= “ ifadesinin 31. sütundan başladığını görüyoruz (1'den saymaya başlarsak! İndeksleri için 0'dan saymaya başladığımızı unutmayınız!). Bu durumdan faydalanarak çözümü aşağıdaki şekilde arayabiliriz."
   ]
  },
  {
   "cell_type": "code",
   "execution_count": null,
   "metadata": {},
   "outputs": [],
   "source": [
    "from numpy import array\n",
    "dosya = open(\"veri_dosyalari/koordinatlar.dat\", \"r\")\n",
    "koor = [] # (x,y,z) demet degiskenleri\n",
    "for satir in dosya:\n",
    "    x_baslangic = 2\n",
    "    y_baslangic = 17\n",
    "    z_baslangic = 32\n",
    "    x = satir[x_baslangic+2:y_baslangic].strip()\n",
    "    y = satir[y_baslangic+2:z_baslangic].strip()\n",
    "    z = satir[z_baslangic+2:].strip()\n",
    "    print(\"koordinatlar: x='{:s}', y='{:s}', z='{:s}'\".format(x,y,z))\n",
    "    koor.append((float(x), float(y), float(z)))\n",
    "dosya.close()\n",
    "koor = array(koor)\n",
    "print(koor.shape, koor)\n",
    "print(koor[2][1]) # 3. satirdaki y degeri"
   ]
  },
  {
   "cell_type": "markdown",
   "metadata": {},
   "source": [
    "<u>Çözüm 2.</u> \"x= \", \"y= \", \"z= \" ifadelerinin nereden başladığını saymak yerine (ki bu iyi bir alışkanlık da değildir) bu ifadelerin hangi indekste başladığını $find()$ metodu ile bulabiliriz. Bu durumda kodumuzda ilgili yerleri aşağıdaki şekilde düzeltmemiz yeterli olacaktır."
   ]
  },
  {
   "cell_type": "code",
   "execution_count": null,
   "metadata": {},
   "outputs": [],
   "source": [
    "from numpy import array\n",
    "dosya = open(\"veri_dosyalari/koordinatlar.dat\", \"r\")\n",
    "koor = [] # (x,y,z) demet degiskenleri\n",
    "for satir in dosya:\n",
    "    x_baslangic = satir.find(\"x=\")\n",
    "    y_baslangic = satir.find(\"y=\")\n",
    "    z_baslangic = satir.find(\"z=\")\n",
    "    x = satir[x_baslangic+2:y_baslangic]\n",
    "    y = satir[y_baslangic+2:z_baslangic]\n",
    "    z = satir[z_baslangic+2:]\n",
    "    koor.append((float(x), float(y), float(z)))\n",
    "dosya.close()\n",
    "koor = array(koor)\n",
    "print(koor.shape, koor)"
   ]
  },
  {
   "cell_type": "markdown",
   "metadata": {},
   "source": [
    "<b><u>Çözüm 3.</u></b> $split()$ metodunda ayracı \"=\" yaparak satırların = işaretinden ayrılmasını sağlayabilir, ='in öncesini değişkenin adına, sonrasını değerine atayabiliriz. Bu durumda kodumuz aşağıdaki şekilde olacaktır."
   ]
  },
  {
   "cell_type": "code",
   "execution_count": null,
   "metadata": {},
   "outputs": [],
   "source": [
    "from numpy import array\n",
    "dosya = open(\"veri_dosyalari/koordinatlar.dat\", \"r\")\n",
    "koor = [] # (x,y,z) demet degiskenleri\n",
    "for satir in dosya:\n",
    "    kelimeler = satir.split(\"=\")\n",
    "    x = float(kelimeler[1][:-1])\n",
    "    y = float(kelimeler[2][:-1])\n",
    "    z = float(kelimeler[3])\n",
    "    koor.append((x, y, z))\n",
    "dosya.close()\n",
    "koor = array(koor)\n",
    "print(koor.shape, koor)"
   ]
  },
  {
   "cell_type": "markdown",
   "metadata": {},
   "source": [
    "Programcılıkta bir problemi çözmenin birden fazla yolu vardır. Programcı bu yolların olabildiğince hepsini düşünüp, en optimize (yazma, okuma ve çalışma bakımından) ve hızlı olanını seçmelidir. Bu örnekler bize eğer veri dosyasını oluşturma imkanı da programcının elindeyse onu en kolay ve hızlı okunacak şekilde oluşturması gerektiğini de göstermektedir."
   ]
  },
  {
   "cell_type": "markdown",
   "metadata": {},
   "source": [
    "[Başa Dön](#Dosyalar,-Metinler-ve-Sözlükler)"
   ]
  },
  {
   "cell_type": "markdown",
   "metadata": {},
   "source": [
    "## Örnek 2: Dosyalara Metin Yazmak ##\n",
    "\n",
    "Bir dosyaya yazdırmak için onu iki moddan birinde açmak gerekir: \"$w$\" ($write$: dosya oluşturup yazma modu), \"$a$\" ($append$: var olan bir dosyanın sonuna ekleme modu). \n",
    "\n",
    "$$ciktidosyasi = open(\"dosyaadi\",\"w\")$$\n",
    "$$ciktidosyasi = open(\"dosyaadi\", \"a\")$$\n",
    "\n",
    "Bir metni dosyaya yazdırırken $write()$ metodu kullanılır. Ancak bu metod $print$ ifadesinden farklı olarak metnin sonuna yeni $satır$ karakteri (\\n) eklemez. Bunu sizin eklemeniz gerekir!\n",
    "\n",
    "$$ ciktidosyasi.write(\"metin\" + \"\\n\") $$"
   ]
  },
  {
   "cell_type": "markdown",
   "metadata": {},
   "source": [
    "İlk örnek olarak aşağıdaki (içiçe) listeyi düzgün bir tablo şeklinde bir dosyaya yazdırmak istiyor olalım:"
   ]
  },
  {
   "cell_type": "code",
   "execution_count": null,
   "metadata": {},
   "outputs": [],
   "source": [
    "veri = [[ 0.75,  0.29619813, -0.29619813, -0.75 ],\n",
    "[ 0.29619813, 0.11697778, -0.11697778, -0.29619813],\n",
    "[-0.29619813, -0.11697778, 0.11697778, 0.29619813],\n",
    "[-0.75, -0.29619813, 0.29619813, 0.75 ]]"
   ]
  },
  {
   "cell_type": "markdown",
   "metadata": {},
   "source": [
    "Bu listenin her bir elemanı olan listeleri satır kabul edip, tek tek onları almalı, her bir satıra denk gelen listenin her bir elemanını da bir sütuna yazdırarak ilerlemeliyiz. Her bir satırın sonuna yeni satır karakteri (\"\\n\") eklemeyi unutmamalıyız.\n",
    "\n",
    "Bu durumda kodumuz aşağıdaki şekilde olacaktır. Kodu çalıştırdıktan sonra aynı dizinde oluşacak olan $tmp\\_tablo.dat$ isimli dosyayı bir metin editörü ile inceleyiniz."
   ]
  },
  {
   "cell_type": "code",
   "execution_count": null,
   "metadata": {},
   "outputs": [],
   "source": [
    "ciktidosyasi = open(\"veri_dosyalari/tmp_tablo.dat\", \"w\")\n",
    "satir_sayisi = len(veri)\n",
    "for i,satir in enumerate(veri):\n",
    "    for sutun in satir:\n",
    "        yazilacak_metin = \"{:14.8f}\".format(sutun)\n",
    "        ciktidosyasi.write(yazilacak_metin)\n",
    "    # son satir haric tum satirlara yeni satir\n",
    "    # karakteri koyalim\n",
    "    if i != satir_sayisi-1:\n",
    "        ciktidosyasi.write(\"\\n\")\n",
    "ciktidosyasi.close()"
   ]
  },
  {
   "cell_type": "markdown",
   "metadata": {},
   "source": [
    "Kodumuza aşağıdaki satırları ekleyerek satır ve sütun sayılarını da göstermek isteyebiliriz. Bunun için satır sayısı ve sütun sayısını da bilmeliyiz."
   ]
  },
  {
   "cell_type": "code",
   "execution_count": null,
   "metadata": {},
   "outputs": [],
   "source": [
    "sutunsayisi = len(veri[0])\n",
    "ciktidosyasi.write(\" \")\n",
    "for i in range(1,sutunsayisi+1):\n",
    "    ciktidosyasi.write(\"{:10s} \".format(\"sutun {:d}\".format(i)))\n",
    "    ciktidosyasi.write(\"\\n\")"
   ]
  },
  {
   "cell_type": "markdown",
   "metadata": {},
   "source": [
    "Gördüğünüz gibi $write$ metodunda $sutun + str(i)$  de yazdırabilirdik ancak $print$ fonksiyonu gibi formatlamayı tercih ettik. Zira bu şekilde tüm metnin belirli sayıda karaktere sığdırılmasını otomatik olarak kontrol etmiş oluyoruz. Dosya yazarken tablo görünümünün korunması ve dosyanın kolay okunabilmesi için $print$ fonksiyonundaki gibi (yer tutucular ({} ya da %) kullanarak) yazdırmak iyi bir çözümdür.\n",
    "\n",
    "Şimdi de satır numaralarını ekleyelim ve sütun numaralarını eklediğimiz ve veriyi yazdirdigimiz kodla bunu birleştirelim."
   ]
  },
  {
   "cell_type": "code",
   "execution_count": null,
   "metadata": {},
   "outputs": [],
   "source": [
    "veri = [[ 0.75, 0.29619813, -0.29619813, -0.75 ],\n",
    "[ 0.29619813, 0.11697778, -0.11697778, -0.29619813],\n",
    "[-0.29619813, -0.11697778, 0.11697778, 0.29619813],\n",
    "[-0.75, -0.29619813, 0.29619813, 0.75 ]]\n",
    "\n",
    "ciktidosyasi = open(\"veri_dosyalari/tmp_tablo.dat\", \"w\")\n",
    "\n",
    "sutunsayisi = len(veri[0])\n",
    "ciktidosyasi.write(\"{:12s}\".format(\" \"*12))\n",
    "for i in range(1,sutunsayisi+1):\n",
    "    ciktidosyasi.write(\"{:14s} \".format(\"sutun {:d}\".format(i)))\n",
    "ciktidosyasi.write(\"\\n\")\n",
    "\n",
    "satir_sayaci = 1\n",
    "for satir in veri:\n",
    "    ciktidosyasi.write(\"satir {:2d}\".format(satir_sayaci))\n",
    "    for sutun in satir:\n",
    "        ciktidosyasi.write(\"{:14.8f}\".format(sutun))\n",
    "    ciktidosyasi.write(\"\\n\")\n",
    "    satir_sayaci += 1\n",
    "\n",
    "ciktidosyasi.close()"
   ]
  },
  {
   "cell_type": "markdown",
   "metadata": {},
   "source": [
    "Bu kodu çalıştırdığınızda oluşacak $tmp\\_tablo.dat$ dosyasını inceleyiniz ve yapısını nasıl daha da güzel bir tablo haline getirebileceğininiz planlayarak, kodunuzu geliştiriniz."
   ]
  },
  {
   "cell_type": "markdown",
   "metadata": {},
   "source": [
    "Salt metin dosyası okuyabilen tüm python modüllerinin ($pandas$, $astropy.io,ascii$ gibi) ve metin editörlerinin kolaylıkla okuyabileceği bir dosya yazmak için aşağıdaki kod parçasını takip edelim ve sütunlarımızı birbirinden \"< TAB > \" işareti ile ayıralım. Bu uygulama daha standart bir salt matin dosyası yazmamızı sağlayacak \"Pythonic\" bir yoldur."
   ]
  },
  {
   "cell_type": "code",
   "execution_count": null,
   "metadata": {},
   "outputs": [],
   "source": [
    "veri = [[ 0.75, 0.29619813, -0.29619813, -0.75 ],\n",
    "[ 0.29619813, 0.11697778, -0.11697778, -0.29619813],\n",
    "[-0.29619813, -0.11697778, 0.11697778, 0.29619813],\n",
    "[-0.75, -0.29619813, 0.29619813, 0.75 ]]\n",
    "\n",
    "ciktidosyasi = open(\"veri_dosyalari/final_tablo.dat\", \"w\")\n",
    "\n",
    "sutun_sayisi = len(veri[0])\n",
    "ciktidosyasi.write(\"#\")\n",
    "\n",
    "i = 1\n",
    "while i < sutun_sayisi:\n",
    "    ciktidosyasi.write(\"sutun{:d}\\t\".format(i))\n",
    "    i +=1 \n",
    "ciktidosyasi.write(\"sutun{:d}\\n\".format(i))\n",
    "\n",
    "# Son satirin bos kalmamas icin satir sayisini kontrol edelim\n",
    "satir_sayisi = len(veri)\n",
    "i = 1\n",
    "for satir in veri:\n",
    "    for j,sutun in enumerate(satir):\n",
    "        # son sutundan sonra <TAB> konmamasi icin\n",
    "        # sutun sayisini kontrol edelim.\n",
    "        if j != sutun_sayisi-1:\n",
    "            ciktidosyasi.write(\"{:.6f}\\t\".format(sutun))\n",
    "        else:\n",
    "            ciktidosyasi.write(\"{:.6f}\".format(sutun))\n",
    "    if i != satir_sayisi:\n",
    "        ciktidosyasi.write(\"\\n\")\n",
    "    i += 1\n",
    "ciktidosyasi.close()"
   ]
  },
  {
   "cell_type": "markdown",
   "metadata": {},
   "source": [
    "# Örnek: WASP gezegenleri #\n",
    "\n",
    "<a href=\"http://exoplanet.eu\" target=\"_blank\">exoplanet.eu</a> keşfedilen tüm ötegezegenlerin parametrelerine ulaşabileceğiniz eşsiz bir katalog sunar.  Bu katalogu sorgulamak üzere çok sayıda seçenekle donatılmş bir de arama motoru bulunmaktadır. Bu örnekte WASP gezegen araştırmasında keşfedilen tüm gezegenlerin kütle ($M$), yarıçap ($R$), yörünge dönemi ($P$), yörünge yarıbüyük eksen uzunluğu ($a$), yörünge dışmerkezliliği ($e$) ve geçiş derinliği ($\\delta$) değerlerini içeren bir veri dosyası (<a href=\"http://ozgur.astrotux.org/ast415/Ders_07ornekveri_WASP.dat\" target=\"_blank\">ornekveri_WASP.dat</a>) üzerinde çalışacaksınız. \n",
    "\n",
    "1. <i>ornekveri_WASP.dat</i> dosyasını açıp, başlık satırını $split$ metoduyla boşluklardan ayırmakla elde edeceğiniz her bir sütunun adını başlangıçta boş olarak oluşturacağınız $gezegenler$ isimli bir sözlüğün anahtar kelimelerine (keyword) atayınız. Bu sözlükte her bir anahtar kelimenin değeri (value) boş bir liste olsun.\n",
    "\n",
    "2. Bu dosyanın her bir satırını tek tek okuyup, yine $split$ metoduyla her bir sütundaki veri değerini alıp (sayısal olması gereken değerleri float ile sayıya dönüştürdükten sonra), ilgili listeye ekleyiniz. Sonuç olarak gezegenler sözlüğündeki her bir anahtar kelimenin (örneğin $gezegenler['a']$) o parametrenin tüm gezegenler için değerlerini sırayla içersin.\n",
    "\n",
    "3. Sadece sayısal veri içeren listeleri birer $numpy$ dizisine dönüştürünüz.\n",
    "\n",
    "4. Newton yasalarından hareketle aşağıdaki şekilde ifade edilen Kepler'in 3. yasasını kullanarak her bir sistemin barınak yıldızının kütlelerini (Güneş biriminde) hesaplayınız ve <i>yildiz_kutle</i> isimli bir $numpy$ dizisinde toplayınız. (Veri dosyasında yarı büyük eksen uzunluğu Astronomi Birimi (AB), yörünge dönemi Dünya günü ve gezegen kütlesi Jüpiter kütlesi birimlerinde verilmiştir. $M_{jup} = 1.898x10^{27}$ kg, $M_{\\odot} = 1.99x10^{30}$ kg alınız.) \n",
    "\n",
    "$$a^3 = \\frac{G (M_{*} + M_{g})}{4 \\pi^2} P^2 $$\n",
    "\n",
    "5. WASP geçiş yöntemiyle gezegen arayan bir proje olduğu için tüm gezegenlerin yıldızlarının önünden geçerken neden oldukları ışık kaybının miktarı (geçiş ışık eğrisi derinliği ($\\delta$)) bilinmektedir ve veri dosyasinda $derinlik$ isimli sütunda verilmiştir. Geçiş derinliği, gezegenle yıldızın yarıçapları oranına aşağıdaki şekilde bağlıdır. \n",
    "\n",
    "$$\\delta = (\\frac{R_{g}}{R_{*}})^2 $$\n",
    "\n",
    "Bu bağıntıyı ve veri dosyasında Jüpiter biriminde sağlanan gezegen yarıçapını ($R_g$) kullanarak her bir barınak yıldızın yarıçapını ($R_{*}$) hesaplayınız ($R_{jup} = 69991$ km, $R_{\\odot} = 695510$ km alınız.) ve <i>yildiz_yaricap</i> isimli bir $numpy$ dizisinde toplayınız.\n",
    "\n",
    "6. Yıldızı mükemmel bir küre varsayarak ve <i>yildiz_kutle</i> ile <i>yildiz_yaricap</i> değerlerini kullanmak suretiyle tüm yıldızlar için $g / cm^3$ cinsinden ortalama bir yoğunluk değeri hesaplayınız ve <i>yildiz_yogunluk</i> $numpy$ dizisinde toplayınız.\n",
    "\n",
    "7. Sonuç olarak elde ettiğiniz bu üç diziyi ve yıldızların adlarını yazdırmak üzere <i>ornekveri_WASP_yildizlar.dat</i> adını vereceğiniz bir dosya oluşturunuz.\n",
    "\n",
    "8. Bu dosyanın ilk satırına aralarında $<TAB>$ ile boşluklar bırakacak şekilde sırasıyla, \"yildiz\",\"kutle\",\"yaricap\",\"yogunluk\" kelimelerini yazdırınız.\n",
    "\n",
    "9. Dosyanın geri kalanına her bir sistemdeki yıldızın adını, kütlesini, yarıçapını ve ortalama yoğunuğunu aralarında $<TAB>$ ile boşluklar bırakacak şekilde yazdırınız.\n",
    "\n",
    "10. Bu dosyayı bir metin editörüyle açarak doğru yazılıp yazılmadığını denetleyiniz.\n",
    "\n",
    "[Örnek Sorunun Cevabı](Ders07_Dosya_Yonetimi_Metinler_Sozlukler_WASP_Ornek_Cevap.ipynb)\n",
    "\n",
    "[Başa Dön](#Dosyalar,-Metinler-ve-Sözlükler)"
   ]
  },
  {
   "cell_type": "markdown",
   "metadata": {},
   "source": [
    "# Alıştırmalar #\n",
    "\n",
    "1. Anahtarı ($key$) kuvvetler, değerleri ($value$) katsayılar olan, sözlük yapısındaki iki polinomu ($pol1$ ve $pol2$) argüman olarak alan ve bu iki polinomu topladıktan sonra çağrılıdığı yere yine aynı yapıda bir sözlük ($toplam_polinom$) olarak döndüren bir fonksiyon ($polinom_toplami$) yazınız. Fonksiyonunuzu $4x^5 + x^3 - 2$ polinomu ile $x^3 + x^2 - 2$ polinomlarını toplayarak test ediniz.\n",
    "\n",
    "2. WASP gezegen araştırmasında WASP-47 yıldızının etrafında keşfedilen 4 gezegenin kütle ($M$) ve yarıçapları ($R$) (<a href=\"http://ozgur.astrotux.org/ast415/Ders_07/wasp47.dat\" target=\"_blank\">wasp47.dat</a>) dosyasında verilmiştir. Öncelikle $gezegenler$ adında boş bir sözlük oluşturunuz. Size verilen dosyayı okumak (\"$r$\") için açtıktan sonra, satır satır okuyunuz. Her bir satırı $split()$ komutuyla boşluklardan ayırdıktan sonra oluşan metinleri $parametreler$ adlı bir listede toplayınız. Bu listenin ilk elemanını ($parametreler[0]$) $gezegen$ değişkenine, diğer elemanlarını ($parametreler[1:]$) ise daha önce oluşturduğunuz $gezegenler$ adlı sözlüğe $gezegen$ değişkenini anahtar ($gezegenler[gezegen]$) kabul eden bir değer listesi olarak alınız. Bir $for$ döngüsü içinde $gezegenler$ sözlüğünü anahtarlarından okuyacağınız gezegen adlarına karşılık, değerlerden alacağınız parametreler listesi şeklinde ekrana yazdırınız.\n",
    "\n",
    "3. Bir önceki soruda yazdığınız kodu, $parametre\\_adlari$ listesinin elemanları olarak tanımlayacağınız $kutle$  ve $yaricap$ parametre adlarını anahtar kabul eden değerlerini ise herbir gezegen için dosyadan okuyacağınız kayan noktalı sayı ($float$) değerleri olarak alan ($parametreler[1]$ ve ($parametreler[2]$) içiçe bir sözlük oluşturacak şekilde düzenleyiniz.\n",
    "\n",
    "4. Bir önceki soruda yazdığınız kodu, ilk satırı atlamak yerine ilk satırdaki ikinci ve üçüncü sütunlarda yer alan parametre adlarını (sırasıyla $kutle$ ve $yaricap$) her bir gezegenin parametrelerini alacağınız sözlüklerin anahtarı olacak şekilde düzenleyiniz.\n",
    "\n",
    "5. $ogrenciler = ['pinar','buse','zeynep','javid']$ listesindeki elemanların her birini $ogrenciler.txt$ isimli bir dosyanın birer satırına bir döngü içerisinde yazdırınız. Dosyayı kapattıktan sonra bu kez sadece sonuna ekleme için açarak \"$ozgur$\" metnini yeni bir satıra ekleyiniz ve dosyayı tekrar kapatınız.\n",
    "\n",
    "6. $ogrenciler.txt$ dosyasını yazmak için yeniden oluşturunuz. Dosyanın ilk satırına $Ogr.No$ metni ile $Ad Soyad$ metinlerini aralarına \"$<TAB>$\" karakteri gelecek şekilde yazınız. Daha sonra \n",
    "\n",
    "$$ogrenciler = \\{\"12050566\":'Pinar Tunc', \"15050021\":'Buse Sayar', \"14050019\":'Zeynep Kucukdeveci', \"14050335\":'Javid Bashirzade'\\}$$ \n",
    "\n",
    "sözlüğündeki her bir öğrencinin, öğrenci numarası (sözlüğün anahtarları) ile, adı ile soyadını (sözlüğün değerleri) aralarına \"$<TAB>$\" karakteri gelecek şekilde bu dosyanın birer satırına yazdırınız.  \n",
    "\n",
    "7. <a href=\"http://ozgur.astrotux.org/ast415/Ders_07/xy.dat\" target=\"_blank\">xy.dat</a> dosyasında iki sütun halinde verilen $x$ değerlerine karşılık $y$ değerlerini, sırasıyla $x$ ve $y$ listelerinde toplayınız. Bu listeleri $numpy$ dizilerine ($array$) dönüştürdükten sonra $x$'e karşılık $y$ değerlerini $matpotlib.pyplot$ fonksiyonlarını kullanarak kırmızı içi dolu yuvarlaklarla çizdiriniz. Grafiğinizin $x$ ve $y$ eksenlerini isimlendiriniz.\n",
    "\n",
    "8. Güneş Sistemi gezegenlerinin adları ($gezegenler$) ve gün cinsinden yörünge dönemleri ($donemler$) aşağıda listelerde verilmiştir.\n",
    "\n",
    "$$gezegenler = ['Merkur','Venus','Dunya','Mars','Jupiter','Saturn', 'Uranus','Neptun']$$\n",
    "$$donemler = [88.0, 224.7, 365.25, 687.0, 4331.0, 10747.0, 30589.0, 59800.0]$$\n",
    "\n",
    "Her bir gezegenin adını anahtar, yorunge dönemini değer olarak alan $gunes\\_sistemi$ adlı bir sözlük oluşturunuz. Oluşturduğunuz bu sözlüğün her bir elemanının adını ve yıl birimine dönüştüreceğiniz yörünge dönemini noktadan sonra iki basamaklı olarak $gunes\\_sistemi.txt$ dosyasına aralarına \"$<TAB>$\" karakteri gelecek şekilde satır satır yazdırınız.\n",
    "\n",
    "[Başa Dön](#Dosyalar,-Metinler-ve-Sözlükler)\n",
    "\n",
    "[Alıştırma Sorularının Cevapları](Ders07_Dosya_Yonetimi_Metinler_Sozlukler_Alistirmalar.ipynb)"
   ]
  }
 ],
 "metadata": {
  "kernelspec": {
   "display_name": "Python 3",
   "language": "python",
   "name": "python3"
  },
  "language_info": {
   "codemirror_mode": {
    "name": "ipython",
    "version": 3
   },
   "file_extension": ".py",
   "mimetype": "text/x-python",
   "name": "python",
   "nbconvert_exporter": "python",
   "pygments_lexer": "ipython3",
   "version": "3.6.9"
  }
 },
 "nbformat": 4,
 "nbformat_minor": 2
}
