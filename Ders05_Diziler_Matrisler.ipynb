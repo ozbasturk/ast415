{
 "cells": [
  {
   "cell_type": "markdown",
   "metadata": {},
   "source": [
    "# AST415 Astronomide Sayısal Çözümleme - I #\n",
    "## Ders - 05 Diziler ve Matrisler ##"
   ]
  },
  {
   "cell_type": "markdown",
   "metadata": {},
   "source": [
    "Doç. Dr. Özgür Baştürk <br>\n",
    "Ankara Üniversitesi, Astronomi ve Uzay Bilimleri Bölümü <br>\n",
    "obasturk at ankara.edu.tr <br>\n",
    "http://ozgur.astrotux.org"
   ]
  },
  {
   "cell_type": "markdown",
   "metadata": {},
   "source": [
    "# Bu derste neler öğreneceksiniz?#\n",
    "## Diziler ve Matrisler ##\n",
    "\n",
    "* [Python ve NumPy İle Nümerik Diziler](#Python-ve-NumPy-İle-Nümerik-Diziler)\n",
    "    * [Dizilere Neden İhtiyaç Duyulur?](#Dizilere-Neden-İhtiyaç-Duyulur?)\n",
    "    * [NumPy Modülü](#NumPy-Modülü)\n",
    "    * [Eş Aralıklı Dizi Oluşturma Fonksiyonları](#Eş-Aralıklı-Dizi-Oluşturma-Fonksiyonları)\n",
    "    * [Nümerik Dizilerde İndeksleme ve Dilimleme İşlemleri 1](#Nümerik-Dizilerde-İndeksleme-ve-Dilimleme-İşlemleri-1)\n",
    "    * [Fonksiyonlardan Veri Toplamak](#Fonksiyonlardan-Veri-Toplamak)\n",
    "    * [Diziler Üzerinde Fonksiyonların Kullanımı: Vektörleştirme](#Diziler-Üzerinde-Fonksiyonların-Kullanımı:-Vektörleştirme)\n",
    "* [Dizilerle İşlemler](#Dizilerle-İşlemler)\n",
    "    * [Dizi Kopyalama](#Dizi-Kopyalama)\n",
    "    * [Dizilerle Hızlı İşlemler](#Dizilerle-Hızlı-İşlemler)\n",
    "    * [Nümerik Dizilerde İndeksleme ve Dilimleme İşlemleri 2](#Nümerik-Dizilerde-İndeksleme-ve-Dilimleme-İşlemleri-2)\n",
    "    * [Dizilerde Tür Kontrolü: Isinstance](#Dizilerde-Tür-Kontrolü:-Isinstance)\n",
    "    * [Bazı Numpy Fonksiyonlarına Örnekler](#Bazı-Numpy-Fonksiyonlarına-Örnekler)\n",
    "    * [Dizi Metotları](#Dizi-Metotları)\n",
    "* [Python ve Matrisler](#Python-ve-Matrisler)\n",
    "    * [NumPy ve Matrisler](#NumPy-ve-Matrisler)\n",
    "    * [Matris Uygulamaları için Listeler ve Diziler](#Matris-Uygulamaları-için-Listeler-ve-Diziler)\n",
    "    * [Matrix Nesnesi ve NumPy İle Matris İşlemleri](#Matrix-Nesnesi-ve-NumPy-İle-Matris-İşlemleri)\n",
    "* [Alıştırmalar](#Alıştırmalar)"
   ]
  },
  {
   "cell_type": "markdown",
   "metadata": {},
   "source": [
    "# Python ve NumPy İle Nümerik Diziler #\n",
    "\n",
    "## Dizilere Neden İhtiyaç Duyulur? ##\n",
    "\n",
    "Tanımlı bir $f(x)$ fonksiyonumuz olsun ve bu fonksiyonu $x_0$, $x_1$, $x_2$, … , $x_{n-1}$ şeklinde verilen $n$ tane $x$ değerine uygulamak istiyor olalım. Bütün $x_i$ bağımsız değişkenlerini bir listede, fonksiyondan dönecek değerlerle oluşacak $y_i = f(x_i)$ bağlı değişkenlerini ise başka bir listede toplayabiliriz. Aşağıda bu şekilde hazırlanmış bir örnek görüyorsunuz."
   ]
  },
  {
   "cell_type": "code",
   "execution_count": null,
   "metadata": {},
   "outputs": [],
   "source": [
    "def f(x):\n",
    "    return x**3 # ornek fonksiyon\n",
    "\n",
    "n = 5 # nokta sayisi\n",
    "dx = 1.0 / (n-1) # [0,1] araligindaki x'lerin arasindaki uzaklik\n",
    "xlist = [i*dx for i in range(n)]\n",
    "ylist = [f(x) for x in xlist]\n",
    "xy_ikili = [(x,y) for x,y in zip(xlist,ylist)] \n",
    "print(\"x listesi: \",xlist)\n",
    "print(\"f(x) = y listesi: \",ylist)\n",
    "print(\"(x,y) listesi: \", xy_ikili)"
   ]
  },
  {
   "cell_type": "markdown",
   "metadata": {},
   "source": [
    "Listeler oldukça kullanışlı olmakla birlikte özellikle matematiksel işlemler için dizileri (matrisleri) kullanmanın <b>a) </b> bir fonksiyonu tüm liste elemanlarına tek bir kerede uygulamak, <b>b) </b>işlemleri hızlı gerçekleştirmek, <b>c) </b>tüm dizinin aynı tür elemanlardan oluşması gibi pek çok avantajı vardır. Listeler özellikle farklı türden elemanları tutabilmeleri nedeniyle esnek yapıdadırlar, ancak biraz yavaştırlar ve daha çok kullanıcıdan girdi verisi alırken, birden fazla tür nesne üzerinde işlem yapmak için kullanılırlar.\n",
    "\n",
    "Python'da nümerik diziler liste elemanlarına benzemekle birlikte onlardan aşağıdaki özellikleri nedeniyle ayrılırlar.\n",
    "\n",
    "## NumPy Modülü ##\n",
    "\n",
    "Python dilini bilimsel problemlerin çözümünde kullanırken fonksiyonlarına en sık başvurulan dış modüllerden biri $NumPy$ modülüdür (Bir diğeri de $SciPy$ modülüdür). Sağladığı dizi (ing. array) nesnesi ve bu nesne üzerinde tanımlı fonksiyonları sayesinde pek çok bilimsel problemin çözümüne büyük kolaylıklar getirir.\n",
    "\n",
    "1) Dizinin tüm elemanları aynı türde olmalıdır. Bu tür nümerik işlemleri hızlı gerçekleştirmek ve sonuçlarını saklayabilmek açısından tam, reel, ya da kompleks sayı türlerinden biri olmalıdır. \n",
    "\n",
    "2) Dizi oluşturulmadan önce eleman sayısı bilinmelidir. \n",
    "\n",
    "3) Diziler (ing. arrays) standard Python dilinin bir parçası değil, NumPy modülünün bir parçasıdır. Dolayısı ile bu modül kurulmuş ve kullanılmadan önce import edilmiş olmalıdır.\n",
    "\n",
    "4) NumPy modülü matematiksel işlemlerin döngü yapılarına gerek kalmaksızın tüm bir dizi üzerinde uygulanmasını sağlar. Bu yapı <i>“vektörleştirme”</i> (ing. vectorization) olarak bilinir ve Python programlarının döngü yapıları kullanılarak kodlanan programlara oranla önemli ölçüde farklı olmasını sağlar.\n",
    "\n",
    "5) Tek indeksli diziler <b>vektörler</b>, iki ya da daha fazla indeksli diziler ise <b>matrsiler</b> ya da <b>tablolar</b> olarak adlandırılırlar.\n",
    "\n",
    "Bir NumPy dizisi (array) aşağıdaki şekilllerde tanımlanabilir:"
   ]
  },
  {
   "cell_type": "code",
   "execution_count": null,
   "metadata": {},
   "outputs": [],
   "source": [
    "import numpy as np # numpy modulunun np lakabiyla import edilmesi\n",
    "n = 25 # dizi elemani sayisi\n",
    "r = range(n) # [0,n] arasindaki tam sayilari iceren bir range nesnesi\n",
    "a1 = np.array(r) # r range nesnesinin bir numpy dizisine donusturulmesi\n",
    "a2 = np.zeros(n) # sadece 0 (sifir)'lardan olusan n elemanli dizi\n",
    "a3 = np.ones(n) # sadece 1 (bir)'lerden olusan n elemanli dizi\n",
    "p = 1; q = 5; n = 5 # baslangic (p), son (q) ve elaman sayisi (n)\n",
    "a4 = np.linspace(p,q,n) # p ve q arasinda n tane eleman iceren dizi\n",
    "print(\"linspace ile olusturulan a4 dizisi: \", a4)\n",
    "# p ve q arasinda (p-q)/n aralikli n tane eleman iceren dizi\n",
    "a5 = np.arange(p,q+1,(q - p) / (n - 1)) \n",
    "print(\"arange ile olusturulan a4 dizisi: \", a5)\n",
    "# logaritmik artisla da dizi olusturulabilir.\n",
    "a6 = np.logspace(p,q,n) # p ve q arasinda n tane eleman iceren dizi\n",
    "print(\"logspace ile olusturulan a6 dizisi: \", a6)"
   ]
  },
  {
   "cell_type": "code",
   "execution_count": null,
   "metadata": {},
   "outputs": [],
   "source": [
    "print(a4)"
   ]
  },
  {
   "cell_type": "markdown",
   "metadata": {},
   "source": [
    "[Başa Dön](#Diziler-ve-Matrisler)"
   ]
  },
  {
   "cell_type": "markdown",
   "metadata": {},
   "source": [
    "## Eş Aralıklı Dizi Oluşturma Fonksiyonları ##\n",
    "\n",
    "Eşit aralıklarla sıralanmış sayılarla $NumPy$ nümerik dizisi oluşturmanın bir yolu $arange(bas,son,adim)$ fonksiyonunu kullanmaktır. $arange$ fonksiyonu tıpkı $range$ fonksiyonu gibi çalışır. Farkı sonucun bir liste olması yerine bir $NumPy$ nümerik dizisi olması ve reel sayıları da içerebilmesidir. Argümanları dizinin başlangıç değeri ($bas$), diziden hariç tutulan son değer ($son$) ve adım değeridir ($adim$). "
   ]
  },
  {
   "cell_type": "code",
   "execution_count": null,
   "metadata": {},
   "outputs": [],
   "source": [
    "import numpy as np\n",
    "a = np.arange(1.,-1.,-0.5)\n",
    "print(\"a = \", a)"
   ]
  },
  {
   "cell_type": "markdown",
   "metadata": {},
   "source": [
    "Aynı işlem daha önce de gördüğünüz $linspace$ fonksiyonu kullanarak da yapılabilir. $linspace(bas,son,sayi)$ fonksiyonunun argümanları ise başlangıç değeri ($bas$), diziye dahil edilecek son değer ($son$) ve kaç tane dizi elemanı ($s$) istendiğidir."
   ]
  },
  {
   "cell_type": "code",
   "execution_count": null,
   "metadata": {},
   "outputs": [],
   "source": [
    "b = np.linspace(-1, 0.5, 4)\n",
    "print(\"b = \", b)"
   ]
  },
  {
   "cell_type": "markdown",
   "metadata": {},
   "source": [
    "NumPy modülünde arange fonksiyonu ve linspace fonksiyonuna özdeş ancak oldukça kompakt bir ifade daha bulunmaktadır: $r\\_[f:t:s]$"
   ]
  },
  {
   "cell_type": "code",
   "execution_count": null,
   "metadata": {},
   "outputs": [],
   "source": [
    "a = np.r_[-5:5:11j] # linspace(-5, 5, 11) yazimina ozdes\n",
    "print(\"a = np.r_[-5:5:11j] -->\", a)\n",
    "b = np.r_[-5:5:1.0] # arange(-5.,5.,1.) yazimina ozdes\n",
    "print(\"b = np.r_[-5:5:1.0] -->\", b)"
   ]
  },
  {
   "cell_type": "markdown",
   "metadata": {},
   "source": [
    "[Başa Dön](#Diziler-ve-Matrisler)"
   ]
  },
  {
   "cell_type": "markdown",
   "metadata": {},
   "source": [
    "## Nümerik Dizilerde İndeksleme ve Dilimleme İşlemleri 1 ##\n",
    "\n",
    "Python'da nümerik dizilerde indeksleme ve dilimleme çok önemli bir fark dışında listelerdekiyle aynı şekilde yapılır. Bu çok önemli fark dilimlerin orjinal dizinin bir kopyası olmayıp gerçekten bir bölümü olmasıdır. Dolayısı ile <u>dilim üzerinde bir değişiklik yapıldığı vakit orjinal dizide de bu dilimin karşılık geldiği elemanlar değişir!</u>"
   ]
  },
  {
   "cell_type": "code",
   "execution_count": null,
   "metadata": {},
   "outputs": [],
   "source": [
    "import numpy as np  # numpy modulunun np lakabiyla import edilmesi\n",
    "a = np.linspace(1,10,10)\n",
    "print(\"a: \", a)\n",
    "# linspace reel sayilardan (float) mutesekkil bir dizi yaratir\n",
    "print(\"a[0]: {:.2f}, a[-1]: {:.2f}, a[5]: {:.2f}\".format(a[0],a[-1],a[5]))\n",
    "print(\"a[:5]: \", a[:5])\n",
    "print(\"a[0:5:1] \", a[:5]) # yukaridaki ifadeye ozdes\n",
    "print(\"a[:5:]: \", a[:5]) # iki onceki ve yukaridaki ifadeye ozdes\n",
    "print(\"a[7:]: \", a[7:])\n",
    "print(\"a[3:7]: \", a[3:7])\n",
    "print(\"a[4:-1:2]: \", a[0:-1:2])\n",
    "print(\"a[::4]: \", a[::4])\n",
    "print(\"a[1:-1]: \", a[1:-1])\n",
    "b = a[1:-1]\n",
    "print(\"b: \", b)\n",
    "b[2] = 0.1\n",
    "print(\"Yeni b: \", b)\n",
    "print(\"a: \", a)"
   ]
  },
  {
   "cell_type": "markdown",
   "metadata": {},
   "source": [
    "[Başa Dön](#Diziler-ve-Matrisler)"
   ]
  },
  {
   "cell_type": "markdown",
   "metadata": {},
   "source": [
    "## Fonksiyonlardan Veri Toplamak ##\n",
    "\n",
    "Bölümün başındaki örnekte tanımladığmız f(x) fonksiyonunu çok sayıda x'e aynı anda uygulamak için bu kez $NumPy$ dizilerinden yardım alalım."
   ]
  },
  {
   "cell_type": "code",
   "execution_count": null,
   "metadata": {},
   "outputs": [],
   "source": [
    "def f(x):\n",
    "    return x**3 # ornek fonksiyon\n",
    "n = 5 # nokta sayisi\n",
    "x = np.linspace(0, 1, n)\n",
    "y = np.zeros(n)\n",
    "for i in range(n):\n",
    "    y[i] = f(x[i])\n",
    "print(\"f(x) = y: \", y)\n",
    "# y dizisini olusturmak icin bir baska alternatif\n",
    "y2 = np.array([f(xi) for xi in x])\n",
    "print(\"f(x) = y2: \", y2)"
   ]
  },
  {
   "cell_type": "markdown",
   "metadata": {},
   "source": [
    "Listeler için döngü kullanmaksızın kısa oluşturma şekillerinin mümkün olduğunu (list comprehensions) daha önce görmüştük. Bu yapılar nümerik diziler için kullanılamazlar. Ancak her zaman bu yapıları kullanarak bir liste oluşturup onu nümerik diziye dönüştürmeniz mümkündür. Yukarıdaki örnekte y2 dizisi kullanılan döngüye alternatif olarak bu yapıyla oluşturulup sonradan diziye dönüştürülmüştür. Ancak dizilerin asıl gücü fonksiyonun kolayca tüm diziye uygulanabilmesinden (<i>vektörleştirme</i>) gelir!"
   ]
  },
  {
   "cell_type": "code",
   "execution_count": null,
   "metadata": {},
   "outputs": [],
   "source": [
    "# y dizisini olusturmak icin optimum alternatif: vektorlestirme\n",
    "y3 = f(x)\n",
    "print(\"f(x) = y3: \", y3)"
   ]
  },
  {
   "cell_type": "code",
   "execution_count": null,
   "metadata": {},
   "outputs": [],
   "source": [
    "x**3"
   ]
  },
  {
   "cell_type": "code",
   "execution_count": null,
   "metadata": {},
   "outputs": [],
   "source": [
    "import numpy as np\n",
    "gezegenler = ('Merkur','Venus','Dunya','Mars','Jupiter','Saturn','Uranus','Neptun')\n",
    "kutleler = [3.3011e23, 4.8675e24, 5.9724e24, 6.4171e24, 1.898187e27, 5.68317e26, 8.6813e25, 1.02413e26] # kg\n",
    "gezegen_kutleleri = np.array(kutleler)\n",
    "print(gezegen_kutleleri / kutleler[gezegenler.index('Jupiter')])"
   ]
  },
  {
   "cell_type": "markdown",
   "metadata": {},
   "source": [
    "[Başa Dön](#Diziler-ve-Matrisler)"
   ]
  },
  {
   "cell_type": "markdown",
   "metadata": {},
   "source": [
    "## Diziler Üzerinde Fonksiyonların Kullanımı: Vektörleştirme ##\n",
    "\n",
    "Örneğin tanımlı $f(x)$ fonksiyonu $sin(x) cos(x) (e^{-x^2}) + 2 + x^2$ olsun ve bu fonksiyonu $x_0, x_1, x_2, … , x_{n-1}$ şeklinde verilen $n$ tane $x$ değerine uygulamak istiyor olalım. x'in n tane eleman içeren bir nümerik dizi olarak tanımlanması durumunda aşağıdaki tek satırı yazmamız bu işlem için yeterlidir."
   ]
  },
  {
   "cell_type": "code",
   "execution_count": null,
   "metadata": {
    "scrolled": true
   },
   "outputs": [],
   "source": [
    "from math import pi\n",
    "from numpy import linspace, sin, cos, exp\n",
    "n = 32\n",
    "x = linspace(0, pi, n)\n",
    "r = sin(x)*cos(x)*exp(-1*x)**2 + 2 + x**2 \n",
    "print(r)"
   ]
  },
  {
   "cell_type": "markdown",
   "metadata": {},
   "source": [
    "Ancak vektörel olarak tanımlanmamış, skalerlere uygulanabilen fonksiyonları (örneğimizde $math$ fonksiyonlarını) bu şekilde vektörlere uygulayamazsınız!"
   ]
  },
  {
   "cell_type": "code",
   "execution_count": null,
   "metadata": {},
   "outputs": [],
   "source": [
    "from math import pi, sin, cos, exp\n",
    "from numpy import linspace \n",
    "n = 32\n",
    "# degisken skalerse math fonksiyonu bildiginiz sekilde calisir\n",
    "x2 = pi / 2\n",
    "print(sin(x2))\n",
    "x = linspace(0, pi, n)\n",
    "# vektorelse bu kez hata verir\n",
    "r = sin(x)*cos(x)*exp(-1*x)**2 + 2 + x**2 \n",
    "print(r)"
   ]
  },
  {
   "cell_type": "markdown",
   "metadata": {},
   "source": [
    "Aşağıdaki iki örnekte aynı fonksiyon x nümerik dizisi üzerine skaler (1) ve vektörel (2) olarak uygulanıyor. Hangisini kodlamanın daha kolay olduğu açıktır ve de vektörel örnek daha hızlı çalışır!"
   ]
  },
  {
   "cell_type": "code",
   "execution_count": null,
   "metadata": {},
   "outputs": [],
   "source": [
    "from math import exp\n",
    "N = 5; x = np.zeros(N); y = np.zeros(N)\n",
    "dx = 2.0 / (N-1) # aralik uzunlugu\n",
    "for i in range(N):\n",
    "    x[i] = dx*i\n",
    "    y[i] = exp(-x[i])*x[i]\n",
    "print(\"x: \", x)\n",
    "print(\"y: \", y)"
   ]
  },
  {
   "cell_type": "code",
   "execution_count": null,
   "metadata": {},
   "outputs": [],
   "source": [
    "import numpy as np\n",
    "N = 5\n",
    "x = np.linspace(0,2,N)\n",
    "y = np.exp(-x)*x\n",
    "print(\"x: \", x)\n",
    "print(\"y: \", y)"
   ]
  },
  {
   "cell_type": "markdown",
   "metadata": {},
   "source": [
    "Bir $f$ fonksiyonu, eğer $x$ nümerik dizisinin tüm elemanları için $f(x)$ şeklinde çalıştırılabiliyor ve sonucu $y = f(x)$ nümerik dizisi oluyorsa bu fonksiyona <b>vektörleştirilmiş fonksiyon</b> denir."
   ]
  },
  {
   "cell_type": "code",
   "execution_count": null,
   "metadata": {},
   "outputs": [],
   "source": [
    "import numpy as np\n",
    "def f(x):\n",
    "    return x**4*np.exp(-x)\n",
    "x = np.linspace(-3,3,25)\n",
    "y = f(x)\n",
    "print(\"x: \", x)\n",
    "print(\"y: \", y)\n",
    "x2 = 5\n",
    "print(\"f(x2) = \",f(x2))"
   ]
  },
  {
   "cell_type": "markdown",
   "metadata": {},
   "source": [
    "# Dizilerle İşlemler #\n",
    "\n",
    "## Dizi Kopyalama ##\n",
    "\n",
    "$x$ bir nümerik dizi olsun. $x = a$ ifadesinin $a$ isminin atıfta bulunduğu diziye $x$ isminin de atıfta bulunması anlamına geldiğini bu nedenle $x$ dizisinde yapılacak bir değişikliğin $a$ dizisini de etkileyeceğini görmüştük. $x$ dizisini, üzerinde ypaılacak bir değişikliğin $a$ dizisini etkilemeden, aynı içeriğe sahip bir dizi olarak yaratabilmenin yolu $a$ dizisinin bir kopyasını oluşturup, ismini $x$ olarak belirlemektir."
   ]
  },
  {
   "cell_type": "code",
   "execution_count": null,
   "metadata": {},
   "outputs": [],
   "source": [
    "import numpy as np\n",
    "a = np.array([1, 2, 3.5])\n",
    "x = a\n",
    "print(\"Degisiklik oncesi a dizisi: \", a)\n",
    "print(\"Degisiklik oncesi x dizisi: \", x)\n",
    "print(\"---------------------------------------\")\n",
    "x[-1] = 3\n",
    "print(\"x'teki degisiklik sonrasi a dizisi: \", a)\n",
    "print(\"x'teki degisiklik sonrasi x dizisi: \", x)\n",
    "print(\"---------------------------------------\")\n",
    "# Bunun yerine a'nin icerigini x'e kopyalayarak\n",
    "# d dizisi olusturmak mumkundur\n",
    "x = a.copy()\n",
    "print(\"Icerik kopyalama sonrasi a dizisi: \", a)\n",
    "print(\"Icerik kopyalama sonrasi x dizisi: \", x)\n",
    "print(\"---------------------------------------\")\n",
    "x[-1] = 9\n",
    "print(\"x'teki degisiklik sonrasi a dizisi: \", a)\n",
    "print(\"x'teki degisiklik sonrasi x dizisi: \", x)"
   ]
  },
  {
   "cell_type": "code",
   "execution_count": null,
   "metadata": {
    "scrolled": true
   },
   "outputs": [],
   "source": [
    "x = a[:]\n",
    "print(\"Dilimleme islemi sonrasi a dizisi: \", a)\n",
    "print(\"Dilimleme islemi sonrasi x dizisi: \", x)\n",
    "print(\"---------------------------------------\")\n",
    "x[-1] = 12\n",
    "print(\"x'teki degisiklik sonrasi a dizisi: \", a)\n",
    "print(\"x'teki degisiklik sonrasi x dizisi: \", x)"
   ]
  },
  {
   "cell_type": "markdown",
   "metadata": {},
   "source": [
    "Listelerde durum aynı değildir; zira listeler değiştirilebilir (\"mutable\") nesnelerdir. Dilimleme işlemi içerik kopyalamayla benzer şekilde çalışır. Oysa ki diziler değiştirilemez (\"immutable\") nesnelerdir."
   ]
  },
  {
   "cell_type": "code",
   "execution_count": null,
   "metadata": {},
   "outputs": [],
   "source": [
    "b = [1, 2, 3.5]\n",
    "c = b[:]\n",
    "c[-1] = 3\n",
    "print(\"b: \",b)\n",
    "print(\"c: \",c)"
   ]
  },
  {
   "cell_type": "markdown",
   "metadata": {},
   "source": [
    "[Başa Dön](#Diziler-ve-Matrisler)"
   ]
  },
  {
   "cell_type": "markdown",
   "metadata": {},
   "source": [
    "## Dizilerle Hızlı İşlemler ##\n",
    "\n",
    "Konu nümerik diziler olunca, $a$ ve $b$'nin her ikisinin de eşit uzunluklu birer nümerik dizi olması durumunda $a += b$ ifadesiyle $a = a + b$ ifadesi arasında ciddi bir fark oluşmaktadır. Zira $a += b$ ifadesi, $a$ dizisinin her bir elemanını $b$ dizisinde karşılık geldiği eleman kadar arttırırken, $a = a + b$ ifadesi, $a$ dizisiyle $b$ dizisini toplayıp ara bir nümerik dizi oluşturmakta ve bu dizinin adını $a$ olarak değiştirmektedir. Söz konusu olan kısa iki dizi olduğu zaman problem çok büyük sayılmaz. Ancak bilim ve mühendislik uygulamaları çoğu zaman çok sayıda ve oldukça fazla eleman içeren matrisler üzerinde işlem yapmaya dayandığından önemi bir hafıza ve hız problemiyle karşılaşma olasılığı ortaya çıkar."
   ]
  },
  {
   "cell_type": "code",
   "execution_count": null,
   "metadata": {},
   "outputs": [],
   "source": [
    "import numpy as np\n",
    "x = np.linspace(0.0, 5.0, 10)\n",
    "a = (3*x**4 + 2*x + 4)/(x + 1)\n",
    "print(\"a = \", a)"
   ]
  },
  {
   "cell_type": "markdown",
   "metadata": {},
   "source": [
    "Yukarıdaki ifadede sırasıyla;   1) $r_1 = x^4$, 2) $r_2 = 3 r_1$, 3) $r_3 = 2 x$, 4) $r_4 = r_2 + r_3$, 5) $r_5 = r_4 + 4$, 6) $r_6 = x + 1$, 7) $r_7 = \\frac{r_5}{r_6}$ ve sonuç olarak $a = r_7$ şeklinde 7 tane ara dizi oluşmaktadır. Oysa aşağıdaki ifadeler toplamda \"çirkin\" görünse de, $x$'i kopyalama, 4. kuvvetini alma, 2 ile çarpma ve 1 ekleme sırasında oluşan, sadece dört yeni nümerik dizi  üzerinden yukarıdaki işlemi daha efektif bir şekilde gerçekleştirir. Çok daha fazla sayıda (örneğin Gaia kataloğundaki yıldızların sağ ve dik açıklıkları gibi) eleman barındıran dizilerle yapılan işlemlerde (Gaia kataloğundakki yıldızların bir t anında herhangi bir gözlemevi için gökyüzündeki konumları gibi) bu tür bir yazım büyük fark yaratabilmektedir."
   ]
  },
  {
   "cell_type": "code",
   "execution_count": null,
   "metadata": {},
   "outputs": [],
   "source": [
    "a = x.copy()\n",
    "a **= 4\n",
    "a *= 3\n",
    "a += 2*x\n",
    "a += 4\n",
    "a /= x + 1\n",
    "print(\"a = \", a)"
   ]
  },
  {
   "cell_type": "markdown",
   "metadata": {},
   "source": [
    "<b>Dizi Oluşturma Üzerine 2 Faydalı İpucu: 1) </b> NumPy'da nümerik dizi oluştururken $zeros$ ve $ones$ fonksiyonlarının yanı sıra $copy$ fonksiyonu da sıkça kullanılır. $zeros$ fonksiyonunu $a = zeros(x.shape, x.dtype)$ şeklinde kullanmak $a$'nın $x$ ile aynı yapıda ve aynı tür elemanlar içeren ama sadece $0$'lardan oluşan bir dizi oluşturulmasını sağlar. <b>2)</b> $a = asarray(a)$  yapısı ise $a$ bir dizi ise hiçbir değişiklik yapmazken, $a$'nın bir liste ya da demet değişken gibi bir dizi elemandan oluşan bir nesne türü (ing. iterable) olması durumunda onu bir nümerik diziye çevirir.\n",
    "\n",
    "[Başa Dön](#Diziler-ve-Matrisler)"
   ]
  },
  {
   "cell_type": "markdown",
   "metadata": {},
   "source": [
    "## Nümerik Dizilerde İndeksleme ve Dilimleme İşlemleri 2 ##\n",
    "\n",
    "Nümerik dizilerde indeksleme ve dilimleme işlemlerinde getirdiği pratik kullanım faydaları açısından $a[range(f:t:i)]$ yapsını incelemek gerekir. Bu yapı $a[f:t:i]$ yapısyla aynıdır ve $a$ dizisinin $f$ indeksinden başlayıp $t$ indeksine kadar ($t$ hariç), $i$ büyüklüğündeki adımlarla elemanlarının alınması ve istenirse değiştirilmesine yarar."
   ]
  },
  {
   "cell_type": "code",
   "execution_count": null,
   "metadata": {},
   "outputs": [],
   "source": [
    "import numpy as np\n",
    "a = np.linspace(1,8,8)\n",
    "print(\"a = \", a)\n",
    "a[[1,6,7]] = 10 # 1., 6. ve 7. indekslerin değerini 10 yap\n",
    "print(\"a[[1,6,7]] = 10 -->\", a)\n",
    "# range 2 ile 8 indeksler arasinda (8 haric) 3er atlayarak indeks degerlerini uretir\n",
    "a[range(2,8,3)] = -2 \n",
    "print(\"a[range(2,8,3)] = -2 -->\", a)"
   ]
  },
  {
   "cell_type": "markdown",
   "metadata": {},
   "source": [
    "Daha da pratik ve oldukça kullanışlı bir indeksleme türü de boolean ifadelere dayanır. Aşağıda verilen örneklerde göreceğiniz gibi boolean ifadeler de indeksleme için kullanılabilir."
   ]
  },
  {
   "cell_type": "code",
   "execution_count": null,
   "metadata": {},
   "outputs": [],
   "source": [
    "import numpy as np\n",
    "a = np.linspace(-4,5,10)\n",
    "print(\"a :\", a)\n",
    "a_negatif = a[a < 0].copy()\n",
    "print(\"a_negatif: \", a_negatif)\n",
    "# negatif elemanlari a dizisinin maksimumu degeri yap\n",
    "a[a < 0] = a.mean()\n",
    "print(\"a[a < 0] = a.mean() -->\", a)\n",
    "# 1., 6. ve 7. indekslerin değerini 10 yap\n",
    "a[[1,6,7]] = 10 \n",
    "print(\"a[[1,6,7]] = 10 -->\", a)\n",
    "# a'daki 10lari verilen baska bir diziden sirayla secilen elemanlarla degistir\n",
    "a[a == 10] = [10, 20, 30] \n",
    "print(\"a[a == 10] = [10, 20, 30] -->\", a)"
   ]
  },
  {
   "cell_type": "markdown",
   "metadata": {},
   "source": [
    "Aşağıdaki örnekte olduğu gibi bir fonksiyonu bir dizinin belirli bir bölümüne uygulamak, indeksler, boolean ifadeler, dilimlemeler ve temel $NumPy$ fonksiyonları kullanarak mümkündür. Aşağıdaki örnekte $f(x) = x e^x$ fonksiyonu verilen $a$ dizisinin değeri $2$ ile $2.5$ arasındaki elemanlarına uygulanmaktadır. Bu aralığa $2$ ve $2.5$ sayılarını da dahil etmek için çok küçük ($10^{-10}$) bir tolerans değeri seçilmiş ve karşılaştırma bu tolerans değeri üzerinden yapılmıştır. Daha önceki bölümlerde görüldüğü gibi kayan noktalı (ing. float) sayılarla karşılaştırmada eşitlik ($==$, $<=$ ya da $>=$) yerine küçük tolerans değerleri kullanılarak yapılan büyüklük ve küçüklük karşılaştırmaları, yuvarlama kaynaklı hatalardan kaçınılmasını sağlar.  İki koşulu aynı anda uygulamak üzere bu koşulları ayrı ayrı uygulayıp sonuçlarının kesişimini $np.intersect1d$ fonksiyonu ile alabilirsiniz."
   ]
  },
  {
   "cell_type": "code",
   "execution_count": null,
   "metadata": {},
   "outputs": [],
   "source": [
    "import numpy as np\n",
    "def f(x):\n",
    "    return x*np.exp(x)\n",
    "\n",
    "a = np.linspace(1,3,15)\n",
    "\n",
    "tolerans = 1e-10\n",
    "# concetanate((a1,a2,a3,...)) aynı boyuta (büyüklüğe değil) sahip birden fazla\n",
    "# NumPy dizisini ucuca ekleyerek birleştirir.\n",
    "print(f(np.concatenate((a[a > 2-tolerans], a[a < 2.5+tolerans]))))\n",
    "# Ayrica iki kosulu ayni anda uygulamak uzere bu kosullari ayri ayri uygulayip \n",
    "# sonuclarinin kesisimini np.intersect1d fonksiyonu ile de alabilirsiniz.\n",
    "print(\"a > 2 ve a < 2.5 :\", np.intersect1d(a[a > 2-tolerans], a[a < 2.5+tolerans]))\n",
    "print(f(np.intersect1d(a[a > 2-tolerans], a[a < 2.5+tolerans])))\n",
    "# Bitwise mantiksal operatörler de ayni amacla kullanilabilir\n",
    "print(\"a > 2 ve a < 2.5 :\", a[(a > 2-tolerans) & (a < 2.5+tolerans)])"
   ]
  },
  {
   "cell_type": "markdown",
   "metadata": {},
   "source": [
    "[Başa Dön](#Diziler-ve-Matrisler)"
   ]
  },
  {
   "cell_type": "markdown",
   "metadata": {},
   "source": [
    "## Dizilerde Tür Kontrolü: Isinstance ##\n",
    "\n",
    "NumPy nümerik dizilerinin türü $ndarray$ 'dir."
   ]
  },
  {
   "cell_type": "code",
   "execution_count": null,
   "metadata": {},
   "outputs": [],
   "source": [
    "a = np.linspace(-1, 1, 3)\n",
    "a"
   ]
  },
  {
   "cell_type": "code",
   "execution_count": null,
   "metadata": {},
   "outputs": [],
   "source": [
    "type(a)"
   ]
  },
  {
   "cell_type": "markdown",
   "metadata": {},
   "source": [
    "Bazen kodunuzun içinde bir değişkenin türünü kontrol etmek ve değişkenin türüne göre değişen işlemler yapmanız gerekebilir. Bir değişkenin türünü kontrol etmek için $isinstance$ fonksiyonu kullanılır."
   ]
  },
  {
   "cell_type": "code",
   "execution_count": null,
   "metadata": {},
   "outputs": [],
   "source": [
    "a = np.linspace(-1, 1, 3)\n",
    "print(\"a : \", a)\n",
    "print(\"type(a) : \", type(a))\n",
    "print(\"isinstance(a, np.ndarray) -->\", isinstance(a, np.ndarray))\n",
    "print(\"type(a) == np.ndarray --> \", type(a) == np.ndarray)\n",
    "# a float ya da int turu mu?\n",
    "print(a)\n",
    "print(\"isinstance(a[0], (float, int)) -->\",  isinstance(a[0], (int,float)))"
   ]
  },
  {
   "cell_type": "markdown",
   "metadata": {},
   "source": [
    "Aşağıda, gelen değişkenin türüne göre farklı bir işlem yapan (istenen türde 2 döndüren), istenen türlerden birinde değişken gelmiyorsa tür hatası ($TypeError$) veren bir örnek fonksiyon görüyorsunuz."
   ]
  },
  {
   "cell_type": "code",
   "execution_count": null,
   "metadata": {},
   "outputs": [],
   "source": [
    "import numpy as np  \n",
    "def f(x):\n",
    "    if isinstance(x, (float, int)):\n",
    "        return 2\n",
    "    elif isinstance(x, np.ndarray):\n",
    "        return np.zeros(x.shape, x.dtype) + 2\n",
    "    else:\n",
    "        raise TypeError\\\n",
    "        (\"x <int>, <float> ya da <np.ndarray>, turlerinden biri olmali {:s} degil!\".\\\n",
    "         format(str(type(x))))\n",
    "\n",
    "print(\"f(x = 5) -->\", f(x =5))\n",
    "print(\"f(x = np.arange(-2, 2, 0.5)) -->\", f(x = np.arange(-2,2,0.5)))\n",
    "print(\"f(x = '5') -->\", f(x = '5'))"
   ]
  },
  {
   "cell_type": "markdown",
   "metadata": {},
   "source": [
    "[Başa Dön](#Diziler-ve-Matrisler)"
   ]
  },
  {
   "cell_type": "markdown",
   "metadata": {},
   "source": [
    "##  Bazı Numpy Fonksiyonlarına Örnekler ##\n",
    "\n",
    "### Numpy Matemtaiksel Fonksiyonları ##\n",
    "\n",
    "Numpy dizi nesneleri (numpy.ndarray) üzerine uygulanabilen matematik fonksiyonlarının tam bir [listesinden](https://numpy.org/doc/stable/reference/routines.math.html) sık kullanılan bazıları için örnekler aşağıda verilmektedir. Tüm bu fonksiyonlar $numpy$ modülü import edildikten sonra fonksiyonun gerek duyduğu argümanlar sağlanarak kullanılabilir ve diziler üzerinde çalıştıkları için vektöreldir.\n",
    "\n",
    "#### Trigonometrik ve Hiperbolik Fonksiyonlar ####\n",
    "\n",
    "Trigonometrik fonksiyonların argümnanı olan açılar radyan biriminde sağlanmalıdır. Numpy derece birimindeki açıları radyana çevirmek için iki fonksiyon sağlar: $radians$ ve $deg2rad$."
   ]
  },
  {
   "cell_type": "code",
   "execution_count": null,
   "metadata": {
    "scrolled": true
   },
   "outputs": [],
   "source": [
    "import numpy as np\n",
    "acilar = np.linspace(0,90,7)\n",
    "acilar_rad = np.radians(acilar)\n",
    "print(\"acilar [derece] =\", acilar)\n",
    "print(\"acilar [radyan] =\", acilar_rad)\n",
    "print(\"sin(acilar) =\", np.sin(acilar_rad))\n",
    "print(\"acilar [radyan] = arcsin(sin(acilar)) = \", np.arcsin(np.sin(acilar_rad)))\n",
    "print(\"acilar [derece] = arcsin(sin(acilar)) = \", np.rad2deg(np.arcsin(np.sin(acilar_rad))))"
   ]
  },
  {
   "cell_type": "markdown",
   "metadata": {},
   "source": [
    "İki dik kenarı ayrı dizilerde verilen üçgenler için hipotenüslerini hesaplayan bir fonksiyon ($hypot$) da bulunmaktadır. Aşağıda dik kenarları ve hipotenüsü tam sayılar olan dik üçgenler için bir örnek verimiştir. Bu tür sayılara [Pisagor üçlüleri](https://en.wikipedia.org/wiki/Pythagorean_triple) adı verilir."
   ]
  },
  {
   "cell_type": "code",
   "execution_count": null,
   "metadata": {
    "scrolled": true
   },
   "outputs": [],
   "source": [
    "a = np.array([3, 5, 7, 8, 20])\n",
    "b = np.array([4, 12, 24, 15, 21])\n",
    "print(\"c = sqrt(a^2 + b^2) = \", np.sqrt((a**2 + b**2)))\n",
    "print(\"c = np.hypot(a,b) = \", np.hypot(a,b))"
   ]
  },
  {
   "cell_type": "markdown",
   "metadata": {},
   "source": [
    "[Hiperbolik fonksiyonlar](https://tr.wikipedia.org/wiki/Hiperbolik_fonksiyon) \n",
    "\n",
    "Hiperbolik fonksiyonların tanımları kullanarak denetleme yapılabilir. Bu fonksiyonlar kullanılırken dikkat edilmesi gereken bir başka husus da, fonksiyonların tanım aralıklarıdır.\n",
    "\n",
    "$$ sinh(x) = \\frac{e^x - e^{-x}}{2} $$"
   ]
  },
  {
   "cell_type": "code",
   "execution_count": null,
   "metadata": {},
   "outputs": [],
   "source": [
    "x = np.arange(0, np.pi + np.pi/12, np.pi/6)\n",
    "print(\"sinh(x) = \", np.sinh(x))\n",
    "print(\"(e^x - e^-x) / 2 = \", (np.exp(x) - np.exp(-x)) / 2)"
   ]
  },
  {
   "cell_type": "code",
   "execution_count": null,
   "metadata": {},
   "outputs": [],
   "source": [
    "print(\"arctanh(x) = \", np.arctanh(x))"
   ]
  },
  {
   "cell_type": "markdown",
   "metadata": {},
   "source": [
    "### Yuvarlama Fonksiyonları ###\n",
    "\n",
    "Çeşitli yuvarlama stratejilerine göre argüman olarak fonksiyona sağlanan bir sayısal diziyi, yine argüman olarak verilen sayıda basamağa yuvarlayan fonksiynlardır."
   ]
  },
  {
   "cell_type": "code",
   "execution_count": null,
   "metadata": {},
   "outputs": [],
   "source": [
    "x = np.arange(-np.pi - np.pi/12., np.pi + np.pi/12, np.pi/6)\n",
    "print(\"round(x) :\", np.round(x,2))\n",
    "print(\"rint(x) :\", np.rint(x)) ## en yakin tamsayiya yuvarlama\n",
    "print(\"fix(x) :\", np.fix(x)) ## tamdeger fonksiyonu: sayidan kucuk en yakin tamsayiya yuvarlama\n",
    "print(\"floor(x): \", np.floor(x)) ## asagi yuvarlama\n",
    "print(\"ceil(x): \", np.ceil(x)) ## yukari yuvarlama\n",
    "print(\"trunc(x): \", np.trunc(x)) ## kesip atma"
   ]
  },
  {
   "cell_type": "markdown",
   "metadata": {},
   "source": [
    "### Diğer Fonksiyonlar ##"
   ]
  },
  {
   "cell_type": "code",
   "execution_count": null,
   "metadata": {},
   "outputs": [],
   "source": [
    "x = np.linspace(0,1,11)\n",
    "print(\"x = \", x)\n",
    "print(\"toplam(x) = \", np.sum(x))\n",
    "print(\"carpim(x) = \", np.product(x))\n",
    "print(\"birikimli toplam(x) = \", np.cumsum(x)) # birikimli toplama\n",
    "print(\"birikimli carpim (x) = \", np.cumprod(x[1:])) # birikimli carpma\n",
    "print(\"farklar(x) = \", np.diff(x)) # farklar\n",
    "print(\"e^x = \", np.exp(x))\n",
    "print(\"ln(x) = \", np.log(x[1:]))\n",
    "print(\"log10(x) = \", np.log(x[1:]) / np.log(10) )\n",
    "print(\"log10(x) = \", np.log10(x[1:]))\n",
    "x1 = np.power(3,range(5)) # 3'un 5'e kadarki kuvvetleri\n",
    "print(\"x1 = \", x1) \n",
    "print(\"log_3(x1) = \", np.log(x1) / np.log(3))\n",
    "x2 = np.power(range(5), 3) # 5'e kadar sayilarin 3. kuvvetleri \n",
    "print(\"x2 = \", x2)"
   ]
  },
  {
   "cell_type": "code",
   "execution_count": null,
   "metadata": {
    "scrolled": true
   },
   "outputs": [],
   "source": [
    "u1 = np.array([1,2])\n",
    "u2 = np.array([3,4])\n",
    "print(\"u1 + u2\", np.add(u1,u2))\n",
    "print(\"u1 - u2\", np.subtract(u1,u2))\n",
    "print(\"u1 . u2 = \", np.dot(u1,u2)) # skaler carpim\n",
    "print(\"u1 x u2 = \", np.cross(u1,u2)) # capraz carpim\n",
    "print(\"u1 / u2\", np.true_divide(u1,u2))\n",
    "print(\"u1 / u2\", np.floor_divide(u1,u2))\n",
    "v1 = np.array([11,12,17])\n",
    "v2 = np.array([5,4,3])\n",
    "print(\"mod(v1,v2)) = \", np.mod(v1, v2))\n",
    "print(\"divmod(v1,v2) = \", np.divmod(v1,v2)) # bolumler , kalanlarb"
   ]
  },
  {
   "cell_type": "code",
   "execution_count": null,
   "metadata": {},
   "outputs": [],
   "source": [
    "x = np.linspace(-5,4,10)\n",
    "y = np.arange(5,-5,-1)\n",
    "z = np.array([2,3,5,-1,-6,7,9,1,6,10])\n",
    "z = z.astype(float)\n",
    "print(\"x =\", x)\n",
    "print(\"y =\", y)\n",
    "print(\"|x| =\", np.fabs(x))\n",
    "print(\"maksimum (x,y ) = \", np.maximum(x,y)) # karsilikli elemanlardan buyuk olanlar\n",
    "print(\"minimum (x,y ) = \", np.minimum(x,y)) # karsilikli elemanlardan kucuk olanlar\n",
    "print(\"maksimum (x,y,z) = \", np.maximum(np.maximum(x,y),z)) # karsilikli elemanlardan buyuk olanlar"
   ]
  },
  {
   "cell_type": "markdown",
   "metadata": {},
   "source": [
    "[Başa Dön](#Diziler-ve-Matrisler)"
   ]
  },
  {
   "cell_type": "markdown",
   "metadata": {},
   "source": [
    "## Dizi Metotları ##\n",
    "\n",
    "Numpy fonksiyonlarının yanı sıra bir de numpy dizileri üzerine uygulanabilen [metotlar](https://numpy.org/doc/stable/reference/generated/numpy.ndarray.html) (attribute) bulunmaktadır. Bunlardan bazıları aşağıda örneklenmiştir."
   ]
  },
  {
   "cell_type": "code",
   "execution_count": null,
   "metadata": {},
   "outputs": [],
   "source": [
    "import numpy as np\n",
    "x = np.linspace(-5,4,10)\n",
    "print(\"size(x) = \", x.size)\n",
    "print(\"itemsize(x) = \", x.itemsize) # byte cinsinden her bir elemanin uzunlugu\n",
    "y = np.reshape(x,(2,5))\n",
    "print(\"y = \", y)\n",
    "print(\"y'nin boyutlari = \", y.shape)\n",
    "z = np.array([1,3,-1,5,7,11,-2,6,4])\n",
    "print(\"maks(z) = \", z.max())\n",
    "print(\"min(z) = \", z.min())\n",
    "print(\"indeks maks(z) = \", z.argmax())\n",
    "xint = x.astype(int)\n",
    "print(\"xint = \", xint)\n",
    "print(\"ort(z) = \", z.mean()) # ortalama\n",
    "print(\"std(z) = \", z.std()) # standart sapma\n",
    "print(\"toplam(z) = \", z.sum()) # toplam\n",
    "# siralama (sort) islemi verildigi yerde uygulandigindan\n",
    "# oncelikle siralamayi yapmak gerekir\n",
    "z.sort()\n",
    "print(\"siralanmis z = \", z)\n",
    "# Bu davranisi istemiyorsaniz numpy.sort() fonksiyonunu kullaanabilirsiniz\n",
    "z = np.array([1,3,-1,5,7,11,-2,6,4])\n",
    "z_sirali = np.sort(z)\n",
    "print(\"siralanmis z = \", z_sirali)\n",
    "print(\"z = \", z)"
   ]
  },
  {
   "cell_type": "markdown",
   "metadata": {},
   "source": [
    "[Başa Dön](#Diziler-ve-Matrisler)"
   ]
  },
  {
   "cell_type": "markdown",
   "metadata": {},
   "source": [
    "# Python ve Matrisler #\n",
    "\n",
    "## NumPy ve Matrisler ##\n",
    "\n",
    "Python'da matrisler $NumPy$ dizileri ve $Matrix$ nesnesi kullanılarak oluşturulur ve manipüle edilir. Bir boyutlu $NumPy$ dizileri <i>vektör</i> olarak da adlandırılırken, birden fazla boyutu olan $NumPy$ dizileri ise <i>matris</i> olarak değerlendirilebilir. Bir $NumPy$ nümerik dizisinin boyutunu $shape$ metodunu kullanarak öğerenebilirsiniz. Bu dizi metodu bir $NumPy$ dizisinin her bir boyutunun uzunluğunu tutar, çıktısı her bir boyutun uzunluğunu veren bir demettir ($tuple$). Aynı metot dizinin boyutunu değiştirmek için de kullanılabilir."
   ]
  },
  {
   "cell_type": "code",
   "execution_count": null,
   "metadata": {
    "scrolled": true
   },
   "outputs": [],
   "source": [
    "# Matris uygulamalarini (ornegin toplamasini)\n",
    "# uygun fonskiyonlar yazildigi muddetce listelerle dahi\n",
    "# yapmak mumkundur.\n",
    "a = [1,2,3]\n",
    "b = [4,5,6]\n",
    "print(a+b)\n",
    "def listetopla(a,b):\n",
    "    topliste = []\n",
    "    for i in range(len(a)):\n",
    "        topliste.append(a[i]+b[i])\n",
    "    return topliste\n",
    "print(listetopla(a,b))"
   ]
  },
  {
   "cell_type": "code",
   "execution_count": null,
   "metadata": {},
   "outputs": [],
   "source": [
    "import numpy as np\n",
    "print(np.array(a) + np.array(b))"
   ]
  },
  {
   "cell_type": "code",
   "execution_count": null,
   "metadata": {},
   "outputs": [],
   "source": [
    "import numpy as np\n",
    "a = np.linspace(-1, 1, 6)\n",
    "print(\"a = \", a)\n",
    "print(\"a.shape = \", a.shape)\n",
    "print(\"a.size = \", a.size)\n",
    "a.shape = (2,3)\n",
    "print(\"a.shape = (2,3) -->\", a)\n",
    "# shape alternatifi olarak reshape kullanilabilir\n",
    "a = a.reshape(3,2)\n",
    "print(\"a = a.reshape(3,2) -->\", a)\n",
    "# array uzunlugu (len) ile sekli (shape) ayni seyler degildir\n",
    "print(\"len(a) = \", len(a))"
   ]
  },
  {
   "cell_type": "markdown",
   "metadata": {},
   "source": [
    "Bir $NumPy$ dizisi gördüğünüz gibi bir matris saklamak ve $NumPy$ fonksiyonlarının kullanımı ile matris işlemleri yapmak için iyi bir araçtır. Ancak Python dizileri kullanarak da matrisleri saklayabilirsiniz. Üzerinde (özellikle ileri matris işlemleri gibi) işlem yapmak oldukça zor olsa da bu mümkündür. "
   ]
  },
  {
   "cell_type": "code",
   "execution_count": null,
   "metadata": {},
   "outputs": [],
   "source": [
    "Cderece = [-30 + i*10 for i in range(5)]\n",
    "Fderece = [9./5*C + 32 for C in Cderece]\n",
    "tablo1 = [[C, F] for C, F in zip(Cderece, Fderece)]\n",
    "# 2 x 5 bir tablo (matris)\n",
    "print(tablo1)"
   ]
  },
  {
   "cell_type": "markdown",
   "metadata": {},
   "source": [
    "Bu listeyi bir $NumPy$ dizisine çevirmek oldukça kolaydır ve $array$ fonksiyonu ile yapılır."
   ]
  },
  {
   "cell_type": "code",
   "execution_count": null,
   "metadata": {},
   "outputs": [],
   "source": [
    "tablo2 = np.array(tablo1)\n",
    "print(tablo2)\n",
    "print(\"type(tablo2): \", type(tablo2))\n",
    "tablo2.shape"
   ]
  },
  {
   "cell_type": "markdown",
   "metadata": {},
   "source": [
    "Yukarıdaki iki örnekteki $tablo1$ ve $tablo2$ hafızada oldukça farklı şekillerde tutulur. Biri standart bir liste iken diğeri bir $NumPy$ dizisidir. Bir liste olan $tablo1$ 'in 3 elemanı vardır. Her bir eleman iki elemanı olan birer liste nesnesidir ve bu iki eleman da birer reel sayı (float) nesnesidir. Bir $NumPy$ dizisi olan $tablo2$ ise hafızada 6 adet reel sayıdan oluşan tek bir dizidir. Dolayısı ile $tablo1$ hafızada farklı tür nesnelerden oluşan dağınık bir nesneye, $tablo2$ ise tek bir dizi nesnesine karşılık gelir. Bu nedenle (ve işlem fonksiyonelliği gibi başka nedenlerle!) matris işlemleri için $NumPy$ dizilerini kullanmak listelerden daha avantajlı ve çok daha hızlıdır!\n",
    "\n",
    "[Başa Dön](#Diziler-ve-Matrisler)"
   ]
  },
  {
   "cell_type": "markdown",
   "metadata": {},
   "source": [
    "## Matris Uygulamaları için Listeler ve Diziler ##\n",
    "\n",
    "Liste ve dizi indekslemeleri daha önce gördüğünüz gibi benzer şekildedir. Temel $Python$ liste ve $NumPy$ dizi fonksiyonları ile aynı şekilde yapılan dilimleri kullanarak matris işlemlerini kolaylaştırmak da mümkündür."
   ]
  },
  {
   "cell_type": "code",
   "execution_count": null,
   "metadata": {},
   "outputs": [],
   "source": [
    "print(\"tablo1[1][0] = \", tablo1[1][0])\n",
    "print(\"tablo2[3][1] = \", tablo2[3][1])\n",
    "# Daha cok Tercih edilen bir dizi indekslemesi\n",
    "print(\"tablo2[1,0] = \", tablo2[1,0])\n",
    "print(\"tablo2.shape = \", tablo2.shape)"
   ]
  },
  {
   "cell_type": "markdown",
   "metadata": {},
   "source": [
    "İki boyutlu bir NumPy dizisinin elemanlarını tek tek yazdırmanın (ya da başka bir şekilde işlemenin) yolu içiçe iki for döngüsü kullanmaktır."
   ]
  },
  {
   "cell_type": "code",
   "execution_count": null,
   "metadata": {
    "scrolled": true
   },
   "outputs": [],
   "source": [
    "for i in range(tablo2.shape[0]):\n",
    "    for j in range(tablo2.shape[1]):\n",
    "        print(\"tablo2[{:d},{:d}] = {:g}\".format(i, j, tablo2[i,j]))"
   ]
  },
  {
   "cell_type": "markdown",
   "metadata": {},
   "source": [
    "Listelerin elemanlarına ulaşmak için dilimleme yöntemini kullandığımız gibi dizilerin alt dizilerine (satır ve sütun) ulaşmak için de dilimlemeyi aynı şekilde kullanabiliriz."
   ]
  },
  {
   "cell_type": "code",
   "execution_count": null,
   "metadata": {},
   "outputs": [],
   "source": [
    "print(\"2. sutun (indeks = 1) tum satirlar: \", tablo2[0:tablo2.shape[0], 1])\n",
    "print(\"2. sutun, tum satirlar, alternatif 1: \", tablo2[0:, 1])\n",
    "print(\"2. sutun, tum satirlar, alternatif 2: \", tablo2[:, 1])"
   ]
  },
  {
   "cell_type": "markdown",
   "metadata": {},
   "source": [
    "Daha komplike bir örneğe daha büyük bir NumPy dizisi üzerinde bakalım."
   ]
  },
  {
   "cell_type": "code",
   "execution_count": null,
   "metadata": {},
   "outputs": [],
   "source": [
    "import numpy as np\n",
    "t = np.linspace(1, 30, 30).reshape(5, 6)\n",
    "print(\"t:\\n\")\n",
    "print(t)\n",
    "print()\n",
    "print(\"2. satirdan (ind:1) sonuncuya (ind:-1) kadar (sonuncu haric) \\\n",
    "birer atlayarak ve 3. sutundan (ind:2) son sutuna kadar t:\\n\", \\\n",
    "      t[1:-1:2, 2:])\n",
    "print()\n",
    "print(\"Sondan ikinci satira kadar tum satirlar ve \\\n",
    "bastan son sutuna kadar birer atlayarak sutunlar:\\n\", t[:-2, :-1:2])"
   ]
  },
  {
   "cell_type": "markdown",
   "metadata": {},
   "source": [
    "[Başa Dön](#Diziler-ve-Matrisler)"
   ]
  },
  {
   "cell_type": "markdown",
   "metadata": {},
   "source": [
    "## Matrix Nesnesi ve NumPy İle Matris İşlemleri ##\n",
    "\n",
    "$NumPy$ 'da matris işlemlerini kolay ve hızlı yapabilmek üzere bir matris ($matrix$) nesnesi tanımlanmıştır. Bu nesne matris işlemlerini kolaylaştıran bazı özel metotlara da sahiptir."
   ]
  },
  {
   "cell_type": "code",
   "execution_count": null,
   "metadata": {},
   "outputs": [],
   "source": [
    "import numpy as np\n",
    "# x1 bir np dizisidir\n",
    "x1 = np.array([1,2,3], float)\n",
    "print(\"x1:\", x1)\n",
    "# x2 ise bir np matrisidir\n",
    "x2 = np. matrix(x1) # ya da np.mat(x1)\n",
    "print(\"x2: \", x2)\n",
    "# x3 x1 dizisinin transpoze matrisidir\n",
    "x3 = x2.transpose()\n",
    "print(\"x3:\", x3)\n",
    "print(\"type(x3): \", type(x3))\n",
    "print(\"isinstance(x3, np.matrix) --> \", isinstance(x3, np.matrix))\n",
    "print(\"----------------------------\")\n",
    "# 3x3 bir birim matris dizisi --> I3\n",
    "A = np.eye(3)\n",
    "print(\"type(A)\", type(A))\n",
    "print(\"A(dizi) = I[3x3] \\n\", A)\n",
    "A = np.matrix(A)\n",
    "print(\"type(A)\", type(A))\n",
    "print(\"A(matris) = I[3x3] \\n\", A)\n",
    "print(\"----------------------------\")\n",
    "# 1x3 ve 3x3 iki matrisin carpimi --> 1x3 matris\n",
    "print(\"x2 x A = \", x2*A)\n",
    "# 3x3 ve 3x1 iki matrisin carpimi --> 3x1 matris\n",
    "print(\"A x x3 = \", A*x3)"
   ]
  },
  {
   "cell_type": "markdown",
   "metadata": {},
   "source": [
    "<b>! Uyarı:</b> $NumPy$ dizileriyle matris çarpımı $NumPy$ matris ($matrix$) nesneleriyle matris çarpımından farklıdır!"
   ]
  },
  {
   "cell_type": "code",
   "execution_count": null,
   "metadata": {},
   "outputs": [],
   "source": [
    "import numpy as np\n",
    "x1 = np.array([1,2,3], float)\n",
    "A = np.matrix(np.eye(3))\n",
    "print(\"type(x1): \", type(x1))\n",
    "print(\"type(A): \", type(A))\n",
    "# Bir matrisle bir diziyi carpamazsınız\n",
    "#print(\"A*x1 =\", A*x1)\n",
    "# bir dizi ile digerini carpmayi deneyelim\n",
    "A = (np.ones(9)).reshape(3,3)\n",
    "print(\"A = \", A)\n",
    "# [A[0,:]*x1, A[1,:]*x1, A[2,:]*x1] Matris carpimi degil!\n",
    "print(\"A*x1 =\",  A*x1)\n",
    "B = A + 1\n",
    "# A'nin her bir elemani B'nin ayni indeksteki elamaniyla carpiliyor!\n",
    "print(\"A * B =\", A*B)\n",
    "A = np.mat(A); B = np.mat(B)\n",
    "# Gercek matris carpimi!\n",
    "print(\"A * B =\", A*B)"
   ]
  },
  {
   "cell_type": "markdown",
   "metadata": {},
   "source": [
    "[Başa Dön](#Diziler-ve-Matrisler)"
   ]
  },
  {
   "cell_type": "markdown",
   "metadata": {},
   "source": [
    "Aşağıda bir matris çarpması örneği verilmiştir. Her ne kadar aynı işlem listeler (içiçe olmak kaydıyla) ve numpy dizilerinden yararlanılarak (döngüler kullanmak suretiyle) yapılabilirse de matrisler $numpy.matrix$ nesnesi olarak tanımlandığında bu işlem çok daha pratik hale gelir.\n",
    "\n",
    "<center>\n",
    "<img src = \"matris_carpmasi_towards_data_science.png\">\n",
    "    </center>"
   ]
  },
  {
   "cell_type": "code",
   "execution_count": null,
   "metadata": {},
   "outputs": [],
   "source": [
    "import numpy as np\n",
    "a = np.array([list(range(1,4)),list(range(4,7))])\n",
    "A = np.matrix(a)\n",
    "b = np.array([list(range(10,12)),list(range(20,22)), list(range(30,32))])\n",
    "B = np.matrix(b)\n",
    "print(\"A = \", A)\n",
    "print(\"B = \", B)\n",
    "print(\"A x B = \", A*B)"
   ]
  },
  {
   "cell_type": "markdown",
   "metadata": {},
   "source": [
    "# Alıştırmalar #\n",
    "\n",
    "1. $NumPy$ $min$, $max$ ve $average$ fonksiyonlarını kullanarak aşağıda verilen a dizisinin en küçük, en büyük ve ortalama değerlerini bulunuz. $argmin$ ve $argmax$ fonksiyonlarını kullanarak da, en küçük ve en büyük değerlerin denk geldiği indeksleri bulunuz.\n",
    "\n",
    "$$ a = np.array([2.5, 3.2, 9.1, -12.2, 1.8, 23.4, -16.9, 1.3, 2.6]) $$\n",
    "\n",
    "2. Aynı dizi için bu kez $NumPy$ dizi nesneleri üzerinde tanımlı  $min$, $max$, $mean$ <u>metotlarını</u> (ing. attribute) kullanarak aynı işlemleri gerçekleştiriniz. Bir önceki soru ile aradaki farklara dikkat ediniz.(EME: Fonksiyon yerine metot kullanma farkı dışında bir fark var ise, bu son cümlede daha açıklayıcı olmak gerekebilir. Başka bir fark yok ise son cümle kaldırılabilir.)\n",
    "\n",
    "3. Fahrenheit (F) dereceyi Kelvin'e (K) çeviren bir fonksiyon yazınız. Yazdığınız fonksiyonun liste, demet, NumPy dizisi (array), kayan noktalı veya tamsayı değişkenlere uygulanabilir olmasını $isinstance$ fonksiyonunu kullanarak sağlayınız. Fonksiyonunuzu farklı türde nesnelerle test ediniz.\n",
    "\n",
    "4. 0 ile 5 arasında (0 ile 5 dahil), 6 <u>tam sayıdan</u> oluşan, $b$ adında bir $NumPy$ dizisi oluşturunuz. <b>a)</b> $b$ dizisindeki her bir sayının faktöriyelini, $numpy.math.factorial$ fonksiyonu ile bir döngü dahilinde bulup, $bfact$ isimli bir başka $NumPy$ dizisine aktarınız. <b>b)</b> $b$ dizisinin tüm elemanlarının birden faktöriyellerini $scipy.special.factorial$ fonksiyonu ile tek bir kerede hesaplayıp $bfact\\_yeni$ isimli yeni bir diziye aktarınız.\n",
    "\n",
    "5. İki boyutlu (satır ve sütundan oluşan) kendi yazacağınız herhangi bir $NumPy$ dizisindeki satır ve sütun sayılarını; $len$ fonksiyonu, dilimleme yöntemi ve $shape$ metodunu (ing. attribute) kullanarak elde edip, ekrana yazdırınız.\n",
    "\n",
    "6. Bir önceki soruda oluşturduğunuz $NumPy$ dizisinin tüm elemanlarını önce satır, sonra sütun üzerinden tarayarak sırayla ekrana yazdırınız. Her bir eleman, satır ve sütun indeksleri ile birlikte, sırası ile alt alta yazdırılmalıdır.\n",
    "\n",
    "7. Bir önceki soruda satır-sütun sırasıyla taradığınız iki boyutlu diziyi bu kez sütun-satır sırasında tarayınız. Yani çıktınızda önce 1. sütundaki sayılar alt alta ekrana yazılırken, sonra 2. sütuna geçilmelidir.\n",
    "\n",
    "8. $np.linspace$ fonksiyonunu kullanarak 1 ile 4 arasında, 9 kayan noktalı sayıdan oluşan bir $NumPy$ dizisi yarattıktan sonra, bu diziyi $np.reshape$ fonksiyonu ile $[3x3]$ bir diziye çeviriniz ve bu dizinin devriğini (transpozunu) alınız.\n",
    "\n",
    "9. Aşağıdaki denklem sisteminin, katsayılar matrisini ve çözümünü sırasıyla $A$ ve $R$ isimli birer $NumPy$ $matrix$ nesnesi olarak oluşturunuz. Daha sonra katsayılar matrisinin tersini ($A.I$) alarak, çözüm matrisi $R$ ile çarpınız ve bulacağınız çözüm matrisindeki $x, y, z$ bilinmeyenlerinin değerlerini ekrana yazdırınız.\n",
    "\n",
    "$$ 2 x - 3 y + z = 1 $$\n",
    "$$ 5 x - 4 y - z = 2 $$\n",
    "$$ x + 2 z = -1 $$\n",
    "\n",
    "10. Bir önceki soruda A matrisinin tersini alırken A.I yerine $np.linalg.inv$ fonksiyonunu kullanınız. Sonuçlarınızın doğruluğunu karşılaştırınız.\n",
    "\n",
    "11. Son iki soruda çözdüğünüz denklem sistemini $np.linalg.solve$ fonksiyonu ile çözünüz. Sonuçlarınızın doğruluğunu karşılaştırınız.\n",
    "\n",
    "12. Aşağıdaki fonksiyonu hesaplayan bir Python fonksiyonu yazınız. Yazdığınız fonksiyonu;\n",
    "<b>a)</b> -$2\\pi$ ile $2\\pi$ arasında ve bu sayılar dahil olmak üzere 16 eşit aralıklı sayı içeren bir $NumPy$ dizisine uygulayınız. <b>b)</b> Aynı fonksiyonu, bu dizinin  -$\\pi$ ile $\\pi$ arasındaki değerlerine koşul kullanarak uygulayınız. -$\\pi$ ile $\\pi$ değerlerini dahil etmek için yeterince küçük bir tolerans ($\\epsilon$) değerini, -$\\pi$-$\\epsilon$ ve $\\pi$+$\\epsilon$ şeklinde iki ayrı koşul ile kullanınız. Bu iki ayrı koşulun sonuçlarının kesişimini almak için, $np.intersect1d$ fonksiyonunu kullanabilirsiniz.\n",
    "\n",
    "$$ h(x) = \\frac{1}{\\sqrt{2 \\pi}} e^{\\frac{-1}{2}x^2} $$\n",
    "\n",
    "[Başa Dön](#Diziler-ve-Matrisler)"
   ]
  }
 ],
 "metadata": {
  "kernelspec": {
   "display_name": "Python 3",
   "language": "python",
   "name": "python3"
  },
  "language_info": {
   "codemirror_mode": {
    "name": "ipython",
    "version": 3
   },
   "file_extension": ".py",
   "mimetype": "text/x-python",
   "name": "python",
   "nbconvert_exporter": "python",
   "pygments_lexer": "ipython3",
   "version": "3.6.9"
  }
 },
 "nbformat": 4,
 "nbformat_minor": 2
}
