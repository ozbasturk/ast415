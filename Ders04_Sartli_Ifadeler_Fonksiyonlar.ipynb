{
 "cells": [
  {
   "cell_type": "markdown",
   "metadata": {},
   "source": [
    "# AST415 Astronomide Sayısal Çözümleme - I #\n",
    "## Ders - 04 Şartlı İfadeler ve Fonksiyonlar ##"
   ]
  },
  {
   "cell_type": "markdown",
   "metadata": {},
   "source": [
    "Doç. Dr. Özgür Baştürk <br>\n",
    "Ankara Üniversitesi, Astronomi ve Uzay Bilimleri Bölümü <br>\n",
    "obasturk at ankara.edu.tr <br>\n",
    "http://ozgur.astrotux.org"
   ]
  },
  {
   "cell_type": "markdown",
   "metadata": {},
   "source": [
    "# Bu derste neler öğreneceksiniz?#\n",
    "## Fonksiyonlar ve Şartlı İfadeler ##\n",
    "\n",
    "* [Fonksiyonlar](#Fonksiyonlar)\n",
    "    * [Tek Değişkenli Fonksiyonlar](#Tek-Değişkenli-Fonksiyonlar)\n",
    "    * [Fonksiyon Çağırmak](#Fonksiyon-Çağırmak)\n",
    "    * [Yerel ve Global Nesneler](#Yerel-ve-Global-Nesneler)\n",
    "    * [Fonksiyona Birden Fazla Nesne Göndermek](#Fonksiyona-Birden-Fazla-Nesne-Göndermek)\n",
    "    * [Fonksiyondan Birden Fazla Nesne Döndürmek](#Fonksiyondan-Birden-Fazla-Nesne-Döndürmek)\n",
    "    * [Örnekler 1](#Örnekler-1)\n",
    "    * [Değer Döndürmeyen Fonksiyonlar](#Değer-Döndürmeyen-Fonksiyonlar)\n",
    "    * [Anahtar Kelime Argümanları](#Anahtar-Kelime-Argümanları)\n",
    "    * [Belirsiz Sayıda Fonksiyon Argümanı](#Belirsiz-Sayıda-Fonksiyon-Argümanı)\n",
    "    * [Örnekler 2](#Örnekler-2)\n",
    "* [İç Dokümantasyon İfadeleri](#İç-Dokümantasyon-İfadeleri)\n",
    "* [Lambda Fonksiyonları](#Lambda-Fonksiyonları)\n",
    "    * [Lambda Fonksiyonları ve Eşleştirme: Mapping](#Lambda-Fonksiyonları-ve-Eşleştirme:-Mapping)\n",
    "    * [Lambda Fonksiyonları ve Filtreleme: Filtering](#Lambda-Fonksiyonları-ve-Filtreleme:-Filtering)\n",
    "    * [Opsiyonel: Lambda Fonksiyonları ve İndirgeme: Reducing](#Lambda-Fonksiyonları-ve-İndirgeme:-Reducing)\n",
    "* [Yinelemeli Fonksiyonlar](#Yinelemeli-Fonksiyonlar)\n",
    "* [Şartlı Yapılar: if, elif, else](#Şartlı-Yapılar:-if,-elif,-else)\n",
    "    * [Döngüler Tamamlanmadan Çıkmak](#Döngüler-Tamamlanmadan-Çıkmak)\n",
    "        * [break ifadesi](#break-ifadesi)\n",
    "        * [continue ifadesi](#continue-ifadesi)\n",
    "        * [else ifadesi](#else-ifadesi)\n",
    "* [Alıştırmalar](#Alıştırmalar)"
   ]
  },
  {
   "cell_type": "markdown",
   "metadata": {},
   "source": [
    "# Fonksiyonlar #\n",
    "\n",
    "Programlama dillerinde fonksiyon matematikteki fonksiyonlardan daha farklı bir anlam taşır. <b><i>Fonksiyon</i></b> bir programda istediğiniz zaman ve istediğiniz yerde kullanabileceğiniz ifadeler bütünüdür. Fonksiyona isterseniz nesneler yollayarak fonksiyon içerisindeki kullanımlarıyla hesaplamaları etkileyebilir ve fonksiyondan programa nesneler döndürebilirsiniz. \n",
    "    \n",
    "Fonksiyonlar belirli bir işi yapan bir kod bütününü birden fazla kez yazmayı önler. Bu strateji sizi defalarca kez aynı şeyi yazmaktan ya da kopyalamaktan ve kodunuzun giderek daha fazla yer kaplamasından kurtarır.\n",
    "\n",
    "Ayrıca fonksiyonlar, tekrarlama gerektiren işlerde yapacağınız bir değişiklikte, tüm bu kodları tek tek bulup değiştirmeniz yerine tek bir yerde (fonksiyon yapısı içinde) ve kolayca değiştirmenize de olanak sağlarlar.\n",
    "\n",
    "Ayrıca programınızı daha küçük parçalara bölmeniz sayesinde daha rahat yönetebilir ve daha “temiz” düşüebilirsiniz. Bu bölümde daha önce gördüğünüz $sqrt$, $len$, $range$ gibi fonksiyonlara ilaveten kendi fonksiyonlarınızı nasıl yazacağınızı öğreneceksiniz."
   ]
  },
  {
   "cell_type": "markdown",
   "metadata": {},
   "source": [
    "[Başa Dön](#Fonksiyonlar-ve-Şartlı-İfadeler)"
   ]
  },
  {
   "cell_type": "markdown",
   "metadata": {},
   "source": [
    "## Tek Değişkenli Fonksiyonlar ##\n",
    "\n",
    "Önceki derslerden Santigrat derece / Fahrenheit derece dönüşümünü hatırlıyorsunuz. Böyle bir dönüşüm için bir fonksiyon yazmak akılcıdır. Çünkü bu dönüşümü programlarınız içinde defalarca kullanmanız gerekebilir."
   ]
  },
  {
   "cell_type": "code",
   "execution_count": null,
   "metadata": {},
   "outputs": [],
   "source": [
    "def F(C):\n",
    "    fahr = (9.0/5)*C + 32\n",
    "    return fahr"
   ]
  },
  {
   "cell_type": "code",
   "execution_count": null,
   "metadata": {},
   "outputs": [],
   "source": [
    "F(11)"
   ]
  },
  {
   "cell_type": "markdown",
   "metadata": {},
   "source": [
    "Kullanıcı tarafından yazılan tüm fonksiyonlar $def$ ifadesiyle, yani fonksiyonun tanımıyla başlar. Daha sonra fonksiyonun adı (örneğimizde $F$), parantez içerisinde fonksiyona programdan gönderilen nesne(ler)in (argümanlar) fonksiyon içerisinde kullanılacak isimleri (birden fazla olması durumunda virgülle ayrılır) ve en sonda da \":\" işareti bulunur. Döngülerden de hatırlayacağınız gibi bu işaret (:) yorumlayıcıya yeni bir kod bloğuna geçeceğinizi söyler. Dolayısı ile fonksiyonlarda da tıpkı döngülerde olduğu gibi, fonksiyon içerisinde çalışması istenen tüm ifadeler bir blok \\\"<TAB\\>\" ya da 4 boşluk standarttır) içeri yazılır.\n",
    "\n",
    "Her fonksiyon için zorunlu olmasa da çoğu fonksiyon programa nesne(ler) de döndüebilir. Bunun için $return$ ifadesi kullanılır. Birden fazla nesne döndürülmek istendiğinde bu nesneler virgüllerle birbirinden ayrılır.\n",
    "\n",
    "$def$ ile başlayan satır fonksiyonun başlığı (<i>header</i>), bir blok içeri yazılan her şey ise fonksiyonun yapısı (<i>body</i>) olarak adlandırılır.\n",
    "\n",
    "[Başa Dön](#Fonksiyonlar-ve-Şartlı-İfadeler)"
   ]
  },
  {
   "cell_type": "markdown",
   "metadata": {},
   "source": [
    "## Fonksiyon Çağırmak ##\n",
    "\n",
    "Bir fonksiyonu kullanmak ve ondan değer alabilmek için o fonksiyonu “çağırmanız\" gerekir. Tipik birkaç örnek aşağıda verilmiştir."
   ]
  },
  {
   "cell_type": "code",
   "execution_count": null,
   "metadata": {
    "scrolled": true
   },
   "outputs": [],
   "source": [
    "santigrad = 10\n",
    "fahrenheit = F(santigrad) # zira santigrad 10 olarak tanimlanmis\n",
    "print(fahrenheit)\n",
    "print(F(santigrad+10.0))\n",
    "toplam_sicaklik = F(10.0) + F(20.0)\n",
    "print(toplam_sicaklik)"
   ]
  },
  {
   "cell_type": "code",
   "execution_count": null,
   "metadata": {},
   "outputs": [],
   "source": [
    "Cderece = range(-5,41,5)\n",
    "Fderece = [F(santigrad) for santigrad in Cderece]\n",
    "print(Fderece)"
   ]
  },
  {
   "cell_type": "markdown",
   "metadata": {},
   "source": [
    "İstenildiği takdirde fonksiyon formatlı bir metin döndürecek şekilde yazılabilir, fonksiyonun içinde de nesneler tanımlanabilir. "
   ]
  },
  {
   "cell_type": "code",
   "execution_count": null,
   "metadata": {},
   "outputs": [],
   "source": [
    "def F2(sant):\n",
    "    fahr = (9.0/5)*sant + 32\n",
    "    return \"{:.1f} santigrad derece {:.1f} fahrenheit derecedir\".format(sant, fahr)\n",
    "metin = F2(21.0)\n",
    "print(metin)"
   ]
  },
  {
   "cell_type": "markdown",
   "metadata": {},
   "source": [
    "[Başa Dön](#Fonksiyonlar-ve-Şartlı-İfadeler)"
   ]
  },
  {
   "cell_type": "markdown",
   "metadata": {},
   "source": [
    "## Yerel ve Global Nesneler ##\n",
    "\n",
    "Bir önceki örnekte $F2$ fonksiyonu içerisinde yarattığımız $fahr$ değişkeni fonksiyonun içinde <b><i>yerel</i></b> bir nesnedir. Bu nesnenin değerine fonksiyonun dışında programın herhangi başka bir yerinden ulaşmak istenirse bir hata mesajı alınır."
   ]
  },
  {
   "cell_type": "code",
   "execution_count": null,
   "metadata": {},
   "outputs": [],
   "source": [
    "santigrad = 21.0\n",
    "metin = F2(santigrad)\n",
    "print(metin)\n",
    "print(fahr)\n",
    "# sonra bunu deneyin!\n",
    "#print(sant)"
   ]
  },
  {
   "cell_type": "markdown",
   "metadata": {},
   "source": [
    "Yerel değişkenler fonksiyonun içinde yaratılırken, fonksiyon terk edildiği anda “yok edilirler”.  Bu olguyu anlamak için aşağıdaki örneği inceleyelim."
   ]
  },
  {
   "cell_type": "code",
   "execution_count": null,
   "metadata": {},
   "outputs": [],
   "source": [
    "def F3(C):\n",
    "    F_deger = (9.0/5)*C + 32\n",
    "    print('F3 fonksiyonunda: C={:.1f}, F_deger={:.1f}, r={:d}'.format(C, F_deger, r))\n",
    "    return '{:.1f} derece santigrad {:.1f} fahrenheit derecedir.'.format(C, F_deger)"
   ]
  },
  {
   "cell_type": "code",
   "execution_count": null,
   "metadata": {},
   "outputs": [],
   "source": [
    "C = 60 # C global tamsayi nesnesini olusturalim.\n",
    "r = 21 # bir baska global nesne\n",
    "s3 = F3(r)\n",
    "print(s3)"
   ]
  },
  {
   "cell_type": "code",
   "execution_count": null,
   "metadata": {},
   "outputs": [],
   "source": [
    "print(C)"
   ]
  },
  {
   "cell_type": "markdown",
   "metadata": {},
   "source": [
    "Aynı isme sahip birden fazla nesneniz olduğunda Python öncelikle yerel nesneler arasında bir arama yapar, sonra global değişkenlere bakar ve son olarak da hazır (built-in: kullanıcı tarafından tanımlanmamış) Python fonksiyonlarına bakar. Aşağıda bu kural, $sum$ isminin birden fazla nesneye verildiği bir örnekle anlatılmaktadır. "
   ]
  },
  {
   "cell_type": "code",
   "execution_count": null,
   "metadata": {},
   "outputs": [],
   "source": [
    "print(sum) # sum hazir (built-in) bir Python fonksiyonudur\n",
    "sum = 500 # sum burada bir global tamsayi nesnesi olarak tanimlanmaktadir\n",
    "print(\"Fonksiyonun disinda global tamsayi nesnesi sum: \",sum)\n",
    "def fonk1(n):\n",
    "    sum = n + 1\n",
    "    print(\"Fonksiyonun icinde yerel nesnesi sum: \", sum) # sum bir yerel nesne olarak tanimlanmaktadir\n",
    "    return sum\n",
    "sum = fonk1(2) + 1 # global nesne sum'a yeni deger ataniyor\n",
    "print(\"Fonksiyonun disinda onun gonderdigi degeri tutan global nesne sum: \", sum)"
   ]
  },
  {
   "cell_type": "markdown",
   "metadata": {},
   "source": [
    "Global nesnelere bir fonksiyon içerisinden erişmek mümkün olduğu halde (gördüğünüz gibi!), onların değerini fonksiyon içerisinde değiştirmek için değişkenin global olduğunu ayrıca belirtmeniz gerekir. Bu uygulama global değişkenlerin özellikle uzun programlar içinde kontrol etme zorluğu nedeniyle önerilmez, ancak gerçekten gerektiğinin düşünüldüğü durumlarda ve dikkatli bir şekilde, iç dokümantasyonla kontrol altında tutularak kullanılmalıdır."
   ]
  },
  {
   "cell_type": "code",
   "execution_count": null,
   "metadata": {},
   "outputs": [],
   "source": [
    "a = 20; b = -2.5    # global tamsayi ve kayan sayi nesneleri\n",
    "\n",
    "def f1(x):\n",
    "    a = 21          # a yeni bir yerel tamsayi nesnesi olarak yaratiliyor\n",
    "    return a*x + b  # 21*x - 2.5 degeri dondurecek\n",
    "\n",
    "print(\"a = \", a)    # a 20 degerini alir, zira 21 degerine f1 icinde atandi!\n",
    "                    # alacagi deger global degeri olacaktir.\n",
    "print(f1(b))\n",
    "print(\"a = \", a)"
   ]
  },
  {
   "cell_type": "code",
   "execution_count": null,
   "metadata": {},
   "outputs": [],
   "source": [
    "def f2(x):\n",
    "    global a        # simdi a'nin global bir nesne oldugu belirtiliyor\n",
    "    a = 21          # ve bu nedenle degeri tum program icin\n",
    "                    # fonksiyon icinden dahi degistirilebiliyor\n",
    "    return a*x + b  # Yine 21*x - 2.5 degeri dondurecek\n",
    "\n",
    "print(\"f1(3) = \", f1(3))\n",
    "print(\"a = \", a)    # a icin 20 basilir\n",
    "                    # zira henuz a degerini global olarak degistiren\n",
    "                    # f2 cagirilmadi\n",
    "print(\"f2(3) = \", f2(3))\n",
    "print(\"a = \", a)    # a icin 21 basilir zira f2 a degiskeninin degerini\n",
    "                    # global olarak degistirebiliyor!"
   ]
  },
  {
   "cell_type": "markdown",
   "metadata": {},
   "source": [
    "[Başa Dön](#Fonksiyonlar-ve-Şartlı-İfadeler)"
   ]
  },
  {
   "cell_type": "markdown",
   "metadata": {},
   "source": [
    "## Fonksiyona Birden Fazla Nesne Göndermek ##\n",
    "\n",
    "Şu ana kadar tanımladığımız fonksiyonlar argüman olarak sadece bir nesne alıyorlardı. Oysa ki Python'da bir fonksiyona istediğiniz sayıda nesne geçirebilirsiniz. Bunun için tek yapmanız gereken argüman olarak geçirmek istediğiniz nesnelerin isimlerini virgüllerle birbirinden ayırmaktır."
   ]
  },
  {
   "cell_type": "code",
   "execution_count": null,
   "metadata": {},
   "outputs": [],
   "source": [
    "def fonk(t, v0):\n",
    "    g = 9.81 \n",
    "    return v0*t - 0.5*g*t**2\n",
    "# Bu fonksiyonu asagidaki sekillerde cagirabilirsiniz\n",
    "# Hepsi ayni degeri (0.55095) basacaktir\n",
    "y = fonk(0.1, 6)\n",
    "print(\"y = {:.5f}\".format(y))\n",
    "y = fonk(0.1, v0=6)\n",
    "print(\"y = {:.5f}\".format(y))\n",
    "y = fonk(t=0.1, v0=6)\n",
    "print(\"y = {:.5f}\".format(y))\n",
    "y = fonk(v0=6, t=0.1)\n",
    "print(\"y = {:.5f}\".format(y))"
   ]
  },
  {
   "cell_type": "markdown",
   "metadata": {},
   "source": [
    "<b>Uyarı: </b>Fonksiyonu çağırırken $arguman = deger$ yapısını kullanmak büyük bir esneklik sağlar. Bu şekilde fonksiyona geçirmek istediğiniz tüm argümanları böyle geçirdiğiniz sürece sıralamanın bir önemi kalmaz. Ancak bu yapı yerine sadece değer geçirirseniz, bu değerleri  fonksiyonun tanımındaki sıralamaya riayet ederek geçirmek zorunda kalırsınız! \n",
    "\n",
    "Şu ana kadar sadece matematiksel fonksiyonlara tam ya da reel sayılar geçirip, onlardan tam ya da reel sayı geri dönüşler aldık ya da ekrana değerler bastırdık. Ancak fonkisyonlar bu işlemlerin ötesinde de kullanılabilir."
   ]
  },
  {
   "cell_type": "code",
   "execution_count": null,
   "metadata": {},
   "outputs": [],
   "source": [
    "def listeyap(baslangic, son, adim):\n",
    "    # verilen son dahil olmak uzere baslangic ile son arasinda \n",
    "    # adim degeri kadar artimlarla liste olusturan fonksiyon\n",
    "    eleman = baslangic\n",
    "    liste = []\n",
    "    while eleman <= son:\n",
    "        liste.append(eleman)\n",
    "        eleman += adim\n",
    "    return liste\n",
    "listem = listeyap(0, 10, 2)\n",
    "print(listem)"
   ]
  },
  {
   "cell_type": "markdown",
   "metadata": {},
   "source": [
    "Bu örnekte $baslangic$, $son$, $adim$, $eleman$ ve $liste$ nesneleri yerel; $listem$ nesnesi ise globaldir.\n",
    "\n",
    "[Başa Dön](#Fonksiyonlar-ve-Şartlı-İfadeler)"
   ]
  },
  {
   "cell_type": "markdown",
   "metadata": {},
   "source": [
    "## Fonksiyondan Birden Fazla Nesne Döndürmek ##\n",
    "\n",
    "Şu ana kadar yazdığımız tüm fonksiyonlar tek bir değer döndürüyor. Oysa Python fonkisyonları birden fazla değeri döndürebilir. Dikey atış probleminde cismin $t$ zamanda aldığı toplam yolun yanı sıra bunun zamana göre türevini de (yani t anındaki hızını!) döndürmek istiyor olalım."
   ]
  },
  {
   "cell_type": "code",
   "execution_count": null,
   "metadata": {},
   "outputs": [],
   "source": [
    "def fonk(t, v0):\n",
    "    g = 9.81\n",
    "    y = v0*t - 0.5*g*t**2\n",
    "    dydt = v0 - g*t\n",
    "    return y, dydt\n",
    "\n",
    "# Coklu nesne donduren fonksiyonlardan dondurulen bir demet degiskendir\n",
    "demet = fonk(0.6, 6)\n",
    "print(demet)\n",
    "konum = demet[0]\n",
    "hiz = demet[1]\n",
    "print(\"Cismin t={:.1f} saniyedeki konumu {:.2f}, hizi {:.2f} tir\".format(0.6, konum, hiz))\n",
    "# Bu fonksiyondan deger dondururken iki degiskene ihtiyac duyariz\n",
    "konum, hiz = fonk(0.5,6)\n",
    "print(\"Cismin t={:.1f} saniyedeki konumu {:.2f}, hizi {:.2f} tir\".format(0.5, konum, hiz))"
   ]
  },
  {
   "cell_type": "markdown",
   "metadata": {},
   "source": [
    "[Başa Dön](#Fonksiyonlar-ve-Şartlı-İfadeler)"
   ]
  },
  {
   "cell_type": "markdown",
   "metadata": {},
   "source": [
    "## Örnekler 1 ##\n",
    "### ln(1 + x) 'in Seriye Açılımı ###\n",
    "\n",
    "$$L(x;n) = \\sum\\limits_{i=1}^n \\frac{1}{i} (\\frac{x}{1 + x})^i$$\n",
    "\n",
    "$$ln(1 + x) = \\lim_{n\\to\\infty} L(x;n)$$\n",
    "\n",
    "ln(1 + x)'in yukarıdaki ifadelerle seriye açılması için aşağıdaki bir döngü yapısına ihtiyaç duyulur:\n",
    "\n",
    "```\n",
    "s = 0\n",
    "for i in range(1, n+1):\n",
    "    s += (1.0/i)*(x/(1.0 +x ))**i\n",
    "```\n",
    "\n",
    "Aşağıdaki gibi $x$ ve $n$'i birer argüman olarak alıp toplamı döndüren bir fonksiyon işi oldukça kolaylaştırır."
   ]
  },
  {
   "cell_type": "code",
   "execution_count": null,
   "metadata": {},
   "outputs": [],
   "source": [
    "def L(x, n):\n",
    "    s = 0\n",
    "    for i in range(1, n + 1):\n",
    "        s += (1.0/i)*(x/(1.0 + x))**i\n",
    "    return s"
   ]
  },
  {
   "cell_type": "markdown",
   "metadata": {},
   "source": [
    "Bir matematiksel fonksiyonun değerinin seriye açılarak hesaplanmasıyla elde edilen sonuç, $n$ → ∞ olamayacağı için her zaman bir hata taşır. Bu hatayı ve $n$'in herhangi bir değeri için ihmal edilen ilk terimi döndüren bir fonksiyon matematiksel olarak çok daha “fonksiyonel” olacaktır."
   ]
  },
  {
   "cell_type": "code",
   "execution_count": null,
   "metadata": {},
   "outputs": [],
   "source": [
    "def L(x, n):\n",
    "    s = 0\n",
    "    for i in range(1, n + 1):\n",
    "        s += (1.0/i)*(x/(1.0 + x))**i\n",
    "    toplam = s\n",
    "    ihmal_edilen_ilk_terim = (1.0/(n + 1))*(x/(1.0 + x))**(n + 1)\n",
    "    from math import log\n",
    "    hata = abs(log(1 +x) - toplam)\n",
    "    return toplam, ihmal_edilen_ilk_terim, hata\n",
    "\n",
    "# n = 100 ve x = 5, icin ln(1+x) = ln(6)\n",
    "sonuc, ihmal, tam_hata = L(x = 5, n = 100)\n",
    "print(\"Sonuc: {:.2f}, ihmal: {:.16f}, hatasi: {:.16f} tir\"\\\n",
    "      .format(sonuc, ihmal, tam_hata))"
   ]
  },
  {
   "cell_type": "markdown",
   "metadata": {},
   "source": [
    "[Başa Dön](#Fonksiyonlar-ve-Şartlı-İfadeler)"
   ]
  },
  {
   "cell_type": "markdown",
   "metadata": {},
   "source": [
    "## Değer Döndürmeyen Fonksiyonlar ##\n",
    "\n",
    "Tüm fonksiyonlar değer döndürmek zorunda değildir. Bu durumda $return$ ifadesi verilmeyebilir. Bazı programcılık dillerinde (fortran, C) bu tür fonksiyonlara <i>subroutine</i> ya da <i>procedure</i> da denir."
   ]
  },
  {
   "cell_type": "code",
   "execution_count": null,
   "metadata": {},
   "outputs": [],
   "source": [
    "def tablo(x):\n",
    "    # Deger dondurmeyen fonksiyon\n",
    "    from math import log\n",
    "    print('\\nx={:g}, ln(1+x)={:g}'.format(x, log(1+x)))\n",
    "    for n in [1, 2, 10, 100, 500]:\n",
    "        sonuc, terim, hata = L(x, n)\n",
    "        print('n={:<4d} {:<10g} (bir sonraki terim: {:8.2e} hata: {:8.2e}'.\\\n",
    "              format(n, sonuc, terim, hata))\n",
    "tablo(5)"
   ]
  },
  {
   "cell_type": "markdown",
   "metadata": {},
   "source": [
    "Bu fonksiyonu $L$ fonksiyonu ile aynı programa yazıp, çağırırsanız $n = 1, 2, 10, 50, 100$ terim kullanarak ln(1+x) değerini verilen seriyle hesaplar. (Deneyiniz!) \n",
    "\n",
    "Python return ifadesi olmayan fonksiyonlara gerçekte $return None$ şeklinde gizli bir ifade ekler. $None$ özel bir Python nesnesidir."
   ]
  },
  {
   "cell_type": "markdown",
   "metadata": {},
   "source": [
    "[Başa Dön](#Fonksiyonlar-ve-Şartlı-İfadeler)"
   ]
  },
  {
   "cell_type": "markdown",
   "metadata": {},
   "source": [
    "## Anahtar Kelime Argümanları ##\n",
    "\n",
    "İhtiyacımıza göre fonksiyonlarda anahtar kelimeler kullanıp, bunları her zaman değiştirmek istemediğmiz için varsayılan değerlere atayabiliriz. Böylece fonksiyonu bu değerleri değiştirmeden çağıracağımız vakit bu değişkenleri kullanmak zorunda kalmayız! Tipik bir örnek aşağıdaki gibidir."
   ]
  },
  {
   "cell_type": "code",
   "execution_count": null,
   "metadata": {},
   "outputs": [],
   "source": [
    "def fonk(arg1, arg2, kwarg1=True, kwarg2=0):\n",
    "    print(arg1, arg2, kwarg1, kwarg2)\n",
    "fonk('Merhaba', [1,2])\n",
    "fonk('Merhaba', [1,2], kwarg1='Selam')\n",
    "fonk('Merhaba', [1,2], kwarg2='Selam')\n",
    "fonk('Merhaba', [1,2], kwarg2='Selam', kwarg1=6)"
   ]
  },
  {
   "cell_type": "markdown",
   "metadata": {},
   "source": [
    "$arg1$,$arg2$ normal, sıradan argümanlarken (<i>positional arguments</i>: konum argümanları), $kwarg1$ ve $kwarg2$, anahtar kelime argümanları (<i>keyword arguments</i>) olarak adlandırılır. Fonksiyon tanımlarında anahtar kelime argümanları, konum argümanlarından sonra yazılmalıdır."
   ]
  },
  {
   "cell_type": "markdown",
   "metadata": {},
   "source": [
    "[Başa Dön](#Fonksiyonlar-ve-Şartlı-İfadeler)"
   ]
  },
  {
   "cell_type": "markdown",
   "metadata": {},
   "source": [
    "## Örnekler 2 ##\n",
    "### Fourier Fonksiyonu ve Harmonik Hareket ###\n",
    "\n",
    "Fourrier fonksiyonunu $t$'yi bağımsız değişken yapıp $A$, $a$ ve $\\omega$ için uygun varsayılan değerlerin verildiği bir fonksiyonla yazıp, bir yerlerde saklayabiliriz. Astronomide muhakkak işimize yarayacaktır! \n",
    "\n",
    "$$f(t, A, a, \\omega) = A e^{-a t} sin(\\omega t)$$"
   ]
  },
  {
   "cell_type": "code",
   "execution_count": null,
   "metadata": {},
   "outputs": [],
   "source": [
    "from math import pi, exp, sin\n",
    "def f(t, A=1, a=1, omega=2*pi):\n",
    "    return A*exp(-a*t)*sin(omega*t)\n",
    "\n",
    "# Bu fonksiyon icin alternatif cagirma ifadeleri\n",
    "v1 = f(0.2)\n",
    "v2 = f(0.2, omega=1)\n",
    "v3 = f(1, A=5, omega=pi, a=pi**2)\n",
    "v4 = f(A=5, a=2, t=0.01, omega=0.1)\n",
    "v5 = f(0.2, 0.5, 1, 1)\n",
    "print(v1,v2,v3,v4,v5)"
   ]
  },
  {
   "cell_type": "markdown",
   "metadata": {},
   "source": [
    "## Belirsiz Sayıda Fonksiyon Argümanı ##\n",
    "\n",
    "Fonksiyonlarınızda zaman zaman sayısını bilmediğiniz argüman üzerinde işlem yapma olasılığı oluşabilir. $*args$ ve $**kwargs$ şeklinde iki ayrı yazımla (syntax) belirsiz sayıda argüman fonksiyona geçirilebilir. $*args$ şeklinde, tek bir yıldız (asterisk, \\*) anahtar kelime argümanı olmayan, belirsiz sayıdaki argümanı bir fonksiyona geçirmek için kullanılırken; iki yıldız (asterisk, \\*\\*) belirsiz sayıdaki anahtar kelime argümanını bir fonksiyona geçirmek için kullanılır. \n",
    "\n",
    "### 1. Belirsiz Sayıda (Anahtar Kelime Argümanı Olmayan) Argüman (ing. Positional Arguments) İçeren Fonksiyonlar ###\n",
    "\n",
    "Bir fonksiyona değişken (belirsiz) sayıda, bulunduğu konuma göre değer alan (anahtar kelime argümanı olmayan) argüman geçirilmek istendiğinde bu argümanların toplanacağı demet nesnesinin isminin önüne bir * işareti konulur. Bu demet nesnesi fonksiyona gönderilen, bulundukları konuma göre değer alan ya da anahtar kelime olarak tanımlanmış argümanların dışındaki tüm değerleri bir arada tutar. Fonksiyonun içerisinde ona bu demet değişken üzerinden gönderilen her bir değere demet değişken fonksyonları, dilimleme ya da klasik $for$ ve $while$ döngüleri yoluyla ulaşılablir.\n",
    "\n",
    "Aşağıda biri tek bir nesne değer ($normarg$), diğeri ise varsayılan birer değeri olmayan ve belirsiz sayıda nesne değerini bir demet nesnesi argümanında ($*args$) tutan argümanlar üzerinden çalışan $test\\_args$ isimli bir fonksyon tanımlanmıştır. Fonksiyon öncelikle $normarg$ yerel değişkenine aktarılan nesne değerini ekrana yazdırmakta, sonra da bir $for$ döngüsü içerisinde belirsiz sayıda nesne değerini tutan $*args$ demet nesnesindeki değerleri tek tek ekrana yazdırmaktadır. Program $for$ döngüsü sonrası ekrana çalışmasını döngünün tamamlandığını bildiren bir dizi $\"-\"$ işareti getirmektedir. Son olarak ise $args$ nesnesinin tüm bu değerleri tutan bir demet nesnesi olduğu bir $print$ ifadesi ile gösterilmektedir. Örnek bu fonksiyon programa herhangi bir değer döndürmemektedir, ancak bu belirsiz sayıda argüman içeren fonksiyonların programa değer döndüremedikleri anlamına da gelmez."
   ]
  },
  {
   "cell_type": "code",
   "execution_count": null,
   "metadata": {},
   "outputs": [],
   "source": [
    "def test_args(normarg, *args):\n",
    "    na = normarg\n",
    "    print(\"Normal bir arguman:\", na)\n",
    "    # Belirsiz sayida argumanin sirayla alinmasi\n",
    "    for arg in args:\n",
    "        print(\"Diger Argumanlar:\", arg)\n",
    "    print(\"---------------------------------\")\n",
    "    print(args)\n",
    "test_args(1, \"iki\", 3, 4.5,\"AST15\",(2,3,5))\n",
    "#test_args(1)\n",
    "#test_args(1, ['x','y','z'])"
   ]
  },
  {
   "cell_type": "markdown",
   "metadata": {},
   "source": [
    "Aşağıdaki örnekte belirsiz sayıda tam ya da kayan noktalı sayıyı toplayan ve programda çağrıldığı noktaya döndüren bir fonksiyon ($topla$) görülmektedir. Görüldüğü üzere fonksiyon 4 ya da 1 sayı argümanı için çalıştığı gibi hiç argüman gönderilmese dahi hata vermeden çalışmaktadır. "
   ]
  },
  {
   "cell_type": "code",
   "execution_count": null,
   "metadata": {
    "scrolled": true
   },
   "outputs": [],
   "source": [
    "# Belirsiz sayida sayiyi toplayan kucuk bir kod parcasi\n",
    "def topla(*sayilar):\n",
    "    toplam = 0\n",
    "    for sayi in sayilar:\n",
    "        toplam += sayi\n",
    "    return toplam\n",
    "\n",
    "print(\"Toplam = {:.2f}\".format(topla(1.2, 3, 5 , 5, 1, 7.6)))\n",
    "#print(topla(2))\n",
    "#print(topla())"
   ]
  },
  {
   "cell_type": "markdown",
   "metadata": {},
   "source": [
    "### 2.  Belirsiz Sayıda Anahtar Kelime Argümanı İçeren (ing. Keyword Arguments) Fonksiyonlar\n",
    "\n",
    "Bir fonksiyona değişken (belirsiz) sayıda, ancak anahtar kelime argümanı yapısında ve $anahtar = deger$ şeklinde tanımlanan argümanlar geçirilmek istendiğinde bu argümanların toplanacağı sözlük nesnesinin ($dictionaries$) isminin önüne iki $**$ işareti konulur. Bu sözlük nesnesi fonksiyona gönderilen, bulundukları konuma göre değer alan ya da anahtar kelime olarak tanımlanmış argümanların dışındaki tüm değerleri bir arada tutar. Fonksiyonun içerisinde bu sözlük nesnesinin elemanlarına sözlük fonksyonları (henüz sözlük nesnesi verilmemiş olduğu için bu fonksiyonları şu aşamada bilmek zorunda değilsiniz), ya da $sozlukadi[anahtar]$ ifadesiyle ulaşılablir.\n",
    "\n",
    "Aşağıda biri tek bir nesne değer ($normarg$), diğeri ise tuttuğu belirsiz sayıda nesne değerini bir sözlük nesnesi yapsında saklayan ($**kwargs$) argümanlar üzerinden çalışan $test\\_kwargs$ isimli bir fonksyon tanımlanmıştır. Fonksiyon öncelikle $normarg$ yerel değişkenine aktarılan nesne değerini ekrana yazdırmakta, sonra da bir $for$ döngüsü içerisinde, $**kwargs$ sözlük nesnesindeki belirsiz sayıdaki nesnenin anahtarlarını ($key$) ve anahtarlara karışılık gelen değerleri ($value$) tek tek ekrana yazdırmaktadır. Program $for$ döngüsü sonrası ekrana çalışmasını döngünün tamamlandığını bildiren bir dizi $\"-\"$ işareti getirmektedir. Son olarak ise $kwargs$ nesnesinin tüm bu değerleri tutan bir sözlük nesnesi olduğu bir $print$ ifadesi ile gösterilmektedir. Tıpkı anahtar kelime argümanı olmayan ve belirsiz sayıda argüman içeren $args$ demet değişkenin tanımlanmasında olduğu gibi tanım ifadesinde $**$ karakteri başa gelecek şekilde tanımlanmakta, ancak bu karakterler fonksiyon içerisinde söz konusu sözlük değişkenine ulaşılırken kullanılmamaktadır."
   ]
  },
  {
   "cell_type": "code",
   "execution_count": null,
   "metadata": {},
   "outputs": [],
   "source": [
    "def test_kwargs(normarg, **kwargs):\n",
    "    print(\"Normal bir arguman:\", normarg)\n",
    "    for key in kwargs:\n",
    "        print(\"Anahtar kelime argumani {:}: {:}\".format(key, kwargs[key]))\n",
    "    print(\"---------------------------------\")\n",
    "    print(kwargs)\n",
    "N = 1\n",
    "test_kwargs(normarg=N, arguman2=\"iki\", arg3=3)"
   ]
  },
  {
   "cell_type": "markdown",
   "metadata": {},
   "source": [
    "Aşağıdaki örnekte belirsiz sayıda öğrencinin öğrenci numaralarına karşılık ad soyadlarını ekrana yazdıran bir fonksiyon (<i>print_ogrenciler</i>) görülmektedir. Görüldüğü üzere fonksiyona öğrencilerin numaraları (anahtar) ve ad-soyadları (değer) $anahtar = deger$ ($key = value$) yapısında gönderilmektedir. Bu anahtar kelime argümanları için tipik bir yapıdır ve dikey atış probleminde cismin t anındaki konumunu bulan fonksiyonda yerçekim ivmesi de ($g = 9.81$) aynı şekilde tanımlanmıştır. Öğrenci numaralarının önüne \"\\_\" işaretinin konmasının tek sebebi değişken isimlerinin sadece sayılardan oluşamaması kuralıdır ve başkaca bir sebebi yoktur. $for$ döngüsü dahilinde $ogrenciler$ sözlük değişkeninde toplanan belirsiz sayıda nesnenin anahtarları (ing. key) $ogrno$ nesnesine aktarılıp basılmaktadır Baştaki \"\\_\" karakterini atlamak için yazdırmaya 1. indeksten başlandığına dikkat ediniz. Sonrasında döngünün tamamlandığını bildiren bir dizi \"---\" işareti ve son olarak ise belirsiz sayıdaki anahtar kelime argümanını tutan $ogrenciler$ sözlük nesnesi bir $print$ ifadesi ile gösterilmektedir.\n",
    "\n",
    "Dikkat edilmesi gereken hususlardan biri de ister anahtar kelime argümanı olsun, ister olmasın, bir kural olmamakla birlikte, argümanları tutan demet ve sözlük nesnelerini sırasıyla $*args$ ve $**kwargs$ isimlerindeki yer değişkenler olmasıdır. Aşağıdaki örnekte $kwargs$ yerine $ogrenciler$, yukarıdaki $topla$ fonksiyonunda ise $*args$ yerine $sayilar$ degişkenleri bu amaçla kullanılmıştır."
   ]
  },
  {
   "cell_type": "code",
   "execution_count": null,
   "metadata": {},
   "outputs": [],
   "source": [
    "# Derse gelen ogrencilerin adini yazdiran fonksyon\n",
    "def print_ogrenciler(**ogrenciler):\n",
    "    \n",
    "    for ogrno in ogrenciler:\n",
    "        print(\"Ogrenci no: {:s}\\t Ad Soyad: {:s}\"\\\n",
    "              .format(ogrno[1:], ogrenciler[ogrno]))\n",
    "    print(\"---------------------------------\")\n",
    "    print(ogrenciler)\n",
    "    \n",
    "print_ogrenciler(\n",
    "    # degisken isimleri sayi olamayacagi icin\n",
    "    # baslarina _ isareti koaylim\n",
    "            _11050013 = \"Umut Akdemir\",\n",
    "            _12050566 = \"Pinar Tunc\",\n",
    "            _15050021 = \"Buse Sayar\"\n",
    "        )"
   ]
  },
  {
   "cell_type": "markdown",
   "metadata": {},
   "source": [
    "[Başa Dön](#Fonksiyonlar-ve-Şartlı-İfadeler)"
   ]
  },
  {
   "cell_type": "markdown",
   "metadata": {},
   "source": [
    "# İç Dokümantasyon İfadeleri #\n",
    "\n",
    "Python'da bir fonksiyonun ne yaptığını kodu yazan kişinin kendisine ve o kodu okuyan başkalarına anlatmak için kullandığı standart bir yapı vardır. <b>İç dokümantasyon</b> <i>(ing. Doc String)</i> denen bu ifadeler \\\"\\\"\\\" (üç tırnak) arasına yazılırlar."
   ]
  },
  {
   "cell_type": "code",
   "execution_count": null,
   "metadata": {},
   "outputs": [],
   "source": [
    "def C2F(C):\n",
    "    \"\"\"Santigrad dereceyi (C) Fahrenheit dereceye cevirir.\"\"\"\n",
    "    return (9.0/5)*C + 32\n",
    "\n",
    "def line(x0, y0, x1, y1):\n",
    "    \"\"\"\n",
    "    (x0,y0) ve (x1,y1) noktalarindan gecen bir dogrunun\n",
    "    denklemini ax + b seklinde ifade ederken kullanilan\n",
    "    a ve b katsayilarini hesaplar ve dondurur.\n",
    "    x0, y0: dogru uzerinde bir nokta (her ikisi de float)\n",
    "    x1, y1: dogru uzerinde diger nokta (her ikisi de float)\n",
    "    return: y = ax + b dogrusu icin a ve b katsayilari (float)\n",
    "    \"\"\"\n",
    "    a = (y1 - y0)/float(x1 - x0)\n",
    "    b = y0 - a*x0\n",
    "    return a, b"
   ]
  },
  {
   "cell_type": "code",
   "execution_count": null,
   "metadata": {},
   "outputs": [],
   "source": [
    "print(C2F)"
   ]
  },
  {
   "cell_type": "code",
   "execution_count": null,
   "metadata": {},
   "outputs": [],
   "source": [
    "help(C2F)"
   ]
  },
  {
   "cell_type": "code",
   "execution_count": null,
   "metadata": {},
   "outputs": [],
   "source": [
    "help(line)"
   ]
  },
  {
   "cell_type": "code",
   "execution_count": null,
   "metadata": {
    "scrolled": true
   },
   "outputs": [],
   "source": [
    "demet = line(1,2,3,7)\n",
    "egim = demet[0]\n",
    "kesme = demet[1]\n",
    "print(\"m = {:g}, n = {:g}\".format(egim,kesme))"
   ]
  },
  {
   "cell_type": "code",
   "execution_count": null,
   "metadata": {},
   "outputs": [],
   "source": [
    "x_0 = 1; x_1 = 3; y_0 = 2; y_1 = 7\n",
    "m,n = line(x0 = x_0,x1 = x_1, y0 = y_0, y1 = y_1)\n",
    "print(\"{:} x + {:}\".format(m,n))"
   ]
  },
  {
   "cell_type": "markdown",
   "metadata": {},
   "source": [
    "[Başa Dön](#Fonksiyonlar-ve-Şartlı-İfadeler)"
   ]
  },
  {
   "cell_type": "markdown",
   "metadata": {},
   "source": [
    "# Fonksiyonların Fonksiyon Argümanları #\n",
    "\n",
    "Python'da bir fonksiyonun argümanı herhangi bir nesne olabilir (tam sayı, reel sayı, metin, liste, demet hiç farketmez. Bu nedenle bir fonksiyonun fonksiyon argümanı da olabilir ve bu özellikle bazı matematiksel problemlerin nümerik çözümünde oldukça da kullanışlıdır. Örnek olarak bir fonkisyonun ikinci türevinin tanımını ele alalım.\n",
    "\n",
    "$$f''(x) \\approx \\frac{f(x - h) - 2f(x) + f(x + h)}{h^2}$$"
   ]
  },
  {
   "cell_type": "code",
   "execution_count": null,
   "metadata": {},
   "outputs": [],
   "source": [
    "def diff2(f, x, h=1E-6):\n",
    "    r = (f(x-h) - 2*f(x) + f(x+h))/float(h*h)\n",
    "    return r\n",
    "\n",
    "def g(t):\n",
    "    return t**(-6)\n",
    "\n",
    "t = 1.2\n",
    "print(\"t^-6 fonksiyonunun ikinci turevinde {:.1f}\".format(t))\n",
    "d2g = diff2(g, t, h=1e-7)\n",
    "print(\"g’’({:f}) = {:.1f}\".format(t, d2g))"
   ]
  },
  {
   "cell_type": "code",
   "execution_count": null,
   "metadata": {},
   "outputs": [],
   "source": [
    "print(\"{:.1f}\".format(42*t**(-8)))"
   ]
  },
  {
   "cell_type": "code",
   "execution_count": null,
   "metadata": {},
   "outputs": [],
   "source": [
    "def f(x):\n",
    "    from math import log\n",
    "    return 2*log(5*x)\n",
    "print(\"f''(x = 3) = {:.2f}\".format(diff2(f, x=3)))"
   ]
  },
  {
   "cell_type": "code",
   "execution_count": null,
   "metadata": {
    "scrolled": true
   },
   "outputs": [],
   "source": [
    "from math import pi,sin\n",
    "print(\"sin''(x = pi/2) = \", diff2(sin, pi/2))"
   ]
  },
  {
   "cell_type": "code",
   "execution_count": null,
   "metadata": {},
   "outputs": [],
   "source": [
    "from math import e,log\n",
    "print(\"ln''(x = e^2) = \", diff2(log,e**2))"
   ]
  },
  {
   "cell_type": "markdown",
   "metadata": {},
   "source": [
    "[Başa Dön](#Fonksiyonlar-ve-Şartlı-İfadeler)"
   ]
  },
  {
   "cell_type": "markdown",
   "metadata": {},
   "source": [
    "# Lambda Fonksiyonları #\n",
    "\n",
    "Python'da oldukça hızlı bir fonksiyon tanımlama yöntemi bulunmaktadır. <b>Lambda fonksiyonu</b> adı verilen bu fonksiyonlar, sınırlı kabiliyetlerine rağmen, basit işleri yapmak üzere çok hızlı (tek satırda) tanımlanabildikeri için oldukça kullanışlıdırlar."
   ]
  },
  {
   "cell_type": "code",
   "execution_count": null,
   "metadata": {},
   "outputs": [],
   "source": [
    "f = lambda x: x**2 + 4\n",
    "print(f(2))\n",
    "def f2(x): \n",
    "    # verilen lambda fonksiyonuna ozdes fonksiyon\n",
    "    return x**2 + 4\n",
    "print(f2(2))\n",
    "f = lambda x, y : x + y\n",
    "print(f(1,1))\n",
    "F = lambda C: (9./5)*C + 32\n",
    "print(F(21.0))"
   ]
  },
  {
   "cell_type": "markdown",
   "metadata": {},
   "source": [
    "[Başa Dön](#Fonksiyonlar-ve-Şartlı-İfadeler)"
   ]
  },
  {
   "cell_type": "markdown",
   "metadata": {},
   "source": [
    "## Lambda Fonksiyonları ve Eşleştirme: Mapping ##\n",
    "\n",
    "Eşleştirme (<i>mapping</i>), filtreleme (<i>filtering</i>) ve indirgeme (<i>reducing</i>) Python 2.x'te de yer alan pratik fonksiyonlardır. Ancak aralarında Python'un yaratıcısı Guido van Rossum'un da yer aldığı bazı Python programcıları, bu fonksiyonlarla gelen fonksiyonalitenin hızlı ve kompakt bir yazımla liste oluşturmayı sağlayan <i>list comprehensions</i> ile de elde edilebileceği nedeniyle kullanımlarını önermemektedirler. AST415 dersinde de öğrenciler bu yapılardan sorumlu tutulmamıştır ve öğrenilmesi takip edenlerin isteğine bırakılmıştır. Ayrıca bu fonksiyonlara özdeş sonuçların hızlı liste oluşturma yöntemleri (list comprehensions) nasıl oluşturulabileceğine ilişkin örnekler bu dersin [Alıştırmalar](#Alıştırmalar) bölümünde yer almaktadır.\n",
    "\n",
    "<b>Eşleştirme (mapping):</b> Lambda fonksiyonlarının özellikle listelerle birlikte çok efektif bir şekilde kullanımını sağlayan bir yöntemdir. Bu işlem $map$ fonksiyonu ile yapılır. $map$ fonksiyonu bir fonksiyonun bir dizinin bütün elemanları üzerinde uygulanmasını sağlar. Sonuç fonksiyon uygulandıktan sonra oluşan bir dizidir. "
   ]
  },
  {
   "cell_type": "code",
   "execution_count": null,
   "metadata": {},
   "outputs": [],
   "source": [
    "Cderece = list(range(-5,41,5))\n",
    "Fderece = list(map(lambda x: (float(9)/5)*x + 32, Cderece))\n",
    "print(Fderece)\n",
    "a = [1,2,3,4]\n",
    "b = [17,12,11,10]\n",
    "c = [-1,-4,5,9]\n",
    "print(list(map(lambda x,y:x+y, a,b)))\n",
    "print(list(map(lambda x,y,z:x+y+z, a,b,c)))\n",
    "print(list(map(lambda x,y,z:x+y-z, a,b,c)))"
   ]
  },
  {
   "cell_type": "markdown",
   "metadata": {},
   "source": [
    "[Başa Dön](#Fonksiyonlar-ve-Şartlı-İfadeler)"
   ]
  },
  {
   "cell_type": "markdown",
   "metadata": {},
   "source": [
    "## Lambda Fonksiyonları ve Filtreleme: Filtering ##\n",
    "\n",
    "<b>Filtreleme (filtering):</b> Bir fonksiyonun $True$ döndürdüğü değerlere göre bir liste içinden eleme yapmak oldukça “zarif” bir yöntemdir. Bu işlem $filter$ fonksiyonu ile yapılır ve <i>lambda fonksiyonları</i> bu işlemde önemli bir kolaylık sağlarlar."
   ]
  },
  {
   "cell_type": "code",
   "execution_count": null,
   "metadata": {},
   "outputs": [],
   "source": [
    "fib = [0,1,1,2,3,5,8,13,21,34,55]\n",
    "ikiye_tam_bolunenler = list(filter(lambda x: x % 2 == 0, fib))\n",
    "print(ikiye_tam_bolunenler)\n",
    "ikiye_tam_bolunmeyenler = list(filter(lambda x: x % 2, fib))\n",
    "print(ikiye_tam_bolunmeyenler)\n",
    "a = range(-5,5)\n",
    "negatifler = list(filter(lambda x: x<0, a))\n",
    "print(negatifler)\n",
    "pozitifler = list(filter(lambda x: x>0, a))\n",
    "print(pozitifler)"
   ]
  },
  {
   "cell_type": "markdown",
   "metadata": {},
   "source": [
    "[Başa Dön](#Fonksiyonlar-ve-Şartlı-İfadeler)"
   ]
  },
  {
   "cell_type": "markdown",
   "metadata": {},
   "source": [
    "## Lambda Fonksiyonları ve İndirgeme: Reducing ##\n",
    "\n",
    "<b>İndirgeme (reducing):</b> Bu fonksiyon Python 3.x ile birlikte herhangi bir paket kullanılmadan çalışan, hazır (<i>built-in</i>) bir fonksiyon olmaktan çıkarılmış ve $functools$ modülüne taşınmıştır. Dolayısı ile kullanılması için bu modülden çağrılması ($import$ edilmesi) gereklidir. $reduce(fonksiyon, dizi)$ fonksiyonu argüman olarak verilen dizi üzerinde sürekli uygular ve tek bir değer döndürür. Dizi argüman $s = [ s1, s2, s3, ... , sn ]$ şeklinde tanımlanmış bir Python listesi olsun. Öncelikle argüman olarak verilen fonksiyon $s1$ ve $s2$ üzerine uygulanır. Fonksiyon bu değerlerden birini seçer. Daha sonra fonksiyon seçilen bu değer ile $s3$ üzerine uygulanır (fonksiyon((fonksiyon(s1,s2),s3)). Bir sonraki adımda bu kez seçilen değer ile $s4$'e uygulanır ve bu işlem verilen listede tek bir eleman kalıncaya kadar devam eder."
   ]
  },
  {
   "cell_type": "code",
   "execution_count": null,
   "metadata": {},
   "outputs": [],
   "source": [
    "from functools import reduce\n",
    "gauss_toplam = reduce(lambda x, y: x+y, range(1,101))\n",
    "print(gauss_toplam)\n",
    "L = ['Python ', 'programlama ', 'dili ', 'bir ', 'harika ', 'dostum!']\n",
    "birlesik = reduce(lambda x,y:x+y, L)\n",
    "print(birlesik)\n",
    "carpim = reduce(lambda x, y: x * y, [1, 2, 3, 4])\n",
    "print(carpim)"
   ]
  },
  {
   "cell_type": "markdown",
   "metadata": {},
   "source": [
    "[Başa Dön](#Fonksiyonlar-ve-Şartlı-İfadeler)"
   ]
  },
  {
   "cell_type": "markdown",
   "metadata": {},
   "source": [
    "# Yinelemeli Fonksiyonlar \n",
    "\n",
    "Bir fonksiyonu kendi içinden çağırarak istediğiniz tekrar sayısında bir işlemi tekrarlamanız mümkün olabliir. Bu amaca yönelik olarak kullanılan fonksiyonlara programcılıkta <b>yinelemeli (recursive) fonksiyonlar</b> denir. Özünde `map`, `filter` ve `functools.reduce` fonksiyonları ile yapılan işlem de birer çeşit yinelemedir. İyi bir örnek `filter` fonksiyonuna örnek olarak gördüğünüz Fibonacci sayı dizisini istediğiniz uzunlukta oluşturmak olabilir ve aşağıdaki kod bloğuyla istenen gerçekleştirilebilir."
   ]
  },
  {
   "cell_type": "code",
   "execution_count": null,
   "metadata": {},
   "outputs": [],
   "source": [
    "def fibonacci(n):\n",
    "    if n <= 1:\n",
    "        return n\n",
    "    else:\n",
    "        return fibonacci(n - 1) + fibonacci(n - 2)\n",
    "\n",
    "N = 15\n",
    "print('{:d} uzunlugundaki Fibonacci dizisi:'.format(N))\n",
    "\n",
    "fib = []\n",
    "for i in range(N):\n",
    "    fib.append(fibonacci(i))\n",
    "\n",
    "print(fib)"
   ]
  },
  {
   "cell_type": "markdown",
   "metadata": {},
   "source": [
    "[Başa Dön](#Fonksiyonlar-ve-Şartlı-İfadeler)"
   ]
  },
  {
   "cell_type": "markdown",
   "metadata": {},
   "source": [
    "# Şartlı Yapılar: if, elif, else #\n",
    "\n",
    "Aşağıdaki şekilde tanımlanmış bir f(x) parçalı fonksiyonu olsun.\n",
    "\n",
    "$$ f(x)  = sin(x), 0 \\le x \\le \\pi$$\n",
    "$$ f(x) = 0, x \\lt 0 , \\pi \\lt x $$\n",
    "\n",
    "Bu parçalı fonksiyonu bir Python fonksiyonu olarak yazmak için şartlı ifade yapısı kullanmak gereklidir."
   ]
  },
  {
   "cell_type": "code",
   "execution_count": null,
   "metadata": {},
   "outputs": [],
   "source": [
    "from math import pi, sin\n",
    "def f(x):\n",
    "    if 0 <= x <= pi:\n",
    "        return sin(x)\n",
    "    else:\n",
    "        return 0\n",
    "f(3*pi/4)"
   ]
  },
  {
   "cell_type": "code",
   "execution_count": null,
   "metadata": {},
   "outputs": [],
   "source": [
    "f(-pi/2)"
   ]
  },
  {
   "cell_type": "markdown",
   "metadata": {},
   "source": [
    "Bir başka örnekte şartlı yapıyı, santigrad-fahrenheit derece dönüşümünde fiziksel olmayan sonuçları denetleyip ayıklamakta kullanalım."
   ]
  },
  {
   "cell_type": "code",
   "execution_count": null,
   "metadata": {},
   "outputs": [],
   "source": [
    "def F(C):\n",
    "    if C < -273.15:\n",
    "        print('{:g} derece santigrad fiziksel degildir!'.format(C))\n",
    "        print('Fahrenheit dereceye donusturme islemi yapilamaz')\n",
    "    else:\n",
    "        F = 9.0/5*C + 32\n",
    "        return F"
   ]
  },
  {
   "cell_type": "markdown",
   "metadata": {},
   "source": [
    "Bir başka örnekte aşağıdaki parçalı fonksiyon, bir Python fonksiyonu olarak yazılmak isteniyor olsun.\n",
    "\n",
    "$$ f(x)  = 0, x \\lt 0$$\n",
    "$$ f(x) = x, 0 \\le x \\lt 1 $$\n",
    "$$ f(x) = 2 - x, 1 \\le x \\lt 2 $$\n",
    "$$ f(x) = 0, 2 \\le x $$\n",
    "\n",
    "Bu durumda yapılması gereken $if$ ve $else$ yapılarının yanı sıra $elif$ yapısını da kullanmaktır."
   ]
  },
  {
   "cell_type": "code",
   "execution_count": null,
   "metadata": {},
   "outputs": [],
   "source": [
    "def N(x):\n",
    "    if x < 0:\n",
    "        return 0.0\n",
    "    elif 0 <= x < 1:\n",
    "        return x\n",
    "    elif 1 <= x < 2:\n",
    "        return 2 - x\n",
    "    elif x >= 2:\n",
    "        return 0.0"
   ]
  },
  {
   "cell_type": "markdown",
   "metadata": {},
   "source": [
    "$if$ – $else$ yapısı Python'da (ve diğer tüm programlama dillerinde) çok kullanılan bir yapı olduğu için Python bu yapı için tek satırlık bir ifade sağlamıştır."
   ]
  },
  {
   "cell_type": "code",
   "execution_count": null,
   "metadata": {},
   "outputs": [],
   "source": [
    "from math import pi, sin\n",
    "def f(x):\n",
    "    return (sin(x) if 0 <= x <= pi else 0)\n",
    "print(\"sin(pi/2) = \", f(pi/2.))"
   ]
  },
  {
   "cell_type": "markdown",
   "metadata": {},
   "source": [
    "[Başa Dön](#Fonksiyonlar-ve-Şartlı-İfadeler)"
   ]
  },
  {
   "cell_type": "markdown",
   "metadata": {},
   "source": [
    "## Döngüler Tamamlanmadan Çıkmak\n",
    "\n",
    "Zaman zaman Python döngülerinden belirli bir koşula bağlı olarak çıkmak ya da başka işlemler yaparak devam etmek gerekebilir. Bu durumlar için Python `break`, `continue` ve `else` gibi özel ifadelere sahiptir.\n",
    "\n",
    "### break ifadesi\n",
    "\n",
    "Python'daki `break` ifadesi, bir döngüyü hemen sonlandırır ve program döngü gövdesini izleyen ilk ifadeyle ilerler.\n"
   ]
  },
  {
   "cell_type": "code",
   "execution_count": null,
   "metadata": {},
   "outputs": [],
   "source": [
    "x = 6\n",
    "while x > 0:\n",
    "    x -= 1\n",
    "    if x == 2:\n",
    "        break\n",
    "    print(\"x = \", x)\n",
    "print('Dongunun sonu!')"
   ]
  },
  {
   "cell_type": "markdown",
   "metadata": {},
   "source": [
    "[Başa Dön](#Fonksiyonlar-ve-Şartlı-İfadeler)"
   ]
  },
  {
   "cell_type": "markdown",
   "metadata": {},
   "source": [
    "### continue ifadesi\n",
    "\n",
    "`continue` ifadesi ise bir şarta bağlı olarak döngünün sadece o şart için çalışmamasını ve döngünün en başa dönmesini sağlar. Yukarıdaki örnekte `break` ifadesi yerine `continue` ifadesi konduğunda bu kez de döngü verilen koşul için çalışmaz ancak döngüden çıkılması yerine başına dönülür."
   ]
  },
  {
   "cell_type": "code",
   "execution_count": null,
   "metadata": {},
   "outputs": [],
   "source": [
    "x = 6\n",
    "while x > 0:\n",
    "    x -= 1\n",
    "    if x == 2:\n",
    "        continue\n",
    "    print(\"x = \", x)\n",
    "print('Dongunun sonu!')"
   ]
  },
  {
   "cell_type": "markdown",
   "metadata": {},
   "source": [
    "Görüldüğü üzere $x = 2$ için döngü bir sonraki satırdan devam etmek yerine başa dönmüş, x 1 azaltılarak ($x -= 1$) 1 değerini almış ve bu kez $x == 2$ koşulu sağlanmadığı için döngü bir satır sonraki print ifadesi ile devam etmiştir. Bu nedenle x için 2 değeri ekrana gelmezken, x'in diğer değerleri yazdırılabilmiştir."
   ]
  },
  {
   "cell_type": "markdown",
   "metadata": {},
   "source": [
    "[Başa Dön](#Fonksiyonlar-ve-Şartlı-İfadeler)"
   ]
  },
  {
   "cell_type": "markdown",
   "metadata": {},
   "source": [
    "### else ifadesi\n",
    "\n",
    "Python, bir `while` döngüsünün sonunda isteğe bağlı bir `else` ifadesinin kullanılmasına izin verir.Python'un diğer birçok programlama dilinde bulunmayan bu benzersiz özelliği tıpkı şartlı yapılarda olduğu gibi `while` döngüsünün çalışmasını sağlayan koşulun tersi (değili) gerçekleştiğinde ilave bir kod bloğunun çalışmasını sağlar."
   ]
  },
  {
   "cell_type": "code",
   "execution_count": null,
   "metadata": {},
   "outputs": [],
   "source": [
    "x = 6\n",
    "while x > 0:\n",
    "    x -= 1\n",
    "    print(\"x = \", x)\n",
    "else:\n",
    "    print(\"-1'i sevmiyoruz!\")\n",
    "print('Dongunun sonu!')"
   ]
  },
  {
   "cell_type": "markdown",
   "metadata": {},
   "source": [
    "Burada dikkat edilmesi gereken önemli bir nokta `else` ifadesinin `while` döngüsünün bir tamamlayıcı parçası olduğudur. Bu nedenle `while` döngüsünden örneğin `break` ifadesi ile çıkıldığında `else` bloğu da çalışmaz.\n",
    "\n",
    "İçiçe döngülerde kullanılan `break` ifadesi ise kullanıldığı döngüden çıkılmasını sağlarken bir üstteki döngünün ifadeleriyle devam edilmesine engel olmaz."
   ]
  },
  {
   "cell_type": "code",
   "execution_count": null,
   "metadata": {},
   "outputs": [],
   "source": [
    "x = 6\n",
    "while x > 0:\n",
    "    x -= 1\n",
    "    if x == 2:\n",
    "        break\n",
    "    print(\"x = \", x)\n",
    "else:\n",
    "    print(\"+2'yi sevmiyoruz!\")\n",
    "print('Dongunun sonu!')"
   ]
  },
  {
   "cell_type": "markdown",
   "metadata": {},
   "source": [
    "Görüldüğü gibi `else` bloğundaki print ifadesi döngüden çıkıldığı için çalıştırılamamıştır. Döngünün koşulu ($x > 0$ iken) sağlandığı sürece çalışan bir `if` ifadesi, `else` bloğunu ise koşul yanlış ($False$) olduğu ve döngünün bu koşula bağlı olarak artık çalışmayı bıraktığı durumda çalışan bir ifadeler bloğu olarak düşünmekte fayda vardır. \n",
    "\n",
    "Her ne kadar bir değeri bilinen bir nesneyi bir liste içerisinde aramanın çok daha efektif yöntemleri varsa da `else` bloğunun bir kullanımı bir liste elemanı için tüm listeyi taramak üzere yazılmış aşağıdaki kod bloğuyla örneklenebilir."
   ]
  },
  {
   "cell_type": "code",
   "execution_count": null,
   "metadata": {},
   "outputs": [],
   "source": [
    "yildizlar = ['sirius', 'vega', 'deneb', 'betelgeuse']\n",
    "yildiz = \"vega\"\n",
    "\n",
    "i = 0\n",
    "while i < len(yildizlar):\n",
    "    if yildizlar[i] == yildiz:\n",
    "        print('Aranan yildiz ({:s}) bulundu!'.format(yildiz))\n",
    "        break\n",
    "    i += 1\n",
    "else:\n",
    "    # Aranan yildiz bulunamadi!\n",
    "    print(yildiz, 'yildizlar listesi icinde bulunamadi.')"
   ]
  },
  {
   "cell_type": "markdown",
   "metadata": {},
   "source": [
    "Listeleri taramak için bir listenin eleman sayısı bilindiğinden $for$ döngüleri çok daha efektiftir. Ayrıca liste elemanı bulmak üzere $in$ yapısı kullanmak da bir döngü kullanmaya göre çok daha hızlı sonuç verir."
   ]
  },
  {
   "cell_type": "code",
   "execution_count": null,
   "metadata": {},
   "outputs": [],
   "source": [
    "yildiz = 'vega'\n",
    "if yildiz in yildizlar:\n",
    "    print(yildiz, 'yildizlar listesinde bulundu')\n",
    "else:\n",
    "    print(yildiz, 'yildizlar listesi icinde bulunamadi.')"
   ]
  },
  {
   "cell_type": "markdown",
   "metadata": {},
   "source": [
    "Alternatif bir çözüm $yildizlar$ listesindeki $yildiz$ adlı yıldızın sayısını listeler üzerinde tanımlı `count` metoduyla almak olabilir."
   ]
  },
  {
   "cell_type": "code",
   "execution_count": null,
   "metadata": {},
   "outputs": [],
   "source": [
    "if yildizlar.count(yildiz):\n",
    "    print(yildiz, 'yildizlar listesinde bulundu')\n",
    "else:\n",
    "    print(yildiz, 'yildizlar listesi icinde bulunamadi.')"
   ]
  },
  {
   "cell_type": "markdown",
   "metadata": {},
   "source": [
    "[Başa Dön](#Fonksiyonlar-ve-Şartlı-İfadeler)"
   ]
  },
  {
   "cell_type": "markdown",
   "metadata": {},
   "source": [
    "# Alıştırmalar #\n",
    "\n",
    "1. Sıcaklığı Kelvin cinsinden verilen bir karacismin ışınımının maksimumunun dalgaobyunu cm cinsinden Wien kayma yasası uyarınca hesaplayan ve döndüren bir fonksiyon yazınız.\n",
    "\n",
    "2. Görsel parlaklığı (m) kadir cinsinden ve uzaklığı (d) parsek cinsinden verilen bir yıldızın mutlak parlaklığını uzaklık modülünü kullanarak hesaplayan ve döndüren bir fonksiyon yazınız.\n",
    "\n",
    "3. Verilen iki sayının eşitliğini belirli bir tolerans değeri çerçevesinde denetleyen, bu iki sayının arasındaki farkın multak değeri verilen tolerans değerinden küçükse $True$, değilse $False$ döndüren bir fonksiyon yazınız. Tolerans değerini bir anahtar kelime argümanı (ing. keyword argument) olarak, varsayılan değeri $10^{-6}$ olacak şekilde tanımlayınız. Fonksiyonunuzu test etmek için 1.0 ile 1 / 49 x 49 işleminin sonucunun eşit olup olmadığını denetlemek üzere varsayılan tolerans değeri ve  $10^{-16}$ tolerans değerini kullanınız.\n",
    "\n",
    "4. İki sayıyı argüman olarak alıp, toplamlarını döndüren bir normal fonksiyon bir de onun özdeşi $lambda$ fonksiyonu yazınız.\n",
    "\n",
    "5. Santigrad dereceyi Fahrenheit'a dönüştüren bir normal fonksiyon bir de özdeşi $lambda$ fonksiyonu yazınız.\n",
    "\n",
    "6. İlk hızı $V_{0}$ olan bir cismin dikey atış formülünü kullanarak t anındaki konumunu bulan bir fonksiyon yazınız. Fonksiyonunuzun son argümanı varsayılan değeri 9.81 $m/s^{2}$ olan yerçekimi ivmesi ($g = 9.81$) olmalıdır. $yol$ adını vereceğinizi bu fonksiyona özdeş bir de $lambda$ fonksiyonu yazarak, testini $V_{0} = 5 m/s$,  $t = 1 s$ ve  $g = 10 m/s^{2}$ için fonksiyonlarınızın hesaplayacağı değeri ekrana yazdırmak suretiyle yapınız.\n",
    "\n",
    "7. Aynı uzunlukta üç listenin karşılıklı elemanlarını toplayarak bir listeye atan ve programda çağrıldığı noktaya döndüren bir fonksiyon yazınız. Fonksiyonunuzu  $a = [1,2,3,4],  b = [17,12,11,10], c = [-1,-4,5,9]$ listeleri üzerinden test ediniz.\n",
    "\n",
    "8. $fib = [0,1,1,2,3,5,8,13,21,34,55]$ listesindeki ikiyle bölünebilen sayıları $ikiyle$\\_$tam$\\_$bolunenler$ listesinde bölünmeyenleri $ikiyle$\\_$tam$\\_$bolunmeyenler$ listesinde toplayınız ve bu listeleri ekrana yazdırınız.\n",
    "\n",
    "9. $a = [0.1, 9.0, -4.2, 0.5, -2.3, 3.1, 11.0]$ listesinde -2'den küçük sayıları, -2 ile 2 arasındaki sayıları (-2 ve 2 dahil) ve 2'den büyük sayıları ekrana yazdıran bir program yazınız. \n",
    "\n",
    "10. Belirli integral alabilmek için kullanılan yöntemlerden biri de yamuk yöntemidir. $x = a$ ile $x = b$ arasında tanımlı, sürekli ve integrallanebilir bir $f$ fonksiyonunun bu aralıktaki belirli integrali yamuk yöntemiyle aşağıdaki şekilde hesaplanabilir.\n",
    "\n",
    "$$\\int_{a}^{b} f(x) dx \\approx \\frac{1}{2} \\frac{f(a) + f(b)}{b - a}$$\n",
    "\n",
    "Bu ifadeyle integral hesaplayan ve programda çağrıldığı yere döndüren bir fonksiyon yazınız. Fonksiyonunuzu a) $math$ kütüphanesindeki $sin$ fonksyonunun $0$ ile $\\pi / 2$ değerleri arasındaki integralini alarak, b) argüman olarak verilen bir $x$ için $x^3$ 'ü hesaplayıp döndüren kendi yazacağınız bir fonksiyonun $1$ ile $3$ değerleri arasındaki integralini hesaplayarak test ediniz.\n",
    "\n",
    "11. Verilen iki aynı tür nesneyi o nesnelerin toplamına ilişkin kurallar dahilinde toplayıp çağrıldığı noktaya döndüren bir fonksyon yazınız. a) Fonksiyonunuzu iki tam, iki kayan sayı, iki liste ve iki metin nesnesi toplayarak test ediniz. b) Fonksiyonunuzu hiçbir sayı göndermeden, sırasıyla tek bir tane ve üç tane sayı göndererek test ediniz. Çalışmıyorsa neden çalşmadığını anlamaya çalışınız.\n",
    "\n",
    "12. Bir önceki soruda yazdığınız $toplam$ fonksiyonunu belirsiz sayıda ve anahtar kelime argümanı içermeyen sayıyı (tam ya da kayan noktalı) toplayacak şekilde düzenleyiniz.Fonksiyonunuzu hiçbir sayı göndermeden, sırasıyla tek bir tane, iki tane ve üç tane sayı göndererek test ediniz.\n",
    "\n",
    "13. Belirsiz sayıda rengi anahtar kelime ($keyword$), bu renklere karşılık HTML renk kodlarını ise değer ($value$) olarak $anahtar = deger$ şeklinde tanımlanan anahtar elime argümanlarını alarak her renk ve ona karşılık renk kodunu ekrana yazdıran bir fonksiyon yazınız. Fonksiyonunuzu kırmızı, beyaz ve siyah renkleri için test ediniz.\n",
    "\n",
    "14. Belirsiz sayıda anahtar kelime argümanları olarak tanımlayacağınız nesneyi alan ve sırasıyla sadece anahtar isimlerini ekrana yazdıran $sabitler$ isimli bir fonksiyon yazınız. Fonksiyonunuzu yer çekimi sabiti ($g$), evrensel çekim sabiti ($G$), Boltzman sabiti ($k$) ve ışık hızı ($c$) ile test ediniz.\n",
    "\n",
    "15. Bir önceki soruda yazdığnız fonksiyonu gönderdiğiniz sabitlerin sadece değerlerini ekrana yazdıracak şekilde düzenleyiniz.\n",
    "\n",
    "16. Bir önceki soruda yazdığınız fonksiyonu gönderdiğiniz sabitler ve değerlerini birlikte ekrana yazdıracak şekilde düzenleyiniz.\n",
    "\n",
    "17. Program tarafında gönderilen bir n tam sayısına kadar (n hariç) tam sayılar içerisinden 5 ile bölünebilenleri ekrana yazdıran (listeye atmanız ya da programa döndürmeniz istenmemektedir) $beslebolunenler$ isimli bir fonksiyon yazınız. n'in pozitif bir sayı olabileceği gibi negatif bir sayı da olabileceğine; n'in pozitif olması durumunda n'e sayacınızı arttırarak, negatif olması durumunda ise azaltarak ulaşabileceğinize dikkat ediniz. Fonksiyonunuzu $n = 102$ ve $n = -102$ için test ediniz.\n",
    "\n",
    "18. Kenar uzunlukları verilen bir üçgenin türünü (eşkenar, ikizkenar ya da çeşitkenar) ekrana yazdıran bir fonksiyon yazınız. Fonksiyonunuzu bir eşkenar, bir ikizkenar, bir de çeşitkenar üçgen için test ediniz. \n",
    "\n",
    "19. \"Eratosthenes'in eleği\" 2'den bir N pozitif tam sayısına kadar (N dahil) tüm asal sayıları veren bir algoritmadır. Verilen bir N pozitif tam sayısı için Eratosthenes'in eleği algoritması ile belirlediği N'den küçük veya eşit tüm asal sayıları bir liste içerisine toplayan ve programda çağrıldığı yere döndüren bir Python fonksiyonu yazınız. Fonksiyonunuzu N = 100 için test ediniz.\n",
    "\n",
    "20. Aşağıda bazı yıldızlar, parsek (pc) cinsinden uzaklıkları ve gezegen içerip içermediklerine iişkin Boolean bir değerden oluşan demet nesnelerini içeren bir Python listesi içerisinde verilmiştir. Bu yıldızlardan gezegen barındıran ve varsayılan değeri 5 pc'lik bir uzaklıktan yakın olanlarını ekrana yazdıran bir fonksiyon yazınız. Fonksiyonunuzu bu varsayılan uzaklık değeri için ve bu değeri 3 ve 20 pc olacak şekilde değiştirerek test ediniz.\n",
    "\n",
    "veri = \\[\n",
    "('Proxima', 1.30, True),\n",
    "('Alfa Cen A', 1.32, False),\n",
    "('Alfa Cen B', 1.32, False),\n",
    "('Barnard Yildizi', 1.83, True),\n",
    "('Wolf 359', 2.59, False),\n",
    "('Wolf 940', 12.39, True),\n",
    "('Wolf 503', 42.68, True),\n",
    "('Wolf 1061', 4.31, True),\n",
    "('Ross 128', 3.31, True),\n",
    "('Lalande 21185', 2.55, False),\n",
    "('GJ 3779', 13.75, True),\n",
    "('Sirius', 2.64, False),\n",
    "('Ross 154', 2.98, False),\n",
    "('Epsilon Eridani', 3.22, True),\n",
    "('EZ Aqr', 3.40, False),\n",
    "('Procyon', 3.52, False),\n",
    "('Tau Ceti', 3.65, True),\n",
    "('Gliese 832', 4.96, False),\n",
    "('HD 2685', 198.2, True),\n",
    "('K2 136', 59.4, True),\n",
    "('HD 219134', 6.55, True),\n",
    "('Vega', 7.68, False)\n",
    "\\]\n",
    "\n",
    "[Başa Dön](#Fonksiyonlar-ve-Şartlı-İfadeler)"
   ]
  }
 ],
 "metadata": {
  "kernelspec": {
   "display_name": "Python 3",
   "language": "python",
   "name": "python3"
  },
  "language_info": {
   "codemirror_mode": {
    "name": "ipython",
    "version": 3
   },
   "file_extension": ".py",
   "mimetype": "text/x-python",
   "name": "python",
   "nbconvert_exporter": "python",
   "pygments_lexer": "ipython3",
   "version": "3.8.10"
  }
 },
 "nbformat": 4,
 "nbformat_minor": 2
}
