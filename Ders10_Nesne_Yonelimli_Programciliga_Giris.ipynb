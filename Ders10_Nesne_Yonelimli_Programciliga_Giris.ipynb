{
 "cells": [
  {
   "cell_type": "markdown",
   "metadata": {},
   "source": [
    "# AST415 Astronomide Sayısal Çözümleme - I #\n",
    "## Ders - 10 Python'da Nesne Yönelimli Programcılığa Giriş ##"
   ]
  },
  {
   "cell_type": "markdown",
   "metadata": {},
   "source": [
    "Doç. Dr. Özgür Baştürk <br>\n",
    "Ankara Üniversitesi, Astronomi ve Uzay Bilimleri Bölümü <br>\n",
    "obasturk at ankara.edu.tr <br>\n",
    "http://ozgur.astrotux.org"
   ]
  },
  {
   "cell_type": "markdown",
   "metadata": {},
   "source": [
    "# Bu derste neler öğreneceksiniz?\n",
    "## Python'da Nesne Yönelimli Programcılığa Giriş ##\n",
    "\n",
    "* [Nesne Yönelimli Programlama Nedir?](#Nesne-Yönelimli-Programlama-Nedir?)\n",
    "* [Örnek: Doğru Sınıfı](#Örnek:-Doğru-Sınıfı)\n",
    "* [Sınıf-Türünün-Kontrolü](#Sınıf-Türünün-Kontrolü)\n",
    "* [Örnek Problem 1: Nümerik Türev](#Örnek-Problem-1:-Nümerik-Türev)\n",
    "    * [Bir-Sınıfın-İşlevselliğinin-Kısıtlanması](#Bir-Sınıfın-İşlevselliğinin-Kısıtlanması)\n",
    "    * [Kodun Geliştirilmesi: Türevin Üzerindeki Hatanın Hesabı](#Kodun-Geliştirilmesi:-Türevin-Üzerindeki-Hatanın-Hesabı)\n",
    "    * [Sadece Fonksiyonlar Kullanarak Alternatif Yaklaşım](#Sadece-Fonksiyonlar-Kullanarak-Alternatif-Yaklaşım)\n",
    "* [Örnek Problem 2: Nümerik İntegrasyon](#Örnek-Problem-2:-Nümerik-İntegrasyon)\n",
    "* [Örnek Problem 3: Diferansiyel Denklem Çözümü](#Örnek-Problem-3:-Diferansiyel-Denklem-Çözümü)\n",
    "* [Örnek: Tayfsal Enerji Dağılımı](#Örnek:-Tayfsal-Enerji-Dağılımı)\n",
    "* [Alıştırmalar I](#Alıştırmalar-I)\n",
    "* [Alıştırmalar II](#Alıştırmalar-II)"
   ]
  },
  {
   "cell_type": "markdown",
   "metadata": {},
   "source": [
    "# Nesne Yönelimli Programlama Nedir? #\n",
    "\n",
    "Her ne kadar <b>nesne yönelimli programlama</b> (object oriented programming) kavramını farklı programcı ve bilgisayar bilimcileri farklı şekillerde tanımlıyor olsalar da <b>Nesne Yönelimli Programlama</b>'yı sınıf hiyerarşilerine dayalı programcılık paradigması olarak tanımlamak daha doğrudur. Nesnelerle programlama' yı da nesne yönelimli programlama kavramı altında ele alanlar olsa dahi, örneğin Python'da her “şey” bir nesne olduğu için zaten her zaman yapılan nesnelerle programlamadır. Aradaki fark Python'un temel veri türlerinin (int, float, str, list, tuple, dict) dışında, kullanıcı tarafından tanımlanmış türler söz konusu olduğunda nesne yönelimli programlamadan bahsetmekle açıklığa kavuşturulabilir. \n",
    "\n",
    "<b><i>Kalıt (Inheritance)</i> ve <i>Sıradüzen (Hierarchy)</i> Kavramları:</b> Nesne yönelimli programcılıkta temel yaklaşım, birbirleriyle bağlantılı sınıfları bir araya getirerek tek bir birim (aile) şeklinde programlamaktır. Bu yaklaşım, programın detaylarının bir kenara bırakılmasına, daha kolay modifiye edilmesine ve geliştirilmesine yardımcı olur. \n",
    "\n",
    "Sınıflardan oluşan bir aile tıpkı biyolojik bir aile gibi, “ebeveyn” sınıflar (parent) ve “çocuk” sınıflar (child) içerir. Böyle bir aileye <b>sınıf sıradüzeni</b> (class hierarchy) adı verilir. Çocuk sınıflar, ebeveyn sınıflarını veri ve metotlarını <b>miras (ya da kalıt)</b> olarak devralır (inheritance), bu veri ve metotları değiştirebilir ve kendi veri ve metotlarını bunlara ekleyebilir. Yani, bir işlevi olan bir sınıfınız var ve yeni bir işleve ihtiyacınız varsa, bu sınıfın bir “çocuğunu” yaratıp, bu işlevi onun yapmasını sağlayabilirsiniz. Böylece hem “ebeveyn” sınıf hala elinizdedir, hem de çocuk sınıf ebeveyn sınıftaki kodlar tekrar etmediğinden daha kısadır ve kolay manipüle edilir. \n",
    "\n",
    "Bir program herhangi bir sınıfın çocuk ya da ebeveyn olduğuna bakmaksızın, tüm bir “aile ağacını” tek bir birim olarak değerlendirir ve bu ailedeki tüm üyelerle aynı şekilde çalışır. \n",
    "\n",
    "“Ebeveyn” sınıf, <b>ana sınıf (base class)</b> ya da <b>üst sınıf (superclass)</b>, “çocuk” sınıflar <b>alt sınıf (subclass)</b> ya da <b>türetilmiş sınıf (derived class)</b> olarak adlandırılırlar."
   ]
  },
  {
   "cell_type": "markdown",
   "metadata": {},
   "source": [
    "[Başa Dön](#Bu-derste-neler-öğreneceksiniz?)"
   ]
  },
  {
   "cell_type": "markdown",
   "metadata": {},
   "source": [
    "# Örnek: Doğru Sınıfı #\n",
    "\n",
    "$y = c_0 + c_1 x$ şeklinde tanımlanan doğrular için tanımladığımız bir doğru sınıfını aşağıdaki şekilde kodladığımızı varsayalım."
   ]
  },
  {
   "cell_type": "code",
   "execution_count": null,
   "metadata": {},
   "outputs": [],
   "source": [
    "class Dogru:\n",
    "    def __init__(self, c0, c1):\n",
    "        self.c0 = c0\n",
    "        self.c1 = c1\n",
    "    def __call__(self, x):\n",
    "        return self.c0 + self.c1*x\n",
    "    def tablo(self, L, R, n):\n",
    "        from numpy import linspace\n",
    "        \"\"\"L <= x <= R arasinda dogru uzerinde bulunan n noktayi bir\n",
    "        tablo seklinde listeler\"\"\"\n",
    "        s = ''\n",
    "        for x in linspace(L, R, n):\n",
    "            y = self(x)\n",
    "            s += '%12g %12g\\n' % (x, y)\n",
    "        return s"
   ]
  },
  {
   "cell_type": "markdown",
   "metadata": {},
   "source": [
    "Gördüğünüz gibi  \\__init__  metodu $c_0$ ve $c_1$ öz niteliklerini (attribute) başlatıyor, \\__call__ metodu verilen bir $x$ değerinin doğruda karşılık geldiği y değerini hesaplıyor, $tablo$ metodu ise belirli bir aralık dahlinde, doğru üzerindeki $n$ adet noktayı ekrana bir tablo şeklinde listeliyor.\n",
    "\n",
    "Python ve Nesne Yönelimli Programcılık yaklaşımını destekleyen diğer programlama dillerinde $Dogru$ sınıfı için yazdığımız kodları tekrar yazmamızı önleyen özel bir kod kurgusu mutlaka bulunur. Örneğin bir $Parabol$ sınıfını Dogru sınıfının kodlarını kalıt (miras, inheritance) alacak şekilde şekilde kodlamak mümkündür.\n",
    "\n",
    "class Parabol(Dogru):\n",
    "\n",
    "Böylece $Parabol$ sınıfı $Dogru$ sınıfının tüm kodlarını kalıt alır, bu nedenle $Parabol$ sınıfı, üst sınıfı olan $Dogru$ sınıfından türetilmiş (derived) bir alt sınıftır (subclass).\n",
    "\n",
    "$Parabol$ sınıfı $Dogru$ sınıfıyla birebir aynı değildir, ona $c_2$ verisini (attribute) ekler ve \\__call__ metodu da $Dogru$ sınıfınkininden farklıdır. Ancak, $tablo$ metodu olduğu gibi miras alınabilir.\n",
    "\n",
    "Parabol sınıfını \\__init__ başlatıcı metodu ve \\__call__ metodunu kullanarak bir alt sınıf olarak kurgulamak üzere aşağıdaki kod parçası kullanılabilir."
   ]
  },
  {
   "cell_type": "code",
   "execution_count": null,
   "metadata": {},
   "outputs": [],
   "source": [
    "class Parabol(Dogru):\n",
    "    def __init__(self, c0, c1, c2):\n",
    "        Dogru.__init__(self, c0, c1)\n",
    "        self.c2 = c2\n",
    "    def __call__(self, x):\n",
    "        return Dogru.__call__(self, x) + self.c2*x**2"
   ]
  },
  {
   "cell_type": "markdown",
   "metadata": {},
   "source": [
    "Daha sonra $Parabol$ sınıfının bir olgusu ($p$) başlatılır ve \\__call__ metoduyla doğrudan hesap yapmak üzere $x$ değeri bu olguya geçirilir ve bu sınıfın $tablo$ metodu aşağıdaki şekilde kullanılır."
   ]
  },
  {
   "cell_type": "markdown",
   "metadata": {},
   "source": [
    "[Başa Dön](#Bu-derste-neler-öğreneceksiniz?)"
   ]
  },
  {
   "cell_type": "markdown",
   "metadata": {},
   "source": [
    "# Sınıf Türünün Kontrolü #\n",
    "\n",
    "Python'da bir $i$ olgusunun (instance), $t$ türüne (type) ait olup olmadığını kontrol etmek için $isinstance(i,t)$ şeklinde bir fonksiyon bulunmaktadır."
   ]
  },
  {
   "cell_type": "code",
   "execution_count": null,
   "metadata": {},
   "outputs": [],
   "source": [
    "d = Dogru(-1,1)\n",
    "isinstance(d,Dogru)"
   ]
  },
  {
   "cell_type": "code",
   "execution_count": null,
   "metadata": {},
   "outputs": [],
   "source": [
    "isinstance(d,Parabol)"
   ]
  },
  {
   "cell_type": "markdown",
   "metadata": {},
   "source": [
    "Görüldüğü gibi bir doğru bir parabol değildir (yani $Dogru$ sınıfının bir olgusu olan $d$ aynı zamanda  $Parabol$ sınıfının da bir olgusu değildir.) Tersi doğru mu görelim."
   ]
  },
  {
   "cell_type": "code",
   "execution_count": null,
   "metadata": {},
   "outputs": [],
   "source": [
    "p = Parabol(-1,0,10)\n",
    "isinstance(p,Parabol)"
   ]
  },
  {
   "cell_type": "code",
   "execution_count": null,
   "metadata": {},
   "outputs": [],
   "source": [
    "isinstance(p,Dogru)"
   ]
  },
  {
   "cell_type": "markdown",
   "metadata": {},
   "source": [
    "Görüldüğü gibi bir parabol olgusu aynı zamanda bir doğru olgusudur. Zira onun bütün niteliklerini taşır.  Her olgunun \\__class__ adı verilen özel bir öz niteliği (attribute) daha vardır ve olgunun türünü tutar."
   ]
  },
  {
   "cell_type": "code",
   "execution_count": null,
   "metadata": {},
   "outputs": [],
   "source": [
    "p.__class__"
   ]
  },
  {
   "cell_type": "markdown",
   "metadata": {},
   "source": [
    "Bu aşağıdaki şekilde kontrol edilebilir."
   ]
  },
  {
   "cell_type": "code",
   "execution_count": null,
   "metadata": {},
   "outputs": [],
   "source": [
    "p.__class__ == Parabol"
   ]
  },
  {
   "cell_type": "markdown",
   "metadata": {},
   "source": [
    "ya da ismine \\__name__ özniteliği ile ulaşılabilir."
   ]
  },
  {
   "cell_type": "code",
   "execution_count": null,
   "metadata": {},
   "outputs": [],
   "source": [
    "p.__class__.__name__"
   ]
  },
  {
   "cell_type": "markdown",
   "metadata": {},
   "source": [
    "Görüldüğü gibi p.\\__class__\\ bir sınıf nesnesi (ya da sınıf nesnesi tanımı, class definition, class object) iken p.\\__class__.\\__name__ bir metindir. Bu karşılaştırmaya dayanan bir şartlı ifade için her iki şekli de aşağıdaki gibi kullanmak mümkündür. Ancak tavsiye edilen $isinstance(p, Parabol)$ fonksiyonunun kullanımıdır."
   ]
  },
  {
   "cell_type": "code",
   "execution_count": null,
   "metadata": {},
   "outputs": [],
   "source": [
    "if p.__class__.__name__ == \"Parabol\":\n",
    "    print(\"bu calisir\")\n",
    "# ya da\n",
    "if p.__class__ == Parabol:\n",
    "    print(\"bu da cailisir\")"
   ]
  },
  {
   "cell_type": "markdown",
   "metadata": {},
   "source": [
    "Diğer taraftan $issubclass(c1, c2)$ ifadesi $c_1$'in $c_2$'nin bir alt sınıfı olup olmadığını kontrol eder."
   ]
  },
  {
   "cell_type": "code",
   "execution_count": null,
   "metadata": {},
   "outputs": [],
   "source": [
    "issubclass(Parabol, Dogru)"
   ]
  },
  {
   "cell_type": "code",
   "execution_count": null,
   "metadata": {},
   "outputs": [],
   "source": [
    ">>> issubclass(Dogru, Parabol)"
   ]
  },
  {
   "cell_type": "markdown",
   "metadata": {},
   "source": [
    "Bir alt sınıfın üst sınıfları \\__class__ nesnesinin \\__bases__ öz niteliğinde demet (tuple) türünde tutulur. Bu öz niteliğin tüm elemanları birer sınıf nesnesi olacağı için bu sınıfların adını öğrenmek için de sınıf nesnesinin \\__name__ öz niteliğinin kullanılması gerekir."
   ]
  },
  {
   "cell_type": "code",
   "execution_count": null,
   "metadata": {},
   "outputs": [],
   "source": [
    "p.__class__.__bases__"
   ]
  },
  {
   "cell_type": "code",
   "execution_count": null,
   "metadata": {},
   "outputs": [],
   "source": [
    "p.__class__.__bases__[0].__name__"
   ]
  },
  {
   "cell_type": "markdown",
   "metadata": {},
   "source": [
    "[Başa Dön](#Bu-derste-neler-öğreneceksiniz?)"
   ]
  },
  {
   "cell_type": "markdown",
   "metadata": {},
   "source": [
    "## Alternatif Çözüm ##\n",
    "\n",
    "$Parabol$ sınıfının $Dogru$ sınıfının tüm öz nitelik ve metotlarını miras olarak devralması yerine $Dogru$ sınıfının bir olgusunu öz nitelik olarak kullanmak da alternatif bir çözümdür."
   ]
  },
  {
   "cell_type": "code",
   "execution_count": null,
   "metadata": {},
   "outputs": [],
   "source": [
    "class Parabol:\n",
    "    def __init__(self, c0, c1, c2):\n",
    "       \tself.dogru = Dogru(c0, c1) # c0 ve c2 Dogru sinifindan gelsin\n",
    "        self.c2 = c2\n",
    "    def __call__(self, x):\n",
    "        return self.c2*x**2 + self.dogru(x)"
   ]
  },
  {
   "cell_type": "markdown",
   "metadata": {},
   "source": [
    "Hangi çözümün tercih edileceği probleme göre değişir. Eğer <i>”Parabol sınıfı Dogru sınıfının bir nesnesidir”</i> ifadesi problem açısından da doğal geliyorsa $Parabol$ sınıfının $Dogru$ sınıfı ile ilişki <i>“is-a-relationship”</i> olarak tarif edilir.  Eğer <i>”Parabol sınıfının bir Dogru nesnesine sahip olması gerektiği”</i> düşünülürse o vakit bu ilişki  <i>“has-a-relationship”</i> olarak tarif edilir. Verilen örnekte <i>“is-a-relationship”</i> daha doğal görünmektedir; çünkü, doğru parabolün özel bir şeklidir. Ancak programcılıkta bir problemin çok sayıda çözümü olduğunu ve programcının bu çözümler arasında çalışma hızı, kod uzunluğu ve basitliği gibi kriterler bakımından en optimumunu seçmesi gerektiğini de hatırlatmak gerekir."
   ]
  },
  {
   "cell_type": "markdown",
   "metadata": {},
   "source": [
    "[Başa Dön](#Bu-derste-neler-öğreneceksiniz?)"
   ]
  },
  {
   "cell_type": "markdown",
   "metadata": {},
   "source": [
    "# Örnek Problem 1: Nümerik Türev #\n",
    "\n",
    "Daha önce nümerik türev almak için basit bir yöntem verilmiş ve bu yöntemin formülüne dayanan $Turev$ isminde bir sınıf da oluşturulmuştu. Kullanılan formül (1. basamaktan geri türev) her fonksiyonun türevini almak için kullanılabilir ancak bunun için tek yöntem değildir. $f^{\\prime}(x)$'i hesaplamak için başka formüller de mevcuttur.\n",
    "\n",
    "* Birinci Basamaktan İleri Türev: $f^{\\prime}(x) = \\frac{f(x+h) - f(x)}{h} + \\mathcal{O}(h) $\n",
    "* Birinci Basamaktan Geri Türev: $f^{\\prime}(x) = \\frac{f(x) - f(x-h)}{h} + \\mathcal{O}(h) $\n",
    "* İkinci Basamaktan Merkezi Türev: $f^{\\prime}(x) = \\frac{f(x+h) - f(x-h)}{2h} + \\mathcal{O}(h^2) $\n",
    "* Dördüncü Basamaktan Merkezi Türev: $f^{\\prime}(x) = \\frac{4}{3} \\frac{f(x+h) - f(x-h)}{2~h} - \\frac{1}{3}\\frac{f(x+2h) - f(x-2h)}{4h}  + \\mathcal{O}(h^4) $\n",
    "* Altıncı Basamaktan Merkezi Türev: $f^{\\prime}(x) = \\frac{3}{2} \\frac{f(x+h) - f(x-h)}{2~h} - \\frac{3}{5}\\frac{f(x+2h) - f(x-2h)}{4h} + \\frac{1}{10}\\frac{f(x+3h) - f(x-3h)}{6h}  + \\mathcal{O}(h^6) $\n",
    "* Üçüncü Basamaktan İleri Türev: $f^{\\prime}(x) = \\frac{1}{h} (- \\frac{1}{6} f(x+2h) + f(x+h) - \\frac{1}{2} f(x) - \\frac{1}{3} f(x-h)) \\mathcal{O}(h^3) $\n",
    "\n",
    "## Nümerik Türev Formüllerinin Adaptasyonu\n",
    "\n",
    "Tüm bu formüller Python'a adapte edilmek istendiğinde her biri bir sınıf olarak tasarlanabilir ve bu sınıfların hepsi aynı öz niteliklerle ($f$ ve $h$) başlatılabilir. Dolayısıyla bir sınıf hiyerarşisi dahilinde nesne yönelimli programcılıkla soruyu çözmek doğal bir yönelimdir. Başlatıcı için tek bir kod parçası yazıp onu tüm sınıfların kullanması sağlanılabilir. $Turev$ adı verilen bir <i>üst sınıf (superclass)</i> yaratılıp, bu sınıfın \\__init__ fonksiyonuyla tüm alt sınıfların ihtiyaç duyacağı iki öz niteliği ($f$ ve $h$) başlatılabilir. Bu durumda diğer tüm sınıflar türevi ne şeklide hesaplıyorlarsa ona uygun bir \\__call__ metodu oluşturmak yeterli olacaktır."
   ]
  },
  {
   "cell_type": "code",
   "execution_count": null,
   "metadata": {},
   "outputs": [],
   "source": [
    "class Turev:\n",
    "    def __init__(self, f, h=1E-9):\n",
    "        self.f = f\n",
    "        self.h = float(h)\n",
    "class Ileri1(Turev):\n",
    "    def __call__(self, x):\n",
    "        f, h = self.f, self.h\n",
    "        return (f(x+h) - f(x))/h\n",
    "class Geri1(Turev):\n",
    "    def __call__(self, x):\n",
    "        f, h = self.f, self.h\n",
    "        return (f(x) - f(x-h))/h\n",
    "class Merkezi2(Turev):\n",
    "    def __call__(self, x):\n",
    "        f, h = self.f, self.h\n",
    "        return (f(x+h) - f(x-h))/(2*h)"
   ]
  },
  {
   "cell_type": "markdown",
   "metadata": {},
   "source": [
    "Bu basit uyarlama sınıf hiyerarşisi içerisinde nesne yönelimli programlamanın basitliğini ve yeteneğini ortaya koymaktadır. Genel strateji, ortak kodu üst sınıf içerisinde kodlayıp, üst sınıftan farklılaşan tüm bileşenleri ise alt sınıflara taşımaktır. Bu durumda geriye kalan üç formül de koda kolaylıkla eklenebilir."
   ]
  },
  {
   "cell_type": "code",
   "execution_count": null,
   "metadata": {},
   "outputs": [],
   "source": [
    "class Merkezi4(Turev):\n",
    "    def __call__(self, x):\n",
    "        f, h = self.f, self.h\n",
    "        return (4./3)*(f(x+h) - f(x-h)) /(2*h) - \\\n",
    "               (1./3)*(f(x+2*h) - f(x-2*h))/(4*h)\n",
    "class Merkezi6(Turev):\n",
    "    def __call__(self, x):\n",
    "        f, h = self.f, self.h\n",
    "        return (3./2) *(f(x+h) - f(x-h)) /(2*h) - \\\n",
    "               (3./5) *(f(x+2*h) - f(x-2*h))/(4*h) + \\\n",
    "               (1./10)*(f(x+3*h) - f(x-3*h))/(6*h)\n",
    "class Ileri3(Turev):\n",
    "    def __call__(self, x):\n",
    "        f, h = self.f, self.h\n",
    "        return (-(1./6)*f(x+2*h) + f(x+h) - 0.5*f(x) - \\\n",
    "                (1./3)*f(x-h))/h"
   ]
  },
  {
   "cell_type": "markdown",
   "metadata": {},
   "source": [
    "Bu kodu örnek bir test durumu için çalıştırmak üzere aşağıdaki komutlar verilebiir."
   ]
  },
  {
   "cell_type": "code",
   "execution_count": null,
   "metadata": {},
   "outputs": [],
   "source": [
    "from math import pi,sin\n",
    "mycos = Merkezi4(sin)\n",
    "print(mycos(pi))"
   ]
  },
  {
   "cell_type": "markdown",
   "metadata": {},
   "source": [
    "$Merkezi4(sin)$ ifadesi öncelikle $f^{\\prime}$ ve $h$'ı başlatmak üzere $Merkezi4$ sınıfı içinde başlatıcı metodu (\\__init__) arar. Ancak bu metod bu sınıfın içinde olmadığı ve bu sınıf $Merkezi4(Turev)$ şeklinde tanımlandığı için bu kez üst sınıf olan $Turev$ sınıfının başlatıcı fonksiyonuna yönelir (çünkü $Turev$, $Merkezi4$ sınıfının üst sınıflarını veren $Merkezi4$.\\__bases__ listesinde yer alır). Bu şekilde $f$ ve $h$ başlatılır ($f$, $sin$; $h$ gönderilmediği için varsayılan olarak $10^{-9}$ değerlerini alır). Böylece $mycos$ olgusu oluşmuş olur. $mycos(pi)$ ifadesi ile bu olguya doğrudan bir değer gönderildiği için $Merkezi4$ sınıfının \\__call__ metodu aranır ve bulunduğu için çalıştırılır ve sonuç bu metot tarafından programa döndürülür ve $print$ ifadesi de onu ekrana yazdırır.  Bu şekilde üst sınıflar içinde de metotların aranması işlemine bilgisyar biliminde <b>dinamik bağlantı (dynamic binding)</b> adı verilir.\n",
    "\n",
    "Bu örnekte standart bir Python fonksiyonu yerine \\__call__ metodu olan bir nesne de kullanılabilir. Kodun çalışma şekli aynıdır!"
   ]
  },
  {
   "cell_type": "code",
   "execution_count": null,
   "metadata": {},
   "outputs": [],
   "source": [
    "class Polinom2:\n",
    "    def __init__(self, a, b, c):\n",
    "        self.a, self.b, self.c = a, b, c\n",
    "    def __call__(self, t):\n",
    "        return self.a*t**2 + self.b*t + self.c"
   ]
  },
  {
   "cell_type": "code",
   "execution_count": null,
   "metadata": {},
   "outputs": [],
   "source": [
    "f = Polinom2(1, 0, 1)\n",
    "dfdt = Merkezi4(f)\n",
    "t = 2\n",
    "print(\"f’({:g}) = {:g}\".format(t, dfdt(t)))"
   ]
  },
  {
   "cell_type": "markdown",
   "metadata": {},
   "source": [
    "Görüldüğü gibi $Polinom2$ sınıfının bir olgusu olan $f$, $Polinom2$ sınıfının \\__call__ metodunun varlığı sayesinde bir fonksiyon gibi $Merkezi4$ sınıfına argüman olarak geçirilebilmiştir. Normalde fonksiyonlar sabit isimlere sahip birer yapıyken burada istenildiği şekilde ismi değiştirilip yine de aynı fonksiyona erişilebildi. <i>Dinamik bağlantı</i> kavramıyla kastedilen işlev budur ve bu, Python programlama dilinde son derece doğal bir şekilde, çoğu zaman farkına bile varmadan kullanılan bir işlevdir. Aşağıdaki örnek bu kavramı çok iyi anlatmaktadır. Zira $f$ aslında fonksiyonun adı değilken fonksiyon da bir nesne olduğu için ve $f$ herhangi bir nesnenin adı olabildiği için $fonk1$ (ya da $fonk2$) fonksiyonunun adının yerine kolaylıkla geçebilmektedir. $f$ denince artık bir fonksiyondan bahsedilmektedir!"
   ]
  },
  {
   "cell_type": "code",
   "execution_count": null,
   "metadata": {},
   "outputs": [],
   "source": [
    "fonk1 = Polinom2(1, -1, 1)\n",
    "fonk2 = Polinom2(1, 0, -1)\n",
    "girdi = fonk1\n",
    "if girdi == fonk1:\n",
    "    f = fonk1\n",
    "elif girdi == fonk2:\n",
    "    f = fonk2"
   ]
  },
  {
   "cell_type": "markdown",
   "metadata": {},
   "source": [
    "[Başa Dön](#Bu-derste-neler-öğreneceksiniz?)"
   ]
  },
  {
   "cell_type": "markdown",
   "metadata": {},
   "source": [
    "# Bir Sınıfın İşlevselliğinin Kısıtlanması #\n",
    "\n",
    "Sınıflara Giriş dersinde verilen bir örnekte $Dogru$ sınıfının bir alt sınıfı olarak kodlanan $Parabol$ sınıfı, $Dogru$ <i>üst sınıfının (superclass)</i> işlevselliğini genişletmektedir. <i>Miras alma (inheritance)</i> sadece bir sınıfın işlevselliğini genişletmek için değil, kısıtlamak için de kullanılabilir."
   ]
  },
  {
   "cell_type": "code",
   "execution_count": null,
   "metadata": {},
   "outputs": [],
   "source": [
    "class Parabol:\n",
    "    def __init__(self, c0, c1, c2):\n",
    "        self.c0 = c0\n",
    "        self.c1 = c1\n",
    "        Self.c2 = c2\n",
    "    def __call__(self, x):\n",
    "        return self.c0 + self.c1*x + self.c2*x**2\n",
    "    def tablo(self, L, R, n):\n",
    "        print(L, R, n)"
   ]
  },
  {
   "cell_type": "markdown",
   "metadata": {},
   "source": [
    "şeklinde tanımlanmış bir sınıf olsun. $Dogru$ sınıfı, $Parabol$ sınıfının bir alt sınıfı olarak tanımlanabilir ve bu şekilde onun işlevselliği de kısıtlanabilir."
   ]
  },
  {
   "cell_type": "code",
   "execution_count": null,
   "metadata": {},
   "outputs": [],
   "source": [
    "class Dogru(Parabol):\n",
    "    def __init__(self, c0, c1):\n",
    "        Parabol.__init__(self, c0, c1, 0)"
   ]
  },
  {
   "cell_type": "markdown",
   "metadata": {},
   "source": [
    "\\__call__ ve $tablo$ metotları $Parabol$'den miras alınarak aynı şekilde kullanılabilir. Görüldüğü üzere sınıfları hiyerarşik bir şekilde ilişkilendirmenin birden fazla yolu vardır. Bir $Dogru$ sınıfı ile başlayıp $Parabol$, Kübik polinom ve giderek daha genel bir polinom şeklinde $Dogru$ sınıfının işlevselliğini genişletmek yerine, genel bir Polinom sınıfı ile başlanıp, tersi yönde Prabol sınıfı onun ilk üç katsayısı hariç tüm katsayılarının sıfır olduğu bir alt sınıfı, Dogru da Parabol sınıfının bir katsayı daha sıfır yapılarak bir alt sınıfı olarak tanımlanabilir ve hiyerarşi bu şekilde de kurulabilir. "
   ]
  },
  {
   "cell_type": "markdown",
   "metadata": {},
   "source": [
    "[Başa Dön](#Bu-derste-neler-öğreneceksiniz?)"
   ]
  },
  {
   "cell_type": "markdown",
   "metadata": {},
   "source": [
    "## Örnek Devam: Nümerik Türev\n",
    "\n",
    "### Kodun Geliştirilmesi: Türevin Üzerindeki Hatanın Hesabı ###\n",
    "\n",
    "Sınıf hiyerarşisine dayanan bir kodlama uygulamasının ne kadar güçlü olabileceğni göstermek üzere nümerik türev hesabı yapan programı, hesapladoğı nümerik türevi gerçek değeri ile (hesaplanabildiğinde) karşılaştıran ve aradaki farkı hata değeri olarak ekrana getiren bir şekilde geliştirmeye çalışalım. Yapılması gereken başlatıcı (\\__init__) metoduna bir öz nitelik ve üst sınıfa hata hesabı yapan bir metod daha eklemek. Bu kod Turev sınıfına eklenebileceği gibi onun bir alt sınıfı olan $Turev2$ sınıfına da eklenebilir, farklı nümerik türev formüllerinin bu sınıftan kod miras almasını sağlanabilir."
   ]
  },
  {
   "cell_type": "code",
   "execution_count": null,
   "metadata": {},
   "outputs": [],
   "source": [
    "class Turev2(Turev):\n",
    "    def __init__(self, f, h=1E-9, dfdx_tam=None):\n",
    "        Turev.__init__(self, f, h)\n",
    "        self.tam = dfdx_tam\n",
    "    def hata(self, x):\n",
    "        if self.tam is not None:\n",
    "            df_numerik = self(x)\n",
    "            df_tam = self.tam(x)\n",
    "        return df_tam - df_numerik\n",
    "class Ileri1(Turev2):\n",
    "    def __call__(self, x):\n",
    "        f, h = self.f, self.h\n",
    "        return (f(x+h) - f(x))/h"
   ]
  },
  {
   "cell_type": "markdown",
   "metadata": {},
   "source": [
    "Türevi farklı formüllerle alan diğer tüm formüllerin tanımlandığı sınıflar da tıpkı yukarıdaki örnek kod parçasında $Ileri1$ için olduğu gibi $Turev2$ sınıfından türetilmelidirler ki türevin tam değeri ile formüllere dayalı olarak hesaplanan nümerik değerleri arasındaki fark üzerinden hepsi için birer hata hesabı mümkün olsun."
   ]
  },
  {
   "cell_type": "code",
   "execution_count": null,
   "metadata": {},
   "outputs": [],
   "source": [
    "from math import *\n",
    "mycos = Ileri1(sin, dfdx_tam=cos)\n",
    "print('Numerik turevin hatasi ', mycos.hata(x=pi))"
   ]
  },
  {
   "cell_type": "markdown",
   "metadata": {},
   "source": [
    "Bu kodun daha özenli bir testi için farklı türev formüllerinin hangi duyarlılıkta türevi hesapladığını (ne kadar hata verdiğini) ortaya koyan bir test bloğu yazalım. Bu test bloğunun çıktısı farklı $h$ değerleri için farklı türev yöntemlerinin herhangi bir fonksiyon için hesapladığı nümerik türev değerlerini ve hatalarını içeren bir tablo şeklinde olsun.\n",
    "\n",
    "Sonuç olarak tüm yöntemler ve bu testleri içeren bir kod örneği aşağıdaki şekilde olmalıdır."
   ]
  },
  {
   "cell_type": "code",
   "execution_count": null,
   "metadata": {},
   "outputs": [],
   "source": [
    "class Turev:\n",
    "    def __init__(self, f, h=1E-9):\n",
    "        self.f = f\n",
    "        self.h = float(h)\n",
    "class Turev2(Turev):\n",
    "    def __init__(self, f, h=1E-9, dfdx_tam=None):\n",
    "        Turev.__init__(self, f, h)\n",
    "        self.tam = dfdx_tam\n",
    "    def hata(self, x):\n",
    "        if self.tam is not None:\n",
    "            df_numerik = self(x)\n",
    "            df_tam = self.tam(x)\n",
    "        return df_tam - df_numerik\n",
    "class Ileri1(Turev2):\n",
    "    def __call__(self, x):\n",
    "        f, h = self.f, self.h\n",
    "        return (f(x+h) - f(x))/h\n",
    "class Geri1(Turev2):\n",
    "    def __call__(self, x):\n",
    "        f, h = self.f, self.h\n",
    "        return (f(x) - f(x-h))/h\n",
    "class Merkezi2(Turev2):\n",
    "    def __call__(self, x):\n",
    "        f, h = self.f, self.h\n",
    "        return (f(x+h) - f(x-h))/(2*h)\n",
    "class Merkezi4(Turev2):\n",
    "    def __call__(self, x):\n",
    "        f, h = self.f, self.h\n",
    "        return (4./3)*(f(x+h) - f(x-h)) /(2*h) - \\\n",
    "               (1./3)*(f(x+2*h) - f(x-2*h))/(4*h)\n",
    "class Merkezi6(Turev2):\n",
    "    def __call__(self, x):\n",
    "        f, h = self.f, self.h\n",
    "        return (3./2) *(f(x+h) - f(x-h)) /(2*h) - \\\n",
    "               (3./5) *(f(x+2*h) - f(x-2*h))/(4*h) + \\\n",
    "               (1./10)*(f(x+3*h) - f(x-3*h))/(6*h)\n",
    "class Ileri3(Turev2):\n",
    "    def __call__(self, x):\n",
    "        f, h = self.f, self.h\n",
    "        return (-(1./6)*f(x+2*h) + f(x+h) - 0.5*f(x) - \\\n",
    "                (1./3)*f(x-h))/h\n",
    "\n",
    "\n",
    "def _test1():\n",
    "    from math import cos,pi,sin\n",
    "    mycos = Ileri1(sin, dfdx_tam=cos)\n",
    "    print('Numerik turevin hatasi', mycos.hata(x=pi))\n",
    "\n",
    "def tablo(f, x, h_degerleri, yontemler, dfdx=None):\n",
    "    # Tablo basligi yaz (h ve her metod icin sinif adi\n",
    "    print(' h ', end='')\n",
    "    for yontem in yontemler:\n",
    "        print('{:>15s}'.format(yontem.__name__), end='')\n",
    "    print(\"\\n\") # yeni satira gec\n",
    "    for h in h_degerleri:\n",
    "        print('{:10.2E}'.format(h), end='')\n",
    "        for yontem in yontemler:\n",
    "            if dfdx is not None: # eger turevin tam degeri varsa hata hesapla\n",
    "                d = yontem(f, h, dfdx)\n",
    "                cikti = d.hata(x)\n",
    "            else: # degeri yaz\n",
    "                d = yontem(f, h)\n",
    "                cikti = d(x)\n",
    "            print('{:15.8E}'.format(cikti), end='')\n",
    "        print(\"\\n\") # yeni satir\n",
    "\n",
    "def _test2():\n",
    "    from math import exp\n",
    "    def f1(x):\n",
    "        return exp(-10*x)\n",
    "    def df1dx(x):\n",
    "        return -10*exp(-10*x)\n",
    "    tablo(f1, 0, [2**(-k) for k in range(10)], \\\n",
    "          [Ileri1, Merkezi2, Merkezi4], df1dx)\n",
    "    \n",
    "if __name__ == '__main__':\n",
    "    _test2()\n"
   ]
  },
  {
   "cell_type": "markdown",
   "metadata": {},
   "source": [
    "[Başa Dön](#Bu-derste-neler-öğreneceksiniz?)"
   ]
  },
  {
   "cell_type": "markdown",
   "metadata": {},
   "source": [
    "## Sadece Fonksiyonlar Kullanarak Alternatif Yaklaşım ##\n",
    "\n",
    "Akla şöyle bir soru gelebilir: \"Sınıf hiyerarşisiden faydalanmaksızın aynı problemi sadece fonksiyonlardan yararlanarak da çözmek mümkün müdür?\" Cevap: “neredeyse evet!” 'tir. Sınıf yapısından olduğu gibi $f$ ve $h$'ı bir başltaıcı ile başlatıp, $x$'i türev hesabında çağırmak yerine bu kez yazılacak her fonksiyona $f$, $x$ ve $h$ birer argüman yapılmalıdır."
   ]
  },
  {
   "cell_type": "code",
   "execution_count": null,
   "metadata": {},
   "outputs": [],
   "source": [
    "def tureval(f, yontem, h=1.0E-9):\n",
    "    h = float(h) # tam sayi bolmesinden kacmak icin float donusumu\n",
    "    if yontem == 'Ileri1':\n",
    "        def Ileri1(x):\n",
    "            return (f(x+h) - f(x)) / h\n",
    "        return Ileri1\n",
    "    elif yontem == 'Geri1':\n",
    "        def Geri1(x):\n",
    "            return (f(x) - f(x-h)) / h\n",
    "        return Geri1"
   ]
  },
  {
   "cell_type": "markdown",
   "metadata": {},
   "source": [
    "Bu durumda program aşağıdaki gibi çalışır:"
   ]
  },
  {
   "cell_type": "code",
   "execution_count": null,
   "metadata": {},
   "outputs": [],
   "source": [
    "from math import cos,pi,sin\n",
    "mycos = tureval(sin, 'Ileri1')\n",
    "mysin = tureval(mycos, 'Ileri1')\n",
    "x = pi\n",
    "print(mycos(x), cos(x), mysin(x), -sin(x))"
   ]
  },
  {
   "cell_type": "markdown",
   "metadata": {},
   "source": [
    "[Başa Dön](#Bu-derste-neler-öğreneceksiniz?)"
   ]
  },
  {
   "cell_type": "markdown",
   "metadata": {},
   "source": [
    "#  Örnek Problem 2: Nümerik İntegrasyon #\n",
    "\n",
    "Nümreik türev almanın pek çok yöntemi (ve dolayısı ile pek çok formülü) olduğu gibi nümerik integrasyonun da pek çok yöntemi bulunmaktadır. Sınıf hiyerarşisine bir dayalı nesne yönelimli programlama çözümü bu yöntemlere de tıpkı nümerik türev problemine uygulandığı gibi uygulanabilir.\n",
    "\n",
    "Tüm nümerik integrasyon yöntemleri $\\omega_i$ ağırlıkları; $x_i$ integralin alındığı aralıktaki noktaları göstermek üzere yandaki formülle uygulanabilir.\n",
    "\n",
    "$$ \\int_{a}^{b} f(x) dx \\approx \\sum_{i = 0}^{n-1} \\omega_i f(x_i) $$\n",
    "\n",
    "* Orta Nokta Yöntemi:<br> \n",
    "$ x_i = a + \\frac{h}{2} + i~h, \\omega_i = h, h = \\frac{b-a}{n}, i = 0, 1, ..., n-1 $\n",
    "* Yamuk (Trapezoid Yöntemi):<br> \n",
    "$ x_i = a + i~h, h = \\frac{b-a}{n-1}, i = 0, 1, ..., n-1$, <br>\n",
    "$ \\omega_i = \\omega_{n-1} = \\frac{h}{2}, \\omega_i = h, i = 1, 2, ..., n - 2 $\n",
    "* Simposon Yöntemi: <br> \n",
    "$ x_i = a + i~h, h = 2 \\frac{b-a}{n-1}, \\omega_0 = \\omega_{n-1} = \\frac{h}{6} $, <br>\n",
    "$ \\omega_i = \\frac{h}{3}, i = 2, 4, ..., n-3 $, <br>\n",
    "$ \\omega_i = \\omega_{n-1} = \\frac{2h}{3}, i = 1, 3, ..., n-2 $ <br>\n",
    "* Legendre (Gauss) Yöntemi: <br> \n",
    "$  x_i = a + (i + \\frac{1}{2}) h - \\frac{1}{\\sqrt{3}} \\frac{h}{2}, i = 0, 2, ..., n-2 $, <br>\n",
    "$ x_i = a + (i + \\frac{1}{2}) h + \\frac{1}{\\sqrt{3}} \\frac{h}{2}, i = 1, 3, ..., n-1 $, <br>\n",
    "$ h = 2 \\frac{b-a}{n}, \\omega_i = \\frac{h}{2}, i = 0, 1, ..., n-1 $ \n",
    "\n",
    "## Nümerik İntegral Formüllerinin Adaptasyonu ##\n",
    "\n",
    "Tüm bu formülleri Python'a adapte edilmek istendiğinde $x_i$, $w_i$ değerlerini birer `NumPy` dizisine toplayıp, $f(x)$'i de vektörleştirilmiş (NumPy dizileri üzerinde işlem yapabilen) bir fonksiyon olarak $f(xi)$ şeklinde kodlamanın iyi bir çözüm olduğu düşünülmelidir. Yine her bir formülü aşağıdaki yapıda bir sınıfın içerisine adapte etmek de mümkündür."
   ]
  },
  {
   "cell_type": "code",
   "execution_count": null,
   "metadata": {},
   "outputs": [],
   "source": [
    "class BirIntegralYontemi:\n",
    "    def __init__(self, a, b, n):\n",
    "        self.a, self.b, self.n = a, b, n\n",
    "        # [a,b] araliginda n nokta ve agirliklari hesapla\n",
    "    def integral(self, f):\n",
    "        s = 0\n",
    "        for i in range(len(self.agirliklar)):\n",
    "            s += self.agirliklar[i]*f(self.noktalar[i])\n",
    "        return s"
   ]
  },
  {
   "cell_type": "markdown",
   "metadata": {},
   "source": [
    "Sınıf yapısı bu şekilde tasarlandığında integral metodunun her bir integral yöntemi için ortak olacağını görmek son derece kolaydır. Dolayısıyla bu metod, üst sınıfın bir kodu olmalı ve her bir yöntem için yazılacak alt sınıflar tarafından kalıt alınabilmelidir.  O nedenle bu metodu herhangi bir integral yöntemi için yazılacak üstteki gibi bir sınıftan çıkarıp bir <i>üst sınıfa (superclass)</i> almak iyi bir çözümdür."
   ]
  },
  {
   "cell_type": "code",
   "execution_count": null,
   "metadata": {},
   "outputs": [],
   "source": [
    "class Integral:\n",
    "    def __init__(self, a, b, n):\n",
    "        self.a, self.b, self.n = a, b, n\n",
    "        self.noktalar, self.agirliklar = self.metot_olustur()\n",
    "    def metot_olustur(self):\n",
    "        raise NotImplementedError('%s sinifinda boyle bir kural yok' % \\\n",
    "        self.__class__.__name__)\n",
    "    def integralal(self, f):\n",
    "        s = 0\n",
    "        for i in range(len(self.agirliklar)):\n",
    "            s += float(self.agirliklar[i])*float(f(self.noktalar[i]))\n",
    "        return s"
   ]
  },
  {
   "cell_type": "markdown",
   "metadata": {},
   "source": [
    "Görüldüğü gibi \\__init__ başlatıcı metodu (constructor) $a$, $b$ ve $n$ özniteliklerini başlatıyor. Şimdi tüm bu alt sınıflar bu kodu kalıt (inheritance) alabilir.  $x_i$ noktaları ve $\\omega_i$ ağırlıklarını birer dizi (ya da liste) olarak hesap etme işi <i>metot_olustur</i> metodunda gerçekleştiriliyor. Ancak bu liste ve dizinin içeriğini her bir integrasyon yöntemi ayrı bir formülle, ilgili alt sınıfta dolduracağı için bu işin gerçekleşmediği durumda $NotImplementedError$ (bu metot adapte edilmedi hatası) üretiliyor. Bu <i>metot_olustur</i> metodu ne zamanki herhangi bir integrasyon yöntemi bir alt sınıfta bir nümerik integral alma yönteminin formülünü adapte ediliyor, onun tarafından devre dışı bırakılmış oluyor. Bu şekilde <i>metot_olustur</i> metodunu herhangi bir nümerik integral formülü ile integrali hesaplayan herhangi bir alt sınıfta yazma işlemi unutulursa bu yöntemin adapte edilmediğine dair hata mesajı başlatıcı metot içerisinde üretilmiş olunur. Hata aynı zamanda yöntemin tanımlandığı alt sınıfın adı da verildiği için hangi yöntemin adapte edilemediğini göstermesi bakımından da akıllı bir şekilde yaratılmaktadır.\n",
    "\n",
    "Bir metodun bu şekilde kod içerisinde tekrar oluşturulması ya da duruma göre daha önce aynı isimle oluşturulmuş bir metodun yerini alması bilgisayar biliminde <i>polimorfizm</i> olarak adlandırılır. Bu şekilde kodlanan metotlara da <i>polimorfik metotlar</i> denir. Genel pratik, tıpkı yukarıdaki örnekte olduğu gibi, polimorfik bir metodu bir üst sınıf içerisinde oluşturup, duruma göre bir alt sınıfta yeniden tanımlamaktır <i>(\"overloading\")</i>.\n",
    "\n",
    "$integralal$ metodundaki kod, herhangi bir yöntemle integral alacak tüm alt sınıflar tarafından kalıt alınabilir. Bu kod `NumPy` dizilerinin yanı sıra herhangi bir $x - \\omega$ türü (liste, demet) için de çalışabilir. Ama bu kodun üst sınıfa `NumPy` 'ın $dot$ fonksiyonundan yararlanmak üzere bir de NumPy dizileri ile çalışan versiyonunu yazmak gerekecektir."
   ]
  },
  {
   "cell_type": "code",
   "execution_count": null,
   "metadata": {},
   "outputs": [],
   "source": [
    "def vektor_ntegralal(self, f):\n",
    "    return dot(self.agirliklar,f(self.noktalar[i]))"
   ]
  },
  {
   "cell_type": "markdown",
   "metadata": {},
   "source": [
    "Şimdi bir de herhangi bir integrasyon yöntemi (orta nokta yöntemi) ile nümerik integral hesaplayan bir alt sınıfı kodlanabilir. Yapılması gereken yöntemin formülünü <i>metot_olustur()</i> metoduna adapte etmek. "
   ]
  },
  {
   "cell_type": "code",
   "execution_count": null,
   "metadata": {},
   "outputs": [],
   "source": [
    "class OrtaNokta(Integral):\n",
    "    def metot_olustur(self):\n",
    "        from numpy import linspace, zeros\n",
    "        a, b, n = self.a, self.b, self.n # kisa yazim icin tekrar donusum\n",
    "        h = (b-a)/float(n)\n",
    "        x = linspace(a + 0.5*h, b - 0.5*h, n)\n",
    "        w = zeros(len(x)) + h\n",
    "        return x, w"
   ]
  },
  {
   "cell_type": "markdown",
   "metadata": {},
   "source": [
    "Görüldüğü gibi bu metot işlemlerini vektörize bir şekilde `NumPy` dizleri üzerinden gerçekleştiriyor ve sonuçta da bir `NumPy` dizisi döndürüyor. Diğer yöntemleri de adapte etmeden önce kodun nasıl çalışacağını görmek için bir \\_test() bloğu yazmak iyi bir fikirdir."
   ]
  },
  {
   "cell_type": "code",
   "execution_count": null,
   "metadata": {},
   "outputs": [],
   "source": [
    "def _test():\n",
    "    def f(x): return x*x\n",
    "    on = OrtaNokta(0, 2, 101)\n",
    "    print(on.integralal(f))"
   ]
  },
  {
   "cell_type": "markdown",
   "metadata": {},
   "source": [
    "Kod gördüğünüz gibi önce $OrtaNokta$ sınıfından $on$ adında bir olgu oluşturuyor. $OrtaNokta$ sınıfıının başlatıcı (\\__init__) metodu olmadığı için bu metot üst sınıf olan $Integral$ 'den kalıt alınıyor. Ancak buradaki $self$,  $on$ olgusuna karşılık geldiği, dolayısı ile $OrtaNokta$ 'nın bir olgusu olduğu için <i>self.metot_olustur</i> ile kastedilen $OrtaNokta$ sınıfındaki <i>metot_olustur</i> metodudur. Aynı isimle üst sınıf olan $Integral$ 'de de bir sınıf bulunuyor olsa da çalışan bu $OrtaNokta$ metodundaki <i>metot_olustur</i> metodu olur. En sonda çalıştırılan (çağrılan) $integralal$ metodu ise üst sınıfta yer almaktadır ve bütün alt sınıflar tarafından kalıt alınabileceği için bir alt sınıf olan $OrtaNokta$'nın $on$ olgusu tarafından da kalıt alınmıştır ve integrali hesaplar."
   ]
  },
  {
   "cell_type": "markdown",
   "metadata": {},
   "source": [
    "<b>Yamuk yöntemi (trapezoid)</b> için de aynı şekilde vektorize bir alt sınıf aşağıdaki şekilde kodlanabilir."
   ]
  },
  {
   "cell_type": "code",
   "execution_count": null,
   "metadata": {},
   "outputs": [],
   "source": [
    "class YamukYontemi(Integral):\n",
    "    def metot_olustur(self):\n",
    "        from numpy import linspace, zeros\n",
    "        x = linspace(self.a, self.b, self.n) \n",
    "        h = (self.b-self.a)/float(self.n - 1)\n",
    "        w = zeros(len(x)) + h\n",
    "        w[0] /= 2\n",
    "        w[-1] /= 2\n",
    "        return x, w"
   ]
  },
  {
   "cell_type": "markdown",
   "metadata": {},
   "source": [
    "<b>Simpson yönteminin</b> adaptasyonu biraz daha uzun bir kod  parçası gerektirir zira formülü biraz daha komplikedir."
   ]
  },
  {
   "cell_type": "code",
   "execution_count": null,
   "metadata": {},
   "outputs": [],
   "source": [
    "class Simpson(Integral):\n",
    "    def metot_olustur(self):\n",
    "        from numpy import linspace, zeros\n",
    "        if self.n % 2 != 1:\n",
    "            print('n={:d} tek olmak zorundadir, olmayinca 1 eklenir'.format(self.n))\n",
    "            self.n += 1\n",
    "        x = linspace(self.a, self.b, self.n)\n",
    "        h = (self.b-self.a)/float(self.n - 1)*2\n",
    "        w = zeros(len(x)) + h\n",
    "        w[0:self.n:2] = h*1./3\n",
    "        w[1:self.n-1:2] = h*2./3\n",
    "        w[0] /= 2\n",
    "        w[-1] /= 2\n",
    "        return x, w"
   ]
  },
  {
   "cell_type": "markdown",
   "metadata": {},
   "source": [
    "<b>Gauss-Legendre yöntemi</b> de koda aynı şekilde adapte edilebilir. Bu kez dilimler kullanmak yerine biraz daha komplike bir iş olduğu için sıradan bir $for$ döngüsü tercih edilebilir. Ama aynı şeyi yine de dilimlerle yapmak olasıdır. (deneyiniz!)."
   ]
  },
  {
   "cell_type": "code",
   "execution_count": null,
   "metadata": {},
   "outputs": [],
   "source": [
    "class GaussLegendre(Integral):\n",
    "    def metot_olustur(self):\n",
    "        from numpy import linspace, zeros, sqrt\n",
    "        if self.n % 2 != 0:\n",
    "            print('n={:d} cift olmak zorundadir, olmayinca 1 cikarilir' .format(self.n))\n",
    "            self.n -= 1\n",
    "        naralik = int(self.n/2.0)\n",
    "        x = zeros(self.n)\n",
    "        h = (self.b-self.a)/float(naralik)\n",
    "        sqrt3 = 1./sqrt(3)\n",
    "        for i in range(naralik):\n",
    "            x[2*i] = self.a + (i+0.5)*h - 0.5*sqrt3*h\n",
    "            x[2*i+1] = self.a + (i+0.5)*h + 0.5*sqrt3*h\n",
    "        w = zeros(len(x)) + h/2.0\n",
    "        return x, w"
   ]
  },
  {
   "cell_type": "markdown",
   "metadata": {},
   "source": [
    "Artık kod çalıştırılarak, farklı nümerik integrasyon tekniklerinin nasıl sonuç verdiğini görülebilir.\n",
    "\n",
    "$x + 2$ fonksiyonunun $ a = 2 $ ile $ b = 3 $ arasında 4 nokta üzerinden Orta Nokta, Yamuk, Simpson ve Gauss Legendre yöntemleriyle alınan integralleri aşağıdaki şekilde bir fonksiyona kodlanıp, bu fonksiyon çalıştırılarak tüm sınıfları test etmek mümkündür."
   ]
  },
  {
   "cell_type": "code",
   "execution_count": null,
   "metadata": {},
   "outputs": [],
   "source": [
    "def _test2():\n",
    "    def f(x): return x + 2\n",
    "    a = 2; b = 3; n = 4\n",
    "    for yontem in OrtaNokta, YamukYontemi, Simpson, GaussLegendre:\n",
    "        y = yontem(a, b, n)\n",
    "        print(y.__class__.__name__, y.integralal(f))"
   ]
  },
  {
   "cell_type": "code",
   "execution_count": null,
   "metadata": {},
   "outputs": [],
   "source": [
    "_test2()"
   ]
  },
  {
   "cell_type": "markdown",
   "metadata": {},
   "source": [
    "[Başa Dön](#Bu-derste-neler-öğreneceksiniz?)"
   ]
  },
  {
   "cell_type": "markdown",
   "metadata": {},
   "source": [
    "# Örnek Problem 3: Diferansiyel Denklem Çözümü\n",
    "\n",
    "Diferansiyel denklemleri temelde ikiye ayırmak mümkündür: \n",
    "\n",
    "1) Skaler adi diferansiyel denklemler (tek bir diferansiyel denklem içerenler) \n",
    "\n",
    "$$ \\frac{du}{dt} = f(u,t) , u(0) = u_0 $$\n",
    "\n",
    "2) Adi diferansiyel denklem sistemleri\n",
    "\n",
    "$$ \\frac{du^{i}}{dt} = f(u^{(0)}, u^{(1)}, u^{(2)}, ..., u^{(n-1)}, t) $$\n",
    "\n",
    "Başlangıç koşulları: $u^{(i)}(0) = u_0^{(i)}, i = 0, 1, 2, ..., n-1$\n",
    "\n",
    "$u^0$, $u^1$, …, $u^{(n-1)}$ fonksiyonlarını bir vektörde, başlangıç koşullarını $u_0 = (u_0^{(0)}, u_0^{(1)}, … , u_0^{(n-1)})$ başka bir vektörde toplamak iyi bir fikirdir. Bu iki vektörü bir adi diferansiyle denklem sistemi için NumPy dizileri ile tanımlanabileceği için aslında yazılması istenen kod hem tek denklem içeren skaler denklemler, hem de denklem sistemleri için kullanılabilir.\n",
    "\n",
    "Çözülmesi istenen diferansiyel denklem sistemlerine bir örnek bir yayın ucuna asılı kütle ile oluşturulan bir sistemi tanımlayan denklemlerdir.\n",
    "\n",
    "$$ F(t) = m u^{{\\prime}{\\prime}} + \\beta u^{\\prime} + k u, u(0) = u_0, u^{\\prime}(0) = 0 $$\n",
    "\n",
    "$u^{(0)}(t) = u(t), u^{(1)}(t) = u^{\\prime}(t)$ olmak üzere bu ikinci derece denklemin çözümü birinci dereceden iki fonksiyonla verilebilir. Buradaki bilinmeyenler $u^{(0)}(t) = u(t)$ (konum) ve $u^{(1)}(t) = u^{\\prime}(t)$ (hız) 'dır.\n",
    "\n",
    "Bu iki bilinmeyen aşağıdaki şekilde ifade edilebilir.\n",
    "\n",
    "$$ \\frac{d}{dt} u^{(0)} (t) = u^{(1)}(t),$$\n",
    "\n",
    "$$ \\frac{d}{dt} u^{(1)} (t) = m^{-1} (F(t) - \\beta u^{(1)} - k u^{(0)}$$\n",
    "\n",
    "Bu tür sistemleri $u^{\\prime}(t) = f(u,t)$ şeklinde ifade etmek yaygın bir pratiktir. Bu durumda $u$ bir vektör olduğu için, $f$ de bir vektör olur.\n",
    "\n",
    "$$ u(t) = (u^{(0)} (t) , u^{(1)}(t)),$$\n",
    "\n",
    "$$ f(t,u) = (u^{(1)}, m^{-1} (F(t) - \\beta u^{(1)} - k u^{(0)}))$$"
   ]
  },
  {
   "cell_type": "markdown",
   "metadata": {},
   "source": [
    "## Çözüm İçin Nümerik Yöntemler: ##\n",
    "\n",
    "Diferansiyel denklem sistemlerinin çözümü için önerilen yöntemler $u$ fonksiyonuna $t_k, (k = 1, 2, …)$ eşit aralıklı ($t_k = k \\Delta t$) zaman dilimleri için $u_k$ yaklaştırmasını hesaplarlar.\n",
    "\n",
    "### İleri Euler Yöntemi: ###\n",
    "\n",
    "$u_{(k+1)} = u_{k} + \\Delta t f(u_k, t_k) $\n",
    "\n",
    "### Orta Nokta Yöntemi: ###\n",
    "\n",
    "$u_{(k+1)} = u_{(k-1)} + 2 \\Delta t f(u_k, t_k) $\n",
    "\n",
    "### İkinci Dereceden Runge-Kutta Yöntemi: ###\n",
    "\n",
    "$K_1 =  \\Delta t f(u_k, t_k)$ ve $K_2 =  \\Delta t f(u_k + \\frac{1}{2} K_1, t_k +  \\frac{1}{2} \\Delta t)$ olmak üzere\n",
    "\n",
    "$u_{(k+1)} = u_{(k)} + K_2 $\n",
    "\n",
    "### Dördüncü Dereceden Runge-Kutta Yöntemi: ###\n",
    "\n",
    "$K_3 = \\Delta t f(u_k + \\frac{1}{2} K_2, t_k +  \\frac{1}{2} \\Delta t)$ ve $K_4 = \\Delta t f(u_k + K_3, t_k + \\Delta t)$ olmak üzere\n",
    "\n",
    "$u_{(k+1)} = u_{(k)} + \\frac{1}{6} (K_1 + 2 K_2 + 2 K_3 + K_4) $\n",
    "\n",
    "### Geri Euler Yöntemi: ###\n",
    "\n",
    "$u_{(k+1)} = u_{k} + \\Delta t f(u_{(k+1)}, t_{(k+1)}) $"
   ]
  },
  {
   "cell_type": "markdown",
   "metadata": {},
   "source": [
    "## Sınıfların ve Kodun Planı ##\n",
    "\n",
    "<b>Üst sınıf (superclass):</b> Diferansiyel denklemlerin çözümü için üst sınıf olarak $DiferansiyelDenklemCozucu$ üst sınıfı seçilmiş osun. Bu sınıf diğer sınıfların ihtiyaç duyacağı tüm kodu sağlamalı, alt sınıflar bu sınıftaki kodları kalıt alabilmelidir. Bunun için \n",
    "\n",
    "1) $t$ anı için $u(t)$ çözümünü tutmalı, \n",
    "2) karşılık gelen $t$ anını tumalı, \n",
    "3) $f(u,t)$ fonksiyonunu çağrılabilir bir Python nesnesi olarak tutmalı, \n",
    "4) $dt$ özniteliğinde $\\Delta t$ zaman aralıklarını tutmalı, \n",
    "5) Hangi zaman aralığında olduğunun belirlenmesi için aralık sayısı $k$'yi $k$ isimlli bir öznitelikte tutmalı, \n",
    "6) $u_0$ başlangıç koşulu başlatmalı, \n",
    "7) Aralıktaki tüm zaman basamakları için bir döngü çalıştırmalıdır.\n",
    "\n",
    "İyi bir çözüm için döngüyü kurmak üzere bir $dongu$ metodu ve çözümü formüle uygun olarak bir adım ilerletmek için de bir $ileri$ metodu kodlayacağız. Ancak bu ikinci metod şimdilik boş olacak, zira bu metodu her bir çözüm yöntemi ayrı bir formülle tekrar kuracak.\n",
    "\n",
    "Yukarıda stratejisi verilen sınıf [sinif_diferansiyeldenklem.py](sinif_diferansiyeldenklem.py) adlı dosyada bulunmaktadır. Bu kodu iyice inceleyiniz."
   ]
  },
  {
   "cell_type": "markdown",
   "metadata": {},
   "source": [
    "### Uygulama $u^{\\prime} = u$ Diferansiyel Denkleminin Çözümü: ###\n",
    "\n",
    "Bu sınıfı bazı diferansiyel denklemleri çözmek için test etmeye en basit diferansiyel denklem uygulamasıyla başlanabilir. Bu denklemi <i>İleri Euler</i> yöntemi ile çözmek üzere yazılması gereken kod temelde aşağıdaki gibi olacaktır."
   ]
  },
  {
   "cell_type": "code",
   "execution_count": null,
   "metadata": {},
   "outputs": [],
   "source": [
    "from sinif_diferansiyeldenklem import *\n",
    "from matplotlib import pyplot as plt\n",
    "from numpy import linspace\n",
    "def f(u, t):\n",
    "    return u\n",
    "\n",
    "T = 3\n",
    "N = 100\n",
    "yontem = IleriEuler(f)\n",
    "yontem.baslangic_kosulu(1.0)\n",
    "u, t = yontem.cozum(linspace(0,T,N+1))\n",
    "plt.plot(t,u)\n",
    "plt.show()"
   ]
  },
  {
   "cell_type": "markdown",
   "metadata": {},
   "source": [
    "Görülen fonksiyon $\\frac{1}{2}u^2 + C$ fonksiyonunun grafiğidir ki bu diferansiyel denklemin çözümüdür.\n",
    "\n",
    "<i>Runge-Kutta yönteminin (4. basamak)</i> zamandaki artışın büyük değerleri için (büyük $\\Delta t$, küçük $N$) dahi ne kadar etkin bir yöntem olduğunu kolaylıkla göstermek mümkündür."
   ]
  },
  {
   "cell_type": "code",
   "execution_count": null,
   "metadata": {},
   "outputs": [],
   "source": [
    "N = 10 # kucuk N buyuk adim araligi demektir!\n",
    "for cozum_yontemi in IleriEuler, RungeKutta4:\n",
    "    yontem = cozum_yontemi(f)\n",
    "    yontem.baslangic_kosulu(1.0)\n",
    "    u, t = yontem.cozum(linspace(0,T,N+1))\n",
    "    plt.plot(t, u)\n",
    "    plt.legend('%s' % cozum_yontemi.__name__)\n",
    "plt.show()"
   ]
  },
  {
   "cell_type": "markdown",
   "metadata": {},
   "source": [
    "### Diferansiyel Denklem Çözümü Uygulamalar: Yatay Atış ###\n",
    "\n",
    "Kodu bu kez yatay atış problemini çözmek üzere kullanalım. Yatay atış problemi aşağıdaki denklemlerle tanımlanabilir. $(x,y)$ cismin sırasıyla yatay ve düşey konumunu, $g$ yer çekimi ivmesini göstermektedir.\n",
    "\n",
    "$\\frac{d^2 x}{d t^2} = 0$, $\\frac{d^2 y}{d t^2} = -g$,\n",
    "\n",
    "Bu ikinci dereceden diferansiyel denklemleri, birinci derece diferansiyel denklemlere dönüştürerek yazmak mümkündür. Ancak bu kez 4 denkleme ihtiyaç duyulur.\n",
    "\n",
    "$\\frac{dx}{dt} = v_x$, $\\frac{d v_x}{dt} = 0$, $\\frac{dy}{dt} = v_y$, $\\frac{dy}{dv} = -g$\n",
    "\n",
    "Başlangıç koşulları da aşağıdaki gibidir. $V_0$ cismin ilk hızı, $\\theta$ ise atış sırasında yatayla yapılan açıdır.\n",
    "\n",
    "$x(0) = 0$, $v_x(0) = v_0 cos(\\theta)$, $y(0) = y_0$, $v_y(0) = v_0 sin(\\theta)$\n",
    "\n",
    "Diferansiyel denklemlerin sağ tarafını döndüren bir fonksiyon aşağıdaki gibi yazılabilir."
   ]
  },
  {
   "cell_type": "code",
   "execution_count": null,
   "metadata": {},
   "outputs": [],
   "source": [
    "def f(u, t):\n",
    "    x, vx, y, vy = u\n",
    "    g = 9.81\n",
    "    return [vx, 0, vy, -g]"
   ]
  },
  {
   "cell_type": "markdown",
   "metadata": {},
   "source": [
    "Problemi çözmek için yazılacak ana kod aşağıdaki gibi olabilir."
   ]
  },
  {
   "cell_type": "code",
   "execution_count": null,
   "metadata": {},
   "outputs": [],
   "source": [
    "from math import pi\n",
    "from numpy import linspace,cos,sin\n",
    "from sinif_diferansiyeldenklem import *\n",
    "from matplotlib import pyplot as plt\n",
    "v0 = 5\n",
    "theta = 80*pi/180\n",
    "u0 = [0, v0*cos(theta), 0, v0*sin(theta)]\n",
    "T = 1.2\n",
    "N = 120 # dt = 0.01\n",
    "t_noktalari = linspace(0,T,N)\n",
    "yontem = IleriEuler(f)\n",
    "yontem.baslangic_kosulu(u0)\n",
    "u, t = yontem.cozum(t_noktalari)"
   ]
  },
  {
   "cell_type": "markdown",
   "metadata": {},
   "source": [
    "Problemin çözülmesiyle her bir elemanı bir dizi $(x, vx, y, vy)$  olan 4 elemanlı bir dizi elde edilir. Örneğin zamanla $x$'in (yatay konum) nasıl değiştiğini öğrenmek istiyorsanız $x$ dizisini bu diziden çekmeniz gerekir. "
   ]
  },
  {
   "cell_type": "code",
   "execution_count": null,
   "metadata": {},
   "outputs": [],
   "source": [
    "x_degerleri = u[:,0]\n",
    "plt.plot(t, x_degerleri)"
   ]
  },
  {
   "cell_type": "markdown",
   "metadata": {},
   "source": [
    "Eğer yatay atışın grafiğini çizmek istiyorsanız cismin $t$ anı için sadece yatay konumunu ($x$) değil aynı zamanda düşey konumunu ($y$) da bilmeli ve $x$'e karşılık $y$'yi çizdirmelisiniz."
   ]
  },
  {
   "cell_type": "code",
   "execution_count": null,
   "metadata": {},
   "outputs": [],
   "source": [
    "x_degerleri = u[:,0]\n",
    "y_degerleri = u[:,2]\n",
    "plt.plot(x_degerleri, y_degerleri)"
   ]
  },
  {
   "cell_type": "markdown",
   "metadata": {},
   "source": [
    "Problemin tam (analitik) çözümü vardır ve nümerik çözümün başarısını test etmek için kolaylıkla kullanılabilir."
   ]
  },
  {
   "cell_type": "code",
   "execution_count": null,
   "metadata": {},
   "outputs": [],
   "source": [
    "def tam(x):\n",
    "    g = 9.81; y0 = u0[2]\n",
    "    return x*tan(theta) - g*x**2/(2*v0**2)*1/(cos(theta))**2 + y0\n",
    "plt.plot(x_degerleri, y_degerleri, \"r-\", label=\"numberik\")\n",
    "plt.plot(x_degerleri, tam(x_degerleri), \"b-\", label=\"tam\")\n",
    "plt.legend(loc=\"best\")\n",
    "plt.show()"
   ]
  },
  {
   "cell_type": "markdown",
   "metadata": {},
   "source": [
    "[Başa Dön](#Bu-derste-neler-öğreneceksiniz?)"
   ]
  },
  {
   "cell_type": "markdown",
   "metadata": {},
   "source": [
    "# Örnek: Tayfsal Enerji Dağılımı #\n",
    "\n",
    "Doğada kara cisme en benzeyen cisim yıldızlardır (yıldızların merkezi bölgeleri demek daha doğru). Bu nedenle kara cisim ışınımını tanımlayan yasalar en iyi yıldızlara uygulanır. Sıcaklığı $T$ olan bir kara cismin $\\lambda$ dalgaboyunda yaptığı ışınım miktarının hesabı uzun süre astrofizikçileri meşgul etmiş, 1900 yılında Max Planck'ın modern fiziğin ve kuantum teorisinin temellerini atan önerisiyle tam bir çözüme kavuşturulabilmiştir. Öncesinde Wihelm Wien tarafından 1896 yılında kısa dalgaboylarında geçerli, Rayleigh-Jeans tarafından ise uzun dalgaboylarında geçerli iki yaklaşım önerilmiştir.\n",
    "\n",
    "\n",
    "Sınıf hiyerarşisi dahlinde bu üç yöntemi kodlayarak sıcaklığı $T$ olan bir kara cismin $\\lambda$ dalgaboyunda yaptığı ışınım miktarını $W sr^{-1} m^3$ biriminde hesabeden bir program aşağıda örneklenmiştir. "
   ]
  },
  {
   "cell_type": "code",
   "execution_count": null,
   "metadata": {},
   "outputs": [],
   "source": [
    "from decimal import *\n",
    "getcontext().prec = 64\n",
    "class TED:\n",
    "    def __init__(self, T):\n",
    "        self.T = Decimal(T)\n",
    "        self.h = Decimal(4.135667662e-15) # Planck sabiti (eV.s)\n",
    "        self.k = Decimal(8.6173324e-5) # Boltzmann sabiti (ev / K)\n",
    "        self.c = Decimal(2.99792458e8) # isik hizi (m /s)\n",
    "    def hesap(self):\n",
    "        raise NotImplementedError('%s enerji hesaplama yontemi uyarlanmadi' % \\\n",
    "        self.__class__.__name__)\n",
    "        \n",
    "\n",
    "class Planck(TED):\n",
    "    def hesap(self, lamda):\n",
    "        T, h, k, c = self.T, self.h, self.k, self.c\n",
    "        lamda = Decimal(lamda)\n",
    "        return (Decimal(2.0)*h*c**2 / lamda**5)*\\\n",
    "            (Decimal(1.) / ((h*c/(lamda*k*T)).exp()-1))\n",
    "\n",
    "class Wien(TED):\n",
    "    def hesap(self, lamda):        \n",
    "        T, h, k, c = self.T, self.h, self.k, self.c\n",
    "        lamda = Decimal(lamda)\n",
    "        return (Decimal(2.0)*h*c**2 / lamda**5)/\\\n",
    "            ((h*c/(lamda*k*T)).exp())\n",
    "\n",
    "class RayleighJeans(TED):\n",
    "    def hesap(self, lamda):\n",
    "        T, k, c = self.T, self.k, self.c\n",
    "        lamda = Decimal(lamda)\n",
    "        return (Decimal(2.0)*c*k*T / lamda**4)"
   ]
  },
  {
   "cell_type": "markdown",
   "metadata": {},
   "source": [
    "Sonrasında bu kod geniş bir dalgaboyu aralığı dahlinde enerji miktarlarını her üç yöntemle de hesap eden ve birbirleri ile bir grafik üzerinde karşılaştıran birkaç test uygulamak faydalı olacaktır."
   ]
  },
  {
   "cell_type": "code",
   "execution_count": null,
   "metadata": {},
   "outputs": [],
   "source": [
    "def _test():\n",
    "    T = Decimal(5000) # K (gunes)\n",
    "    lamda = Decimal(5.5e-7) # lamda (gorsel dalgaboyu merkezi [m]) \n",
    "    p = Planck(T)\n",
    "    w = Wien(T)\n",
    "    rj = RayleighJeans(T)\n",
    "    # ev s sr-1 m-3 ==> kW sr-1 m-2 nm-2\n",
    "    dks = Decimal(1.60217662e-31)\n",
    "    print(p.__class__.__name__+' '+str(p.hesap(lamda)*dks))\n",
    "    print(w.__class__.__name__+' '+str(w.hesap(lamda)*dks))\n",
    "    print(rj.__class__.__name__+' '+str(rj.hesap(lamda)*dks))\n",
    "\n",
    "_test()"
   ]
  },
  {
   "cell_type": "code",
   "execution_count": null,
   "metadata": {},
   "outputs": [],
   "source": [
    "def _test2():\n",
    "    T = 5780\n",
    "    lamda1 = 3e-7\n",
    "    lamda2 = 8e-7\n",
    "    n = 100 # integral icin nokta sayisi\n",
    "    p = Planck(5780)\n",
    "    gl = GaussLegendre(lamda1,lamda2,n)\n",
    "    print(\"T={:g} olan bir karacismin {:g} ile {:g} arasinda yaydigi toplam enerji {:g} kW sr-1 m-2 nm-2\".\n",
    "          format(T, lamda1, lamda2, gl.integralal(p.hesap)))\n",
    "    \n",
    "_test2()"
   ]
  },
  {
   "cell_type": "markdown",
   "metadata": {},
   "source": [
    "[Başa Dön](#Bu-derste-neler-öğreneceksiniz?)"
   ]
  },
  {
   "cell_type": "markdown",
   "metadata": {},
   "source": [
    "# Alıştırmalar I #\n",
    "\n",
    "1. Sıcaklığı ($T$), yarıçapı ($R$) ve uzaklığı ($d$) bilinen bir yıldızın aşağıda listelenen parametrelerini hesaplayan $YildizPar$ isimli bir sınıf kodlayınız. \n",
    "\n",
    "1.a. Sınıfınızın sıcaklk ($T$), yarıçap ($R$) ve uzaklık ($d$) parametrelerinin yanı sıra bir de gerekli sabitleri (Güneş'in ilgili parametreleri gibi) başatan \\__init__ başlatıcı metodu olmalıdır.\n",
    "\n",
    "1.b. Yıldızın toplam ışınım gücünü (lüminosite) hesap eden bir $L$ metodu olmalıdır.\n",
    "\n",
    "1.c. Yıldızın mutlak bolometrik parlaklığını hesaplayan $Mbol$ metodu olmalıdır.\n",
    "\n",
    "1.d. Uzaklık modülünü hesaplayan <i>uzaklik_modulu</i> metodu olmalıdır.\n",
    "\n",
    "1.e. Yıldızın görünen bolometrik parlaklığını hesaplayan $mbol$ metodu olmalıdır.\n",
    "\n",
    "1.f. Yıldızın görünen görsel parlaklığını hesaplayan $mV$ metodu olmalıdır.\n",
    "\n",
    "1.g. Yıldızdan Dünya'ya ulaşan akıyı hesaplayan <i>gorunen_aki</i> metodu olmalıdır.\n",
    "\n",
    "1.h. Yıldızın maksimum ışınım yaptığı dalgaboyunu hesaplayan <i>wien_kayma_yasasi</i> metodu olmalıdır.\n",
    "\n",
    "1.i. Sınıfın ve fonksiyonlarının ne yaptığnı, hangi öznitelik ve metotları içerdiğini anlatan bir iç dokümantasyonu olmalıdır.\n",
    "\n",
    "1.j. Sınıfınızın hangi parametreleri alıp, sonuçta hangi parametreleri hesapladığını anlatan bir \\__str__ metodu olmalıdır.\n",
    "\n",
    "Yazdığınız sınıfı test etmek üzere bir \\_test() fonskiyonu yazınız (aynı kodun içine) ve sınıfınızı Dschubba (T = 28000 K, R = 5.16 x 1011 m, d = 180 pc) ve Güneş yıldızları için test ediniz. \n",
    "\n",
    "2. $YildizPar$ sınıfını $TayfsalEnerjiDagilimi$ sınıfının bir alt sınıfı olarak kodlayabilir misiniz? Bunun getireceği avantajları değerlendiriniz ve avantajlı olacağını düşünüyorsanız sınıfı bu şekilde kodlayınız.\n",
    "\n",
    "Gerekli sabitler: $\\sigma = 5.670373 \\times 10^{-5} erg cm^{-2} s^{-1} K^{-4}$, $M_{V, \\odot} = 4^m.83$, $M_{bol, \\odot} = 4^m.75$, $L_{\\odot} = 3.826 \\times 10^{33} erg / s$"
   ]
  },
  {
   "cell_type": "markdown",
   "metadata": {},
   "source": [
    "[Başa Dön](#Bu-derste-neler-öğreneceksiniz?)"
   ]
  },
  {
   "cell_type": "markdown",
   "metadata": {},
   "source": [
    "# Alıştırmalar II #\n",
    "\n",
    "Dalgalar fiziğinin en önemli filkirlerinden biri her kompleks dalga formunun kosinüs ve sinüs fonksiyonlarının harmoniklerinin toplamı olarak ifade edilebilmesidir. \n",
    "\n",
    "$$ f (x) = a_0 + a_1 cos x + a_2 cos 2x + a_3 cos 3x + a_4 cos 4x + …. + b_1 sin x +  b_2 sin 2x + b_3 sin 3x + b_4 sin 4x + … $\n",
    "\n",
    "Bu şekilde oluşturulan serilere <b>Fourier serileri</b> adı verilir.  \n",
    "\n",
    "$FourierSerisi$ adında ve aşağıdaki özellikleri sağllayan bir sınıf kodlayanız.\n",
    "\n",
    "1. Sınıfınızın $a = [a_0, a_1, a_2, a_3, …, a_{n-1}]$ ve $b = [b_0, b_1, b_2, b_3, …, b_{n-1}]$ harmonik terimlerinin katsayılarını birer `numpy` dizisi olarak başlatan bir \\__init__(self, a, b, n) metodu bulunmalıdır (n: terim sayısı).\n",
    "\n",
    "2. Sınıfınızın herhangi bir $x$ için serinin değerini hesaplayan bir \\__call__(self, x) metodu olmaldır. \n",
    "\n",
    "3. Sınıfınızın verilen katsayilar için oluşan Fourier serisini ekrana güzel bir şekilde yazdıran bir  \\__str__(self) metodu olmaldır. \n",
    "\n",
    "Test: Bu kodu kullanarak aşağıdaki dalga formunu oluşturan bir _test() fonksiyonu yazınız.\n",
    "$\\psi = \\frac{2}{(n +1)} (sin x – sin 3x + sin 5x – sin 7x + … \\pm sin nx) = \\frac{2}{(n + 1)}, \\Sigma_n^{k=1} (-1)^{(k-1) / 2} sin kx$; $k$ : tek tam sayı. Baştaki 2 / (n + 1) terimi dalga formunun şeklini değiştirmeyecek sadece maksimum değeri 1 olacak şekilde ölçeklendirecektir. \n",
    "\n",
    "$x = [0, \\pi]$ aralığında (radyan cinsinden) $n = 5$ nokta için $\\psi$ dalga formunun grafiğini çiziniz. Daha sonra $n$'i sırasıyla 11, 21 ve 41'e çıkararak grafik çizimini tekrarlaynız ve dalga formunun nasıl değiştiğini gözleyiniz."
   ]
  },
  {
   "cell_type": "markdown",
   "metadata": {},
   "source": [
    "[Başa Dön](#Bu-derste-neler-öğreneceksiniz?)"
   ]
  }
 ],
 "metadata": {
  "kernelspec": {
   "display_name": "Python 3",
   "language": "python",
   "name": "python3"
  },
  "language_info": {
   "codemirror_mode": {
    "name": "ipython",
    "version": 3
   },
   "file_extension": ".py",
   "mimetype": "text/x-python",
   "name": "python",
   "nbconvert_exporter": "python",
   "pygments_lexer": "ipython3",
   "version": "3.6.9"
  }
 },
 "nbformat": 4,
 "nbformat_minor": 2
}
