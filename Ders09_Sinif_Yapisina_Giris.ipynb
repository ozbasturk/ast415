{
 "cells": [
  {
   "cell_type": "markdown",
   "metadata": {},
   "source": [
    "# AST415 Astronomide Sayısal Çözümleme - I #\n",
    "## Ders - 09 Python'da Sınıf (Class) Yapısına Giriş ##"
   ]
  },
  {
   "cell_type": "markdown",
   "metadata": {},
   "source": [
    "Doç. Dr. Özgür Baştürk <br>\n",
    "Ankara Üniversitesi, Astronomi ve Uzay Bilimleri Bölümü <br>\n",
    "obasturk at ankara.edu.tr <br>\n",
    "http://ozgur.astrotux.org"
   ]
  },
  {
   "cell_type": "markdown",
   "metadata": {},
   "source": [
    "# Bu derste neler öğreneceksiniz?\n",
    "## Python'da Sınıf Yapısına Giriş ##\n",
    "\n",
    "* [Sınf Yapısına Neden İhtiyaç Duyulur?](#Sınf-Yapısına-Neden-İhtiyaç-Duyulur?)\n",
    "    * [Problemin Kötü Bir Çözümü: Global Değişken Kullanmak](#Global-Değişken-Kullanmak)\n",
    "    * [Bir Fonksiyonu Sınıf Yapısı İçerisinde Temsil Etmek](#Bir-Fonksiyonu-Sınıf-Yapısı-İçerisinde-Temsil-Etmek)\n",
    "    * [Örnek: Jeans Kütlesi Hesabı](#Örnek:-Jeans-Kütlesi-Hesabı)\n",
    "    * [Örnek: Çember Nesnesi](#Örnek:-Çember-Nesnesi)\n",
    "* [Özel Metotlar](#Özel-Metotlar)\n",
    "    * [call-Metodu](#call-Metodu)\n",
    "    * [Örnek: Nümerik Türev](#Örnek:-Nümerik-Türev)\n",
    "    * [str-Metodu](#str-Metodu)\n",
    "    * [add-Metodu](#add-Metodu)\n",
    "    * [null-Metodu](#null-Metodu)\n",
    "    * [Örnek: Polinom Türevi](#Örnek:-Polinom-Türevi)\n",
    "    * [Aritmetik İşlemler ve Diğer Özel Metotlar](#Aritmetik-İşlemler-ve-Diğer-Özel-Metotlar)\n",
    "    * [repr-Metodu](#repr-Metodu)\n",
    "    * [Örnek: Vektörel İşlemler](#Örnek:-Vektörel-İşlemler)\n",
    "* [Statik Metotlar ve Öznitelikler](#Statik-Metotlar-ve-Öznitelikler)"
   ]
  },
  {
   "cell_type": "markdown",
   "metadata": {},
   "source": [
    "# Sınf Yapısına Neden İhtiyaç Duyulur? #\n",
    "\n",
    "En basit tanımıyla sınıf, bir veri setini (değişkenler), bu veri seti üzerinde işlemler gerçekleştiren fonksiyonlarla birlikte paketlemeye verilen isimdir. Sınıflara neden ihtiyaç duyulduğu aşağıdaki örnek üzerinden takip edilebilir. \n",
    "\n",
    "## Örnek: Dikey Atış ve Harmonik Hareket ##\n",
    "\n",
    "Gerek dikey atış, gerekse harmonik hareket problemi dersin başından beri kullanılan örnekler olduğu için sınıflara olan ihtiyacı örneklemek için de seçilmiştir. Problemlerin temelinde sırasıyla $y$ ve $g$ değişkenlerinin alacağı değerleri belirlemek yatar.\n",
    "\n",
    "$$ y(t) = V_0 t - \\frac{1}{2} g t^2 $$\n",
    "\n",
    "$$ g(x; A, a) = A e^{-a x} $$\n",
    "\n",
    "Yukarıda metamatiksel ifadeleri verilen bu problemlerden dikey atış probleminde $y$ (düşey konum) sadece $t$ bağımsız değişkeninin bir fonksiyonudur. Ancak $V_0$ (ilk hız) da programcılık bağlamında baktığınızda bir değişkendir. $g$ (yer çekimi ivmesi) ise problemin yapısına bağlı olarak (sadece Dünya dikkate alındığında) bir sabit şekinde düşünülebilir. Bu durumda fonksiyon $y = y(t; V_0)$ şeklinde düşünülebilir. Benzer şekilde harmonik hareket de $g = g(x; A, a)$ şeklinde düşünülebiilr. Bu iki problemi çözmek üzere yazılabilecek iki Python fonksiyonu aşağıda verilmiştir."
   ]
  },
  {
   "cell_type": "code",
   "execution_count": null,
   "metadata": {},
   "outputs": [],
   "source": [
    "def y(t, v0):\n",
    "    g = 9.81\n",
    "    return v0*t - 0.5*g*t**2\n",
    "\n",
    "def g(x, A, a):\n",
    "    from math import exp\n",
    "    return A*exp(-a*x)"
   ]
  },
  {
   "cell_type": "markdown",
   "metadata": {},
   "source": [
    "<b>! Problem:</b> Matematiksel fonksiyonlar üzerine uygulanabilecek pek çok başka fonksiyon, tek değişkenli bir fonksiyonun bir programlama diliyle yazılmış halinin de sadece bir argümanı olduğunu varsayar. Örnek olarak bir $f(x)$ fonksiyonunun $x$ noktasındaki türevini hesaplayan $turev$ fonksiyonunu düşünelim. Bu fonksiyon yukarıda verilen iki fonksiyon için de çalışmaz!\n",
    "\n",
    "$$ f^{\\prime}(x) \\approx \\frac{f(x+h) - f(x)}{h} $$"
   ]
  },
  {
   "cell_type": "code",
   "execution_count": null,
   "metadata": {},
   "outputs": [],
   "source": [
    "def turev(f, x, h=1E-10):\n",
    "    return (f(x+h) - f(x)) / h"
   ]
  },
  {
   "cell_type": "markdown",
   "metadata": {},
   "source": [
    "## Problemin Kötü Bir Çözümü: ##\n",
    "### Global Değişken Kullanmak ###\n",
    "\n",
    "Fonksiyonlar aşağıdaki şekilde değiştirilir ve bu fonksiyonları çağırmadan önce $V_0$ ve $A$, $a$ değişkenleri global değişken olarak tanımlanırsa amaca ulaşılmış, türev fonksiyonunun da üzerinde kullanılabileceği daha genel bir yapı oluşturmuş olunur."
   ]
  },
  {
   "cell_type": "code",
   "execution_count": null,
   "metadata": {},
   "outputs": [],
   "source": [
    "def y(t):\n",
    "    g = 9.81\n",
    "    return v0*t - 0.5*g*t**2\n",
    "\n",
    "def g(x):\n",
    "    from math import exp\n",
    "    return A*exp(-a*x)"
   ]
  },
  {
   "cell_type": "code",
   "execution_count": null,
   "metadata": {},
   "outputs": [],
   "source": [
    "v0 = 1\n",
    "dy = turev(y, x=1)\n",
    "A = 1; a = 0.1\n",
    "dg = turev(g, x=1.5)"
   ]
  },
  {
   "cell_type": "markdown",
   "metadata": {},
   "source": [
    "Ancak global değişken kullanımı genellikle “kötü bir programcılık” pratiği olarak değerlendirilir. Bunun bir nedeni örneğin $y$ fonksiyonunu farklı $V_0$ değerleri için her çalıştırışımızda $v0$ değişkenini yeniden tanılmamamız gerekliliği, diğer bir nedeni ise $v0$, $A$, $a$ değişkenlerinin programımızın başka bir noktasında değiştirilme ihtimalidir. Uzun ve global değişkenlerin sık kullanıldığı bir programda bu durumu kontrol etmek hiç kolay olmayabilir. \n",
    "\n",
    "Sınıf yapısı tüm bu problemleri çözer ve “iyi programcılık” sınıf yapısını doğru ve yerli yerinde kullanmaktan geçer!"
   ]
  },
  {
   "cell_type": "markdown",
   "metadata": {},
   "source": [
    "## Bir Fonksiyonu Sınıf Yapısı İçerisinde Temsil Etmek ##\n",
    "\n",
    "Sınıf yapısı fonksiyonları ve değişkenleri bir arada tek bir birim halinde tutar. Değişkenler sınıfın içerisindeki tüm fonksiyonlar tarafında “görülür”. Bir başka deyişle bir sınıfın içinde tanımlı bir değişken o sınıfın içerisindeki tüm fonksiyonların görebildiği bir global değişken gibi davranır. \n",
    "\n",
    "Dikey atış problemine iyi bir programcılık çözümü, zamanı bağımsız değişken kabul eden bir fonksiyon (y(t)) ve $V_0$ ile $g$'ye ulaşımın sağlandığı bir sınıf kullanılarak getirilebilir. \n",
    "\n",
    "y(t) fonksiyonuna ek olarak sınıf yapısında genellikle bulunan ve adı her zaman <b><i>\\__init__</i></b> olan ve tüm sınıf yapısında geçerli değişikenleri başlatan bir fonksiyona daha ihtiyaç duyulur. Python programcılığında sınıf isimleri genellikle büyük harfle başlayacak şekilde verilir. \n",
    "\n",
    "Sonuç olarak <i>\\__init__</i> fonksiyonu ile düşey konumu hesaplayacak bir fonksiyon (dusey_konum) ile iki de sınıf değişkeni ($v0$ ve $g$) bulunmaktadır. Aşağıda bu sınıfın nasıl tanımlandığı görülmektedir."
   ]
  },
  {
   "cell_type": "code",
   "execution_count": null,
   "metadata": {},
   "outputs": [],
   "source": [
    "class Y:\n",
    "    def __init__(self,v0):\n",
    "        self.v0 = v0\n",
    "        self.g = 9.81\n",
    "\n",
    "    def dusey_konum(self,t):\n",
    "        return self.v0*t - 0.5*self.g*t**2"
   ]
  },
  {
   "cell_type": "markdown",
   "metadata": {},
   "source": [
    "<b>self</b> parametresinin ne işe yaradığı öncelikle yukarıda verilen sınıf yapısının düşey konumu nasıl hesapladığına bakılarak görülebilir. Oluşturulan $Y$ sınıfı başlatıldığında $Y$ adında yeni bir veri türü yaratır. Bu veri türü üzerinden yeni nesneler tanımlanabilir. Kullanıcı tarafından tanımlanan bir sınıfın nesnelerine <b><i>olgu</i></b> (ing. instance) adı verilir. Liste (list), demet (tuple), metin (string), noktalı sayı (float), tam sayı (integer) gibi nesneler özünde bu isimlerle yaratılmış birer Python sınıfıdır.\n",
    "\n",
    "Aşağıdaki ifade y değişkenine bağlı bir olgu (instance) yaratır."
   ]
  },
  {
   "cell_type": "code",
   "execution_count": null,
   "metadata": {},
   "outputs": [],
   "source": [
    "y = Y(3)"
   ]
  },
  {
   "cell_type": "markdown",
   "metadata": {},
   "source": [
    "Python bu ifadedeki $Y(3)$ 'ü hemen $Y$ sınıfındaki <i>\\__init__</i> fonksiyonunu çağırmak üzere kullanır. Bu çağrı yapılırken kullanılan değer(ler) (burada sadece 3 nümerik değeri), <i>\\__init__</i> fonksiyonunda self parametresinin hemen arkasından gelen değişken(ler)e transfer edilir (örnekte $v0$ bu şekilde 3 değerini alır). Sınıf yapısındaki fonksiyonlarda self parametresine hiçbir değer gönderilmez. Gönderilen değer ya da değerler bu parametreden sonra gelen değişkenlere atanır. \n",
    "\n",
    "y olgusuyla (instance) $t = 0.1$ saniye ve $V_0 = 3$ m/s için düşey konum aşağıdaki ifadeyle elde edilebilir."
   ]
  },
  {
   "cell_type": "code",
   "execution_count": null,
   "metadata": {},
   "outputs": [],
   "source": [
    "v = y.dusey_konum(0.1)"
   ]
  },
  {
   "cell_type": "markdown",
   "metadata": {},
   "source": [
    "Görüldüğü üzere <i>dusey_konum</i> fonksiyonundaki self parametresine de değer gönderilmemekte, 0.1 değeri fonksiyon tanımında ondan hemen sonra gelen $t$ değişkenine atanmaktadır.\n",
    "\n",
    "$y$ olgusunun parametrelerine (fonksiyon ve değişkenlerine), bu olgunun adının arkasına istenen parametreyi koyarak ulaşmak mümkündür."
   ]
  },
  {
   "cell_type": "code",
   "execution_count": null,
   "metadata": {},
   "outputs": [],
   "source": [
    "print(y.v0)"
   ]
  },
  {
   "cell_type": "markdown",
   "metadata": {},
   "source": [
    "Bir sınıf nesnesine <b>olgu (instance)</b>, sınıftaki fonksiyonlara <b>metotlar (method)</b>, değişkenlere (veri) ise <b>öznitelikler (attribute)</b> denir. Örnekteki $Y$ sınıfında iki <i>metot</i> (\\__init__ ve dusey_konum), iki de <i>öznitelik (attribute)</i> (v0,g) bulunmaktadır. Tüm Python fonksiyonlarında olduğu gibi isimlendirme kurallarına uymak koşuluyla metot ve öznitelik isimleri de özgürce seçilebilir. Ancak <b>başlatıcı</b> (ing. constructor) fonksiyonun adı \\__init__ olarak verilmek zorundadır. Aksi takdirde yeni olgular (instances) oluştururken bu fonksiyon (metot) otomatik olarak çağrılamaz ve istenen öznitelikler (attributes) oluşmaz.   \n",
    "\n",
    "Herhangi bir metot herhangi bir işi yapmak için oluşturulurken, \\__init__ metodu öznitelikleri (sınıf değişkenleri, attribute) yaratmak için oluşturulur.\n",
    "\n",
    "<b>self Değişkeni:</b> Oluşturulan olguyu (instance, örnekte $y$) \\__init__ fonksiyonu içerisinde tutan değişkendir. \n",
    "\n",
    "$y = Y(3)$ yazıldığı vakit, Python bu ifadeyi geri planda \"Y.\\__init__(y,3)\" ifadesine dönüştürür. Yani self.v0 yazıldığı vakit de $y.v0$ özniteliği “başlatılmış” olur.\n",
    "\n",
    "Aynı şekilde <i>konum = y.dusey_konum(0.1)</i> yazıldığı vakit Python bu ifadeyi <i>konum = y.dusey_konum(y,0.1)</i> 'e dönüştürür.  \n",
    "\n",
    "Dolayısı ile <i>dusey_konum</i> fonksiyonu içerisindeki $self.v0*t – 0.5*self.g*t**2$ ifadesi $y.v0*t - 0.5*y.g*t**2$ ile aynı işlevi görür.  Özet olarak self, yaratılan olgunun (instance) yerini tutar.\n",
    "\n",
    "<b>self</b> değişkeni ile ilgili kurallar aşağıdaki gibidir: \n",
    "* Her sınıf metodunun ilk argümanı self değişkeni olmak zorundadır!\n",
    "* self, sınıfın (herhangi) bir olgusunun (instance) yerini tutar!\n",
    "* Sınıfın içindeki diğer metot ve özniteliklere ulaşmak için, ulaşılmak istenen metot ya da özniteliğin adı self değişkenin arkasına yazılır (self.metotadi ya da self.degiskenadi gibi)\n",
    "* Sınıfın fonksiyonları (metotlar) çağrılırken self bir argüman olarak verilmez. Fonksiyona (varsa) gönderilen değer self argümanından bir sonrakine atanır!\n",
    "\n",
    "Bir sınıfa istenildiği kadar metot ya da öznitelik eklenebilir. Dikey atış problemini çözmek üzere geliştirilen $Y$ sınıfına bir ekrana formül basan bir $formul$ fonksiyonu aşağıdaki şekilde eklenebilir."
   ]
  },
  {
   "cell_type": "code",
   "execution_count": null,
   "metadata": {},
   "outputs": [],
   "source": [
    "def formul(self):\n",
    "    return 'v0*t - 0.5*g*t**2; v0={:g}'.format(self.v0)"
   ]
  },
  {
   "cell_type": "markdown",
   "metadata": {},
   "source": [
    "Bu durumda $Y$ sınıfı aşağıdaki şekle dönüşmüş olur."
   ]
  },
  {
   "cell_type": "code",
   "execution_count": null,
   "metadata": {},
   "outputs": [],
   "source": [
    "class Y:\n",
    "    def __init__(self,v0):\n",
    "        self.v0 = v0\n",
    "        self.g = 9.81\n",
    "\n",
    "    def dusey_konum(self,t):\n",
    "        return self.v0*t - 0.5*self.g*t**2\n",
    "    \n",
    "    def formul(self):\n",
    "        return 'v0*t - 0.5*g*t**2; v0={:g}'.format(self.v0)"
   ]
  },
  {
   "cell_type": "markdown",
   "metadata": {},
   "source": [
    "Programın en altına aşağıdaki satırlar eklenerek çalıştırılıp, çıktısı böylece güzel bir şekilde gösterilebilir. Unutulmaması gereken, ana programın class ifadesi ile aynı düzeyde (aynı miktarda bloklanmış şekilde) yazılması gerekliliğidir."
   ]
  },
  {
   "cell_type": "code",
   "execution_count": null,
   "metadata": {},
   "outputs": [],
   "source": [
    "y = Y(5)\n",
    "t = 0.2\n",
    "v = y.dusey_konum(t)\n",
    "print('y(t={:g}; v0={:g}) = {:g}'.format(t, y.v0, v))\n",
    "print(y.formul())"
   ]
  },
  {
   "cell_type": "markdown",
   "metadata": {},
   "source": [
    "Farklı $V_0$ değerleri için farkı $y$ örnekleri oluşturularak, bu örneklerin her birinin sonucu herhangi bir fonksiyona gönderilebilir. Örnek olarak $turev$ fonksiyonuna bu sonuçlar ve fonksiyonlar gönderilebilir. Böylece bu fonksiyona görünürde sadece bir değer ($t$) gönderildiği halde $y$ örnekleri aracılığıyla $v0$ ve $g$'ye de erişim sağlanır ve istendiği takdirde bu değerler de değiştirilebilir! Böylece problem çözülmüş olur!"
   ]
  },
  {
   "cell_type": "code",
   "execution_count": null,
   "metadata": {},
   "outputs": [],
   "source": [
    "def turev(f, x, h=1E-10):\n",
    "    return (f(x+h) - f(x)) / h"
   ]
  },
  {
   "cell_type": "code",
   "execution_count": null,
   "metadata": {},
   "outputs": [],
   "source": [
    "y1 = Y(1)\n",
    "y2 = Y(1.5)\n",
    "y3 = Y(-3)\n",
    "dy1dt = turev(y1.dusey_konum,0.1)\n",
    "dy2dt = turev(y2.dusey_konum,0.1)\n",
    "dy3dt = turev(y3.dusey_konum,0.2)\n",
    "print(dy1dt, dy2dt, dy3dt)"
   ]
  },
  {
   "cell_type": "markdown",
   "metadata": {},
   "source": [
    "Sonuç olarak elde edilen kodun tamamı bir miktar iç dokümantasyonla aşağıdaki şekilde oluşmuş olur."
   ]
  },
  {
   "cell_type": "code",
   "execution_count": null,
   "metadata": {},
   "outputs": [],
   "source": [
    "class Y:\n",
    "    \"\"\"\n",
    "    Dikey atilan bir cismin t anindaki dusey konumunu hesaplayan sinif\n",
    "    Metotlar (Methods):\n",
    "    __init__(v0): baslangici hizi v0 'i belirler\n",
    "    dusey_konum(t): cismin t'nin fonksiyonu olarak dusey konumunu hesaplar\n",
    "    formul(): formulu ekrana yazdirir\n",
    "    Oznitelikler (Attributes):\n",
    "    v0: cismin ilk hizi (t=0 anindaki hiz)\n",
    "    g: yercekimi ivmesi (sabit)\n",
    "    Kullanim:\n",
    "    >>> y = Y(3)\n",
    "    >>> konum1 = y.value(0.1)\n",
    "    >>> konum22 = y.value(0.3)\n",
    "    >>> print y.formul()\n",
    "    v0*t - 0.5*g*t**2; v0=3\n",
    "    \"\"\"\n",
    "    def __init__(self,v0):\n",
    "        self.v0 = v0\n",
    "        self.g = 9.81\n",
    "        \n",
    "    def dusey_konum(self,t):\n",
    "        return self.v0*t - 0.5*self.g*t**2\n",
    "\n",
    "    def formul(self):\n",
    "        return 'v0*t - 0.5*g*t**2; v0=%g' % self.v0\n",
    "\n",
    "def turev(f, x, h=1E-10):\n",
    "    return (f(x+h) - f(x)) / h\n",
    "\n",
    "y = Y(5)\n",
    "t = 0.2\n",
    "v = y.dusey_konum(t)\n",
    "print('y(t={:g}; v0={:g}) = {:g}'.format(t, y.v0, v))\n",
    "print(y.formul())\n",
    "\n",
    "y1 = Y(1)\n",
    "y2 = Y(1.5)\n",
    "y3 = Y(-3)\n",
    "dy1dt = turev(y1.dusey_konum,0.1)\n",
    "dy2dt = turev(y2.dusey_konum,0.1)\n",
    "dy3dt = turev(y3.dusey_konum,0.2)\n",
    "print(dy1dt, dy2dt, dy3dt)"
   ]
  },
  {
   "cell_type": "markdown",
   "metadata": {},
   "source": [
    "[Başa Dön](#Bu-derste-neler-öğreneceksiniz?)"
   ]
  },
  {
   "cell_type": "markdown",
   "metadata": {},
   "source": [
    "## Örnek: Jeans Kütlesi Hesabı\n",
    "\n",
    "Bir gaz bulutunun kendi çekim etkisi altında çökerek yıldız oluşturabileceği limit kütleye <b>Jeans Kütlesi</b> adı verilir. Jeans kütlesi gaz bulutunun sıcaklığı ($T$), ortalama molekül ağırlığı ($\\mu$) ve ortalama yoğunluğa ($\\rho$) bağlıdır. Yıldız oluşumunun gerçekleştiği gaz bulutlarının ortalama molekül ağırlığı ile yoğunluğunu ölçmek kolay olmadığı için genellikle bu değerler teorik bazı değerlere eşit kabul edilerek işlem yapılır. Bu nedenle Jeans Kütlesi, sıcaklığın temel bağımsız parametre olarak kabul edilebileceği M($T$; $\\mu$, $\\rho$)) bir fonksiyonla ifade edilebilir. $k$ (Boltzman sabiti), $m_H$ (Hidrojen atomunun kütlesi) ve $G$ (evrensel çekim sabiti) ise fonksiyonun sabitleridir. $\\pi$ ise kolaylıkla math modülünden çekilebilecek matematiksel bir sabittir.\n",
    "\n",
    "$$ M_{Jeans} = (\\frac{5 k T}{G \\mu m_H})^{\\frac{3}{2}} (\\frac{3}{4 \\pi \\rho})^{\\frac{1}{2}} $$ \n",
    "\n",
    "Bu hesap için kodlanabilecek sınıf doğal olarak bir başlatıcı fonksiyon (__init__) ve bir de hesabı yapan fonksiyon ($hesap$) içermelidir. Sınıfın adı $JeansKutlesi$ olarak belirlenmiş olsun."
   ]
  },
  {
   "cell_type": "code",
   "execution_count": null,
   "metadata": {},
   "outputs": [],
   "source": [
    "class JeansKutlesi:\n",
    "    \"\"\"\n",
    "    Bir gaz bulutunun kendi cekim etkisi altinda cokmesi icin sahip olmasi\n",
    "    gereken limit kutleye Jean's Limiti ya da Jean's kutlesi adi verilir.\n",
    "    Bu sinif bu limit kutleyi hesaplamaktadir.\n",
    "    Metotlar (Methods):\n",
    "    __init__(mu,rho): Gaz bulutunun yogunlugu (rho) ve kimyasal yapisini\n",
    "    (ortalama molekul agirligi, mu) belirleyen baslatici metot.\n",
    "    hesap(T): Verilen bir gaz bulutu icin sicakliga bagli olarak Jean's kutlesi\n",
    "    hesabini yapan metot\n",
    "    Oznitelikler (Attributes):\n",
    "    mu: Ortalama molekul agirligi (kg)\n",
    "    rho: Ortalama yogunluk (kg / m^3)\n",
    "    k: Boltzmann sabiti\n",
    "    mH: Hidrojen atomunun kutlesi (kg)\n",
    "    G: Evrensel cekim sabiti (m^3 / (kgs^2))\n",
    "    T: sicaklik (K)\n",
    "    Kullanim:\n",
    "    >>> m = JeansKutlesi(100)\n",
    "    >>> Mj = m.hesap(mu=2.,rho=3.3e-18)\n",
    "    >>> print Mj\n",
    "    \"\"\"\n",
    "    def __init__(self,mu,rho):\n",
    "        # Boltzman sabiti\n",
    "        self.k = 1.3806488e-23 # J/K\n",
    "        # Hidrojen atomunun kutlesi\n",
    "        u = 1.660538921e-27 # kg (atomik birim kutle)\n",
    "        self.mH = 1.00784*u # kg\n",
    "        # Evrensel cekim sabiti\n",
    "        self.G = 6.67408e-11 # m3 / (kg s^2)\n",
    "        # Ortalama Molekul Agirligi ve Ortalama Yogunluk\n",
    "        self.mu,self.rho = mu,rho\n",
    "\n",
    "    def hesap(self,T):\n",
    "        from math import pi\n",
    "        mu,rho,k,mH,G = self.mu,self.rho,self.k,self.mH,self.G\n",
    "        M = ((5*k*T)/(G*mu*mH))**(3./2.)*(3./(4*pi*rho))**(1./2.)\n",
    "        return M"
   ]
  },
  {
   "cell_type": "markdown",
   "metadata": {},
   "source": [
    "Sınıfın ne şekilde kullanılabileceği aşağıdaki şekilde örneklenmiştir. $T$ = 10, 50, 100, 250, 500, 1000 K sıcaklığında, ortalama molekül kütlesi $\\mu$ = 2, yoğunluğu  $\\rho = 3.3 \\times 10^{-18} kg m^{-3}$ bir bulutun kendi külte çekim etkisi altında çökmesi için sahip olması gereken minimum kütleyi scaıkligin bir fonksiyonu olarak grafik eden bu kodda $JeansKutlesi$ sınıfı fonksiyonları kullanılmaktadır."
   ]
  },
  {
   "cell_type": "code",
   "execution_count": null,
   "metadata": {},
   "outputs": [],
   "source": [
    "# Ortalama molekul kutlesi 2, bulutun yogunlugu 3.3e-18 kg/m^3 olsun\n",
    "m = JeansKutlesi(mu=2.0,rho=3.3e-18)\n",
    "# Farkli sicakliklarda boyle bir gaz bulutunun kendi cekim etkisi altinda\n",
    "# cokebilmesi icin hangi kutleye sahip olmasi gerektigine bakilabilir\n",
    "import numpy as np\n",
    "T = np.array([10,50,100,250,500,1000])\n",
    "Mj = m.hesap(T)\n",
    "# Kutle gunes kutlesi cinsinden ifade edildiginde\n",
    "Mgunes = 1.989e30 #kg\n",
    "Mj = Mj / Mgunes\n",
    "# Ornek olarak sicakliga \n",
    "from matplotlib import pyplot as plt\n",
    "plt.plot(T,Mj,\"ro\")\n",
    "plt.xlim((-100,1100))\n",
    "plt.ylim((-1000,25000))\n",
    "plt.xlabel(\"T [K]\")\n",
    "plt.ylabel(\"M [$M_{\\odot}$]\")\n",
    "plt.show()"
   ]
  },
  {
   "cell_type": "markdown",
   "metadata": {},
   "source": [
    "[Başa Dön](#Bu-derste-neler-öğreneceksiniz?)"
   ]
  },
  {
   "cell_type": "markdown",
   "metadata": {},
   "source": [
    "## Örnek: Çember Nesnesi\n",
    "\n",
    "Geometrik şekiler (örneğin bir çember) sınıf kavramınıın anlaşılabilmesi açısından iyi bir örnek oluşturabilir. Bir çemberin merkez koordinatları ($x_0$,$y_0$) ve yarıçapı ($R$) ile tekil olarak tanımlanabilir. Bu üç sayıyı bir sınıfın öznitelikleri olarak değerlendirebilliriz. Bu sayılar başlatıcı metotta (\\__init__) başlatılabilir. Sınıfın diğer metotları ise çemberin sırasıyla alan ve çevresini hesaplayan $alan$ ve $cevre$ olabilir. "
   ]
  },
  {
   "cell_type": "code",
   "execution_count": null,
   "metadata": {},
   "outputs": [],
   "source": [
    "class Cember:\n",
    "    def __init__(self, x0, y0, R):\n",
    "        self.x0, self.y0, self.R = x0, y0, R\n",
    "    def alan(self):\n",
    "        from math import pi\n",
    "        return pi*self.R**2\n",
    "    def cevre(self):\n",
    "        from math import pi\n",
    "        return 2*pi*self.R"
   ]
  },
  {
   "cell_type": "markdown",
   "metadata": {},
   "source": [
    "Sınıfın kullanımına bir örnek aşağıda verilmiştir:"
   ]
  },
  {
   "cell_type": "code",
   "execution_count": null,
   "metadata": {},
   "outputs": [],
   "source": [
    "c = Cember(2,-1,5)\n",
    "r,x,y,A,C = c.R, c.x0, c.y0, c.alan(), c.cevre()\n",
    "print(\"\"\"\n",
    "      {:g} yaricapina sahip merkez koordinatlari ({:g},{:g}) olan \n",
    "      bir cemberin alani {:g}, cevresi {:g} dir\n",
    "      \"\"\".\\\n",
    "      format(r, x, y, A, C))"
   ]
  },
  {
   "cell_type": "markdown",
   "metadata": {},
   "source": [
    "Bu kavram pek çok geometrik şeklin (dikdörtgen, üçgen, elips, dikdörtgenler prizması olarak düşünülebilecek bir kutu, küre …) alan ve çevresini hesap etmek üzere uygulanabilir.\n",
    "\n",
    "Programcılıkta bir problemin genellikle pek çok çözümü bulunur. Yukarıdaki örnekte çemberin merkez koordinatları ve yarıçapı bir listenin üyeleri olarak düşünülebilir ve metotlar buna uygun olarak da düzenlenebilir."
   ]
  },
  {
   "cell_type": "code",
   "execution_count": null,
   "metadata": {},
   "outputs": [],
   "source": [
    "class Cember2:\n",
    "    def __init__(self, x0, y0, R):\n",
    "        self.cember = [x0, y0, R]\n",
    "    def alan(self):\n",
    "        from math import pi\n",
    "        return pi*self.cember[2]**2\n",
    "    def cevre(self):\n",
    "        from math import pi\n",
    "        return 2*pi*self.cember[2]"
   ]
  },
  {
   "cell_type": "code",
   "execution_count": null,
   "metadata": {},
   "outputs": [],
   "source": [
    "c2 = Cember2(2,-1,5)\n",
    "Rxy,A,C = c2.cember, c2.alan(), c2.cevre()\n",
    "print(\"\"\"\n",
    "      {:g} yaricapina sahip merkez koordinatlari ({:g},{:g}) olan \n",
    "      bir cemberin alani {:g}, cevresi {:g} dir\n",
    "      \"\"\".\\\n",
    "      format(Rxy[0], Rxy[1], Rxy[2], A, C))"
   ]
  },
  {
   "cell_type": "markdown",
   "metadata": {},
   "source": [
    "Ya da çember, koordinatları ve yarıçapını anahtar olarak alan sözlük (dictionary) türünde bir öznitelik olarak da tanımlanabilir.  "
   ]
  },
  {
   "cell_type": "code",
   "execution_count": null,
   "metadata": {},
   "outputs": [],
   "source": [
    "class Cember3:\n",
    "    def __init__(self, x0, y0, R):\n",
    "        self.cember = {'merkez':(2,-1),'yaricap':5}\n",
    "    def alan(self):\n",
    "        from math import pi\n",
    "        return pi*self.cember['yaricap']**2\n",
    "    def cevre(self):\n",
    "        from math import pi\n",
    "        return 2*pi*self.cember['yaricap']"
   ]
  },
  {
   "cell_type": "code",
   "execution_count": null,
   "metadata": {},
   "outputs": [],
   "source": [
    "c3 = Cember3(2,-1,5)\n",
    "Rxy,A,C = c3.cember, c3.alan(), c3.cevre()\n",
    "print(\"\"\"\n",
    "      {:g} yaricapina sahip merkez koordinatlari {:} olan \n",
    "      bir cemberin alani {:g}, cevresi {:g} dir\n",
    "      \"\"\".\\\n",
    "      format(Rxy['yaricap'], Rxy['merkez'], A, C))"
   ]
  },
  {
   "cell_type": "markdown",
   "metadata": {},
   "source": [
    "[Başa Dön](#Bu-derste-neler-öğreneceksiniz?)"
   ]
  },
  {
   "cell_type": "markdown",
   "metadata": {},
   "source": [
    "# Özel Metotlar\n",
    "\n",
    "## call Metodu\n",
    "\n",
    "Daha önce gördüğünüz başlatıcı metot \\__init__ gibi “\\__” ile başlayıp biten, başka bazı <b>“özel metotlar”</b> da bulunmaktadır. Bu metotlar olgular arasında aritmetik işlemler, karşılaştırmalar (>, <, ==, != gibi) yapmak, sıradan bir fonksiyon çağırır gibi olguları çağırmak ve bir olgunun Boolean ($True$ ya da $False$) değerini belrilemek gibi işlevleri görürler.\n",
    "\n",
    "Bir olgunun (instance) tıpkı bir fonksyon gibi çağrılabilmesi için (örneğin dikey atışta düşey konum hesaplayan dusey_konum(t) fonksiyonunu çağırmak için y.dusey_konum(t) yerine y(t) yazılıp aynı hesaplama yaptırmak istenirse) kullanılması gereken özel metot <i>\\__call__</i> metodudur. Pek çok sınıf bu şekilde doğrudan fonksiyon olarak da kullanılmak üzere bir <i>\\__call__</i> metoduna sahiptir. "
   ]
  },
  {
   "cell_type": "code",
   "execution_count": null,
   "metadata": {},
   "outputs": [],
   "source": [
    "class Y:\n",
    "    def __init__(self,v0):\n",
    "        self.v0 = v0\n",
    "        self.g = 9.81\n",
    "\n",
    "    def __call__(self,t):\n",
    "        return self.v0*t - 0.5*self.g*t**2\n",
    "    \n",
    "    def formul(self):\n",
    "        return 'v0*t - 0.5*g*t**2; v0={:g}'.format(self.v0)"
   ]
  },
  {
   "cell_type": "markdown",
   "metadata": {},
   "source": [
    "İyi bir programcılık prensibi matematiksel bir fonksiyon işlevi içeren tüm sınıfların <i>\\__call__</i> metoduna sahip olmaları ve işlemlerin bu metot içerisinde yapılmasıdır. Bu şekilde <i>\\__call__</i> metodu içeren tüm olgular, <b>“çağrılabilir nesneler”</b> (ing. callable objects) olarak tanımlanır (tıpkı fonksiyonlar gibi!). Bu yolla programlanmış $Y$ sınıfının bir olgusu, daha önce tanımlanan $turev$ fonksiyonuna bir fonksiyon argümanı olarak gönderilebilir."
   ]
  },
  {
   "cell_type": "code",
   "execution_count": null,
   "metadata": {},
   "outputs": [],
   "source": [
    "y = Y(v0 = 5)\n",
    "dydt = turev(y,0.1)\n",
    "print(dydt)"
   ]
  },
  {
   "cell_type": "markdown",
   "metadata": {},
   "source": [
    "[Başa Dön](#Bu-derste-neler-öğreneceksiniz?)"
   ]
  },
  {
   "cell_type": "markdown",
   "metadata": {},
   "source": [
    "## Örnek: Nümerik Türev\n",
    "\n",
    "Python diline entegre edilmiş bir $f(x)$ matematiksel fonksiyonu için bir Python fonksiyonu gibi davranan ve $f(x)$'in türevini alan ($^{\\prime}(x)$) nesnesi tanımlanmak isteniyor olsun. $Turev$ adı verilen sınıfın $dfdx$ olgusu tıpkı bir fonksiyon gibi örneğin $x^3$ fonksiyonunun türevini alıp ($3x^2$) herhangi bir $x$ için değerini döndürebilmelidir. Türev fonksiyonu için  basit bir yaklaşım kulllılabilir. Daha iyi bir hassasiyet için başka bir yaklaşım (nümerik algoritma) kullanmak gerekecektir."
   ]
  },
  {
   "cell_type": "code",
   "execution_count": null,
   "metadata": {},
   "outputs": [],
   "source": [
    "class Turev:\n",
    "    def __init__(self, f, h=1E-9):\n",
    "        self.f = f\n",
    "        self.h = float(h)\n",
    "    def __call__(self, x):\n",
    "        f, h = self.f, self.h # daha kisa yazabimek icin donusum\n",
    "        return (f(x+h) - f(x))/h"
   ]
  },
  {
   "cell_type": "markdown",
   "metadata": {},
   "source": [
    "Örnek olarak sinüs fonksiyonunun $x = \\pi$ noktasındaki türevini alıp, gerçek değeri ile ($sin^{\\prime}(x=\\pi) = cos(x=\\pi) = -1$) ile karşılaştırarak kodun doğru çalışıp çalışmadığı kontrol edilebilir."
   ]
  },
  {
   "cell_type": "code",
   "execution_count": null,
   "metadata": {},
   "outputs": [],
   "source": [
    "from math import cos,sin,pi\n",
    "df = Turev(sin)\n",
    "x = pi\n",
    "print(\"f'(x) = sin'(x=pi) =  {:g}\".format(df(x)))\n",
    "print(\"cos(x=pi) =  {:g}\".format(cos(x)))"
   ]
  },
  {
   "cell_type": "markdown",
   "metadata": {},
   "source": [
    "Bir başka örnek olarak $x^3$ fonksiyonunu tanımlayarak ve $x = 1$ noktasındaki türevi alınıp, gerçek değeri ($f^{\\prime}(x= 1) = 3x^2 = 3$) ile karşılaştırılabilir."
   ]
  },
  {
   "cell_type": "code",
   "execution_count": null,
   "metadata": {},
   "outputs": [],
   "source": [
    "def g(t):\n",
    "    return t**3\n",
    "dg = Turev(g)\n",
    "t = 1\n",
    "print(\"g'(x=1) =  {:g}\".format(dg(t)))"
   ]
  },
  {
   "cell_type": "markdown",
   "metadata": {},
   "source": [
    "[Başa Dön](#Bu-derste-neler-öğreneceksiniz?)"
   ]
  },
  {
   "cell_type": "markdown",
   "metadata": {},
   "source": [
    "# Örnek: Nümerik İntegrasyon\n",
    "\n",
    "Python diline entegre edilmiş bir $f(x)$ matematiksel fonksiyonu için bir Python fonksiyonu gibi davranan ve $f(x)$'in integralini alan bir nesne tanımlanmak isteniyor olsun.  Bu nesnein türü $Integral$ ve nümerik integrasyon yöntemi de yamuk yöntemi olsun. Yöntem aşağıdaki şekilde ifade edilir.\n",
    "\n",
    "$$ \\int_{a}^{x} f(t)dt = h ~ (\\frac{1}{2} f(a) + \\sum\\limits_{i = 1}^{n-1} f(a + ih) + \\frac{1}{2} f(x)) $$"
   ]
  },
  {
   "cell_type": "code",
   "execution_count": null,
   "metadata": {},
   "outputs": [],
   "source": [
    "class Integral:\n",
    "    def __init__(self, f, a, n=100):\n",
    "        self.f, self.a, self.n = f, a, n\n",
    "    def yamuk_yontemi(self):\n",
    "        f, a, n = self.f, self.a, self.n\n",
    "        h = (x-a)/float(n)\n",
    "        I = 0.5*f(a)\n",
    "        for i in range(1, n):\n",
    "            I += f(a + i*h)\n",
    "        I += 0.5*f(x)\n",
    "        I *= h\n",
    "        return I\n",
    "    def __call__(self, x):\n",
    "        return self.yamuk_yontemi()"
   ]
  },
  {
   "cell_type": "markdown",
   "metadata": {},
   "source": [
    "Aslında yamuk_yonteminin tamamı <i>\\__call__</i> fonksiyonunun içine de yazılabilirdi ama başka yöntemler de bu sınıfın altına farklı fonksiyonlar olarak kodlanıp, bunlardan biri varsayılan integrasyon yöntemi olarak <i>\\__call__<i> fonksiyonu tarafından çağrılabilir. Bu yöntem <i>\\__call__</i> fonksiyonunu yapısının da basit tutulmuş olmasını sağlar. Bu sınıfın kullanıldığı örnek bir çalışma aşağıdaki gibidir."
   ]
  },
  {
   "cell_type": "code",
   "execution_count": null,
   "metadata": {},
   "outputs": [],
   "source": [
    "from math import sin,pi\n",
    "G = Integral(sin,0,200)\n",
    "print(G(2*pi))"
   ]
  },
  {
   "cell_type": "markdown",
   "metadata": {},
   "source": [
    "[Başa Dön](#Bu-derste-neler-öğreneceksiniz?)"
   ]
  },
  {
   "cell_type": "markdown",
   "metadata": {},
   "source": [
    "## str Metodu\n",
    "\n",
    "Bir başka önemli özel metot <i>\\__str__</i> özel metodudur. Bu metot bir sınıfa ait olgu ekranda gösterilmek ($print$) istendiğinde çağrılır. Eğer olgunun bir <i>\\__str__</i> metodu varsa ve bu metot bir metin (string) döndürüyorsa döndürülen metin, aksi takdirde sınıfın adı yazdırılır. Örneğin dikey atış probleminin çözümü için yazdığımız $Y$ sınıfının bir olgusunu ekrana yazdırmak üzere <i>\\__str__</i> metodu $Y$ sınıfında aynı görevi gören $formul$ fonksiyonunun yerini alabilir."
   ]
  },
  {
   "cell_type": "code",
   "execution_count": null,
   "metadata": {},
   "outputs": [],
   "source": [
    "class Y:\n",
    "    def __init__(self,v0):\n",
    "        self.v0 = v0\n",
    "        self.g = 9.81\n",
    "        \n",
    "    def __call__(self,t):\n",
    "        return self.v0*t - 0.5*self.g*t**2\n",
    "\n",
    "    def __str__(self):\n",
    "        return 'v0*t - 0.5*g*t**2; v0=%g' % self.v0"
   ]
  },
  {
   "cell_type": "markdown",
   "metadata": {},
   "source": [
    "Kodun bir örnek çalışmasıyla <i>\\__str__</i> metodunun fonksiyonalitesi görülebilir."
   ]
  },
  {
   "cell_type": "code",
   "execution_count": null,
   "metadata": {},
   "outputs": [],
   "source": [
    "v0 = 1.5\n",
    "y = Y(v0)\n",
    "t = 0.2\n",
    "print(y(t))\n",
    "print(y)"
   ]
  },
  {
   "cell_type": "markdown",
   "metadata": {},
   "source": [
    "[Başa Dön](#Bu-derste-neler-öğreneceksiniz?)"
   ]
  },
  {
   "cell_type": "markdown",
   "metadata": {},
   "source": [
    "## add Metodu\n",
    "\n",
    "Eğer bir $C$ sınıfında tanımlı bir <i>\\__add__</i> özel metodu bulunuyor ise bu sınıfın iki ayrı olgusu (instance) $a$ ve $b$ toplanabilir ve toplam (yeni bir olgu olarak) bu metodla döndürülür.\n",
    "\n",
    "<b>Örnek Problem (Polinomlar):</b> Polinomlar üzerinde işlem yapacak bir program yazmak üzere $Polinom$ adında bir sınıf tanımlamak üzere sınıfın başlatıcı fonksiyonuna (<i>\\__init__</i> polinomun katsayıları bir sözlük halinde geçirilmek isteniyor olsun. Polinom({0:1,2:-1,3:2]) bu durumda $1 – x^2 + 2x^3$ polinomunun karşılığı olur. İki polinom toplanabileceği için sınıfın bir <i>\\__add__</i> metodu olması doğaldır. Verilen bir $x$ değeri için polinomun değerini döndürecek bir <i>\\__call__</i> metodu da olmalıdır. "
   ]
  },
  {
   "cell_type": "code",
   "execution_count": null,
   "metadata": {},
   "outputs": [],
   "source": [
    "class Polinom:\n",
    "    def __init__(self, katsayilar):\n",
    "        self.katsayi = katsayilar\n",
    "    def __call__(self, x):\n",
    "        s = 0\n",
    "        for k in self.katsayi:\n",
    "            s += self.katsayi[k]*x**k\n",
    "        return s\n",
    "    def __add__(self, diger):\n",
    "        # Oncelikle p1'i katsayilarini toplama atalim\n",
    "        toplam_katsayi = dict(self.katsayi)\n",
    "        # p2'ninkileri de atarken p1'le esit olanlari p2'den alalim\n",
    "        toplam_katsayi.update(diger.katsayi)\n",
    "        # p1 ve p2'nin esit katsayilarini toplayalarak duzeltelim\n",
    "        for k in self.katsayi:\n",
    "            for j in diger.katsayi:\n",
    "                if k == j:\n",
    "                    toplam_katsayi[k] = self.katsayi[k] + diger.katsayi[j]\n",
    "        return Polinom(toplam_katsayi)"
   ]
  },
  {
   "cell_type": "markdown",
   "metadata": {},
   "source": [
    "Şu ana kadar $Polinom$ sınıfı için tanımlanmış olan iki fonksiyon için birer örnek aşağıda verilmiştir.\n",
    "\n",
    "$$ p_1(x) = 1 – x $$\t\n",
    "$$ p_2(x) = x – 6x^4 - x^5 $$"
   ]
  },
  {
   "cell_type": "code",
   "execution_count": null,
   "metadata": {},
   "outputs": [],
   "source": [
    "p1 = Polinom({0:1,1:-1})\n",
    "p2 = Polinom({1:1,4:-6,5:-1})\n",
    "x = 1\n",
    "print(\"p1(x=1) = {:g}\".format(p1(x)))\n",
    "print(\"p2(x=1) = {:g}\".format(p2(x)))"
   ]
  },
  {
   "cell_type": "code",
   "execution_count": null,
   "metadata": {},
   "outputs": [],
   "source": [
    "p3 = p1 + p2\n",
    "print(p3.katsayi)\n",
    "x = 1\n",
    "print(\"p3(x=1) = {:g}\".format(p3(x)))"
   ]
  },
  {
   "cell_type": "markdown",
   "metadata": {},
   "source": [
    "[Başa Dön](#Bu-derste-neler-öğreneceksiniz?)"
   ]
  },
  {
   "cell_type": "markdown",
   "metadata": {},
   "source": [
    "## mul Metodu\n",
    "\n",
    "Polinom sınıfına bir de çarpma işlemi eklemek üzere <i>\\__mul__</i> özel metodu kullanılarak polinom nesneleri arasında çarpma işleminin nasıl yapılacağı da tanımlanabilir. Bu işlem biraz daha komplike bir matematiğe sahiptir.\n",
    "\n",
    "$$ (\\sum\\limits_{i=0}^{M} c_i x^i) (\\sum\\limits_{j=0}^{N} d_j x^j) = \\sum\\limits_{i=0}^{M} \\sum\\limits_{j=0}^{N} c_i d_j x^{i+j} $$\n",
    "\n",
    "Sonuçta iki toplam işlemi içiçe görünüyor dolayısıyla Python'a entegrasyon da içiçe iki döngü kullanmayı gerektirecektir. Ancak öncelikle yapılması gereken, sonucu saklamak üzere boş bir sözlük oluşturmaktır."
   ]
  },
  {
   "cell_type": "code",
   "execution_count": null,
   "metadata": {},
   "outputs": [],
   "source": [
    "class Polinom:\n",
    "    def __init__(self, katsayilar):\n",
    "        self.katsayi = katsayilar\n",
    "    def __call__(self, x):\n",
    "        s = 0\n",
    "        for k in self.katsayi:\n",
    "            s += self.katsayi[k]*x**k\n",
    "        return s\n",
    "    def __add__(self, diger):\n",
    "        # Oncelikle p1'i katsayilarini toplama atalim\n",
    "        toplam_katsayi = dict(self.katsayi)\n",
    "        # p2'ninkileri de atarken p1'le esit olanlari p2'den alalim\n",
    "        toplam_katsayi.update(diger.katsayi)\n",
    "        # p1 ve p2'nin esit katsayilarini toplayalarak duzeltelim\n",
    "        for k in self.katsayi:\n",
    "            for j in diger.katsayi:\n",
    "                if k == j:\n",
    "                    toplam_katsayi[k] = self.katsayi[k] + diger.katsayi[j]\n",
    "        return Polinom(toplam_katsayi)\n",
    "    def __mul__(self, diger):\n",
    "        c = self.katsayi\n",
    "        d = diger.katsayi\n",
    "        carpim_katsayi = {}\n",
    "        for i in c:\n",
    "            for j in d:\n",
    "                # eger i+j. kuvvetin katsayisi zaten olusmussa\n",
    "                # carpimdan gelen katsayiyi uzerine ekle\n",
    "                if i+j in carpim_katsayi:\n",
    "                    carpim_katsayi[i+j] += c[i]*d[j]\n",
    "                else:\n",
    "                    carpim_katsayi[i+j] = c[i]*d[j]\n",
    "        return Polinom(carpim_katsayi)"
   ]
  },
  {
   "cell_type": "markdown",
   "metadata": {},
   "source": [
    "Örnekte, $p_4 = p_1 \\times p_2$ işleminin sonucunun aşağıdaki şekilde oluşması beklenir:\n",
    "\n",
    "$$ p_4(x) = p_1 \\times p_2 = (1 – x) (x – 6x^4 - x^5) =  x - x^2 - 6x^4 + 5x^5 + x^6 $$\n",
    "$$ p_4(x = 1) = 1 - 1^2 - 6 \\times 1^4 + 5 \\times 1^5 + 1^6 = 1 - 1 - 6 + 5 + 1 = 0 $$"
   ]
  },
  {
   "cell_type": "code",
   "execution_count": null,
   "metadata": {},
   "outputs": [],
   "source": [
    "p1 = Polinom({0:1,1:-1})\n",
    "p2 = Polinom({1:1,4:-6,5:-1})\n",
    "x = 1\n",
    "p4 = p1*p2\n",
    "print(p4.katsayi)\n",
    "print(p4(x))"
   ]
  },
  {
   "cell_type": "markdown",
   "metadata": {},
   "source": [
    "[Başa Dön](#Bu-derste-neler-öğreneceksiniz?)"
   ]
  },
  {
   "cell_type": "markdown",
   "metadata": {},
   "source": [
    "### Polinom Türevi\n",
    "\n",
    "Polinom sınıfına ayrıca verilen polinomun aşağıdaki formüle göre türevini alan bir metot daha eklenebilir.\n",
    "\n",
    "$$ \\frac{d}{dx} \\sum\\limits_{x=0}^{n} c_i x^i = \\sum\\limits_{i = 1}^{n} i c_i x^{i - 1} $$\n",
    "\n",
    "### Polinomların <i>\\__str__</i> İle Ekrana Yazdırılması\n",
    "\n",
    "Polinom sınıfına ayrıca verilen polinomun ekrana güzel bir şekilde yazdırılacağı bir <i>\\__str__</i> metodu da eklenmelidir. Burada hem $Polinom$ sınıfının hem de bu sınıfın nesnesinin sözlük nesne yapısı üzerine kurulu olmasının avantajı iyice belirginleşecektir. İstendiği takdirde aynı sınıf liste nesnesi üzerinden de kodlanabilirdi (deneyiniz!)"
   ]
  },
  {
   "cell_type": "code",
   "execution_count": null,
   "metadata": {},
   "outputs": [],
   "source": [
    "class Polinom:\n",
    "    def __init__(self, katsayilar):\n",
    "        self.katsayi = katsayilar\n",
    "    def __call__(self, x):\n",
    "        s = 0\n",
    "        for k in self.katsayi:\n",
    "            s += self.katsayi[k]*x**k\n",
    "        return s\n",
    "    def __add__(self, diger):\n",
    "        # Oncelikle p1'i katsayilarini toplama atalim\n",
    "        toplam_katsayi = dict(self.katsayi)\n",
    "        # p2'ninkileri de atarken p1'le esit olanlari p2'den alalim\n",
    "        toplam_katsayi.update(diger.katsayi)\n",
    "        # p1 ve p2'nin esit katsayilarini toplayalarak duzeltelim\n",
    "        for k in self.katsayi:\n",
    "            for j in diger.katsayi:\n",
    "                if k == j:\n",
    "                    toplam_katsayi[k] = self.katsayi[k] + diger.katsayi[j]\n",
    "        return Polinom(toplam_katsayi)\n",
    "    def __mul__(self, diger):\n",
    "        c = self.katsayi\n",
    "        d = diger.katsayi\n",
    "        carpim_katsayi = {}\n",
    "        for i in c:\n",
    "            for j in d:\n",
    "                # eger i+j. kuvvetin katsayisi zaten olusmussa\n",
    "                # carpimdan gelen katsayiyi uzerine ekle\n",
    "                if i+j in carpim_katsayi:\n",
    "                    carpim_katsayi[i+j] += c[i]*d[j]\n",
    "                else:\n",
    "                    carpim_katsayi[i+j] = c[i]*d[j]\n",
    "        return Polinom(carpim_katsayi)\n",
    "    def turev(self):\n",
    "        \"\"\"Yeni bir nesne dondurmeden gelen polinomun turevini alan metot\"\"\"\n",
    "        turev_katsayi = {}\n",
    "        for i in self.katsayi:\n",
    "            turev_katsayi[i-1] = i*self.katsayi[i]\n",
    "        return Polinom(turev_katsayi)\n",
    "    def __str__(self):\n",
    "        s = ''\n",
    "        for i in self.katsayi:\n",
    "            if self.katsayi[i] != 0:\n",
    "                s += ' + %g*x^%d' % (self.katsayi[i], i)\n",
    "        # ciktiyi guzellestir:\n",
    "        s = s.replace('+ -', '- ')\n",
    "        s = s.replace('x^0', '1')\n",
    "        s = s.replace(' 1*', ' ')\n",
    "        s = s.replace('x^1 ', 'x ')\n",
    "        s = s.replace('x^1', 'x')\n",
    "        if s[0:3] == ' + ': # basa gelen + isaretini kaldir\n",
    "            s = s[3:]\n",
    "        if s[0:3] == ' - ': # basa gelen - isaretini kaydir\n",
    "            s = '-' + s[3:]\n",
    "        return s"
   ]
  },
  {
   "cell_type": "code",
   "execution_count": null,
   "metadata": {},
   "outputs": [],
   "source": [
    "p1 = Polinom({0:1,1:-1})\n",
    "p2 = Polinom({1:1,4:-6,5:-1})\n",
    "print(\"p1 = \", p1)\n",
    "print(\"p2 = \", p2)\n",
    "p3 = p1 + p2\n",
    "print(\"p3 = p1 + p2 = \", p3)\n",
    "p4 = p1*p2\n",
    "print(\"p4 = p1 * p2 = \", p4)\n",
    "p5 = p2.turev()\n",
    "print(\"p2 = \", p2)\n",
    "print(\"p5 = p2' = \", p5)"
   ]
  },
  {
   "cell_type": "markdown",
   "metadata": {},
   "source": [
    "[Başa Dön](#Bu-derste-neler-öğreneceksiniz?)"
   ]
  },
  {
   "cell_type": "markdown",
   "metadata": {},
   "source": [
    "# Aritmetik İşlemler ve Diğer Özel Metotlar\n",
    "\n",
    "Bir sınıfın iki olgusu olan $a$ ve $b$ olguları için standart aritmetik işlemler aşağıdaki özel metotlarla tanımlanır.\n",
    "\n",
    "* a + b : a.\\__add__(b) \n",
    "* a – b : a.\\__sub__(b)\n",
    "* a * b : a.\\__mul__(b)\n",
    "* a / b : a.\\__div__(b)\n",
    "* a ** b : a\\__pow__(b)\n",
    "\n",
    "Diğer kullanışlı özel metotlar:\n",
    "\n",
    "* a olgusunun uzunluğu: len(a) : a.\\__len__()\n",
    "* a olgusunun mutlak değeri: abs(a) : a.\\__abs__()\n",
    "* a == b : a.\\__eq__(b)\n",
    "* a > b : a.\\__gt__(b)\n",
    "* a >= b : a.\\__ge__(b)\n",
    "* a < b : a.\\__lt__(b)\n",
    "* a <= b : a.\\__le__(b)\n",
    "* a != b : a.\\__ne__(b)\n",
    "* -a : a.\\__neg__()\n",
    "\n",
    "Bu özel metotlardan polinomlar için uygun olanları $Polinom$ sınıfına eklemeyi deneyiniz."
   ]
  },
  {
   "cell_type": "markdown",
   "metadata": {},
   "source": [
    "[Başa Dön](#Bu-derste-neler-öğreneceksiniz?)"
   ]
  },
  {
   "cell_type": "markdown",
   "metadata": {},
   "source": [
    "## repr Metodu\n",
    "\n",
    "jupyter (ya da ipython) gibi interaktif bir kabukta sadece olgunun adı yazıldığında, her ne kadar bir <i>__str__</i> özel metodu olsa da Python öncelikle <i>\\__repr__</i> özel metodunu arar. Bu metot <i>\\__str__</i>'ye çok benzer ancak olgunun içeriğinin ekrana yazımını sağlayan <i>__str__</i> 'den farklı olarak olgunun içeriğinin tamamını temsil eder. Pek çok Python nesnesi için (int, float, complex, list, tuple, dict) <i>\\__repr__</i> ve <i>\\__str__</i> aynı çıktıyı verir. \n",
    "\n",
    "Teknik olarak str(a) ifadesi a.<i>\\__str__()</i> metodunu çağırırken, interaktif kabukta sadece a, a.<i>\\__repr__()</i> metodunu çağırır.\n",
    "\n",
    "Python'daki metin ($string$), tamsayı ($int$), kayan noktalı sayı ($float$), liste ($list$) gibi tüm nesnelerin birer <i>\\__repr__</i> metodu bulunmaktadır. Python bu nesneler ekrana getirilmek istendiğinde bu metoda bakarak nesnenin ekrana ne şekilde getirilmesi gerektiğine karar verir. Kayan noktalı sayılar bu nedenle 16 basamakla ekrana gelirler.\n",
    "\n",
    "Aşağıdaki örnek incelenerek aradaki fark anlaşılabilir."
   ]
  },
  {
   "cell_type": "code",
   "execution_count": null,
   "metadata": {},
   "outputs": [],
   "source": [
    "class BenimSinifim:\n",
    "    def __init__(self):\n",
    "        self.veri = 2\n",
    "    def __str__(self):\n",
    "        return 'In __str__: %s' % (self.veri)"
   ]
  },
  {
   "cell_type": "code",
   "execution_count": null,
   "metadata": {},
   "outputs": [],
   "source": [
    "bs = BenimSinifim()\n",
    "print(bs)\n",
    "bs"
   ]
  },
  {
   "cell_type": "markdown",
   "metadata": {},
   "source": [
    "Bu durumdan kaçınmak için aşağıdaki bir <i>\\__repr()</i> fonksiyonu sınıfa eklenebilir."
   ]
  },
  {
   "cell_type": "code",
   "execution_count": null,
   "metadata": {},
   "outputs": [],
   "source": [
    "class BenimSinifim2:\n",
    "    def __init__(self):\n",
    "        self.veri = 2\n",
    "    def __str__(self):\n",
    "        return 'In __str__: %s' % (self.veri)\n",
    "    def __repr__(self):\n",
    "        return self.__str__() # ya da return str(self)"
   ]
  },
  {
   "cell_type": "code",
   "execution_count": null,
   "metadata": {},
   "outputs": [],
   "source": [
    "bs2 = BenimSinifim2()\n",
    "print(bs2)\n",
    "bs2"
   ]
  },
  {
   "cell_type": "markdown",
   "metadata": {},
   "source": [
    "Kullanıcıdan girdi alınırken sıklıkla kullanılan $eval(e)$ fonksiyonu argümanı olan $e$ metnini bir Python ifadesi olarak çalıştırır. <i>\\__repr__</i> özel metodunun asıl niteliği `eval` fonksiyonu uygulandığında Python ifadesi olarak çalıştırılabilecek (aynı olguyu tekrar oluşturabilecek) bir metin döndürmesidir. \n",
    " \n",
    "Örneğin, bu derste dikey atış problemini çözmek üzere tanımladığımız Y sınıfında $v0 = 10$ için <i>\\__repr__</i> metodu 'Y(10)' metnini döndürmelidir ki $eval('Y(10)')$ ifadesi Y(10) ifadesi ile aynı işi görsün!\n",
    "\n",
    "Aynı şekilde bu derste geliştirilen diğer sınıflarda da aynı düzenlemeler yapılıp, kodlar harici birer Python dosyasına kaydedlimiştir ve [linkinden](ders09_siniflar.zip) indirilebilir. Bu linkteki dosyaları bu Jupyter defteriyle aynı yere (ya da PYTHONPATH 'inize) kopyalanması durumunda aşağıdaki örneklerle aynı sonuçlar elde edilecektir.\n",
    "\n",
    "Harici bir dosyada yer alan Python kodundaki bir sınıfa erişebilmek için onun öncelikle $import$ edilmesi gerektiği unutulmamalıdır."
   ]
  },
  {
   "cell_type": "code",
   "execution_count": null,
   "metadata": {},
   "outputs": [],
   "source": [
    "from dikey_atis import Y\n",
    "v0 = 1.5\n",
    "y = Y(v0)\n",
    "t = 0.2\n",
    "print(y(t))\n",
    "print(y)\n",
    "y"
   ]
  },
  {
   "cell_type": "code",
   "execution_count": null,
   "metadata": {},
   "outputs": [],
   "source": [
    "from polinomlar import Polinom as p\n",
    "p1 = p({2:2,0:-1})\n",
    "print(p1)\n",
    "p1"
   ]
  },
  {
   "cell_type": "markdown",
   "metadata": {},
   "source": [
    "[Başa Dön](#Bu-derste-neler-öğreneceksiniz?)"
   ]
  },
  {
   "cell_type": "markdown",
   "metadata": {},
   "source": [
    "## Örnek: Vektörel İşlemler\n",
    "\n",
    "İki boyutlu bir düzlemde vektörler $(a,b)$ reel sayı çiftiyle tanımlanırlar. Vektörler üzerine tanımlanan bazı işlemler aşağıdaki gibidir:\n",
    "\n",
    "$$ (a,b) + (c,d) = (a + c, b + d) $$\n",
    "$$ (a,b) - (c,d) = (a - c, b - d) $$\n",
    "$$ (a,b) . (c,d) = ac + bd $$\n",
    "$$ ||(a,b)|| = \\sqrt{(a,b) . (a,b)} $$\n",
    "$$ (a,b) = (c,d) \\Rightarrow a = c, b = d $$\n",
    "\n",
    "Vektor adında bir sınıf oluşturulup, yukarıdaki işlemler de özel metotlardan yararlanarak tanımlanabilir. Vektör koordinatlarını göstermek üzere iki adet özniteliğe (attribute) (x,y) ve bir de çıktı veren metoda ihtiyaç olacaktır."
   ]
  },
  {
   "cell_type": "code",
   "execution_count": null,
   "metadata": {},
   "outputs": [],
   "source": [
    "from math import sqrt\n",
    "class Vektor:\n",
    "    def __init__(self, x, y):\n",
    "        self.x = x\n",
    "        self.y = y\n",
    "    def __add__(self, diger):\n",
    "        return Vektor(self.x + diger.x, self.y + diger.y)\n",
    "    def __sub__(self, diger):\n",
    "        return Vektor(self.x - diger.x, self.y - diger.y)\n",
    "    def __mul__(self, diger):\n",
    "        return self.x*diger.x + self.y*diger.y\n",
    "    def __abs__(self):\n",
    "        return sqrt(self.x**2 + self.y**2)\n",
    "    def __eq__(self, diger):\n",
    "        fark = 1e-16 # iki reel sayiyi == operatoruyle karsilastirmak risklidir!\n",
    "        return abs(self.x - diger.x) <= fark and abs(self.y - diger.y) <= fark\n",
    "    def __str__(self):\n",
    "        return '(%g, %g)' % (self.x, self.y)\n",
    "    def __ne__(self, diger):\n",
    "        return not self.__eq__(diger) "
   ]
  },
  {
   "cell_type": "code",
   "execution_count": null,
   "metadata": {},
   "outputs": [],
   "source": [
    "u = Vektor(0,1)\n",
    "v = Vektor(1,0)\n",
    "w = Vektor(1,1)\n",
    "a = u + v\n",
    "print(a)"
   ]
  },
  {
   "cell_type": "code",
   "execution_count": null,
   "metadata": {},
   "outputs": [],
   "source": [
    "a == w"
   ]
  },
  {
   "cell_type": "code",
   "execution_count": null,
   "metadata": {},
   "outputs": [],
   "source": [
    "a = u - v\n",
    "print(a)"
   ]
  },
  {
   "cell_type": "code",
   "execution_count": null,
   "metadata": {},
   "outputs": [],
   "source": [
    "a = u*v\n",
    "print(a)"
   ]
  },
  {
   "cell_type": "markdown",
   "metadata": {},
   "source": [
    "[Başa Dön](#Bu-derste-neler-öğreneceksiniz?)"
   ]
  },
  {
   "cell_type": "markdown",
   "metadata": {},
   "source": [
    "# Statik Metot ve Öznitelikler\n",
    "\n",
    "Her bir olgun (instance) kendi <b>özniteliklerine (attribute)</b> sahiptir. Buna ek olarak sınıfın farklı olguları arasında paylaşılan özniteliklere de ihtiyaç duyulur. Örneğin bir sınıftan kaç tane olgu üretildiğini tutan bir öznitelik (sınıf değişkenlerine öznitelik –attribute- diyoruz) faydalı olur. Bunun için özniteliği sınıfın metotlarıyla aynı hizadan (indentation level) başlatmak ve $self$ öneki (prefix) yerine sınıfın adını önek olarak kullanmak yeterlidir. Bu şekilde aynı sınıfın tüm olguları tarafından erişlebilen özniteliklere statik öznitelikler adı verilir."
   ]
  },
  {
   "cell_type": "code",
   "execution_count": null,
   "metadata": {},
   "outputs": [],
   "source": [
    "class UzaydaNokta:\n",
    "    sayac = 0\n",
    "    def __init__(self,x,y,z):\n",
    "        self.nokta = (x,y,z)\n",
    "        UzaydaNokta.sayac += 1"
   ]
  },
  {
   "cell_type": "code",
   "execution_count": null,
   "metadata": {},
   "outputs": [],
   "source": [
    "p1 = UzaydaNokta(0,0,0)\n",
    "UzaydaNokta.sayac"
   ]
  },
  {
   "cell_type": "code",
   "execution_count": null,
   "metadata": {},
   "outputs": [],
   "source": [
    "for i in range(400):\n",
    "    p = UzaydaNokta(i*0.5,i,i+1)\n",
    "UzaydaNokta.sayac"
   ]
  },
  {
   "cell_type": "markdown",
   "metadata": {},
   "source": [
    "Şu ana kadar görülen tüm sınıf metotları da bir olgu tarafından “çağrılıyor” ve $self$ değişkeniyle “besleniyorlardı”. Herhangi bir olguya bağlı olmaksızın çalışan metotlar yaratmak da mümkündür. Bu durumda metot, bir sınıf yapısı içinde yer alması ve bu nedenle o sınıfın adının önek (prefix) olarak verilmesi gerekliliği dışında tipik bir Python fonksiyonu gibi davranır.  Bu tür metotlar <b>statik metotlar</b> adı verilir. $Integral$ sınıfı içinde yer alan <i>yamuk_yontemi</i> fonksiyonu da böyle bir statik metottur."
   ]
  },
  {
   "cell_type": "code",
   "execution_count": null,
   "metadata": {},
   "outputs": [],
   "source": [
    "class A:\n",
    "    @staticmethod\n",
    "    def mesajyaz(mesaj):\n",
    "        print(mesaj)"
   ]
  },
  {
   "cell_type": "code",
   "execution_count": null,
   "metadata": {},
   "outputs": [],
   "source": [
    "A.mesajyaz('Merhaba Dunyali Biz Tostuz!')"
   ]
  },
  {
   "cell_type": "code",
   "execution_count": null,
   "metadata": {},
   "outputs": [],
   "source": [
    "a = A() # istenirse bir olgu da bu fonksiyonu kullanabilir!\n",
    "a.mesajyaz('Tost degil benim canim, Dost!')"
   ]
  },
  {
   "cell_type": "markdown",
   "metadata": {},
   "source": [
    "[Başa Dön](#Bu-derste-neler-öğreneceksiniz?)"
   ]
  }
 ],
 "metadata": {
  "kernelspec": {
   "display_name": "Python 3",
   "language": "python",
   "name": "python3"
  },
  "language_info": {
   "codemirror_mode": {
    "name": "ipython",
    "version": 3
   },
   "file_extension": ".py",
   "mimetype": "text/x-python",
   "name": "python",
   "nbconvert_exporter": "python",
   "pygments_lexer": "ipython3",
   "version": "3.6.9"
  }
 },
 "nbformat": 4,
 "nbformat_minor": 2
}
