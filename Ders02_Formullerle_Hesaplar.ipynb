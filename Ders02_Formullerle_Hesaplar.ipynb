{
 "cells": [
  {
   "cell_type": "markdown",
   "metadata": {},
   "source": [
    "# AST415 Astronomide Sayısal Çözümleme - I #\n",
    "## Ders - 02 Formüllerle Hesaplar ve Yazım Kuralları (Syntax) ##"
   ]
  },
  {
   "cell_type": "markdown",
   "metadata": {},
   "source": [
    "Doç. Dr. Özgür Baştürk <br>\n",
    "Ankara Üniversitesi, Astronomi ve Uzay Bilimleri Bölümü <br>\n",
    "obasturk at ankara.edu.tr <br>\n",
    "http://ozgur.astrotux.org"
   ]
  },
  {
   "cell_type": "markdown",
   "metadata": {},
   "source": [
    "# Bu derste neler öğreneceksiniz?#\n",
    "## Formüllerle Hesaplar ##\n",
    "\n",
    "* [Dikey Atış Problemi](#Dikey-Atış-Problemi)\n",
    "* [Değişken Kullanımı](#Değişken-Kullanımı)\n",
    "* [Değişken İsimlendirmeleri](#Değişken-İsimlendirmeleri)\n",
    "* [Yorum İfadeleri](#Yorum-İfadeleri)\n",
    "* [Metin ve Sayı Formatlama](#Metin-ve-Sayı-Formatlama)\n",
    "    * [printf fonksiyonalitesi](#printf-fonksiyonalitesi)\n",
    "    * [str.format yöntemi](#str.format-yöntemi)\n",
    "* [Matematiksel İşlemler](#Matematiksel-İşlemler)\n",
    "* [Tam Sayı Bölmesi](#Tam-Sayı-Bölmesi)\n",
    "* [Aritmetik Operatörlerin Öncelik Sırası](#Aritmetik-Operatörlerin-Öncelik-Sırası)\n",
    "* [Standart Matematiksel Fonksiyonlar](#Standart-Matematiksel-Fonksiyonlar)\n",
    "* [Modül Fonksiyonları](#Modül-Fonksiyonları)\n",
    "* [Modül Çağırma](#Modül-Çağırma)\n",
    "* [Yuvarlama Hataları](#Yuvarlama-Hataları)\n",
    "* [Değişken Türleri ve Dönüşümler](#Değişken-Türleri-ve-Dönüşümler)\n",
    "* [Karmaşık Sayılar (Opsiyonel)](#Karmaşık-Sayılar-(Opsiyonel))\n",
    "* [Örnek: 2. Dereceden Denklem Çözümü](#Örnek:-2.-Dereceden-Denklem-Çözümü)\n",
    "* [Alıştırmalar](#Alıştırmalar)\n",
    "* [Ödev](#Ödev-1)"
   ]
  },
  {
   "cell_type": "markdown",
   "metadata": {},
   "source": [
    "# Dikey Atış Problemi\n",
    "\n",
    "Newton Hareket Kanunları'ndan yararlanarak matematiksel ifadesini bulan bu problemin çözümü, yer çekimine zıt yönde atılan bir cismin düşey konumunun (y) zamana (t) bağlı olarak değişimini aşağdaki formülle verir. <br> \n",
    "\n",
    "<center>\n",
    "$$y(t) = V_{0} t - \\frac{1}{2} g t^{2}$$\n",
    "</center>\n",
    "\n",
    "<br>\n",
    "\n",
    "Burada $V_{0}$ cismin ilk hızını, $g$ yerçekimi ivmesini $y = 0$ konumu cismin $t = 0$ anındaki konumunu göstermektedir. Cismin tekrar başlangıç konumuna dönmesi için geçen süreyi hesaplamak üzere <br>\n",
    "\n",
    "<center>\n",
    "$$V_{0} t - \\frac{1}{2} g t^{2} = 0 \\rightarrow t(V_{0} - \\frac{1}{2} g t) = 0$$ <br>\n",
    "    $t = 0$  ve $t = \\frac{2 V_{0}}{g}$\n",
    "</center>\n",
    "<br>\n",
    "\n",
    "olduğu düşünülecek olursa $t \\in[0, \\frac{2V_{0}}{g}]$ olur.\n",
    "\n",
    "\n",
    "[Başa Dön](#Formüllerle-Hesaplar)"
   ]
  },
  {
   "cell_type": "markdown",
   "metadata": {},
   "source": [
    "# Değişken Kullanımı #\n",
    "\n",
    "Dikey atış probleminde cismin herhangi bir $t$ anındaki düşey konumunu hesaplayan bir Python programı yazmak istiyor olalım. Programımızı $V_{0}$, $t$ ve $g$'nin farklı değerleri için çalıştırmak programımız üzerinde sürekli değişiklik yapmamız gerekecek. Tüm programlama dillerinde olduğu gibi Python'da da değişkenler kulllanarak bu sorunu aşabiliriz."
   ]
  },
  {
   "cell_type": "code",
   "execution_count": null,
   "metadata": {},
   "outputs": [],
   "source": [
    "v0 = 5 # Ilk hiz m/s\n",
    "t = 0.6 # zaman s\n",
    "g = 9.81 # yercekimi ivmesi m/s**2\n",
    "y = v0*t - 0.5*g*t**2\n",
    "print(y)"
   ]
  },
  {
   "cell_type": "markdown",
   "metadata": {},
   "source": [
    "Şimdi programımızı $V_{0}$, $t$ ya da $g$'nin farklı değerleri için çalıştırmamız çok kolay. Örnek olarak $V_{0} = 1 m/s$ ve $t = 0.1 s$ için alınan toplam yolu tekrar hesaplayalım."
   ]
  },
  {
   "cell_type": "code",
   "execution_count": null,
   "metadata": {},
   "outputs": [],
   "source": [
    "v0 = 1 # Ilk hiz\n",
    "t = 0.1 # zaman\n",
    "y = v0*t - 0.5*g*t**2\n",
    "print(y)"
   ]
  },
  {
   "cell_type": "markdown",
   "metadata": {},
   "source": [
    "<u><i>! g'yi tekrar yazmadığımıza ancak y'yi veren ifadeyi tekrar yazdığımıza dikkat ediniz!</i></u>"
   ]
  },
  {
   "cell_type": "markdown",
   "metadata": {},
   "source": [
    "Ayni anda birden fazla degiskeni tek satirda tanimlayabilirsiniz."
   ]
  },
  {
   "cell_type": "code",
   "execution_count": null,
   "metadata": {},
   "outputs": [],
   "source": [
    "x = y = 3 # hem x'e hem y'ye 3 degerini ata\n",
    "print(x,y)\n",
    "y = 5\n",
    "print(x,y) # y degistiginde x'in degismedigine dikkat ediniz\n",
    "a, b, c = 3.14, 'AST415', 8 # ayni anda birden fazla degisken tek satirda\n",
    "print(a)\n",
    "print(b)\n",
    "print(c)\n",
    "a, b, c = 3.14, 'AST415 Astronomide Sayisal Cozumleme', 8, True #degisken sayisi ile deger\n",
    "print(c)\n",
    "a, b, c = 3.14, 'AST415 Astronomide Sayisal Cozumleme' #sayisinin esit olmadigina dikkat\n",
    "print(a)"
   ]
  },
  {
   "cell_type": "markdown",
   "metadata": {},
   "source": [
    "[Başa Dön](#Formüllerle-Hesaplar)"
   ]
  },
  {
   "cell_type": "markdown",
   "metadata": {},
   "source": [
    "# Değişken İsimlendirmeleri #\n",
    "\n",
    "* Değişkenleri isimlendirmek üzere (inglizce alfabe dışında karakter içermeyen) küçük (a-z) ve büyük (A-Z), rakamlardan (0-9) ve alt çizgi (–  underscore) işaretinden faydalanabilirsiniz.\n",
    "* Değişken isimleri rakamla başlayamaz! Bu şekilde verilmiş bir değişken ismi yazım (syntax) hatası verir.\n",
    "* Python küçük harflerle büyük harfleri birbirinden ayırır (case sensitive). Yani “x” ile “X” aynı değildir!\n",
    "* Kesin bir kural olmamakla birlikte değişkenler için küçük harf, sabitler (PI, PLANCK_SABITI gibi) için büyük harf kullanmak, kelimeleri “_” (alt çizgi) işaret ile birbirinden ayırmak; daha sonra göreceğiniz sınıf (class) isimlerinde ikinci kelimenin baş harfini büyük yapmak gibi genel Python alışkanlıkları olmakla birlikte bunları takip etmezseniz hata vermez. (Python'da kullanılan genel kod yazma stili alışkanlıkları için bkz: PEP 0008: Style Guide for Python, https://www.python.org/dev/peps/pep-0008/)\n",
    "* Mümkün olduğunca açıklayıcı değişken isimleri kullanmak hem siz, hem de kodunuzu okuyanlar (diğer programcılar, BİZLER!) için iyidir. Örnek problemimizde $v0$ yerine $ilk\\_hiz$, $t$ yerine $zaman$, $y$ yerine $dusey\\_konum$, $g$ yerine $yercekimi\\_ivmesi$ kullanirsak daha aciklayici olur\n",
    "* Python için saklı kelimeleri değişken ismi olarak kullanamazsınız (and, as, assert, break, class, continue, def, del, elif, else, except, False, finally, for, from, global, if, import, in, is, lambda, None, nonlocal, not, or, pass, raise, return, True, try, with, while, yield). Çok istiyorsanız sonlarına bir “_” işareti koymak işi çözer!"
   ]
  },
  {
   "cell_type": "markdown",
   "metadata": {},
   "source": [
    "<h1>Değişken İsimlendirmeleri'ne Örnekler</h1>\n",
    "\n",
    "Bu derste yapılan en klasik hata, değişken isimleri içerisinde Türkçe karakterler kullanmaktır. Bu dersin ödevleri için yazdığınız kodlar çalışmasa da değerlendirmeye alınacaktır. Türkçe karakter kullanma hatasından kurtulabilmeniz amacıyla ödevlerde kullandığınız (ve bizim de yakaladığımız!) her Türkçe karakter için 2 puanınızı istikrarlı bir şekilde kıracağız! Yine de bilgisayarınızın sistemine ve jupyter defterinizin başına #UTF-8 kodunu ekleyip eklemedğinize bağlı olarak Türkçe karakterler kullanılan değişken isimlendirmelerinin de çalışma ihtimali bulunmaktadır."
   ]
  },
  {
   "cell_type": "code",
   "execution_count": null,
   "metadata": {},
   "outputs": [],
   "source": [
    "başlangıç_hızı = 5\n",
    "print(başlangıç_hızı)"
   ]
  },
  {
   "cell_type": "markdown",
   "metadata": {},
   "source": [
    "Aşağıdaki değişken isimlendirmelerinin doğruluğunu kontrol ediniz. \n",
    "\n",
    "* 1a = 2\n",
    "* _ = ((d-45)/c + 32))\n",
    "* a1 = b\n",
    "* sale = 6%\n",
    "* x = 3\n",
    "* doviz = 10$\n",
    "* y = X + 4\n",
    "* eposta = somebody@somewhere.com\n",
    "* pi = \"3.141\"\n",
    "* and = \"ve\"\n",
    "* c = 5 \\** 2 \\** 0.5 \\** 3\n",
    "* Degisken = x > 0\n",
    "\n",
    "[Başa Dön](#Formüllerle-Hesaplar)"
   ]
  },
  {
   "cell_type": "markdown",
   "metadata": {},
   "source": [
    "# Yorum İfadeleri #\n",
    "\n",
    "Programlarınıza kendiniz ve kodunuzu okuyan başkaları (örn. BİZLER!) için yorum satırları koymanız çok yararlıdır. Bunun için Python tarafından çalıştırılmasını istemediğiniz ifadelerin başına “#” işaretini koymanız yeterlidir."
   ]
  },
  {
   "cell_type": "code",
   "execution_count": null,
   "metadata": {},
   "outputs": [],
   "source": [
    "# havaya dogru bir ilk hizla atilan cismin t anindaki \n",
    "# yuksekligini hesaplayan program\n",
    "v0 = 5 # ilk hiz\n",
    "g = 9.81 # yercekimi ivmesi\n",
    "t = 0.6 # zaman\n",
    "y = v0*t - 0.5*g*t**2 # dusey konum\n",
    "print y"
   ]
  },
  {
   "cell_type": "markdown",
   "metadata": {},
   "source": [
    "Zaten açıklayıcı değişken isimleri kullandıysanız aynı kelimeleri kullanarak bir de yorum eklemeye gerek yoktur. Aynı şeyi iki kere yapmamak iyi bir programcı alışkanlığıdır!\n",
    "\n",
    "[Başa Dön](#Formüllerle-Hesaplar)"
   ]
  },
  {
   "cell_type": "markdown",
   "metadata": {},
   "source": [
    "# Metin ve Sayı Formatlama #\n",
    "## printf fonksiyonalitesi ##\n",
    "\n",
    "Düşey atış problemi çözen basit programımızın çıktısını sadece alınan toplam yolu rakamsal olarak vermek yerine daha açıklayıcı bir şekilde; örneğin, “t = 0.6 saniyede cismin yuksekligi 1.23 metredir.” gibi bir cümleyle vermek isteyebiliriz. Python programlama dilinde metin formatlamak için sık başvurulan bir yöntem (C programlama dilindeki printf fonksiyonundan miras alındığı şekliyle) yer tutuculara başvurmaktır. Ekrana yazdırılacak metin ifadesi içerisinde bir değişkenin değerinin yer almasının istendiği yere % işareti ile bir yer tutucu konur. Değişkenin değerinin hangi formatta (tam sayılar için d, metinler için s gibi...) yazdırılmasının hedeflendiği bu % işaretinden sonra belirtilir. % işareti ile başlayan bu ifade yer tutucu (ing. placeholder) olarak bilinir. Yer tutucu bir değişkenin metin ifadesi içerisinde yerini tutar. Değişkenin değeri bu ifadenin yerine gelir. Değişkenin ne olduğu ise metin ifadesi tamamlandıktan sonra % işaretini takiben parantez içinde verilir. Tek bir değişkenin yeri tutulduğunda parantez kullanılması bir zorunluluk değildir. Birden fazla değişkenin metnin farklı noktalarında yerleri tutulabilir. Bu değişkenler metnin sonunda parantez içinde aralarına virgül konarak birbirinden ayrılır. Yer tutucular sadece değişkenlerin değil pek çok türden nesne ve değerin de (metin sonrasında ne olduklarının verilmesi kaydıyla) yerini tutabilirler.\n",
    "\n",
    "Sonuç olarak dikine atış programımızı istenen çıktıyı verecek şekilde aşağıdaki gibi düzenleyebiliriz."
   ]
  },
  {
   "cell_type": "code",
   "execution_count": 2,
   "metadata": {},
   "outputs": [
    {
     "name": "stdout",
     "output_type": "stream",
     "text": [
      "t = 0.6 saniyede cismin yuksekligi 1.23 metredir\n",
      "t = 0.6 saniyede cismin yuksekligi 1.2342 metredir\n",
      "t = 0.595 saniyede cismin yuksekligi 1.24 metredir\n",
      "Cismin yuksekligi 1.2342 metredir\n",
      "y =  1.2342\n"
     ]
    }
   ],
   "source": [
    "# havaya bir ilk hizla atilan cismin t anindaki \n",
    "# yuksekligini hesaplayan program\n",
    "v0 = 5 # ilk hiz\n",
    "g = 9.81 # yercekimi ivmesi\n",
    "t = 0.6 # zaman\n",
    "y = v0*t - 0.5*g*t**2 # cismin dusey konumu\n",
    "# dusey konum\n",
    "print(\"t = %g saniyede cismin yuksekligi %.2f metredir\" % (t,y))\n",
    "# buradan sonrasi 10 Ekim 2018 tarihli dersten\n",
    "# degisken yerine tum ifadeyi de %'den sonra koyabiliriz\n",
    "print(\"t = %g saniyede cismin yuksekligi %.4f metredir\" % \\\n",
    "      (t,v0*t - 0.5*g*t**2))\n",
    "# t'yi 0.595 yapip sayinin nasil yuvarlandigini gorelim\n",
    "t = 0.595\n",
    "print(\"t = %g saniyede cismin yuksekligi %.2f metredir\" % \\\n",
    "      (t,v0*t - 0.5*g*t**2))\n",
    "# Tek bir yer tutucu kullanildigi zaman paranteze alma zorunlulugu yoktur\n",
    "# t'yi degistirdigimize ama y'yi degistirmedigimize dikkat ediniz\n",
    "print(\"Cismin yuksekligi %.4f metredir\" % y)\n",
    "# Metnin sonuna basit bir syntax'la nesne degeri yazdirabilirsiniz\n",
    "print('y = ', y)"
   ]
  },
  {
   "cell_type": "markdown",
   "metadata": {},
   "source": [
    "Aşağıda en sık kullanılan bazı <b>\"YER TUTUCULARI\"</b> görüyorsunuz:\n",
    "\n",
    "<i>%s</i> \t\t: Metin değişkenler için yer tutucu<br>\n",
    "<i>%d</i> \t\t: Tamsayı değişkenler için yer tutucu<br>\n",
    "<i>%0xd</i> \t: Önüne getirilen “0” rakamları ile birlikte x basamak yer kaplayacak tam sayı yer tutucusu<br>\n",
    "<i>%f</i> \t\t: Noktadan sonra 6 basamak kaplayacak şekilde yazılmak istenen noktalı sayı yer tutucusu<br>\n",
    "<i>%e</i>\t\t: Kompakt bilimsel gösterim yer tutucusu<br>\n",
    "<i>%E</i>\t\t: Kompakt bilimsel gösterim yer tutucusu (üssü belirtmek üzere e yerine E kullanılır)<br>\n",
    "<i>%g</i>\t\t: Reel bir sayı için olası en kompakt yazımı veren yer tutucu<br>\n",
    "<i>%G</i>\t\t: %g ile aynı sadece üs gerektiğinde belirtmek üzere e yerine E kullanılır<br>\n",
    "<i>%x</i>\t\t: Bir tam sayı nesnesini (int) metne (string) dönüştürüp onaltılık (hexadecimal) sistemde göstermek için kullanılır<br>\n",
    "<i>%%</i>\t\t: yüzde (%) işaretini yazdırmak gerektiğinde kullanılır<br>\n",
    "\n",
    "Bazı formatları denemek üzere ilk programımızı kullanalım. Birden çok satır süren metinler için \"\"\" işaretinin kullanıldığına dikkat ediniz."
   ]
  },
  {
   "cell_type": "code",
   "execution_count": null,
   "metadata": {},
   "outputs": [],
   "source": [
    "v0 = 5\n",
    "g = 9.81\n",
    "t = 0.6\n",
    "y = v0*t - 0.5*g*t**2\n",
    "print(\"\"\"\n",
    "v0=%.3E m/s ilk hizla firlatilan cismin\n",
    "t=%f saniyedeki yuksekligi\n",
    "%.2f metredir.\n",
    "\"\"\" % (v0, t, y))"
   ]
  },
  {
   "cell_type": "markdown",
   "metadata": {},
   "source": [
    "[Başa Dön](#Formüllerle-Hesaplar)"
   ]
  },
  {
   "cell_type": "markdown",
   "metadata": {},
   "source": [
    "## str.format yöntemi ##\n",
    "\n",
    "Yine dikey atış problemi çözen basit programımızın çıktısını sadece alınan toplam yolu rakamsal olarak vermek yerine daha açıklayıcı bir şekilde; örneğin, \"t = 0.6 saniyede cismin yuksekligi 1.23 metredir.\" gibi bir cümleyle verelim. Ancak bu kez printf fonksiyonalitesi yerine daha modern bir yöntem olan str.format yöntemini kullanalım. Tıpkı printf yönteminde olduğu gibi daha modern olan bu yöntemde de yer tutuculara (ing. placeholder) başvurulmaktadır. Ancak bu kez % işareti yerine { } işaretleri kullanılır. Metinde yeri tutulan nesneler metnin sonunda, bir metin nesnesi fonksiyonu (attribute) olan format fonksiyonu içinde sıralanır. \n",
    "\n",
    "Bu yöntemle değişkenlerin konumlarını metin içinden bildirmek mümkün olduğu için, en sonda format fonksiyonunun içinde yeri tutulan değişkenlerin doğru sırada verilmesi de bir zorunluluk olmaktan çıkar."
   ]
  },
  {
   "cell_type": "code",
   "execution_count": null,
   "metadata": {},
   "outputs": [],
   "source": [
    "print(\"t = {1:g} saniyede cismin yuksekligi {0:.2f} metredir.\".format(y,t))\n",
    "# siralamayi printf yonteminde oldugu gibi de kullanabiliriz\n",
    "print(\"t = {:g} saniyede cismin yuksekligi {:.2f} metredir.\".format(t,y))"
   ]
  },
  {
   "cell_type": "markdown",
   "metadata": {},
   "source": [
    "Bu yöntemde herhangi bir metni hizalamak için \"-\" ve \"+\" işaretleri yerine \"<\" ve \">\" işaretleri kullanılır. "
   ]
  },
  {
   "cell_type": "code",
   "execution_count": null,
   "metadata": {},
   "outputs": [],
   "source": [
    "print('%-10s' % ('test')) # printf stili\n",
    "print('{:<10s}'.format('test')) # str.format yontemi\n",
    "print('%10s' % ('test'))\n",
    "print('{:>10s}'.format('test'))"
   ]
  },
  {
   "cell_type": "markdown",
   "metadata": {},
   "source": [
    "Bu yöntemle eski printf yöntemine göre metin hizalama ve yazdırma üzerinde daha çok kontrol sahibi olmak mümkün hale getirilmiştir."
   ]
  },
  {
   "cell_type": "code",
   "execution_count": null,
   "metadata": {},
   "outputs": [],
   "source": [
    "print('{:_<10s}'.format('test'))\n",
    "print('{:^10s}'.format('test'))\n",
    "print('{:06.2f}'.format(3.141592653589793))\n",
    "print('{: d}'.format((- 23)))\n",
    "print('{:+d}'.format(42))\n",
    "print('{:=+8d}'.format((18)))"
   ]
  },
  {
   "cell_type": "markdown",
   "metadata": {},
   "source": [
    "Yer tutucular bu formatla isimlendirilebilir ve adlarıyla atıfta bulunularak kullanılabilir."
   ]
  },
  {
   "cell_type": "code",
   "execution_count": null,
   "metadata": {},
   "outputs": [],
   "source": [
    "print('{birinci} {ikinci}'.format(birinci='Ad', ikinci='Soyad'))\n",
    "print('{birinci} {ikinci}'.format(ikinci='Soyad', birinci='Ad'))"
   ]
  },
  {
   "cell_type": "markdown",
   "metadata": {},
   "source": [
    "Bu yöntemle ayrıca format parametreleri parametrik şekilde de kullanılabilir."
   ]
  },
  {
   "cell_type": "code",
   "execution_count": null,
   "metadata": {
    "scrolled": true
   },
   "outputs": [],
   "source": [
    "print('{:{hiza}{genislik}}'.format('test', hiza='^', genislik='10'))\n",
    "print('{} = {:.{hassasiyet}f}'.format('Sayi ', 2.7182, hassasiyet=2))\n",
    "print('{:{genislik}.{hassasiyet}f}'.format(3.14159, genislik=8, hassasiyet=2))\n",
    "print('{:{}{}{}.{}}'.format(2.7182818284, '>', '+', 10, 3))\n",
    "print('{:{}{isaret}{}.{}}'.format(2.7182818284, '>', 10, 3, isaret='+'))"
   ]
  },
  {
   "cell_type": "markdown",
   "metadata": {},
   "source": [
    "Python 3.6'dan itibaren metin formatlama için daha esnek bir yapıya sahip metin interpolasyonu (string interpolation) ya da f-strings adı verilen bir yöntem de tanıtılmıştır. Ayrıca string modülü fonksiyonları da metin formatlamak için çeşitli olanaklar sunar ancak bu yöntemler bu dersin kapsamı dışında tutulmuştur. Merak edenler Real Python'dan https://realpython.com/python-string-formatting/ daha fazla bilgi edinebilirler.  \n",
    "\n",
    "[Başa Dön](#Formüllerle-Hesaplar)"
   ]
  },
  {
   "cell_type": "markdown",
   "metadata": {},
   "source": [
    "## f-string yöntemi ##\n",
    "\n",
    "Python'a 3.6 versiyonu sonrası eklenen f-string yapısı string formatlamayı daha da kolaylaştırmıştır. Kullanılacağı metnin başına $f$ harfini yazıp str.format yapısında kullanılan syntax'a benzer biçimde ${ }$ işaretleri kullanılarak formatlama yapılır. "
   ]
  },
  {
   "cell_type": "code",
   "execution_count": 3,
   "metadata": {},
   "outputs": [
    {
     "name": "stdout",
     "output_type": "stream",
     "text": [
      "t = 0.595 saniyede cismin yuksekligi 1.2342 metredir.\n"
     ]
    }
   ],
   "source": [
    "print(f\"t = {t} saniyede cismin yuksekligi {y} metredir.\")"
   ]
  },
  {
   "cell_type": "markdown",
   "metadata": {},
   "source": [
    "f-string'leri kodla aynı anda çalıştırıldığı için içlerindeki herhangi bir hesap da eş zamanlı yapılacağından esneklik sağlar."
   ]
  },
  {
   "cell_type": "code",
   "execution_count": 4,
   "metadata": {},
   "outputs": [
    {
     "data": {
      "text/plain": [
       "'74'"
      ]
     },
     "execution_count": 4,
     "metadata": {},
     "output_type": "execute_result"
    }
   ],
   "source": [
    "f\"{2 * 37}\""
   ]
  },
  {
   "cell_type": "markdown",
   "metadata": {},
   "source": [
    "f-stringler hakkında daha geniş bilgi, enekliği Python hakkında daha derin bilgi gerektirdiğinden, metin değişikenlerin işlendiği 8. bölümde verilecektir."
   ]
  },
  {
   "cell_type": "markdown",
   "metadata": {},
   "source": [
    "# Matematiksel İşlemler #\n",
    "\n",
    "Python'da matematiksel işlemler, bu işlemlerde karşılaşılan bazı problemler ve işlem sırası gibi konuları santigrat derece – fahrenheit dönüşümü örneği üzerinden tartışalım.\n",
    "\n",
    "<center>\n",
    "$$F = \\frac{9}{5} C + 32$$\n",
    "</center>\n",
    "\n",
    "Bu problemi C = 21° için basit bir Python koduyla çözmeye çalışalım."
   ]
  },
  {
   "cell_type": "code",
   "execution_count": null,
   "metadata": {},
   "outputs": [],
   "source": [
    "C = 56\n",
    "F = (9 / 5)*C + 32\n",
    "print(F)"
   ]
  },
  {
   "cell_type": "markdown",
   "metadata": {},
   "source": [
    "## Tam Sayı Bölmesi ##\n",
    "\n",
    "Tam sayı bölmesinin davranış şekli Python 2.x versiyonunda (ve Java gibi pek çok başka programlama dilinde) farklıdır. Yukarıdaki örnek Python 2.x'de 53 (9 / 5 = 1 --> 1 * 21 = 21 --> 21 + 32 = 53) tam sayı sonucunu verir. Python 2.x C = 21 ifadesiyle; 21 bir tam sayı olduğu için, bir tam sayı (int) nesnesi oluşturur ve bu nesnenin adı da C olarak belirlenmiş olur. Benzer şekilde C = 21.0 şeklinde bir atama yapılmış olsaydı bir kayan sayı (float) nesnesi oluşturulmuş ve bu nesnenin adı C olarak belirlenmiş olacaktı (21 ≠ 21.0). Python 3.x ise kullanıcıya, sonucun her zaman bir kayan sayı olduğu gerçek bölme yapma olanağı sağlar.\n",
    "\n",
    "Python 3.x ile birlikte, bölünen sayıların türünden (tam sayı ya da değil) bağımsız olarak, sonucun noktadan sonraki basamaklarının kesilip atıldığı (yuvarlama (rounding) değil kesme (truncation)) yeni bir bölme operatorü ( // ) sağlanmıştır. Bu operatörün sonucu eğer bölünen sayılar birer tam sayı ise bir tam sayıdır (integer). Böylece Python 2.x2'deki tam sayı bölme fonksiyonalitesi // (floor division) operatörü ile devam ettirilmiştir. Eğer bölünen sayılardan en az biri kayan sayı ise sonuç kayan sayı (float) cinsinden ve yine noktadan sonraki basamakları kesilerek verilir."
   ]
  },
  {
   "cell_type": "code",
   "execution_count": null,
   "metadata": {},
   "outputs": [],
   "source": [
    "x = 9//5\n",
    "print(x), print(type(x))\n",
    "y = 9.//5\n",
    "print(y)\n",
    "print(type(y))"
   ]
  },
  {
   "cell_type": "markdown",
   "metadata": {},
   "source": [
    " “Bir Python programı yazmak, nesneler oluşturmak ve bu nesnelerin değerlerini değiştirmektir”\n",
    " \n",
    " [Başa Dön](#Formüllerle-Hesaplar)"
   ]
  },
  {
   "cell_type": "markdown",
   "metadata": {},
   "source": [
    "# Aritmetik Operatörlerin Öncelik Sırası #\n",
    "\n",
    "Aslında matematikte olduğundan çok farklı değil. Üs işareti (\\*\\*) 'nin çarpma (\\*) ve bölmeye (\\/) önceliği var. Sonra toplama (+) ve çıkarma (-) geliyor ve parantez içi ifadeler her zaman daha büyük öncelik taşıyor.\n",
    "\n",
    "<b><i>Örnek 1</i></b>\n",
    "\n",
    "<center>\n",
    "    $$\\frac{4}{8} + 2*\\frac{3^{4}}{9}$$\n",
    "    $$\\frac{4}{8} = 0.5 → 3^{4} = 81 → 2*81 = 162 → \\frac{162}{9} = 18 → 0.5 + 18 = 18.5$$\n",
    "</center>\n",
    "\n",
    "<b><i>Örnek 2</i></b>\n",
    "\n",
    "<center>\n",
    "    $$\\frac{4}{(6 + 2)} + 2*4^{\\frac{4}{8}}$$\n",
    "    $$\\frac{4}{(6 + 2)} = \\frac{4}{(8)} = 0.5 → 4^{\\frac{4}{8}} = 4^{0.5} = 2 → 2*2 = 4 = → 0.5 + 4 = 4.5$$\n",
    "</center>\n",
    "\n",
    "Şimdi bu işlemleri Python ile yapalım."
   ]
  },
  {
   "cell_type": "code",
   "execution_count": null,
   "metadata": {},
   "outputs": [],
   "source": [
    "# Ornek 1\n",
    "print(4 / 8 + 2*3**4/9)\n",
    "# Ornek 2\n",
    "print(4/(6+2) + 2*4**(4/8))"
   ]
  },
  {
   "cell_type": "markdown",
   "metadata": {},
   "source": [
    "Python'da aritmetik operatörlerin sırasını anlamak temel düzeyde matematik bilen herkes için oldukça kolaydır. Matematik derslerinde öğrendiğiniz temel bilgiyi referans almanız yeterli olacaktır.\n",
    "\n",
    "[Başa Dön](#Formüllerle-Hesaplar)"
   ]
  },
  {
   "cell_type": "markdown",
   "metadata": {},
   "source": [
    "# Standart Matematiksel Fonksiyonlar #\n",
    "\n",
    "Python'da standart matematiksel fonksiyonların nasıl çalıştığını anlamak için dikey atış probleminde cismin t anındaki yüksekliği (y) yerine, herhangi bir yüksekliğe ne kadar zamanda çıkacağını bulma probleminden hareket edelim.\n",
    "\n",
    "Bu amaçla\n",
    "\n",
    "<center>\n",
    "    $$y(t) = V_{0} t - \\frac{1}{2} g t^{2}$$\n",
    "    $$\\frac{1}{2} g t^{2} - V_{0} t + y = 0$$\n",
    "</center>\n",
    "\n",
    "ikinci derece denklemini çözmemiz gerekir. Bu denklemin çözümü\n",
    "\n",
    "<center>\n",
    "    $$t_{1, 2} = (V_{0} \\pm (V_{0}^{2} - 2 g y)^{1/2}) / g$$\n",
    "</center>\n",
    "\n",
    "sonucunu verir (iki sonuç vardır zira cisim bu yüksekliğe biri yükselirken, diğeri inerken olmak üzere iki kez ulaşır!). Bu işlemi Python ile gerçekleştirmek için karekök (sqrt) fonksiyonuna ihtiyaç duyacağımız açıktır."
   ]
  },
  {
   "cell_type": "markdown",
   "metadata": {},
   "source": [
    "# Modül Fonksiyonları #\n",
    "\n",
    "Python'da standart fonksiyonları (built-in functions) kullanmak için bir şey yapmanıza gerek yoktur. Daha önce örneklerini gördüğünüz $ print$ fonksiyonu böyle fonksiyonlardandır. Değişken türü değiştirmeye olanak sağlayan $ str$, $ int$ ve $ float$ gibi fonksiyonlar da böyledir."
   ]
  },
  {
   "cell_type": "code",
   "execution_count": null,
   "metadata": {},
   "outputs": [],
   "source": [
    "# Standart (built-in) Python Fonksiyonu Ornekleri\n",
    "print(\"Merhaba Dunya!\")\n",
    "x = 5\n",
    "print(x, type(x))\n",
    "x = str(x)\n",
    "print(x, type(x))\n",
    "x = float(x)\n",
    "print(x, type(x))"
   ]
  },
  {
   "cell_type": "markdown",
   "metadata": {},
   "source": [
    "Karekök gibi trigonometrik, logaritmik, üstel, hiperbolik fonksiyonların da aralarında bulunduğu pek çok matematiksel ifadenin nasıl hesaplanacağı uzun yıllar sonucunda oluşturulmuş algoritmalarla saptanmış ve pek çok programcı bu algoritmalara dayanan fonksiyonlar hazırlamışlardır. \n",
    "\n",
    "Python'da <b><i>modül</i></b> benzer nitelikte işler yapan fonksiyonların bir araya toplandığı programlara denir. Örneğin math modülünde pek çok matemtaik fonksiyonu bulunmaktadır. astropy modülünde ise astronomi hesapları için gerekli (Julyen günü dönüşümü, ufuk yüksekliği hesabı gibi...) pek çok fonksiyon bulunur.\n",
    "\n",
    "Bir modüldeki fonksiyonları kullanabilmek için öncelikle onu çağırmak (import etmek) gereklidir. Bu işlem en basit şekliyle\n",
    "\n",
    "<center>\n",
    "    <i>import modul_adi</i>\n",
    "</center>\n",
    "\n",
    "ifadesiyle yapılır.\n",
    "\n",
    "Daha sonra bu modüldeki fonksiyon (örneğin karekök fonksiyonu sqrt) <i>modul_adi.fonksiyon(arguman)</i> şeklinde kullanılır. (örneğin <i>math.sqrt(5)</i> math modülünden karekök fonskiyonunu çağırır ve karekök 5 değerini hesaplar!)\n",
    "\n",
    "Örnek olarak düşey atış probleminde bir ilk hızla yukarı doğru atılan bir cismin herhangi bir yükseklikten hangi zamanlarda geçtğini bulmak için aşağıdaki şekilde bir Python kodu yazmamız gerekir. "
   ]
  },
  {
   "cell_type": "code",
   "execution_count": null,
   "metadata": {},
   "outputs": [],
   "source": [
    "# Dikey atis problemi, cismin verilen bir yukseklikten (y)\n",
    "# gectigi zamanlarin (t1 ve t2) bulunmasi\n",
    "v0 = 5  # m/s\n",
    "g = 9.81 # m/s^2\n",
    "yc = 0.2 # m\n",
    "import math\n",
    "t1 = (v0 - math.sqrt(v0**2 - 2*g*yc))/g\n",
    "t2 = (v0 + math.sqrt(v0**2 - 2*g*yc))/g\n",
    "print('t={:g} saniye ve {:g} saniyede cismin yuksekligi {:g} metredir'.\\\n",
    "      format(t1, t2, yc))"
   ]
  },
  {
   "cell_type": "markdown",
   "metadata": {},
   "source": [
    "[Başa Dön](#Formüllerle-Hesaplar)"
   ]
  },
  {
   "cell_type": "markdown",
   "metadata": {},
   "source": [
    "# Modül Çağırma #\n",
    "## Modül Fonksiyonları Kullanma Yöntemleri ##\n",
    "\n",
    "<i>import modul_adi</i> şeklindeki modül çağırma ifadesinin yanı sıra başka modül çağırma şekilleri de vardır.\n",
    "\n",
    "En sık kullanılan modül çağırma şekillerinden biri \n",
    "\n",
    "<center>\n",
    "    <i>from modul_adi import fonksiyon_adi1,fonksiyon_adi2, ...  </i>\n",
    "</center>"
   ]
  },
  {
   "cell_type": "code",
   "execution_count": null,
   "metadata": {},
   "outputs": [],
   "source": [
    "from math import sqrt,sin,exp,log,e,sin,pi\n",
    "print(sqrt(2))\n",
    "print(\"sin (90) = {:g}\".format(sin(0.5*pi)))\n",
    "print(\"ln(e^2) = {:g}\".format(log(e**2,e)))\n",
    "print(\"e^5 = {:g}\".format(exp(5)))\n",
    "print(log(sin(pi/2.),10))"
   ]
  },
  {
   "cell_type": "markdown",
   "metadata": {},
   "source": [
    "Bu şekilde bir modüldeki tüm fonksiyonları <i>from modul_adi import *</i> ifadesiyle de çağrımak mümkündür.\n",
    "\n",
    "<i>from modül_adi import … </i> ifadesini kullanmanın sakıncası fonksiyonun adını doğrudan kullanmaktan gelir. Python'un büyük bir gücü olan, pek çok programcı / bilim insanı tarafından modüllerin yazılıyor olması, burada bir dezavantaja dönüşür. Zira farklı modüllerde aynı isimle ve farklı işler yapan ya da bir şekilde farklı davranan fonksiyonlar olabilir. Kodun içerisinden her iki modülün birden çağrılması bu durumda problem haline gelebilir. Hatta bazen çağrılan bir modülde yer alan (ve çoğu zaman farkında olunmayan) bir fonksiyonla kullanıcının kendi yazdığı bir fonksiyonun da adı aynı olabilir.\n",
    "\n",
    "Bu probleme biraz yakından bakalım: \n",
    "\n",
    "* <i>import math ifadesi</i> math modülü fonksiyonlarını math isim uzayına (namespace) indirir. Bu nedenle o isim uzayıındaki bir fonksiyonu çağırmak istediğinizde modül adını kullanmanız gerekir: <i>math.sqrt(x)</i> gibi..\n",
    "\n",
    "* <i>from math import \\*</i> ifadesi math modülündeki tüm fonksiyonları (ya da \\* yerine fonksiyonun adını yazarsanız o fonksiyonu) sizin kullandığınız isim uzayına (namespace) indirir. Bu uzayı siz kullanıyor olduğunuz için fonksiyon çağırırken sadece adını kullanırsınız: <i>sqrt(x)</i> gibi... \n",
    "\n",
    "* Aslında burada “pythonik” bir yol tam olarak tanımlı değildir. Bazen birini bazen diğerini kullanırsınız. <i>from modul import fonksiyon</i> yapısı  uzun kodlarda değil de kabukta küçük işlevsel betikler (script) yazarken daha çok tercih edilir.\n",
    "\n",
    "* İyi bir çözüm: <i>import numpy as np</i> ya da <i>from math import log as ln</i> gibi ifadelerle lakap (alias) kullanmaktır. Bu durum, fonksiyonların bulunduğu isim uzayına kısa ve kendinizin (ve iç dokümantasyon tutuyorsanız kodunuzu okuyan kişinin) bildiği bir isim verdiğiniz için kullanım kolaylığı getirir."
   ]
  },
  {
   "cell_type": "code",
   "execution_count": null,
   "metadata": {},
   "outputs": [],
   "source": [
    "import math as m\n",
    "yaricap = 10\n",
    "cevre = 2*m.pi*yaricap\n",
    "alan = m.pi*yaricap**2\n",
    "print(\"Yaricapi {:d} olan cemberin cevresi {:g}\".format(yaricap,cevre))\n",
    "print(\"Alani ise {:g} 'dir\".format(alan))"
   ]
  },
  {
   "cell_type": "markdown",
   "metadata": {},
   "source": [
    "[Başa Dön](#Formüllerle-Hesaplar)"
   ]
  },
  {
   "cell_type": "markdown",
   "metadata": {},
   "source": [
    "# Yuvarlama Hataları #\n",
    "\n",
    "Matematiksel olarak sinüs hiperbolik fonksiyonu (sin h)\n",
    "\n",
    "<center>\n",
    "    $$sinh(x) = \\frac{(e^{x} - e^{-x})}{2}$$\n",
    "</center>\n",
    "\n",
    "şeklinde tanımlanır. Şimdi x = 2$\\pi$ için sinh(x) 'i farklı şekillerde hesaplayalım."
   ]
  },
  {
   "cell_type": "code",
   "execution_count": 1,
   "metadata": {},
   "outputs": [
    {
     "name": "stdout",
     "output_type": "stream",
     "text": [
      "267.74489404 267.74489404 267.74489404\n",
      "267.7448940410164369 267.7448940410164369 267.7448940410163232\n"
     ]
    }
   ],
   "source": [
    "from math import sinh, exp, e, pi\n",
    "x = 2*pi\n",
    "r1 = sinh(x)\n",
    "r2 = 0.5*(exp(x) - exp(-x))\n",
    "r3 = 0.5*(e**x - e**(-x))\n",
    "print(\"{:.8f} {:.8f} {:.8f}\".format(r1,r2,r3))\n",
    "print(\"{:.16f} {:.16f} {:.16f}\".format(r1,r2,r3))"
   ]
  },
  {
   "cell_type": "markdown",
   "metadata": {},
   "source": [
    "İşte bu ilginç! Matematiksel olarak eşit olduğunu bildiğimiz üç ifadeden sonuncusu 12. basamaktan sonra diğerlerinden farklılaşan bir sonuç verdi!\n",
    "\n",
    "Bir başka örneğe bakalım. Aşağıdaki iki ifadenin aynı sonucu vermesi gerek:\n",
    "\n",
    "<center>\n",
    "$$\\frac{1}{49.} * 49. = \\frac{1}{51.} * 51 = 1.0000000000000000$$\n",
    "</center>"
   ]
  },
  {
   "cell_type": "code",
   "execution_count": 2,
   "metadata": {},
   "outputs": [
    {
     "name": "stdout",
     "output_type": "stream",
     "text": [
      "0.9999999999999999\n",
      "1.0\n"
     ]
    }
   ],
   "source": [
    "print(1./49.*49.)\n",
    "print(1./51.*51.)"
   ]
  },
  {
   "cell_type": "markdown",
   "metadata": {},
   "source": [
    "Problem reel sayıların bilgisayarlarca saklanma ve gösterilme şeklinden kaynaklanmaktadır. AST416 Astronomide Sayısal Çözümleme - II dersinde ayrıntılı bir şekilde görebileceiğniz gibi bilgisayarlar sınırlı (genellikle 32) sayıda basamakla reel sayıları saklarlar. Oysa 1/49'u tam olarak ifade etmek için SONSUZ sayıda basamağa ihtiyacınız vardır.  \n",
    "\n",
    "Problemimizde 1/49. tam olarak saklanamıyor ve sonuç 1'den farklı çıkıyor. Aslında durum 1/51. için de aynı ama çıkan sayıyı 51. ile tekrar çarptığımızda yine 1'e ulaşıyoruz. Yani hata final değere kadar yayılmıyor!\n",
    "\n",
    "## <i> round() </i> Fonksiyonu ##\n",
    "\n",
    "$round(n, ndigits)$ fonksiyonu Python'un kendi fonksiyonlarından (ing. built-in) bir olup, $n$ ve $ndigits$ adında iki argümanı bulunmaktadır. Bu argümanlardan $n$ yuvarlanması istenen sayıyı, $ndigits$ ise bu sayının kaç basamağı yuvarlanmasının istendiğini <i>round()</i> fonksiyonuna geçirmek için kullanılır. $ndigits$ argümanının varsayılan değeri sıfır olduğundan, sağlanmaması durumunda verilen $n$ sayısı bir tamsayıya yuvarlanır. "
   ]
  },
  {
   "cell_type": "code",
   "execution_count": 3,
   "metadata": {},
   "outputs": [
    {
     "name": "stdout",
     "output_type": "stream",
     "text": [
      "3.14\n",
      "3\n"
     ]
    }
   ],
   "source": [
    "print(round(3.1415926535, 2)) # iki basamaga yuvarlama\n",
    "print(round(3.1415926535)) # tam sayiya yuvarlama"
   ]
  },
  {
   "cell_type": "markdown",
   "metadata": {},
   "source": [
    "<b><i>round()</i></b> fonksiyonunun nasıl çalıştığını anlamak başlangıçta görece kolaydır. Yuvarlanılması istenen ve $ndigits$ opsiyonuyla verilen basamaktan sonraki basamağın değeri 5'ten küçükse basamak değeri olduğu gibi bırakılır, sonraki basamaklar 5'ten büyükse bu kez basamak değeri 1 arttırılır ve gerekiyorsa (9'dan büyük bir basamak değeri olması durumunda) bu daha önceki basamak değerlerine +1 artışla yansıtılır. Ancak sonraki basamak değerlerinin 5 olması durumunda <b><i>round()</i></b> fonksiyonu beklenmeyen sonuçlar verebilir."
   ]
  },
  {
   "cell_type": "code",
   "execution_count": 4,
   "metadata": {},
   "outputs": [
    {
     "name": "stdout",
     "output_type": "stream",
     "text": [
      "2\n",
      "2\n"
     ]
    }
   ],
   "source": [
    "print(round(1.5)) # 1.5 sayisini tamsayiya yuvarlama\n",
    "print(round(2.5)) # 2.5 sayisini tamsayiya yuvarlama"
   ]
  },
  {
   "cell_type": "markdown",
   "metadata": {},
   "source": [
    "1.5 ve 2.5'in her ikisinin de 2'ye yuvarlanmış olması aslında $round()$ fonksiyonundan değil yine söz konusu sayıların bilgisayarların tüm işlemlerinin dayandığı ikilik sayı sisteminde (ing. binary) temsil edilememesinden kaynaklanmaktadır. Tüm sayı sistemlerinde benzer bir kusur mevcuttur. Örneğin 10 parmaklı canlılar olmamızdan dolayı sıkça kullandığımız onluk sayı sisteminde 1 / 3'ü sonlu sayıda basamak kullanarak temsil edemeyiz (1.333...); oysa ki, 1 / 3 irrasyonel değildir. 1.4 sayısı ikilik sayı sisteminde 1.01100110011 olarak temsil edilirken, sayıyı tamsayıya yuvarlamak istediğmizde noktadan sonraki ilk basamağa bakar (0) ve 1.0'a yuvarlarız. 1.6 sayısı ise ikilik sayı sisteminde 1.10011001100 şeklinde temsil edilir. Bu sayıyı bir tamsayıya yuvarlamak istediğimizde, noktadan sonraki ilk basamağın 1 olduğunu görür ve sayıyı ikilik sayı sisteminde 10'a yuvarlarız (2). Söz konusu sayı 1.5 ise (1.10000....) görüldüğü gibi mükemmel temsil edilemez. Sayının noktadan sonraki ilk basamağı 1 olmakla birlikte ilerleyen basamaklarında yeniden 1 değerleriyle karşılaşılır. Bu nedenle sayı yukarıya yuvarlanır ve ikilik sayı sisteminde 10, onluk sayı sisteminde 2 olur. Oysa ki 2.5 ikilik sayı sisteminde 10.1 şeklinde ifade edilir ve ilerleyen basamaklarında 1 yoktur; bu nedenle aşağı yuvarlanır (10) ve onluk sayı sisteminde 2 değerini alır. Benzer bir temsil sorunu aşağıdaki basit aritmetik ifadenin de beklenilenden farklı çıkmasına yol açmaktadır."
   ]
  },
  {
   "cell_type": "code",
   "execution_count": 5,
   "metadata": {},
   "outputs": [
    {
     "data": {
      "text/plain": [
       "0.30000000000000004"
      ]
     },
     "execution_count": 5,
     "metadata": {},
     "output_type": "execute_result"
    }
   ],
   "source": [
    "0.1 + 0.1 + 0.1"
   ]
  },
  {
   "cell_type": "markdown",
   "metadata": {},
   "source": [
    "## <i> math.ceil() </i> ve <i> math.floor() </i> Fonksiyonları ##\n",
    "\n",
    "Sorunu teşhis etmek önemli bir şey olmakla birlikte çözümü ayrı bir şeydir. Bunun için öncelikle problemin kodunuzun çözmeye çalıştığı problemi ne düzeyde etkilediğini, yani işlemlerde ihtiyaç duyduğunuz duyarlılığı belirlemeniz gereklidir. Eğer ihtiyaç duyduğunuz duyarlılık matematik kütüphanesinden ($math$) kullanabileceğiniz yukarıya yuvarlayan $ceil()$ ve aşağıya yuvarlayan $floor$ ile çözülebilecek düzeyde ise endişe etmenize gerek yoktur. $math.ceil()$ bir tamsayıya yuvarlanmasını istediğiniz sayıyı ona en yakın ve ondan büyük (ya da eşit) tamsayıya yuvarlar. $math.floor()$ ise tam tersini yapıp, bir tamsayıya yuvarlanmasını istediğiniz sayıyı ona en yakın ve ondan küçüük (ya da eşit) tamsayıya yuvarlar."
   ]
  },
  {
   "cell_type": "code",
   "execution_count": 6,
   "metadata": {},
   "outputs": [
    {
     "name": "stdout",
     "output_type": "stream",
     "text": [
      "3\n",
      "2\n",
      "-2\n",
      "-3\n"
     ]
    }
   ],
   "source": [
    "import math\n",
    "print(math.ceil(2.5)) # yukariya yuvarlama\n",
    "print(math.floor(2.5)) # asagiya yuvarlama\n",
    "print(math.ceil(-2.5)) # negatif sayi yukariya yuvarlama\n",
    "print(math.floor(-2.5)) # negatif sayi asagiya yuvarlama"
   ]
  },
  {
   "cell_type": "markdown",
   "metadata": {},
   "source": [
    "Konuyu bu noktada daha derinleştirmeden, Python'da soruna en iyi çözümünün $Decimal$ modülü fonksiyonları ile getirilmiş olduğunu belirtip; bu modül ve fonksiyonlarına daha sonra detaylı olarak değineceğimizi vurgulayalım.\n",
    "\n",
    "[Başa Dön](#Formüllerle-Hesaplar)"
   ]
  },
  {
   "cell_type": "markdown",
   "metadata": {},
   "source": [
    "# Değişken Türleri ve Dönüşümler #\n",
    "\n",
    "Bir değişken tanımladığımızda Python tarafından adı değişkenin adı, türü değişkene verdiğimiz değerle belirlenen bir nesne oluşturulur."
   ]
  },
  {
   "cell_type": "code",
   "execution_count": 7,
   "metadata": {},
   "outputs": [
    {
     "name": "stdout",
     "output_type": "stream",
     "text": [
      "21 <class 'int'>\n",
      "0.2 <class 'float'>\n",
      "Python ogreniyorum! <class 'str'>\n",
      "21 <class 'str'>\n",
      "212121\n",
      "63\n",
      "\"21\"\n",
      "AST415 Astronomide Sayisal Cozumleme\n"
     ]
    }
   ],
   "source": [
    "C = 21\n",
    "print(C, type(C))\n",
    "t = 0.2\n",
    "print(t,type(t))\n",
    "s = \"Python ogreniyorum!\"\n",
    "print(s, type(s))\n",
    "Cs = '21'\n",
    "print(Cs, type(Cs))\n",
    "print(Cs*3)\n",
    "print(C*3)\n",
    "print('\"21\"')\n",
    "print(\"AST415 Astronomide Sayisal Cozumleme\")"
   ]
  },
  {
   "cell_type": "markdown",
   "metadata": {},
   "source": [
    "Bu değişken türleri arasında dönüşümler yapılabilir. Bu amaçla <b><i>int(x)</i></b>, (tam sayıya dönüştürme), <b><i>float(x)</i></b> (noktalı sayıya dönüştürme), <b><i>str(x)</i></b> (metne dönüştürme) gibi fonksiyonlar kullanılır."
   ]
  },
  {
   "cell_type": "code",
   "execution_count": 8,
   "metadata": {},
   "outputs": [
    {
     "name": "stdout",
     "output_type": "stream",
     "text": [
      "21.0 <class 'float'>\n",
      "0 <class 'int'>\n",
      "0\n",
      "-1\n",
      "-1.7\n"
     ]
    }
   ],
   "source": [
    "D = float(C)\n",
    "print(D, type(D))\n",
    "T = int(t)\n",
    "print(T, type(T)) # sonucta noktadan sonraki basamaklar atildigina dikkat ediniz\n",
    "t2 = 0.6\n",
    "print(int(t2)) # int fonksiyonunun yuvarlama islemi degil kesip atma islemi yaptigina dikkat ediniz\n",
    "t3 = -1.7\n",
    "print(int(t3)) # durum negatif sayilar icin de aynidir\n",
    "print(t3) # t3'un kendisi degistirilmedi!"
   ]
  },
  {
   "cell_type": "markdown",
   "metadata": {},
   "source": [
    "[Başa Dön](#Formüllerle-Hesaplar)"
   ]
  },
  {
   "cell_type": "markdown",
   "metadata": {},
   "source": [
    "# Karmaşık Sayılar (Opsiyonel)#\n",
    "\n",
    "Bilindiği gibi karmaşık sayılar i = $\\sqrt{-1}$ olmak üzere,\n",
    "\n",
    "<center>\n",
    "    $$a \\pm ib$$\n",
    "</center>\n",
    "\n",
    "şeklinde ifade edilirler. \n",
    "\n",
    "<center>\n",
    "    $u = a + ib$ ve $v = c + id$ olmak üzere,<br>\n",
    "    * $u = v \\Rightarrow (a = b)$ ve $(c = d)$<br> \n",
    "    * $-u = -a – ib$<br>\n",
    "    * $u^{*} = a - ib$ (kompleks eşlenik)<br>\n",
    "    * $u + v = (a + c) + (b + d)i$<br>\n",
    "    * $u - v = (a - c) + (b – d)i$<br>\n",
    "    * $uv = (ac − bd) + (bc + ad)i$<br>\n",
    "    * $\\frac{u}{v} = \\frac{ac + bd}{c^{2} + d^{2}} + \\frac{bc − ad}{c^{2} + d^{2}}$ <br>\n",
    "    * $|u| = \\sqrt{a^{2} + b{2}}$<br>\n",
    "    * $e^{iq}$ = cos q + i sin q$<br>\n",
    "</center>"
   ]
  },
  {
   "cell_type": "code",
   "execution_count": null,
   "metadata": {},
   "outputs": [],
   "source": [
    "u = 2.5 + 3j # python'da karmasik sayilar i yerine j ile yazilir\n",
    "v = 2 # bu bir tam sayi\n",
    "w = u + v # karmasik sayi + tam sayi\n",
    "print(w)\n",
    "a = -2\n",
    "b = 0.5\n",
    "s = a + b*1j # karmasik sayi olustur. Dikkat j degil 1j\n",
    "print(s)\n",
    "s = complex(a,b) # bu sekilde de karmasik sayi olusturulabilir\n",
    "print(s)\n",
    "s*w # iki karmasik sayinin carpimi\n",
    "s/w # iki karmasik sayinin bolumu\n",
    "print(s.real) # karmasik sayinin reel kismini verir\n",
    "print(s.imag) # karmasik sayinin imajiner kismini verir\n",
    "print(s.conjugate())# karmasik sayinin kompleks eslenigini verir"
   ]
  },
  {
   "cell_type": "markdown",
   "metadata": {},
   "source": [
    "Python'da karmaşık sayılarla işlemler için <b>cmath modülü</b> fonksiyonları da sıklıkla kullanılır."
   ]
  },
  {
   "cell_type": "code",
   "execution_count": null,
   "metadata": {},
   "outputs": [],
   "source": [
    "from math import sin\n",
    "r = sin(w) # math modulundeki sinus karmasik sayilarla calismaz"
   ]
  },
  {
   "cell_type": "code",
   "execution_count": null,
   "metadata": {},
   "outputs": [],
   "source": [
    "from cmath import sin,sinh\n",
    "r1 = sin(8j)\n",
    "print(r1)\n",
    "r2 = 1j * sinh(8)\n",
    "print(r2)\n",
    "from cmath import exp,cos,sin,pi\n",
    "q = 8 # rastgele secilmis bir sayi\n",
    "print(exp(1j*q)) # e^iq\n",
    "print(cos(q) + 1j*sin(q))\n",
    "exp(pi*1j) # Euler esitliginin sonucu sizce neden -1 degil?"
   ]
  },
  {
   "cell_type": "markdown",
   "metadata": {},
   "source": [
    "Python'da karmaşık sayılarla reel sayıların birlikte kullanıldığı işlemler için <b>numpy.lib.scimath</b> fonksiyonları da kullanmaktadır."
   ]
  },
  {
   "cell_type": "code",
   "execution_count": null,
   "metadata": {},
   "outputs": [],
   "source": [
    "from math import sqrt\n",
    "print(sqrt(4)) # 4'un karekoku reel sayidir\n",
    "print(sqrt(-1)) # hata vermesini bekleriz"
   ]
  },
  {
   "cell_type": "code",
   "execution_count": null,
   "metadata": {},
   "outputs": [],
   "source": [
    "from cmath import sqrt\n",
    "print(sqrt(4)) # 4'un karekoku reel sayi ama karmasik sekilde yazilabilir\n",
    "print(sqrt(-1)) # sonucun bu kez dogru cikmasini bekliyoruz\n",
    "from numpy.lib.scimath import sqrt\n",
    "print(sqrt(4)) # Bu modul sonucu reelse reel,\n",
    "print(sqrt(-1)) # karmasiksa karmasik sayi olarak verir."
   ]
  },
  {
   "cell_type": "markdown",
   "metadata": {},
   "source": [
    "[Başa Dön](#Formüllerle-Hesaplar)"
   ]
  },
  {
   "cell_type": "markdown",
   "metadata": {},
   "source": [
    "# Örnek: 2. Dereceden Denklem Çözümü #\n",
    "\n",
    "Aşağıdaki ikinci dereceden denklemi a, b, c'nin farklı değerli için çözmek isitiyor olalım.\n",
    "\n",
    "<center>\n",
    "    $$ax^{2} + bx + c = 0$$\n",
    "</center>"
   ]
  },
  {
   "cell_type": "code",
   "execution_count": 9,
   "metadata": {},
   "outputs": [
    {
     "name": "stdout",
     "output_type": "stream",
     "text": [
      "Denklemin cozumu: r1 = -1+3j, r2 = -1-3j\n",
      "Denklemin cozumu: r1 = -0.267949, r2 = -3.73205\n"
     ]
    }
   ],
   "source": [
    "from numpy.lib.scimath import sqrt\n",
    "a = 1; b = 2; c = 10 # polinom katsayilari\n",
    "r1 = (-b + sqrt(b**2 - 4*a*c))/(2*a)\n",
    "r2 = (-b - sqrt(b**2 - 4*a*c))/(2*a)\n",
    "print(\"Denklemin cozumu: r1 = {:g}, r2 = {:g}\".format(r1,r2))\n",
    "\n",
    "a = 1; b = 4; c = 1 # polinom katsayilarini degistirelim\n",
    "r1 = (-b + sqrt(b**2 - 4*a*c))/(2*a)\n",
    "r2 = (-b - sqrt(b**2 - 4*a*c))/(2*a)\n",
    "print(\"Denklemin cozumu: r1 = {:g}, r2 = {:g}\".format(r1,r2))"
   ]
  },
  {
   "cell_type": "markdown",
   "metadata": {},
   "source": [
    "[Başa Dön](#Formüllerle-Hesaplar)"
   ]
  },
  {
   "cell_type": "markdown",
   "metadata": {},
   "source": [
    "# Alıştırmalar #\n",
    "\n",
    "1. Metre cinsinden verilen bir uzunluğu inch (1 inch = 2.54 cm), foot (1 foot = 12 inch), yard (1 yard = 3 feet) ve mile (1 mil = 1760 yard) birimlerine dönüştüren bir program yazınız. Programınızı 640 metre için test ediniz (25196.85 inch, 2099.74 feet, 699.91 yard ve 0.3977 mil).\n",
    "\n",
    "2. Bir cismin yoğunluğu kütlesiyle hacminin çarpımı olarak tanımlanır ($d = m V$). Demir ($d_{Fe} = 7.87 g cm^{-3}$, aliminyum ($d_{Fe} = 2.70 g cm^{-3}$, bakır ($d_{Cu} = 8.96 g cm^{-3}$), hava ($d_{hava} = 1.283 g cm^{-3}$ ve ortalama insan vücudunun ($d_{insan} = 1.01 g cm^{-3}$) bir litresinin kaç kilogram olduğunu bulan bir program yazınız.\n",
    "\n",
    "3. Aşağıda verilen programdaki hataları bulup, düzeltiniz ve programı çalıştırınız.\n",
    "\n",
    "```\n",
    "x=1\n",
    "print('sin(%g)=%g' % (x, sin(x))\n",
    "```\n",
    "\n",
    "4. Aşağıdaki küçük programcıkları yazıp çalıştırarak verilen ifadelerin doğruluğunu test ediniz. Programların çalışmadığı durumlarda hatalarını bulup, düzelttikten sonra tekrar çalıştırınız.\n",
    "\n",
    "    a) $sin^{2} + cos^{2} = 1?$\n",
    "\n",
    "    ```\n",
    "    from math import sin, cos\n",
    "    x = pi/4\n",
    "    1_val = math.sin^2(x) + math.cos^2(x)\n",
    "    print 1_VAL\n",
    "    ```\n",
    "    \n",
    "    b) $s = v_{0} t + 1/2 a t^{2}$ ifadesinde $v_{0} = 3 m/s$ , $t = 1 s$, $a = 2 m/s^{2}$ için s'yi hesaplayınız.\n",
    "    \n",
    "\n",
    "    ```\n",
    "    v0 = 3 m/s\n",
    "    t = 1 s\n",
    "    a = 2 m/s**2\n",
    "    s = v0.t + 0,5.a.t**2\n",
    "    print s\n",
    "    ```    \n",
    "    c) Aşağıdaki ifadeleri doğrulayınız\n",
    "    \n",
    "    $$(a + b)^{2} = a^{2} + 2ab + b^{2}$$\n",
    "    $$(a − b)^{2} = a^{2} − 2ab + b^{2}$$\n",
    "    \n",
    "\n",
    "    ```\n",
    "    a = 3,3 b = 5,3\n",
    "    a2 = a**2\n",
    "    b2 = b**2\n",
    "    eq1_sum = a2 + 2ab + b2\n",
    "    eq2_sum = a2 - 2ab + b2\n",
    "    eq1_pow = (a + b)**2\n",
    "    eq2_pow = (a - b)**2\n",
    "    print('Birinci ifade: %g = %g', % (eq1_sum, eq1_pow))\n",
    "    print('Ikinci ifade: %h = %h', % (eq2_pow, eq2_pow))\n",
    "    ```        \n",
    "    \n",
    "5. Gauss fonksiyonu aşağıdaki ifade ile verilir ve neredeyse her bilim dalında en sık kullanılan fonksiyonlardan biridir. Bu fonksiyonu $\\mu = 0$ ortalama değeri, $\\sigma = 2$ standart sapması ve $x = 1$ için hesaplayan bir program yazınız.\n",
    "\n",
    "$$f(x) = \\frac{1}{\\sqrt{2 \\pi} \\sigma} exp[- \\frac{1}{2}( \\frac{x - \\mu}{\\sigma} )]$$\n",
    "\n",
    "6. Aşağıda Santigrat dereceyi Fahrenheit'a dönüştüren bazı kod satırları verilmiştir. Doğru çalışmayacak olan satırları bulup, düzeltiniz ve çalıştırınız.\n",
    "\n",
    "```\n",
    "C = 21; F = 9/5*C + 32; print F\n",
    "C = 21.0; F = (9/5)*C + 32; print F\n",
    "C = 21.0; F = 9*C/5 + 32; print(F)\n",
    "C = 21.0; F = 9.*(C/5.0) + 32;print('.2f' % F)\n",
    "C = 21.0; F = 9.0*C/5.0 + 32; print(\"{:.2f}.format(F))\n",
    "C = 21; F = 9*C/5 + 32; print(F)\n",
    "C = 21.0; F = (1/5)*9*C + 32; print('%3.2f' % F)\n",
    "C = 21; F = (1./5)*9*C + 32; print(\"{:d}.format(F)\")\n",
    "```\n",
    "\n",
    "7. Aşağıda verilen Python ifadelerindeki yanlışları bulunuz ve düzeltiniz.\n",
    "\n",
    "```\n",
    "3b = 2\n",
    "b2 = b\n",
    "x = 2\n",
    "y = X + 4 # 6 eder mi?\n",
    "from Math import sin\n",
    "print sin(pi)\n",
    "pi = \"3.1416’\n",
    "print sin(pi)\n",
    "c = 2**3**4**3\n",
    "_ = ((c-180)/c + 32))\n",
    "indirim_orani = 5%\n",
    "fiyat = 20.-\n",
    "etiket_fiyati = 50€\n",
    "address = www.ozgur.astrotux.org\n",
    "and = AST415\n",
    "sinif = 'AST415 Astronomi'de Sayisal Cozumleme-I'\n",
    "dogrulukdegeri_ = x > 0\n",
    "cat = kedi = True\n",
    "Turkce = ['bir dil']\n",
    "true = cat is kedi\n",
    "```\n",
    "\n",
    "8. Aşağıdaki formülllere denk Python kodlarının doğru verilip verilmediğini kontrol ediniz. Değillerse düzeltiniz.\n",
    "\n",
    "$$ax^{2} + bx + c = 0$$\n",
    "$$x_{1, 2} = \\frac{-b \\pm \\sqrt{b^{2} - 4ac}}{2a}$$\n",
    "\n",
    "```\n",
    "a = 2; b = 1; c = 2\n",
    "from math import sqrt\n",
    "q = b*b - 4*a*c\n",
    "q_sr = sqrt(q)\n",
    "x1 = (-b + q_sr)/2*a\n",
    "x2 = (-b - q_sr)/2*a\n",
    "print x1, x2\n",
    "```"
   ]
  },
  {
   "cell_type": "markdown",
   "metadata": {},
   "source": [
    "[Alıştırma Sorularının Cevapları](Ders02_Formullerle_Hesaplar_Alistirmalar.ipynb)"
   ]
  },
  {
   "cell_type": "markdown",
   "metadata": {},
   "source": [
    "[Başa Dön](#Formüllerle-Hesaplar)"
   ]
  },
  {
   "cell_type": "markdown",
   "metadata": {},
   "source": [
    "# Ödev 1 #\n",
    "## Teslim Tarihi: 22 Ekim 2021, Cuma 16:00 ##\n",
    "\n",
    "1. (5 puan) Adınızı ve soyadınızı ekrana yazdıran bir satırlık bir Python kodu yazınız.\n",
    "\n",
    "2. (10 puan) Aşağıdaki işlemi yapan ve sonucunu ekrana yazdıran bir program yazınız\n",
    "\n",
    "$$7 + 2^3 \\div \\frac{1}{4} + 1 - 2*(3^2*(4 -2) / 9)$$\n",
    "\n",
    "3. (25 puan) Hava direnci nedeniyle bir cisme uygulanan kuvvet aşağıdaki formül ile verilir. Burada $\\rho$, havanın yoğunluğunu, $V$ cismin hızını, $A$ cismin hız vektörüne dik kesit alanını, $C_{D}$ ise sürtünme katsayısını göstermektedir. Havanın yoğunluğunu ($\\rho_{hava}$) $1.24 kg / m^{3}$ , mükemmel bir küre olarak düşünebileceğiniz cismin yarıçapını $r = 20$ cm, cismin hızını 20 km/saat ve sürtünme katsayısını ($C_{D}$) 0.25 alarak cisme hava direnci tarafından uygulanan kuvveti Newton cinsinden hesaplayınız. \n",
    "\n",
    "$$F_{d} = \\frac{1}{2} C_{D} \\rho A V^{2}$$\n",
    "\n",
    "4. (20 puan) Aşağıda $V_0 = 5$ m/s hızla ve yatayla $\\theta = 30^\\circ$ yapacak şekilde atılan bir cisim için yatay atış problemini çözen bir Python programı yer almaktadır. Bu programın neden çalışmadığını bulduktan sonra, t = 0.3 saniye için çalışır ve x ile y'yi aynı formüllerle hesaplayıp, doğru bir şekilde ekrana yazar hale getiriniz.\n",
    "\n",
    "$$ x = V_0*cos(\\theta)*t $$\n",
    "$$ y = V_0*sin(\\theta)*t - 0.5*g*t^2 $$\n",
    "\n",
    "```\n",
    "v0 = 3 # m/s\n",
    "cos_theta = 0.866 # birimsiz\n",
    "sin_theta = 0.5 # birimsiz\n",
    "g = 9.81 # m/s^2\n",
    "x = v0*cos(theta) \n",
    "y = v0*sin_theta*t - 1/2*g*t^2\n",
    "t = 0.3 # s\n",
    "print(\"x = {:.2g} m, y = {:.2d} m\".format(y,x)\")\n",
    "```\n",
    "\n",
    "5. (40 puan) Yer'deki bir gözlemciye göre yıldızının önünden geçiş yapan bir ötegezegenin yörünge eğimi açısı ($i$) ve geçişin gezegen diski üzerinde nerede gerçekleştiğini gösteren etki çarpanı parametresi ($b$) gözlemlerle bulunabilir. Aşağıda öğrenci numaranıza atanan gezegenin bu iki parametresi NASA Exoplanet Archive veri arşivinden alınarak verilmiştir. Gözlemsel olarak elde edilebilen bu iki parametreden hareketle yıldızın, yörünge yarı-büyük eksen uzunluğuna göreli yarıçapını ($\\frac{R_{\\star}}{a}$) ve bu parametreden ve gezegenin yine aşağıda verilen yörünge dönemini ($P_{\\rm orb}$) de kullanarak geçişin kaç dakika süreceğini hesaplayınız. Burada $\\frac{R_g}{R_{\\star}}$ parametresi gezegenin yarıçapının ($R_g$) yıldızın yarıçapına ($R_{\\rm star}$) oranıdır ve yine gözlemsel olarak geçiş derinliğinden ($\\delta$) elde edilebilir.\n",
    "\n",
    "$$ cos~i = b \\frac{R_{\\star}}{a} $$\n",
    "\n",
    "$$ \\delta = (\\frac{R_g}{R_{\\star}})^2 $$\n",
    "\n",
    "$$ T_{gecis} [gun] = \\frac{P}{\\pi} sin^{-1} (\\frac{R_{\\star}}{a} \\sqrt{(1 + \\frac{R_g}{R_{\\star}})^2 - (\\frac{a}{R_{\\star}} cos~i)^2}) $$\n",
    "\n",
    "<br><br><br>\n",
    "\n",
    "<ol>\n",
    "<li> 15050007: WASP-22 b ($i = 89^{\\circ}.2$, $b = 0.13$, $\\delta = 0.0104$, $P = 3^g.53269$ </li>\n",
    "<li> 15050010: WASP-43 b ($i = 82^{\\circ}.6$, $b = 0.69$, $\\delta = 0.0255$, $P = 0^g.813475$ </li>\n",
    "<li> 15050022: HAT-P-11 b ($i = 88^{\\circ}.5$, $b = 0.35$, $\\delta = 0.0044$, $P = 4^g.8878162$ </li>\n",
    "<li> 15050382: TRAPPIST-1 d ($i = 89^{\\circ}.9$, $b = 0.06$, $\\delta = 0.0037$, $P = 4^g.0492192$ </li>\n",
    "<li> 15050383: TrES-3 b ($i = 82^{\\circ}.2$, $b = 0.83$, $\\delta = 0.0274$, $P = 1^g.30619$ </li>\n",
    "<li> 15050387: GJ1214 b ($i = 88^{\\circ}.7$, $b = 0.33$, $\\delta = 0.0034$, $P = 1^g.58040433$ </li>\n",
    "<li> 16050019: TRAPPIST-1 c ($i = 89^{\\circ}.8$, $b = 0.11$, $\\delta = 0.0071$, $P = 2^g.421937$ </li>\n",
    "<li> 16050534: HAT-P-19 b ($i = 88^{\\circ}.2$, $b = 0.40$, $\\delta = 0.0211$, $P = 4^g.008778$ </li>\n",
    "<li> 17050009: HAT-P-23 b ($i = 85^{\\circ}.1$, $b = 0.32$, $\\delta = 0.0154$, $P = 1^g.212884$ </li>\n",
    "<li> 17050015: TRAPPIST-1 e ($i = 89^{\\circ}.8$, $b = 0.19$, $\\delta = 0.0050$, $P = 6^g.101013$ </li>\n",
    "<li> 18050003: WASP-18 b ($i = 80^{\\circ}.6$, $b = 0.53$, $\\delta = 0.0092$, $P = 0^g.9414529$ </li>\n",
    "<li> 18050010: Qatar-1 b ($i = 83^{\\circ}.8$, $b = 0.68$, $\\delta = 0.0228$, $P = 1^g.42002504$ </li> \n",
    "<li> 18050023: TRAPPIST-1 b ($i = 89^{\\circ}.7$, $b = 0.10$, $\\delta = 0.0074$, $P = 1^g.510826$ </li>\n",
    "<li> 18050030: TrES-5 b ($i = 84^{\\circ}.3$, $b = 0.58$, $\\delta = 0.0205$, $P = 1^g.48224686$ </li>\n",
    "<li> 18050032: Kepler-19 b ($i = 89^{\\circ}.9$, $b = 0.02$, $\\delta = 0.0006$, $P = 9^g.28699446$ </li>\n",
    "<li> 18050033: TRAPPIST-1 f ($i = 89^{\\circ}.7$, $b = 0.31$, $\\delta = 0.0065$, $P = 9^g.207540$ </li>\n",
    "<li> 18050039: Kepler-21 b ($i = 83^{\\circ}.2$, $b = 0.58$, $\\delta = 0.00006$, $P = 2^g.78578$ </li>\n",
    "<li> 18050041: TRAPPIST-1 g ($i = 89^{\\circ}.7$, $b = 0.38$, $\\delta = 0.0076$, $P = 12^g.352446$ </li>\n",
    "<li> 18050469: KELT-1 b ($i = 87^{\\circ}.8$, $b = 0.06$, $\\delta = 0.0061$, $P = 1^g.217514$ </li>\n",
    "<li> 18050479: TRAPPIST-1 h ($i = 89^{\\circ}.8$, $b = 0.38$, $\\delta = 0.0034$, $P = 18^g.772866$ </li>\n",
    "\n",
    "Ödevinizi kaydettiğiniz jupyter notebook (ipynb) dosyasını ekremmuratesmer at gmail.com adresine gönderiniz."
   ]
  },
  {
   "cell_type": "markdown",
   "metadata": {},
   "source": [
    "[Başa Dön](#Formüllerle-Hesaplar)"
   ]
  }
 ],
 "metadata": {
  "kernelspec": {
   "display_name": "Python 3",
   "language": "python",
   "name": "python3"
  },
  "language_info": {
   "codemirror_mode": {
    "name": "ipython",
    "version": 3
   },
   "file_extension": ".py",
   "mimetype": "text/x-python",
   "name": "python",
   "nbconvert_exporter": "python",
   "pygments_lexer": "ipython3",
   "version": "3.6.9"
  }
 },
 "nbformat": 4,
 "nbformat_minor": 1
}
